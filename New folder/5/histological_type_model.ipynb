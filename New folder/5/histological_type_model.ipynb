{
 "cells": [
  {
   "cell_type": "markdown",
   "id": "6fa1ae9c",
   "metadata": {},
   "source": [
    "# BRCA Histological Type Classification\n",
    "\n",
    "Predicting breast cancer histological subtype (ductal vs. lobular) from multi-omic measurements."
   ]
  },
  {
   "cell_type": "markdown",
   "id": "cc310817",
   "metadata": {},
   "source": [
    "## Workflow\n",
    "1. Import libraries\n",
    "2. Load and inspect data\n",
    "3. Preprocess features\n",
    "4. PCA transformation (dimensionality reduction)\n",
    "5. Model training with hyperparameter tuning (Logistic Regression)\n",
    "6. Evaluation and interpretation"
   ]
  },
  {
   "cell_type": "code",
   "execution_count": 2,
   "id": "644cdc1c",
   "metadata": {},
   "outputs": [
    {
     "name": "stdout",
     "output_type": "stream",
     "text": [
      "✅ Libraries imported successfully!\n"
     ]
    }
   ],
   "source": [
    "import pandas as pd\n",
    "import numpy as np\n",
    "import matplotlib.pyplot as plt\n",
    "import seaborn as sns\n",
    "from sklearn.model_selection import train_test_split, GridSearchCV, StratifiedKFold\n",
    "from sklearn.preprocessing import StandardScaler\n",
    "from sklearn.feature_selection import VarianceThreshold\n",
    "from sklearn.decomposition import PCA\n",
    "from sklearn.pipeline import Pipeline\n",
    "from sklearn.linear_model import LogisticRegression\n",
    "from sklearn.metrics import (\n",
    "    classification_report, confusion_matrix, accuracy_score,\n",
    "    roc_curve, roc_auc_score, precision_recall_curve, average_precision_score,\n",
    "    precision_score, recall_score, f1_score\n",
    ")\n",
    "from imblearn.over_sampling import SMOTE\n",
    "from imblearn.pipeline import Pipeline as ImbPipeline\n",
    "import time\n",
    "import warnings\n",
    "warnings.filterwarnings('ignore')\n",
    "\n",
    "sns.set_style('whitegrid')\n",
    "plt.rcParams['figure.figsize'] = (12, 6)\n",
    "\n",
    "print('✅ Libraries imported successfully!')"
   ]
  },
  {
   "cell_type": "markdown",
   "id": "92f3e4b9",
   "metadata": {},
   "source": [
    "## 1. Load and Explore Data"
   ]
  },
  {
   "cell_type": "code",
   "execution_count": 3,
   "id": "00107ea2",
   "metadata": {},
   "outputs": [
    {
     "name": "stdout",
     "output_type": "stream",
     "text": [
      "================================================================================\n",
      "DATASET OVERVIEW\n",
      "================================================================================\n",
      "Dataset shape: (705, 1941)\n",
      "Total samples: 705\n",
      "Total columns: 1,941\n",
      "Target column: histological.type\n",
      "First 5 feature columns: ['rs_CLEC3A', 'rs_CPB1', 'rs_SCGB2A2', 'rs_SCGB1D2', 'rs_TFF1']\n",
      "Last 5 columns: ['vital.status', 'PR.Status', 'ER.Status', 'HER2.Final.Status', 'histological.type']\n"
     ]
    },
    {
     "data": {
      "application/vnd.microsoft.datawrangler.viewer.v0+json": {
       "columns": [
        {
         "name": "index",
         "rawType": "int64",
         "type": "integer"
        },
        {
         "name": "rs_CLEC3A",
         "rawType": "float64",
         "type": "float"
        },
        {
         "name": "rs_CPB1",
         "rawType": "float64",
         "type": "float"
        },
        {
         "name": "rs_SCGB2A2",
         "rawType": "float64",
         "type": "float"
        },
        {
         "name": "rs_SCGB1D2",
         "rawType": "float64",
         "type": "float"
        },
        {
         "name": "rs_TFF1",
         "rawType": "float64",
         "type": "float"
        },
        {
         "name": "rs_MUCL1",
         "rawType": "float64",
         "type": "float"
        },
        {
         "name": "rs_GSTM1",
         "rawType": "float64",
         "type": "float"
        },
        {
         "name": "rs_PIP",
         "rawType": "float64",
         "type": "float"
        },
        {
         "name": "rs_ADIPOQ",
         "rawType": "float64",
         "type": "float"
        },
        {
         "name": "rs_ADH1B",
         "rawType": "float64",
         "type": "float"
        },
        {
         "name": "rs_S100A7",
         "rawType": "float64",
         "type": "float"
        },
        {
         "name": "rs_HMGCS2",
         "rawType": "float64",
         "type": "float"
        },
        {
         "name": "rs_CYP2B7P1",
         "rawType": "float64",
         "type": "float"
        },
        {
         "name": "rs_ANKRD30A",
         "rawType": "float64",
         "type": "float"
        },
        {
         "name": "rs_PRAME",
         "rawType": "float64",
         "type": "float"
        },
        {
         "name": "rs_TAT",
         "rawType": "float64",
         "type": "float"
        },
        {
         "name": "rs_SERPINA6",
         "rawType": "float64",
         "type": "float"
        },
        {
         "name": "rs_AGR3",
         "rawType": "float64",
         "type": "float"
        },
        {
         "name": "rs_TFAP2B",
         "rawType": "float64",
         "type": "float"
        },
        {
         "name": "rs_CYP4Z1",
         "rawType": "float64",
         "type": "float"
        },
        {
         "name": "rs_DHRS2",
         "rawType": "float64",
         "type": "float"
        },
        {
         "name": "rs_KCNJ3",
         "rawType": "float64",
         "type": "float"
        },
        {
         "name": "rs_MYBPC1",
         "rawType": "float64",
         "type": "float"
        },
        {
         "name": "rs_C4orf7",
         "rawType": "float64",
         "type": "float"
        },
        {
         "name": "rs_KRT14",
         "rawType": "float64",
         "type": "float"
        },
        {
         "name": "rs_MUC6",
         "rawType": "float64",
         "type": "float"
        },
        {
         "name": "rs_UGT2B11",
         "rawType": "float64",
         "type": "float"
        },
        {
         "name": "rs_GABRP",
         "rawType": "float64",
         "type": "float"
        },
        {
         "name": "rs_SOX10",
         "rawType": "float64",
         "type": "float"
        },
        {
         "name": "rs_SLC30A8",
         "rawType": "float64",
         "type": "float"
        },
        {
         "name": "rs_STAC2",
         "rawType": "float64",
         "type": "float"
        },
        {
         "name": "rs_VSTM2A",
         "rawType": "float64",
         "type": "float"
        },
        {
         "name": "rs_COL2A1",
         "rawType": "float64",
         "type": "float"
        },
        {
         "name": "rs_KRT5",
         "rawType": "float64",
         "type": "float"
        },
        {
         "name": "rs_TUSC5",
         "rawType": "float64",
         "type": "float"
        },
        {
         "name": "rs_CEACAM5",
         "rawType": "float64",
         "type": "float"
        },
        {
         "name": "rs_CALML5",
         "rawType": "float64",
         "type": "float"
        },
        {
         "name": "rs_GP2",
         "rawType": "float64",
         "type": "float"
        },
        {
         "name": "rs_GSTT1",
         "rawType": "float64",
         "type": "float"
        },
        {
         "name": "rs_LEP",
         "rawType": "float64",
         "type": "float"
        },
        {
         "name": "rs_FABP7",
         "rawType": "float64",
         "type": "float"
        },
        {
         "name": "rs_C1orf64",
         "rawType": "float64",
         "type": "float"
        },
        {
         "name": "rs_CRABP1",
         "rawType": "float64",
         "type": "float"
        },
        {
         "name": "rs_FABP4",
         "rawType": "float64",
         "type": "float"
        },
        {
         "name": "rs_KRT6B",
         "rawType": "float64",
         "type": "float"
        },
        {
         "name": "rs_KLK11",
         "rawType": "float64",
         "type": "float"
        },
        {
         "name": "rs_CST9",
         "rawType": "float64",
         "type": "float"
        },
        {
         "name": "rs_CST1",
         "rawType": "float64",
         "type": "float"
        },
        {
         "name": "rs_PIGR",
         "rawType": "float64",
         "type": "float"
        },
        {
         "name": "rs_CIDEC",
         "rawType": "float64",
         "type": "float"
        },
        {
         "name": "rs_SYT13",
         "rawType": "float64",
         "type": "float"
        },
        {
         "name": "rs_KLK5",
         "rawType": "float64",
         "type": "float"
        },
        {
         "name": "rs_OLFM4",
         "rawType": "float64",
         "type": "float"
        },
        {
         "name": "rs_HOXB13",
         "rawType": "float64",
         "type": "float"
        },
        {
         "name": "rs_LTF",
         "rawType": "float64",
         "type": "float"
        },
        {
         "name": "rs_TFF3",
         "rawType": "float64",
         "type": "float"
        },
        {
         "name": "rs_MUC5B",
         "rawType": "float64",
         "type": "float"
        },
        {
         "name": "rs_BMPR1B",
         "rawType": "float64",
         "type": "float"
        },
        {
         "name": "rs_CEACAM6",
         "rawType": "float64",
         "type": "float"
        },
        {
         "name": "rs_TCN1",
         "rawType": "float64",
         "type": "float"
        },
        {
         "name": "rs_SLC34A2",
         "rawType": "float64",
         "type": "float"
        },
        {
         "name": "rs_CRISP3",
         "rawType": "float64",
         "type": "float"
        },
        {
         "name": "rs_CLCA2",
         "rawType": "float64",
         "type": "float"
        },
        {
         "name": "rs_AGR2",
         "rawType": "float64",
         "type": "float"
        },
        {
         "name": "rs_ABCC11",
         "rawType": "float64",
         "type": "float"
        },
        {
         "name": "rs_GRIA2",
         "rawType": "float64",
         "type": "float"
        },
        {
         "name": "rs_KRT17",
         "rawType": "float64",
         "type": "float"
        },
        {
         "name": "rs_NPY1R",
         "rawType": "float64",
         "type": "float"
        },
        {
         "name": "rs_C20orf114",
         "rawType": "float64",
         "type": "float"
        },
        {
         "name": "rs_DSG3",
         "rawType": "float64",
         "type": "float"
        },
        {
         "name": "rs_OBP2B",
         "rawType": "float64",
         "type": "float"
        },
        {
         "name": "rs_KIF1A",
         "rawType": "float64",
         "type": "float"
        },
        {
         "name": "rs_CYP4F8",
         "rawType": "float64",
         "type": "float"
        },
        {
         "name": "rs_TNNT1",
         "rawType": "float64",
         "type": "float"
        },
        {
         "name": "rs_LRP2",
         "rawType": "float64",
         "type": "float"
        },
        {
         "name": "rs_PROM1",
         "rawType": "float64",
         "type": "float"
        },
        {
         "name": "rs_PVALB",
         "rawType": "float64",
         "type": "float"
        },
        {
         "name": "rs_FAM5C",
         "rawType": "float64",
         "type": "float"
        },
        {
         "name": "rs_ELF5",
         "rawType": "float64",
         "type": "float"
        },
        {
         "name": "rs_GFRA1",
         "rawType": "float64",
         "type": "float"
        },
        {
         "name": "rs_CYP2A6",
         "rawType": "float64",
         "type": "float"
        },
        {
         "name": "rs_PGR",
         "rawType": "float64",
         "type": "float"
        },
        {
         "name": "rs_CGA",
         "rawType": "float64",
         "type": "float"
        },
        {
         "name": "rs_GPD1",
         "rawType": "float64",
         "type": "float"
        },
        {
         "name": "rs_VGLL1",
         "rawType": "float64",
         "type": "float"
        },
        {
         "name": "rs_PLIN1",
         "rawType": "float64",
         "type": "float"
        },
        {
         "name": "rs_CP",
         "rawType": "float64",
         "type": "float"
        },
        {
         "name": "rs_KCNC2",
         "rawType": "float64",
         "type": "float"
        },
        {
         "name": "rs_MUC16",
         "rawType": "float64",
         "type": "float"
        },
        {
         "name": "rs_KRT6A",
         "rawType": "float64",
         "type": "float"
        },
        {
         "name": "rs_ALB",
         "rawType": "float64",
         "type": "float"
        },
        {
         "name": "rs_AQP5",
         "rawType": "float64",
         "type": "float"
        },
        {
         "name": "rs_WIF1",
         "rawType": "float64",
         "type": "float"
        },
        {
         "name": "rs_KLK6",
         "rawType": "float64",
         "type": "float"
        },
        {
         "name": "rs_KLK7",
         "rawType": "float64",
         "type": "float"
        },
        {
         "name": "rs_CBLN2",
         "rawType": "float64",
         "type": "float"
        },
        {
         "name": "rs_KRT81",
         "rawType": "float64",
         "type": "float"
        },
        {
         "name": "rs_CIDEA",
         "rawType": "float64",
         "type": "float"
        },
        {
         "name": "rs_EEF1A2",
         "rawType": "float64",
         "type": "float"
        },
        {
         "name": "rs_SERPINA11",
         "rawType": "float64",
         "type": "float"
        },
        {
         "name": "rs_LBP",
         "rawType": "float64",
         "type": "float"
        },
        {
         "name": "rs_MMP1",
         "rawType": "float64",
         "type": "float"
        },
        {
         "name": "rs_BPIL1",
         "rawType": "float64",
         "type": "float"
        },
        {
         "name": "rs_KRT16",
         "rawType": "float64",
         "type": "float"
        },
        {
         "name": "rs_PI16",
         "rawType": "float64",
         "type": "float"
        },
        {
         "name": "rs_KLK10",
         "rawType": "float64",
         "type": "float"
        },
        {
         "name": "rs_MSLN",
         "rawType": "float64",
         "type": "float"
        },
        {
         "name": "rs_A2ML1",
         "rawType": "float64",
         "type": "float"
        },
        {
         "name": "rs_NLRP2",
         "rawType": "float64",
         "type": "float"
        },
        {
         "name": "rs_COL17A1",
         "rawType": "float64",
         "type": "float"
        },
        {
         "name": "rs_SLC6A14",
         "rawType": "float64",
         "type": "float"
        },
        {
         "name": "rs_PROL1",
         "rawType": "float64",
         "type": "float"
        },
        {
         "name": "rs_PPP1R1B",
         "rawType": "float64",
         "type": "float"
        },
        {
         "name": "rs_SLC5A8",
         "rawType": "float64",
         "type": "float"
        },
        {
         "name": "rs_PTPRT",
         "rawType": "float64",
         "type": "float"
        },
        {
         "name": "rs_CA9",
         "rawType": "float64",
         "type": "float"
        },
        {
         "name": "rs_NXPH1",
         "rawType": "float64",
         "type": "float"
        },
        {
         "name": "rs_MUC15",
         "rawType": "float64",
         "type": "float"
        },
        {
         "name": "rs_SFRP1",
         "rawType": "float64",
         "type": "float"
        },
        {
         "name": "rs_CALML3",
         "rawType": "float64",
         "type": "float"
        },
        {
         "name": "rs_PPP2R2C",
         "rawType": "float64",
         "type": "float"
        },
        {
         "name": "rs_CNTNAP2",
         "rawType": "float64",
         "type": "float"
        },
        {
         "name": "rs_C7",
         "rawType": "float64",
         "type": "float"
        },
        {
         "name": "rs_SLITRK6",
         "rawType": "float64",
         "type": "float"
        },
        {
         "name": "rs_PLIN4",
         "rawType": "float64",
         "type": "float"
        },
        {
         "name": "rs_BEX1",
         "rawType": "float64",
         "type": "float"
        },
        {
         "name": "rs_SCGB2A1",
         "rawType": "float64",
         "type": "float"
        },
        {
         "name": "rs_CYP4Z2P",
         "rawType": "float64",
         "type": "float"
        },
        {
         "name": "rs_KLHDC7A",
         "rawType": "float64",
         "type": "float"
        },
        {
         "name": "rs_SLC6A4",
         "rawType": "float64",
         "type": "float"
        },
        {
         "name": "rs_ORM1",
         "rawType": "float64",
         "type": "float"
        },
        {
         "name": "rs_SCGB3A1",
         "rawType": "float64",
         "type": "float"
        },
        {
         "name": "rs_C10orf82",
         "rawType": "float64",
         "type": "float"
        },
        {
         "name": "rs_LRRC31",
         "rawType": "float64",
         "type": "float"
        },
        {
         "name": "rs_HBA1",
         "rawType": "float64",
         "type": "float"
        },
        {
         "name": "rs_PCK1",
         "rawType": "float64",
         "type": "float"
        },
        {
         "name": "rs_RPS28",
         "rawType": "float64",
         "type": "float"
        },
        {
         "name": "rs_ESR1",
         "rawType": "float64",
         "type": "float"
        },
        {
         "name": "rs_CDC20B",
         "rawType": "float64",
         "type": "float"
        },
        {
         "name": "rs_PDZK1",
         "rawType": "float64",
         "type": "float"
        },
        {
         "name": "rs_SYT9",
         "rawType": "float64",
         "type": "float"
        },
        {
         "name": "rs_DLK1",
         "rawType": "float64",
         "type": "float"
        },
        {
         "name": "rs_IGSF1",
         "rawType": "float64",
         "type": "float"
        },
        {
         "name": "rs_MAGEA6",
         "rawType": "float64",
         "type": "float"
        },
        {
         "name": "rs_GRPR",
         "rawType": "float64",
         "type": "float"
        },
        {
         "name": "rs_FOLR1",
         "rawType": "float64",
         "type": "float"
        },
        {
         "name": "rs_S100P",
         "rawType": "float64",
         "type": "float"
        },
        {
         "name": "rs_CXCL13",
         "rawType": "float64",
         "type": "float"
        },
        {
         "name": "rs_DCD",
         "rawType": "float64",
         "type": "float"
        },
        {
         "name": "rs_FOXI1",
         "rawType": "float64",
         "type": "float"
        },
        {
         "name": "rs_DSC3",
         "rawType": "float64",
         "type": "float"
        },
        {
         "name": "rs_MMP13",
         "rawType": "float64",
         "type": "float"
        },
        {
         "name": "rs_COL11A1",
         "rawType": "float64",
         "type": "float"
        },
        {
         "name": "rs_MIA",
         "rawType": "float64",
         "type": "float"
        },
        {
         "name": "rs_SCARA5",
         "rawType": "float64",
         "type": "float"
        },
        {
         "name": "rs_SERPINB5",
         "rawType": "float64",
         "type": "float"
        },
        {
         "name": "rs_CD300LG",
         "rawType": "float64",
         "type": "float"
        },
        {
         "name": "rs_ROPN1",
         "rawType": "float64",
         "type": "float"
        },
        {
         "name": "rs_PYDC1",
         "rawType": "float64",
         "type": "float"
        },
        {
         "name": "rs_ANKRD30B",
         "rawType": "float64",
         "type": "float"
        },
        {
         "name": "rs_CXCL17",
         "rawType": "float64",
         "type": "float"
        },
        {
         "name": "rs_PLA2G2A",
         "rawType": "float64",
         "type": "float"
        },
        {
         "name": "rs_DIO1",
         "rawType": "float64",
         "type": "float"
        },
        {
         "name": "rs_NBPF4",
         "rawType": "float64",
         "type": "float"
        },
        {
         "name": "rs_AQP7",
         "rawType": "float64",
         "type": "float"
        },
        {
         "name": "rs_ABCA12",
         "rawType": "float64",
         "type": "float"
        },
        {
         "name": "rs_GLRA3",
         "rawType": "float64",
         "type": "float"
        },
        {
         "name": "rs_SAA2",
         "rawType": "float64",
         "type": "float"
        },
        {
         "name": "rs_CHAD",
         "rawType": "float64",
         "type": "float"
        },
        {
         "name": "rs_ASCL1",
         "rawType": "float64",
         "type": "float"
        },
        {
         "name": "rs_LRP1B",
         "rawType": "float64",
         "type": "float"
        },
        {
         "name": "rs_SLC5A1",
         "rawType": "float64",
         "type": "float"
        },
        {
         "name": "rs_ATP13A5",
         "rawType": "float64",
         "type": "float"
        },
        {
         "name": "rs_PTPRZ1",
         "rawType": "float64",
         "type": "float"
        },
        {
         "name": "rs_WNK4",
         "rawType": "float64",
         "type": "float"
        },
        {
         "name": "rs_CST5",
         "rawType": "float64",
         "type": "float"
        },
        {
         "name": "rs_PEG10",
         "rawType": "float64",
         "type": "float"
        },
        {
         "name": "rs_CLIC6",
         "rawType": "float64",
         "type": "float"
        },
        {
         "name": "rs_MS4A15",
         "rawType": "float64",
         "type": "float"
        },
        {
         "name": "rs_ABCC8",
         "rawType": "float64",
         "type": "float"
        },
        {
         "name": "rs_PPAN-P2RY11",
         "rawType": "float64",
         "type": "float"
        },
        {
         "name": "rs_SORCS1",
         "rawType": "float64",
         "type": "float"
        },
        {
         "name": "rs_NKAIN1",
         "rawType": "float64",
         "type": "float"
        },
        {
         "name": "rs_SAA1",
         "rawType": "float64",
         "type": "float"
        },
        {
         "name": "rs_SLC44A4",
         "rawType": "float64",
         "type": "float"
        },
        {
         "name": "rs_RBP4",
         "rawType": "float64",
         "type": "float"
        },
        {
         "name": "rs_ARHGAP36",
         "rawType": "float64",
         "type": "float"
        },
        {
         "name": "rs_SDR16C5",
         "rawType": "float64",
         "type": "float"
        },
        {
         "name": "rs_GSTA1",
         "rawType": "float64",
         "type": "float"
        },
        {
         "name": "rs_TF",
         "rawType": "float64",
         "type": "float"
        },
        {
         "name": "rs_C2orf54",
         "rawType": "float64",
         "type": "float"
        },
        {
         "name": "rs_LY6D",
         "rawType": "float64",
         "type": "float"
        },
        {
         "name": "rs_S100A7A",
         "rawType": "float64",
         "type": "float"
        },
        {
         "name": "rs_KRT15",
         "rawType": "float64",
         "type": "float"
        },
        {
         "name": "rs_CYP4F22",
         "rawType": "float64",
         "type": "float"
        },
        {
         "name": "rs_GLYATL2",
         "rawType": "float64",
         "type": "float"
        },
        {
         "name": "rs_BBOX1",
         "rawType": "float64",
         "type": "float"
        },
        {
         "name": "rs_CAPN8",
         "rawType": "float64",
         "type": "float"
        },
        {
         "name": "rs_SOSTDC1",
         "rawType": "float64",
         "type": "float"
        },
        {
         "name": "rs_TMPRSS4",
         "rawType": "float64",
         "type": "float"
        },
        {
         "name": "rs_DSG1",
         "rawType": "float64",
         "type": "float"
        },
        {
         "name": "rs_CASP14",
         "rawType": "float64",
         "type": "float"
        },
        {
         "name": "rs_LCN2",
         "rawType": "float64",
         "type": "float"
        },
        {
         "name": "rs_PGLYRP2",
         "rawType": "float64",
         "type": "float"
        },
        {
         "name": "rs_SPAG6",
         "rawType": "float64",
         "type": "float"
        },
        {
         "name": "rs_CAPN6",
         "rawType": "float64",
         "type": "float"
        },
        {
         "name": "rs_TMEM132C",
         "rawType": "float64",
         "type": "float"
        },
        {
         "name": "rs_CCL21",
         "rawType": "float64",
         "type": "float"
        },
        {
         "name": "rs_PI3",
         "rawType": "float64",
         "type": "float"
        },
        {
         "name": "rs_SLC7A4",
         "rawType": "float64",
         "type": "float"
        },
        {
         "name": "rs_NBPF6",
         "rawType": "float64",
         "type": "float"
        },
        {
         "name": "rs_MAGEA3",
         "rawType": "float64",
         "type": "float"
        },
        {
         "name": "rs_TSPAN8",
         "rawType": "float64",
         "type": "float"
        },
        {
         "name": "rs_SCUBE2",
         "rawType": "float64",
         "type": "float"
        },
        {
         "name": "rs_SLC19A3",
         "rawType": "float64",
         "type": "float"
        },
        {
         "name": "rs_KLK8",
         "rawType": "float64",
         "type": "float"
        },
        {
         "name": "rs_RIMS4",
         "rawType": "float64",
         "type": "float"
        },
        {
         "name": "rs_ROPN1B",
         "rawType": "float64",
         "type": "float"
        },
        {
         "name": "rs_MSMB",
         "rawType": "float64",
         "type": "float"
        },
        {
         "name": "rs_IL20",
         "rawType": "float64",
         "type": "float"
        },
        {
         "name": "rs_NEK10",
         "rawType": "float64",
         "type": "float"
        },
        {
         "name": "rs_EDN3",
         "rawType": "float64",
         "type": "float"
        },
        {
         "name": "rs_SLC13A2",
         "rawType": "float64",
         "type": "float"
        },
        {
         "name": "rs_S100A8",
         "rawType": "float64",
         "type": "float"
        },
        {
         "name": "rs_TRIM29",
         "rawType": "float64",
         "type": "float"
        },
        {
         "name": "rs_SYT8",
         "rawType": "float64",
         "type": "float"
        },
        {
         "name": "rs_ORM2",
         "rawType": "float64",
         "type": "float"
        },
        {
         "name": "rs_PON3",
         "rawType": "float64",
         "type": "float"
        },
        {
         "name": "rs_FAM3B",
         "rawType": "float64",
         "type": "float"
        },
        {
         "name": "rs_FGB",
         "rawType": "float64",
         "type": "float"
        },
        {
         "name": "rs_S100A9",
         "rawType": "float64",
         "type": "float"
        },
        {
         "name": "rs_LPPR3",
         "rawType": "float64",
         "type": "float"
        },
        {
         "name": "rs_HS6ST3",
         "rawType": "float64",
         "type": "float"
        },
        {
         "name": "rs_SERPINA5",
         "rawType": "float64",
         "type": "float"
        },
        {
         "name": "rs_WFDC2",
         "rawType": "float64",
         "type": "float"
        },
        {
         "name": "rs_CHRDL1",
         "rawType": "float64",
         "type": "float"
        },
        {
         "name": "rs_ZIC1",
         "rawType": "float64",
         "type": "float"
        },
        {
         "name": "rs_CST4",
         "rawType": "float64",
         "type": "float"
        },
        {
         "name": "rs_PCOLCE2",
         "rawType": "float64",
         "type": "float"
        },
        {
         "name": "rs_NCRNA00052",
         "rawType": "float64",
         "type": "float"
        },
        {
         "name": "rs_ERBB4",
         "rawType": "float64",
         "type": "float"
        },
        {
         "name": "rs_C2orf40",
         "rawType": "float64",
         "type": "float"
        },
        {
         "name": "rs_DARC",
         "rawType": "float64",
         "type": "float"
        },
        {
         "name": "rs_C16orf89",
         "rawType": "float64",
         "type": "float"
        },
        {
         "name": "rs_ACTL8",
         "rawType": "float64",
         "type": "float"
        },
        {
         "name": "rs_TMC5",
         "rawType": "float64",
         "type": "float"
        },
        {
         "name": "rs_ABCA8",
         "rawType": "float64",
         "type": "float"
        },
        {
         "name": "rs_SLC9A2",
         "rawType": "float64",
         "type": "float"
        },
        {
         "name": "rs_COL10A1",
         "rawType": "float64",
         "type": "float"
        },
        {
         "name": "rs_FOXJ1",
         "rawType": "float64",
         "type": "float"
        },
        {
         "name": "rs_ANXA8",
         "rawType": "float64",
         "type": "float"
        },
        {
         "name": "rs_THRSP",
         "rawType": "float64",
         "type": "float"
        },
        {
         "name": "rs_ABCC13",
         "rawType": "float64",
         "type": "float"
        },
        {
         "name": "rs_MARCO",
         "rawType": "float64",
         "type": "float"
        },
        {
         "name": "rs_PPP1R1A",
         "rawType": "float64",
         "type": "float"
        },
        {
         "name": "rs_PI15",
         "rawType": "float64",
         "type": "float"
        },
        {
         "name": "rs_WDR72",
         "rawType": "float64",
         "type": "float"
        },
        {
         "name": "rs_AKR1C2",
         "rawType": "float64",
         "type": "float"
        },
        {
         "name": "rs_SPDYC",
         "rawType": "float64",
         "type": "float"
        },
        {
         "name": "rs_ATP6V0A4",
         "rawType": "float64",
         "type": "float"
        },
        {
         "name": "rs_ALOX15B",
         "rawType": "float64",
         "type": "float"
        },
        {
         "name": "rs_TRPA1",
         "rawType": "float64",
         "type": "float"
        },
        {
         "name": "rs_ELOVL2",
         "rawType": "float64",
         "type": "float"
        },
        {
         "name": "rs_SLC26A3",
         "rawType": "float64",
         "type": "float"
        },
        {
         "name": "rs_LGALS12",
         "rawType": "float64",
         "type": "float"
        },
        {
         "name": "rs_SMYD1",
         "rawType": "float64",
         "type": "float"
        },
        {
         "name": "rs_TRH",
         "rawType": "float64",
         "type": "float"
        },
        {
         "name": "rs_SYTL5",
         "rawType": "float64",
         "type": "float"
        },
        {
         "name": "rs_KNDC1",
         "rawType": "float64",
         "type": "float"
        },
        {
         "name": "rs_CHIT1",
         "rawType": "float64",
         "type": "float"
        },
        {
         "name": "rs_HGD",
         "rawType": "float64",
         "type": "float"
        },
        {
         "name": "rs_CHST8",
         "rawType": "float64",
         "type": "float"
        },
        {
         "name": "rs_VTCN1",
         "rawType": "float64",
         "type": "float"
        },
        {
         "name": "rs_ROBO2",
         "rawType": "float64",
         "type": "float"
        },
        {
         "name": "rs_MRAP",
         "rawType": "float64",
         "type": "float"
        },
        {
         "name": "rs_INSM1",
         "rawType": "float64",
         "type": "float"
        },
        {
         "name": "rs_HOTAIR",
         "rawType": "float64",
         "type": "float"
        },
        {
         "name": "rs_C14orf180",
         "rawType": "float64",
         "type": "float"
        },
        {
         "name": "rs_PKP1",
         "rawType": "float64",
         "type": "float"
        },
        {
         "name": "rs_CR2",
         "rawType": "float64",
         "type": "float"
        },
        {
         "name": "rs_NPY2R",
         "rawType": "float64",
         "type": "float"
        },
        {
         "name": "rs_SYT1",
         "rawType": "float64",
         "type": "float"
        },
        {
         "name": "rs_GPR98",
         "rawType": "float64",
         "type": "float"
        },
        {
         "name": "rs_ALDH1L1",
         "rawType": "float64",
         "type": "float"
        },
        {
         "name": "rs_LOC100271831",
         "rawType": "float64",
         "type": "float"
        },
        {
         "name": "rs_BCAS1",
         "rawType": "float64",
         "type": "float"
        },
        {
         "name": "rs_HOXC11",
         "rawType": "float64",
         "type": "float"
        },
        {
         "name": "rs_LOC728606",
         "rawType": "float64",
         "type": "float"
        },
        {
         "name": "rs_HORMAD1",
         "rawType": "float64",
         "type": "float"
        },
        {
         "name": "rs_SLPI",
         "rawType": "float64",
         "type": "float"
        },
        {
         "name": "rs_HEPACAM2",
         "rawType": "float64",
         "type": "float"
        },
        {
         "name": "rs_ANXA8L2",
         "rawType": "float64",
         "type": "float"
        },
        {
         "name": "rs_FREM2",
         "rawType": "float64",
         "type": "float"
        },
        {
         "name": "rs_ATP1A2",
         "rawType": "float64",
         "type": "float"
        },
        {
         "name": "rs_FSIP1",
         "rawType": "float64",
         "type": "float"
        },
        {
         "name": "rs_PIK3C2G",
         "rawType": "float64",
         "type": "float"
        },
        {
         "name": "rs_CYP4B1",
         "rawType": "float64",
         "type": "float"
        },
        {
         "name": "rs_TUBA3D",
         "rawType": "float64",
         "type": "float"
        },
        {
         "name": "rs_FOXA1",
         "rawType": "float64",
         "type": "float"
        },
        {
         "name": "rs_NAT1",
         "rawType": "float64",
         "type": "float"
        },
        {
         "name": "rs_CA4",
         "rawType": "float64",
         "type": "float"
        },
        {
         "name": "rs_KRT13",
         "rawType": "float64",
         "type": "float"
        },
        {
         "name": "rs_CCL19",
         "rawType": "float64",
         "type": "float"
        },
        {
         "name": "rs_PPP4R4",
         "rawType": "float64",
         "type": "float"
        },
        {
         "name": "rs_TTYH1",
         "rawType": "float64",
         "type": "float"
        },
        {
         "name": "rs_EPYC",
         "rawType": "float64",
         "type": "float"
        },
        {
         "name": "rs_SLC28A3",
         "rawType": "float64",
         "type": "float"
        },
        {
         "name": "rs_TIMP4",
         "rawType": "float64",
         "type": "float"
        },
        {
         "name": "rs_AGTR1",
         "rawType": "float64",
         "type": "float"
        },
        {
         "name": "rs_IGDCC3",
         "rawType": "float64",
         "type": "float"
        },
        {
         "name": "rs_FGFBP1",
         "rawType": "float64",
         "type": "float"
        },
        {
         "name": "rs_HSD17B2",
         "rawType": "float64",
         "type": "float"
        },
        {
         "name": "rs_SLC7A2",
         "rawType": "float64",
         "type": "float"
        },
        {
         "name": "rs_VSIG2",
         "rawType": "float64",
         "type": "float"
        },
        {
         "name": "rs_FLJ45983",
         "rawType": "float64",
         "type": "float"
        },
        {
         "name": "rs_KIAA0408",
         "rawType": "float64",
         "type": "float"
        },
        {
         "name": "rs_FAM5B",
         "rawType": "float64",
         "type": "float"
        },
        {
         "name": "rs_GLDC",
         "rawType": "float64",
         "type": "float"
        },
        {
         "name": "rs_FAM196A",
         "rawType": "float64",
         "type": "float"
        },
        {
         "name": "rs_PNMT",
         "rawType": "float64",
         "type": "float"
        },
        {
         "name": "rs_CYP4X1",
         "rawType": "float64",
         "type": "float"
        },
        {
         "name": "rs_NCCRP1",
         "rawType": "float64",
         "type": "float"
        },
        {
         "name": "rs_TMPRSS6",
         "rawType": "float64",
         "type": "float"
        },
        {
         "name": "rs_KRT23",
         "rawType": "float64",
         "type": "float"
        },
        {
         "name": "rs_CNTFR",
         "rawType": "float64",
         "type": "float"
        },
        {
         "name": "rs_MS4A1",
         "rawType": "float64",
         "type": "float"
        },
        {
         "name": "rs_PAX7",
         "rawType": "float64",
         "type": "float"
        },
        {
         "name": "rs_UGT2B15",
         "rawType": "float64",
         "type": "float"
        },
        {
         "name": "rs_MMP12",
         "rawType": "float64",
         "type": "float"
        },
        {
         "name": "rs_GRB14",
         "rawType": "float64",
         "type": "float"
        },
        {
         "name": "rs_FGG",
         "rawType": "float64",
         "type": "float"
        },
        {
         "name": "rs_C2CD4A",
         "rawType": "float64",
         "type": "float"
        },
        {
         "name": "rs_TFPI2",
         "rawType": "float64",
         "type": "float"
        },
        {
         "name": "rs_ZBTB16",
         "rawType": "float64",
         "type": "float"
        },
        {
         "name": "rs_ART3",
         "rawType": "float64",
         "type": "float"
        },
        {
         "name": "rs_NPY5R",
         "rawType": "float64",
         "type": "float"
        },
        {
         "name": "rs_DCDC2",
         "rawType": "float64",
         "type": "float"
        },
        {
         "name": "rs_PCSK1N",
         "rawType": "float64",
         "type": "float"
        },
        {
         "name": "rs_UGT2B28",
         "rawType": "float64",
         "type": "float"
        },
        {
         "name": "rs_PPP1R14C",
         "rawType": "float64",
         "type": "float"
        },
        {
         "name": "rs_ONECUT2",
         "rawType": "float64",
         "type": "float"
        },
        {
         "name": "rs_DCX",
         "rawType": "float64",
         "type": "float"
        },
        {
         "name": "rs_RGS22",
         "rawType": "float64",
         "type": "float"
        },
        {
         "name": "rs_GJB1",
         "rawType": "float64",
         "type": "float"
        },
        {
         "name": "rs_C1orf173",
         "rawType": "float64",
         "type": "float"
        },
        {
         "name": "rs_RBM24",
         "rawType": "float64",
         "type": "float"
        },
        {
         "name": "rs_TRPV6",
         "rawType": "float64",
         "type": "float"
        },
        {
         "name": "rs_ATP13A4",
         "rawType": "float64",
         "type": "float"
        },
        {
         "name": "rs_AKR7A3",
         "rawType": "float64",
         "type": "float"
        },
        {
         "name": "rs_C19orf33",
         "rawType": "float64",
         "type": "float"
        },
        {
         "name": "rs_KRT4",
         "rawType": "float64",
         "type": "float"
        },
        {
         "name": "rs_DES",
         "rawType": "float64",
         "type": "float"
        },
        {
         "name": "rs_TMPRSS3",
         "rawType": "float64",
         "type": "float"
        },
        {
         "name": "rs_ZIC2",
         "rawType": "float64",
         "type": "float"
        },
        {
         "name": "rs_OGN",
         "rawType": "float64",
         "type": "float"
        },
        {
         "name": "rs_C3orf57",
         "rawType": "float64",
         "type": "float"
        },
        {
         "name": "rs_CACNG4",
         "rawType": "float64",
         "type": "float"
        },
        {
         "name": "rs_LOC642587",
         "rawType": "float64",
         "type": "float"
        },
        {
         "name": "rs_ATRNL1",
         "rawType": "float64",
         "type": "float"
        },
        {
         "name": "rs_AFP",
         "rawType": "float64",
         "type": "float"
        },
        {
         "name": "rs_NDP",
         "rawType": "float64",
         "type": "float"
        },
        {
         "name": "rs_GABRB3",
         "rawType": "float64",
         "type": "float"
        },
        {
         "name": "rs_LRG1",
         "rawType": "float64",
         "type": "float"
        },
        {
         "name": "rs_AREG",
         "rawType": "float64",
         "type": "float"
        },
        {
         "name": "rs_GRIK3",
         "rawType": "float64",
         "type": "float"
        },
        {
         "name": "rs_TPRG1",
         "rawType": "float64",
         "type": "float"
        },
        {
         "name": "rs_AKR1B10",
         "rawType": "float64",
         "type": "float"
        },
        {
         "name": "rs_IGJ",
         "rawType": "float64",
         "type": "float"
        },
        {
         "name": "rs_PSCA",
         "rawType": "float64",
         "type": "float"
        },
        {
         "name": "rs_DKK1",
         "rawType": "float64",
         "type": "float"
        },
        {
         "name": "rs_GRIA4",
         "rawType": "float64",
         "type": "float"
        },
        {
         "name": "rs_CYP2A7",
         "rawType": "float64",
         "type": "float"
        },
        {
         "name": "rs_COMP",
         "rawType": "float64",
         "type": "float"
        },
        {
         "name": "rs_TSIX",
         "rawType": "float64",
         "type": "float"
        },
        {
         "name": "rs_GRM4",
         "rawType": "float64",
         "type": "float"
        },
        {
         "name": "rs_FIGF",
         "rawType": "float64",
         "type": "float"
        },
        {
         "name": "rs_HRASLS5",
         "rawType": "float64",
         "type": "float"
        },
        {
         "name": "rs_FAT2",
         "rawType": "float64",
         "type": "float"
        },
        {
         "name": "rs_CCNO",
         "rawType": "float64",
         "type": "float"
        },
        {
         "name": "rs_ADCY5",
         "rawType": "float64",
         "type": "float"
        },
        {
         "name": "rs_TDRD1",
         "rawType": "float64",
         "type": "float"
        },
        {
         "name": "rs_F7",
         "rawType": "float64",
         "type": "float"
        },
        {
         "name": "rs_TPSG1",
         "rawType": "float64",
         "type": "float"
        },
        {
         "name": "rs_C6",
         "rawType": "float64",
         "type": "float"
        },
        {
         "name": "rs_KRT6C",
         "rawType": "float64",
         "type": "float"
        },
        {
         "name": "rs_ACTG2",
         "rawType": "float64",
         "type": "float"
        },
        {
         "name": "rs_LGR6",
         "rawType": "float64",
         "type": "float"
        },
        {
         "name": "rs_S100B",
         "rawType": "float64",
         "type": "float"
        },
        {
         "name": "rs_ADH1C",
         "rawType": "float64",
         "type": "float"
        },
        {
         "name": "rs_FUT3",
         "rawType": "float64",
         "type": "float"
        },
        {
         "name": "rs_CARTPT",
         "rawType": "float64",
         "type": "float"
        },
        {
         "name": "rs_POF1B",
         "rawType": "float64",
         "type": "float"
        },
        {
         "name": "rs_PRSS21",
         "rawType": "float64",
         "type": "float"
        },
        {
         "name": "rs_FAM83E",
         "rawType": "float64",
         "type": "float"
        },
        {
         "name": "rs_MAPK4",
         "rawType": "float64",
         "type": "float"
        },
        {
         "name": "rs_PTCHD1",
         "rawType": "float64",
         "type": "float"
        },
        {
         "name": "rs_IRX1",
         "rawType": "float64",
         "type": "float"
        },
        {
         "name": "rs_SYNPO2L",
         "rawType": "float64",
         "type": "float"
        },
        {
         "name": "rs_GLYAT",
         "rawType": "float64",
         "type": "float"
        },
        {
         "name": "rs_MYT1",
         "rawType": "float64",
         "type": "float"
        },
        {
         "name": "rs_PRODH",
         "rawType": "float64",
         "type": "float"
        },
        {
         "name": "rs_SHISA9",
         "rawType": "float64",
         "type": "float"
        },
        {
         "name": "rs_DEFB1",
         "rawType": "float64",
         "type": "float"
        },
        {
         "name": "rs_VIPR2",
         "rawType": "float64",
         "type": "float"
        },
        {
         "name": "rs_SOX2",
         "rawType": "float64",
         "type": "float"
        },
        {
         "name": "rs_AR",
         "rawType": "float64",
         "type": "float"
        },
        {
         "name": "rs_TP63",
         "rawType": "float64",
         "type": "float"
        },
        {
         "name": "rs_IYD",
         "rawType": "float64",
         "type": "float"
        },
        {
         "name": "rs_PLCH1",
         "rawType": "float64",
         "type": "float"
        },
        {
         "name": "rs_SLC27A6",
         "rawType": "float64",
         "type": "float"
        },
        {
         "name": "rs_HPX",
         "rawType": "float64",
         "type": "float"
        },
        {
         "name": "rs_PP14571",
         "rawType": "float64",
         "type": "float"
        },
        {
         "name": "rs_DLX2",
         "rawType": "float64",
         "type": "float"
        },
        {
         "name": "rs_SPAG17",
         "rawType": "float64",
         "type": "float"
        },
        {
         "name": "rs_PRG4",
         "rawType": "float64",
         "type": "float"
        },
        {
         "name": "rs_MMP7",
         "rawType": "float64",
         "type": "float"
        },
        {
         "name": "rs_UGT8",
         "rawType": "float64",
         "type": "float"
        },
        {
         "name": "rs_NEURL",
         "rawType": "float64",
         "type": "float"
        },
        {
         "name": "rs_AFF3",
         "rawType": "float64",
         "type": "float"
        },
        {
         "name": "rs_MS4A8B",
         "rawType": "float64",
         "type": "float"
        },
        {
         "name": "rs_APOD",
         "rawType": "float64",
         "type": "float"
        },
        {
         "name": "rs_TMEM213",
         "rawType": "float64",
         "type": "float"
        },
        {
         "name": "rs_TLX1",
         "rawType": "float64",
         "type": "float"
        },
        {
         "name": "rs_ZFP57",
         "rawType": "float64",
         "type": "float"
        },
        {
         "name": "rs_FOSB",
         "rawType": "float64",
         "type": "float"
        },
        {
         "name": "rs_TUBA3E",
         "rawType": "float64",
         "type": "float"
        },
        {
         "name": "rs_CHGB",
         "rawType": "float64",
         "type": "float"
        },
        {
         "name": "rs_HP",
         "rawType": "float64",
         "type": "float"
        },
        {
         "name": "rs_FAM3D",
         "rawType": "float64",
         "type": "float"
        },
        {
         "name": "rs_RERGL",
         "rawType": "float64",
         "type": "float"
        },
        {
         "name": "rs_CXADRP3",
         "rawType": "float64",
         "type": "float"
        },
        {
         "name": "rs_CHST9",
         "rawType": "float64",
         "type": "float"
        },
        {
         "name": "rs_CD36",
         "rawType": "float64",
         "type": "float"
        },
        {
         "name": "rs_CYP4F11",
         "rawType": "float64",
         "type": "float"
        },
        {
         "name": "rs_CD177",
         "rawType": "float64",
         "type": "float"
        },
        {
         "name": "rs_TBC1D3G",
         "rawType": "float64",
         "type": "float"
        },
        {
         "name": "rs_NKX2-2",
         "rawType": "float64",
         "type": "float"
        },
        {
         "name": "rs_S100A2",
         "rawType": "float64",
         "type": "float"
        },
        {
         "name": "rs_SPDEF",
         "rawType": "float64",
         "type": "float"
        },
        {
         "name": "rs_GLYATL1",
         "rawType": "float64",
         "type": "float"
        },
        {
         "name": "rs_MMP10",
         "rawType": "float64",
         "type": "float"
        },
        {
         "name": "rs_RELN",
         "rawType": "float64",
         "type": "float"
        },
        {
         "name": "rs_SMOC1",
         "rawType": "float64",
         "type": "float"
        },
        {
         "name": "rs_PCDHA11",
         "rawType": "float64",
         "type": "float"
        },
        {
         "name": "rs_BCL11A",
         "rawType": "float64",
         "type": "float"
        },
        {
         "name": "rs_RET",
         "rawType": "float64",
         "type": "float"
        },
        {
         "name": "rs_ANKRD43",
         "rawType": "float64",
         "type": "float"
        },
        {
         "name": "rs_WT1",
         "rawType": "float64",
         "type": "float"
        },
        {
         "name": "rs_PLA2G2D",
         "rawType": "float64",
         "type": "float"
        },
        {
         "name": "rs_KCNF1",
         "rawType": "float64",
         "type": "float"
        },
        {
         "name": "rs_CCL18",
         "rawType": "float64",
         "type": "float"
        },
        {
         "name": "rs_CHI3L2",
         "rawType": "float64",
         "type": "float"
        },
        {
         "name": "rs_SLC7A10",
         "rawType": "float64",
         "type": "float"
        },
        {
         "name": "rs_NTNG1",
         "rawType": "float64",
         "type": "float"
        },
        {
         "name": "rs_FXYD1",
         "rawType": "float64",
         "type": "float"
        },
        {
         "name": "rs_SLC6A15",
         "rawType": "float64",
         "type": "float"
        },
        {
         "name": "rs_MKRN3",
         "rawType": "float64",
         "type": "float"
        },
        {
         "name": "rs_ZNF385B",
         "rawType": "float64",
         "type": "float"
        },
        {
         "name": "rs_CLDN8",
         "rawType": "float64",
         "type": "float"
        },
        {
         "name": "rs_FAM83A",
         "rawType": "float64",
         "type": "float"
        },
        {
         "name": "rs_SHISA2",
         "rawType": "float64",
         "type": "float"
        },
        {
         "name": "rs_MYEOV",
         "rawType": "float64",
         "type": "float"
        },
        {
         "name": "rs_SBSN",
         "rawType": "float64",
         "type": "float"
        },
        {
         "name": "rs_AKR1C1",
         "rawType": "float64",
         "type": "float"
        },
        {
         "name": "rs_ABCC12",
         "rawType": "float64",
         "type": "float"
        },
        {
         "name": "rs_NOVA1",
         "rawType": "float64",
         "type": "float"
        },
        {
         "name": "rs_SOX11",
         "rawType": "float64",
         "type": "float"
        },
        {
         "name": "rs_FUT6",
         "rawType": "float64",
         "type": "float"
        },
        {
         "name": "rs_SCRG1",
         "rawType": "float64",
         "type": "float"
        },
        {
         "name": "rs_AK5",
         "rawType": "float64",
         "type": "float"
        },
        {
         "name": "rs_TTC36",
         "rawType": "float64",
         "type": "float"
        },
        {
         "name": "rs_TOX3",
         "rawType": "float64",
         "type": "float"
        },
        {
         "name": "rs_IRX4",
         "rawType": "float64",
         "type": "float"
        },
        {
         "name": "rs_CA3",
         "rawType": "float64",
         "type": "float"
        },
        {
         "name": "rs_SCNN1G",
         "rawType": "float64",
         "type": "float"
        },
        {
         "name": "rs_TPSD1",
         "rawType": "float64",
         "type": "float"
        },
        {
         "name": "rs_PCDHA12",
         "rawType": "float64",
         "type": "float"
        },
        {
         "name": "rs_TSPAN1",
         "rawType": "float64",
         "type": "float"
        },
        {
         "name": "rs_LOC389033",
         "rawType": "float64",
         "type": "float"
        },
        {
         "name": "rs_PART1",
         "rawType": "float64",
         "type": "float"
        },
        {
         "name": "rs_CRYM",
         "rawType": "float64",
         "type": "float"
        },
        {
         "name": "rs_HOXC10",
         "rawType": "float64",
         "type": "float"
        },
        {
         "name": "rs_DBC1",
         "rawType": "float64",
         "type": "float"
        },
        {
         "name": "rs_SLC6A11",
         "rawType": "float64",
         "type": "float"
        },
        {
         "name": "rs_ACADL",
         "rawType": "float64",
         "type": "float"
        },
        {
         "name": "rs_CXCL14",
         "rawType": "float64",
         "type": "float"
        },
        {
         "name": "rs_MKX",
         "rawType": "float64",
         "type": "float"
        },
        {
         "name": "rs_CLDN19",
         "rawType": "float64",
         "type": "float"
        },
        {
         "name": "rs_FGF10",
         "rawType": "float64",
         "type": "float"
        },
        {
         "name": "rs_MMP11",
         "rawType": "float64",
         "type": "float"
        },
        {
         "name": "rs_NTS",
         "rawType": "float64",
         "type": "float"
        },
        {
         "name": "rs_KCNG1",
         "rawType": "float64",
         "type": "float"
        },
        {
         "name": "rs_PITX1",
         "rawType": "float64",
         "type": "float"
        },
        {
         "name": "rs_DOK7",
         "rawType": "float64",
         "type": "float"
        },
        {
         "name": "rs_CAPN9",
         "rawType": "float64",
         "type": "float"
        },
        {
         "name": "rs_RASAL1",
         "rawType": "float64",
         "type": "float"
        },
        {
         "name": "rs_MAGEA1",
         "rawType": "float64",
         "type": "float"
        },
        {
         "name": "rs_RHCG",
         "rawType": "float64",
         "type": "float"
        },
        {
         "name": "rs_SCGN",
         "rawType": "float64",
         "type": "float"
        },
        {
         "name": "rs_OSR1",
         "rawType": "float64",
         "type": "float"
        },
        {
         "name": "rs_S100A1",
         "rawType": "float64",
         "type": "float"
        },
        {
         "name": "rs_CITED1",
         "rawType": "float64",
         "type": "float"
        },
        {
         "name": "rs_ADAMDEC1",
         "rawType": "float64",
         "type": "float"
        },
        {
         "name": "rs_PLP1",
         "rawType": "float64",
         "type": "float"
        },
        {
         "name": "rs_ANO3",
         "rawType": "float64",
         "type": "float"
        },
        {
         "name": "rs_NELL2",
         "rawType": "float64",
         "type": "float"
        },
        {
         "name": "rs_CAPN13",
         "rawType": "float64",
         "type": "float"
        },
        {
         "name": "rs_HAPLN1",
         "rawType": "float64",
         "type": "float"
        },
        {
         "name": "rs_NMU",
         "rawType": "float64",
         "type": "float"
        },
        {
         "name": "rs_EMX1",
         "rawType": "float64",
         "type": "float"
        },
        {
         "name": "rs_GPRIN2",
         "rawType": "float64",
         "type": "float"
        },
        {
         "name": "rs_C19orf21",
         "rawType": "float64",
         "type": "float"
        },
        {
         "name": "rs_CSN3",
         "rawType": "float64",
         "type": "float"
        },
        {
         "name": "rs_C2orf82",
         "rawType": "float64",
         "type": "float"
        },
        {
         "name": "rs_GABBR2",
         "rawType": "float64",
         "type": "float"
        },
        {
         "name": "rs_PLA2G3",
         "rawType": "float64",
         "type": "float"
        },
        {
         "name": "rs_CLGN",
         "rawType": "float64",
         "type": "float"
        },
        {
         "name": "rs_MYOC",
         "rawType": "float64",
         "type": "float"
        },
        {
         "name": "rs_GPR26",
         "rawType": "float64",
         "type": "float"
        },
        {
         "name": "rs_VWDE",
         "rawType": "float64",
         "type": "float"
        },
        {
         "name": "rs_ANGPTL7",
         "rawType": "float64",
         "type": "float"
        },
        {
         "name": "rs_ACTA1",
         "rawType": "float64",
         "type": "float"
        },
        {
         "name": "rs_LOC283392",
         "rawType": "float64",
         "type": "float"
        },
        {
         "name": "rs_C4BPA",
         "rawType": "float64",
         "type": "float"
        },
        {
         "name": "rs_MAOB",
         "rawType": "float64",
         "type": "float"
        },
        {
         "name": "rs_KCNJ16",
         "rawType": "float64",
         "type": "float"
        },
        {
         "name": "rs_GPX2",
         "rawType": "float64",
         "type": "float"
        },
        {
         "name": "rs_SLC15A1",
         "rawType": "float64",
         "type": "float"
        },
        {
         "name": "rs_DEGS2",
         "rawType": "float64",
         "type": "float"
        },
        {
         "name": "rs_MUC2",
         "rawType": "float64",
         "type": "float"
        },
        {
         "name": "rs_CALB2",
         "rawType": "float64",
         "type": "float"
        },
        {
         "name": "rs_CHRM1",
         "rawType": "float64",
         "type": "float"
        },
        {
         "name": "rs_CCL14",
         "rawType": "float64",
         "type": "float"
        },
        {
         "name": "rs_PCDH10",
         "rawType": "float64",
         "type": "float"
        },
        {
         "name": "rs_CTNND2",
         "rawType": "float64",
         "type": "float"
        },
        {
         "name": "rs_CECR2",
         "rawType": "float64",
         "type": "float"
        },
        {
         "name": "rs_SPINK8",
         "rawType": "float64",
         "type": "float"
        },
        {
         "name": "rs_LY6K",
         "rawType": "float64",
         "type": "float"
        },
        {
         "name": "rs_PEG3",
         "rawType": "float64",
         "type": "float"
        },
        {
         "name": "rs_CST2",
         "rawType": "float64",
         "type": "float"
        },
        {
         "name": "rs_FERMT1",
         "rawType": "float64",
         "type": "float"
        },
        {
         "name": "rs_MMRN1",
         "rawType": "float64",
         "type": "float"
        },
        {
         "name": "rs_SERHL2",
         "rawType": "float64",
         "type": "float"
        },
        {
         "name": "rs_SEZ6L",
         "rawType": "float64",
         "type": "float"
        },
        {
         "name": "rs_TNNI3",
         "rawType": "float64",
         "type": "float"
        },
        {
         "name": "rs_EREG",
         "rawType": "float64",
         "type": "float"
        },
        {
         "name": "rs_ADAMTS15",
         "rawType": "float64",
         "type": "float"
        },
        {
         "name": "rs_PAX2",
         "rawType": "float64",
         "type": "float"
        },
        {
         "name": "rs_TNNT3",
         "rawType": "float64",
         "type": "float"
        },
        {
         "name": "rs_B3GNT3",
         "rawType": "float64",
         "type": "float"
        },
        {
         "name": "rs_LOC440905",
         "rawType": "float64",
         "type": "float"
        },
        {
         "name": "rs_CD19",
         "rawType": "float64",
         "type": "float"
        },
        {
         "name": "rs_ADH1A",
         "rawType": "float64",
         "type": "float"
        },
        {
         "name": "rs_RIMS2",
         "rawType": "float64",
         "type": "float"
        },
        {
         "name": "rs_ALOX15",
         "rawType": "float64",
         "type": "float"
        },
        {
         "name": "rs_ADAMTS19",
         "rawType": "float64",
         "type": "float"
        },
        {
         "name": "rs_NTRK3",
         "rawType": "float64",
         "type": "float"
        },
        {
         "name": "rs_RNF183",
         "rawType": "float64",
         "type": "float"
        },
        {
         "name": "rs_FLT3",
         "rawType": "float64",
         "type": "float"
        },
        {
         "name": "rs_TNMD",
         "rawType": "float64",
         "type": "float"
        },
        {
         "name": "rs_GPR12",
         "rawType": "float64",
         "type": "float"
        },
        {
         "name": "rs_IBSP",
         "rawType": "float64",
         "type": "float"
        },
        {
         "name": "rs_COL4A6",
         "rawType": "float64",
         "type": "float"
        },
        {
         "name": "rs_CLSTN2",
         "rawType": "float64",
         "type": "float"
        },
        {
         "name": "rs_FIBCD1",
         "rawType": "float64",
         "type": "float"
        },
        {
         "name": "rs_CES1",
         "rawType": "float64",
         "type": "float"
        },
        {
         "name": "rs_CADM3",
         "rawType": "float64",
         "type": "float"
        },
        {
         "name": "rs_AKR1B15",
         "rawType": "float64",
         "type": "float"
        },
        {
         "name": "rs_PCDHA10",
         "rawType": "float64",
         "type": "float"
        },
        {
         "name": "rs_HIF3A",
         "rawType": "float64",
         "type": "float"
        },
        {
         "name": "rs_GPM6A",
         "rawType": "float64",
         "type": "float"
        },
        {
         "name": "rs_CXCR2P1",
         "rawType": "float64",
         "type": "float"
        },
        {
         "name": "rs_DACH1",
         "rawType": "float64",
         "type": "float"
        },
        {
         "name": "rs_C1orf95",
         "rawType": "float64",
         "type": "float"
        },
        {
         "name": "rs_HEPACAM",
         "rawType": "float64",
         "type": "float"
        },
        {
         "name": "rs_TMEM45B",
         "rawType": "float64",
         "type": "float"
        },
        {
         "name": "rs_VIT",
         "rawType": "float64",
         "type": "float"
        },
        {
         "name": "rs_CXCL2",
         "rawType": "float64",
         "type": "float"
        },
        {
         "name": "rs_FMO2",
         "rawType": "float64",
         "type": "float"
        },
        {
         "name": "rs_HBB",
         "rawType": "float64",
         "type": "float"
        },
        {
         "name": "rs_CDSN",
         "rawType": "float64",
         "type": "float"
        },
        {
         "name": "rs_KCNIP2",
         "rawType": "float64",
         "type": "float"
        },
        {
         "name": "rs_CCL28",
         "rawType": "float64",
         "type": "float"
        },
        {
         "name": "rs_C8orf85",
         "rawType": "float64",
         "type": "float"
        },
        {
         "name": "rs_CRYAB",
         "rawType": "float64",
         "type": "float"
        },
        {
         "name": "rs_LOC84740",
         "rawType": "float64",
         "type": "float"
        },
        {
         "name": "rs_PPAPDC1A",
         "rawType": "float64",
         "type": "float"
        },
        {
         "name": "rs_IL33",
         "rawType": "float64",
         "type": "float"
        },
        {
         "name": "rs_AQP7P1",
         "rawType": "float64",
         "type": "float"
        },
        {
         "name": "rs_MAGEA4",
         "rawType": "float64",
         "type": "float"
        },
        {
         "name": "rs_ACE2",
         "rawType": "float64",
         "type": "float"
        },
        {
         "name": "rs_MYH11",
         "rawType": "float64",
         "type": "float"
        },
        {
         "name": "rs_LOC100124692",
         "rawType": "float64",
         "type": "float"
        },
        {
         "name": "rs_HS3ST4",
         "rawType": "float64",
         "type": "float"
        },
        {
         "name": "rs_SELP",
         "rawType": "float64",
         "type": "float"
        },
        {
         "name": "rs_PADI3",
         "rawType": "float64",
         "type": "float"
        },
        {
         "name": "rs_ACVR1C",
         "rawType": "float64",
         "type": "float"
        },
        {
         "name": "rs_AMY1A",
         "rawType": "float64",
         "type": "float"
        },
        {
         "name": "rs_OXTR",
         "rawType": "float64",
         "type": "float"
        },
        {
         "name": "rs_DEFB132",
         "rawType": "float64",
         "type": "float"
        },
        {
         "name": "rs_APOB",
         "rawType": "float64",
         "type": "float"
        },
        {
         "name": "rs_SPHKAP",
         "rawType": "float64",
         "type": "float"
        },
        {
         "name": "rs_DPYSL5",
         "rawType": "float64",
         "type": "float"
        },
        {
         "name": "rs_HEPN1",
         "rawType": "float64",
         "type": "float"
        },
        {
         "name": "cn_ISG15",
         "rawType": "int64",
         "type": "integer"
        },
        {
         "name": "cn_PLCH2",
         "rawType": "int64",
         "type": "integer"
        },
        {
         "name": "cn_SAMD11",
         "rawType": "int64",
         "type": "integer"
        },
        {
         "name": "cn_TNFRSF18",
         "rawType": "int64",
         "type": "integer"
        },
        {
         "name": "cn_BAI2",
         "rawType": "int64",
         "type": "integer"
        },
        {
         "name": "cn_TEKT2",
         "rawType": "int64",
         "type": "integer"
        },
        {
         "name": "cn_DNALI1",
         "rawType": "int64",
         "type": "integer"
        },
        {
         "name": "cn_RSPO1",
         "rawType": "int64",
         "type": "integer"
        },
        {
         "name": "cn_KIAA0754",
         "rawType": "int64",
         "type": "integer"
        },
        {
         "name": "cn_KCNQ4",
         "rawType": "int64",
         "type": "integer"
        },
        {
         "name": "cn_CITED4",
         "rawType": "int64",
         "type": "integer"
        },
        {
         "name": "cn_EDN2",
         "rawType": "int64",
         "type": "integer"
        },
        {
         "name": "cn_CLDN19",
         "rawType": "int64",
         "type": "integer"
        },
        {
         "name": "cn_CDC20",
         "rawType": "int64",
         "type": "integer"
        },
        {
         "name": "cn_ARTN",
         "rawType": "int64",
         "type": "integer"
        },
        {
         "name": "cn_HPDL",
         "rawType": "int64",
         "type": "integer"
        },
        {
         "name": "cn_TSPAN1",
         "rawType": "int64",
         "type": "integer"
        },
        {
         "name": "cn_CYP4B1",
         "rawType": "int64",
         "type": "integer"
        },
        {
         "name": "cn_CYP4Z2P",
         "rawType": "int64",
         "type": "integer"
        },
        {
         "name": "cn_CYP4X1",
         "rawType": "int64",
         "type": "integer"
        },
        {
         "name": "cn_CYP4Z1",
         "rawType": "int64",
         "type": "integer"
        },
        {
         "name": "cn_PDZK1IP1",
         "rawType": "int64",
         "type": "integer"
        },
        {
         "name": "cn_RAB3B",
         "rawType": "int64",
         "type": "integer"
        },
        {
         "name": "cn_DIO1",
         "rawType": "int64",
         "type": "integer"
        },
        {
         "name": "cn_TTC22",
         "rawType": "int64",
         "type": "integer"
        },
        {
         "name": "cn_PCSK9",
         "rawType": "int64",
         "type": "integer"
        },
        {
         "name": "cn_PRKAA2",
         "rawType": "int64",
         "type": "integer"
        },
        {
         "name": "cn_C1orf168",
         "rawType": "int64",
         "type": "integer"
        },
        {
         "name": "cn_KANK4",
         "rawType": "int64",
         "type": "integer"
        },
        {
         "name": "cn_FOXD3",
         "rawType": "int64",
         "type": "integer"
        },
        {
         "name": "cn_IL12RB2",
         "rawType": "int64",
         "type": "integer"
        },
        {
         "name": "cn_DIRAS3",
         "rawType": "int64",
         "type": "integer"
        },
        {
         "name": "cn_C1orf173",
         "rawType": "int64",
         "type": "integer"
        },
        {
         "name": "cn_SLC44A5",
         "rawType": "int64",
         "type": "integer"
        },
        {
         "name": "cn_ST6GALNAC5",
         "rawType": "int64",
         "type": "integer"
        },
        {
         "name": "cn_AK5",
         "rawType": "int64",
         "type": "integer"
        },
        {
         "name": "cn_PTGFR",
         "rawType": "int64",
         "type": "integer"
        },
        {
         "name": "cn_DNASE2B",
         "rawType": "int64",
         "type": "integer"
        },
        {
         "name": "cn_LPAR3",
         "rawType": "int64",
         "type": "integer"
        },
        {
         "name": "cn_CLCA2",
         "rawType": "int64",
         "type": "integer"
        },
        {
         "name": "cn_CLCA4",
         "rawType": "int64",
         "type": "integer"
        },
        {
         "name": "cn_GBP5",
         "rawType": "int64",
         "type": "integer"
        },
        {
         "name": "cn_TGFBR3",
         "rawType": "int64",
         "type": "integer"
        },
        {
         "name": "cn_BRDT",
         "rawType": "int64",
         "type": "integer"
        },
        {
         "name": "cn_EPHX4",
         "rawType": "int64",
         "type": "integer"
        },
        {
         "name": "cn_ABCA4",
         "rawType": "int64",
         "type": "integer"
        },
        {
         "name": "cn_COL11A1",
         "rawType": "int64",
         "type": "integer"
        },
        {
         "name": "cn_AMY1A",
         "rawType": "int64",
         "type": "integer"
        },
        {
         "name": "cn_NTNG1",
         "rawType": "int64",
         "type": "integer"
        },
        {
         "name": "cn_NBPF4",
         "rawType": "int64",
         "type": "integer"
        },
        {
         "name": "cn_NBPF6",
         "rawType": "int64",
         "type": "integer"
        },
        {
         "name": "cn_GSTM1",
         "rawType": "int64",
         "type": "integer"
        },
        {
         "name": "cn_GSTM2",
         "rawType": "int64",
         "type": "integer"
        },
        {
         "name": "cn_GSTM5",
         "rawType": "int64",
         "type": "integer"
        },
        {
         "name": "cn_GSTM3",
         "rawType": "int64",
         "type": "integer"
        },
        {
         "name": "cn_SLC6A17",
         "rawType": "int64",
         "type": "integer"
        },
        {
         "name": "cn_CHI3L2",
         "rawType": "int64",
         "type": "integer"
        },
        {
         "name": "cn_KCND3",
         "rawType": "int64",
         "type": "integer"
        },
        {
         "name": "cn_FAM19A3",
         "rawType": "int64",
         "type": "integer"
        },
        {
         "name": "cn_AMPD1",
         "rawType": "int64",
         "type": "integer"
        },
        {
         "name": "cn_CASQ2",
         "rawType": "int64",
         "type": "integer"
        },
        {
         "name": "cn_VTCN1",
         "rawType": "int64",
         "type": "integer"
        },
        {
         "name": "cn_SPAG17",
         "rawType": "int64",
         "type": "integer"
        },
        {
         "name": "cn_HSD3B2",
         "rawType": "int64",
         "type": "integer"
        },
        {
         "name": "cn_HMGCS2",
         "rawType": "int64",
         "type": "integer"
        },
        {
         "name": "cn_FMO5",
         "rawType": "int64",
         "type": "integer"
        },
        {
         "name": "cn_PDZK1P1",
         "rawType": "int64",
         "type": "integer"
        },
        {
         "name": "cn_PDZK1",
         "rawType": "int64",
         "type": "integer"
        },
        {
         "name": "cn_ZNF695",
         "rawType": "int64",
         "type": "integer"
        },
        {
         "name": "cn_TRIM58",
         "rawType": "int64",
         "type": "integer"
        },
        {
         "name": "cn_CHL1",
         "rawType": "int64",
         "type": "integer"
        },
        {
         "name": "cn_CNTN4",
         "rawType": "int64",
         "type": "integer"
        },
        {
         "name": "cn_LRRN1",
         "rawType": "int64",
         "type": "integer"
        },
        {
         "name": "cn_EGOT",
         "rawType": "int64",
         "type": "integer"
        },
        {
         "name": "cn_ROBO2",
         "rawType": "int64",
         "type": "integer"
        },
        {
         "name": "cn_CADM2",
         "rawType": "int64",
         "type": "integer"
        },
        {
         "name": "cn_NPFFR2",
         "rawType": "int64",
         "type": "integer"
        },
        {
         "name": "cn_ALB",
         "rawType": "int64",
         "type": "integer"
        },
        {
         "name": "cn_AFP",
         "rawType": "int64",
         "type": "integer"
        },
        {
         "name": "cn_RASSF6",
         "rawType": "int64",
         "type": "integer"
        },
        {
         "name": "cn_IL8",
         "rawType": "int64",
         "type": "integer"
        },
        {
         "name": "cn_CXCL1",
         "rawType": "int64",
         "type": "integer"
        },
        {
         "name": "cn_CXCL5",
         "rawType": "int64",
         "type": "integer"
        },
        {
         "name": "cn_CXCL2",
         "rawType": "int64",
         "type": "integer"
        },
        {
         "name": "cn_EREG",
         "rawType": "int64",
         "type": "integer"
        },
        {
         "name": "cn_AREG",
         "rawType": "int64",
         "type": "integer"
        },
        {
         "name": "cn_CDKL2",
         "rawType": "int64",
         "type": "integer"
        },
        {
         "name": "cn_CXCL9",
         "rawType": "int64",
         "type": "integer"
        },
        {
         "name": "cn_ART3",
         "rawType": "int64",
         "type": "integer"
        },
        {
         "name": "cn_CXCL10",
         "rawType": "int64",
         "type": "integer"
        },
        {
         "name": "cn_CXCL11",
         "rawType": "int64",
         "type": "integer"
        },
        {
         "name": "cn_CCDC158",
         "rawType": "int64",
         "type": "integer"
        },
        {
         "name": "cn_CXCL13",
         "rawType": "int64",
         "type": "integer"
        },
        {
         "name": "cn_LRRC14B",
         "rawType": "int64",
         "type": "integer"
        },
        {
         "name": "cn_PLEKHG4B",
         "rawType": "int64",
         "type": "integer"
        },
        {
         "name": "cn_IRX4",
         "rawType": "int64",
         "type": "integer"
        },
        {
         "name": "cn_C5orf38",
         "rawType": "int64",
         "type": "integer"
        },
        {
         "name": "cn_IRX2",
         "rawType": "int64",
         "type": "integer"
        },
        {
         "name": "cn_IRX1",
         "rawType": "int64",
         "type": "integer"
        },
        {
         "name": "cn_ADAMTS16",
         "rawType": "int64",
         "type": "integer"
        },
        {
         "name": "cn_ADCY2",
         "rawType": "int64",
         "type": "integer"
        },
        {
         "name": "cn_ROPN1L",
         "rawType": "int64",
         "type": "integer"
        },
        {
         "name": "cn_CTNND2",
         "rawType": "int64",
         "type": "integer"
        },
        {
         "name": "cn_DNAH5",
         "rawType": "int64",
         "type": "integer"
        },
        {
         "name": "cn_MARCH11",
         "rawType": "int64",
         "type": "integer"
        },
        {
         "name": "cn_NPR3",
         "rawType": "int64",
         "type": "integer"
        },
        {
         "name": "cn_IL7R",
         "rawType": "int64",
         "type": "integer"
        },
        {
         "name": "cn_CAPSL",
         "rawType": "int64",
         "type": "integer"
        },
        {
         "name": "cn_UGT3A2",
         "rawType": "int64",
         "type": "integer"
        },
        {
         "name": "cn_RANBP3L",
         "rawType": "int64",
         "type": "integer"
        },
        {
         "name": "cn_FGF10",
         "rawType": "int64",
         "type": "integer"
        },
        {
         "name": "cn_GZMK",
         "rawType": "int64",
         "type": "integer"
        },
        {
         "name": "cn_CDC20B",
         "rawType": "int64",
         "type": "integer"
        },
        {
         "name": "cn_CCNO",
         "rawType": "int64",
         "type": "integer"
        },
        {
         "name": "cn_IL6ST",
         "rawType": "int64",
         "type": "integer"
        },
        {
         "name": "cn_PART1",
         "rawType": "int64",
         "type": "integer"
        },
        {
         "name": "cn_GTF2H2B",
         "rawType": "int64",
         "type": "integer"
        },
        {
         "name": "cn_CARTPT",
         "rawType": "int64",
         "type": "integer"
        },
        {
         "name": "cn_FOXD1",
         "rawType": "int64",
         "type": "integer"
        },
        {
         "name": "cn_F2RL2",
         "rawType": "int64",
         "type": "integer"
        },
        {
         "name": "cn_PDE8B",
         "rawType": "int64",
         "type": "integer"
        },
        {
         "name": "cn_THBS4",
         "rawType": "int64",
         "type": "integer"
        },
        {
         "name": "cn_CKMT2",
         "rawType": "int64",
         "type": "integer"
        },
        {
         "name": "cn_HAPLN1",
         "rawType": "int64",
         "type": "integer"
        },
        {
         "name": "cn_EDIL3",
         "rawType": "int64",
         "type": "integer"
        },
        {
         "name": "cn_GPR98",
         "rawType": "int64",
         "type": "integer"
        },
        {
         "name": "cn_FAM81B",
         "rawType": "int64",
         "type": "integer"
        },
        {
         "name": "cn_C5orf27",
         "rawType": "int64",
         "type": "integer"
        },
        {
         "name": "cn_PCSK1",
         "rawType": "int64",
         "type": "integer"
        },
        {
         "name": "cn_ERAP2",
         "rawType": "int64",
         "type": "integer"
        },
        {
         "name": "cn_EFNA5",
         "rawType": "int64",
         "type": "integer"
        },
        {
         "name": "cn_TSLP",
         "rawType": "int64",
         "type": "integer"
        },
        {
         "name": "cn_TRIM36",
         "rawType": "int64",
         "type": "integer"
        },
        {
         "name": "cn_CDO1",
         "rawType": "int64",
         "type": "integer"
        },
        {
         "name": "cn_AQPEP",
         "rawType": "int64",
         "type": "integer"
        },
        {
         "name": "cn_MEGF10",
         "rawType": "int64",
         "type": "integer"
        },
        {
         "name": "cn_FBN2",
         "rawType": "int64",
         "type": "integer"
        },
        {
         "name": "cn_SLC27A6",
         "rawType": "int64",
         "type": "integer"
        },
        {
         "name": "cn_ADAMTS19",
         "rawType": "int64",
         "type": "integer"
        },
        {
         "name": "cn_SHROOM1",
         "rawType": "int64",
         "type": "integer"
        },
        {
         "name": "cn_FSTL4",
         "rawType": "int64",
         "type": "integer"
        },
        {
         "name": "cn_PITX1",
         "rawType": "int64",
         "type": "integer"
        },
        {
         "name": "cn_C5orf20",
         "rawType": "int64",
         "type": "integer"
        },
        {
         "name": "cn_CXCL14",
         "rawType": "int64",
         "type": "integer"
        },
        {
         "name": "cn_PCDHA1",
         "rawType": "int64",
         "type": "integer"
        },
        {
         "name": "cn_PCDHA3",
         "rawType": "int64",
         "type": "integer"
        },
        {
         "name": "cn_PCDHA4",
         "rawType": "int64",
         "type": "integer"
        },
        {
         "name": "cn_PCDHA10",
         "rawType": "int64",
         "type": "integer"
        },
        {
         "name": "cn_PCDHA11",
         "rawType": "int64",
         "type": "integer"
        },
        {
         "name": "cn_PCDHA5",
         "rawType": "int64",
         "type": "integer"
        },
        {
         "name": "cn_PCDHA6",
         "rawType": "int64",
         "type": "integer"
        },
        {
         "name": "cn_PCDHA12",
         "rawType": "int64",
         "type": "integer"
        },
        {
         "name": "cn_PCDHA13",
         "rawType": "int64",
         "type": "integer"
        },
        {
         "name": "cn_IL17B",
         "rawType": "int64",
         "type": "integer"
        },
        {
         "name": "cn_GPX3",
         "rawType": "int64",
         "type": "integer"
        },
        {
         "name": "cn_FAT2",
         "rawType": "int64",
         "type": "integer"
        },
        {
         "name": "cn_GRIA1",
         "rawType": "int64",
         "type": "integer"
        },
        {
         "name": "cn_ITK",
         "rawType": "int64",
         "type": "integer"
        },
        {
         "name": "cn_FABP6",
         "rawType": "int64",
         "type": "integer"
        },
        {
         "name": "cn_ATP10B",
         "rawType": "int64",
         "type": "integer"
        },
        {
         "name": "cn_FBLL1",
         "rawType": "int64",
         "type": "integer"
        },
        {
         "name": "cn_FAM196B",
         "rawType": "int64",
         "type": "integer"
        },
        {
         "name": "cn_FOXI1",
         "rawType": "int64",
         "type": "integer"
        },
        {
         "name": "cn_GABRP",
         "rawType": "int64",
         "type": "integer"
        },
        {
         "name": "cn_STC2",
         "rawType": "int64",
         "type": "integer"
        },
        {
         "name": "cn_MSX2",
         "rawType": "int64",
         "type": "integer"
        },
        {
         "name": "cn_CPLX2",
         "rawType": "int64",
         "type": "integer"
        },
        {
         "name": "cn_UNC5A",
         "rawType": "int64",
         "type": "integer"
        },
        {
         "name": "cn_FGFR4",
         "rawType": "int64",
         "type": "integer"
        },
        {
         "name": "cn_RASGEF1C",
         "rawType": "int64",
         "type": "integer"
        },
        {
         "name": "cn_SCGB3A1",
         "rawType": "int64",
         "type": "integer"
        },
        {
         "name": "cn_BTNL9",
         "rawType": "int64",
         "type": "integer"
        },
        {
         "name": "cn_IRF4",
         "rawType": "int64",
         "type": "integer"
        },
        {
         "name": "cn_FOXC1",
         "rawType": "int64",
         "type": "integer"
        },
        {
         "name": "cn_TUBB2B",
         "rawType": "int64",
         "type": "integer"
        },
        {
         "name": "cn_ELOVL2",
         "rawType": "int64",
         "type": "integer"
        },
        {
         "name": "cn_RNF182",
         "rawType": "int64",
         "type": "integer"
        },
        {
         "name": "cn_RBM24",
         "rawType": "int64",
         "type": "integer"
        },
        {
         "name": "cn_ID4",
         "rawType": "int64",
         "type": "integer"
        },
        {
         "name": "cn_DCDC2",
         "rawType": "int64",
         "type": "integer"
        },
        {
         "name": "cn_KIAA0319",
         "rawType": "int64",
         "type": "integer"
        },
        {
         "name": "cn_LRFN2",
         "rawType": "int64",
         "type": "integer"
        },
        {
         "name": "cn_PGC",
         "rawType": "int64",
         "type": "integer"
        },
        {
         "name": "cn_GNMT",
         "rawType": "int64",
         "type": "integer"
        },
        {
         "name": "cn_DLK2",
         "rawType": "int64",
         "type": "integer"
        },
        {
         "name": "cn_C6orf223",
         "rawType": "int64",
         "type": "integer"
        },
        {
         "name": "cn_GSTA1",
         "rawType": "int64",
         "type": "integer"
        },
        {
         "name": "cn_HMGCLL1",
         "rawType": "int64",
         "type": "integer"
        },
        {
         "name": "cn_BMP5",
         "rawType": "int64",
         "type": "integer"
        },
        {
         "name": "cn_COL9A1",
         "rawType": "int64",
         "type": "integer"
        },
        {
         "name": "cn_RIMS1",
         "rawType": "int64",
         "type": "integer"
        },
        {
         "name": "cn_KCNQ5",
         "rawType": "int64",
         "type": "integer"
        },
        {
         "name": "cn_DDX43",
         "rawType": "int64",
         "type": "integer"
        },
        {
         "name": "cn_MRAP2",
         "rawType": "int64",
         "type": "integer"
        },
        {
         "name": "cn_CGA",
         "rawType": "int64",
         "type": "integer"
        },
        {
         "name": "cn_CNR1",
         "rawType": "int64",
         "type": "integer"
        },
        {
         "name": "cn_EPHA7",
         "rawType": "int64",
         "type": "integer"
        },
        {
         "name": "cn_FUT9",
         "rawType": "int64",
         "type": "integer"
        },
        {
         "name": "cn_SIM1",
         "rawType": "int64",
         "type": "integer"
        },
        {
         "name": "cn_POPDC3",
         "rawType": "int64",
         "type": "integer"
        },
        {
         "name": "cn_WISP3",
         "rawType": "int64",
         "type": "integer"
        },
        {
         "name": "cn_COL10A1",
         "rawType": "int64",
         "type": "integer"
        },
        {
         "name": "cn_RFX6",
         "rawType": "int64",
         "type": "integer"
        },
        {
         "name": "cn_PKIB",
         "rawType": "int64",
         "type": "integer"
        },
        {
         "name": "cn_FABP7",
         "rawType": "int64",
         "type": "integer"
        },
        {
         "name": "cn_TRDN",
         "rawType": "int64",
         "type": "integer"
        },
        {
         "name": "cn_KIAA0408",
         "rawType": "int64",
         "type": "integer"
        },
        {
         "name": "cn_ENPP3",
         "rawType": "int64",
         "type": "integer"
        },
        {
         "name": "cn_EYA4",
         "rawType": "int64",
         "type": "integer"
        },
        {
         "name": "cn_MYB",
         "rawType": "int64",
         "type": "integer"
        },
        {
         "name": "cn_IL20RA",
         "rawType": "int64",
         "type": "integer"
        },
        {
         "name": "cn_IL22RA2",
         "rawType": "int64",
         "type": "integer"
        },
        {
         "name": "cn_GPR126",
         "rawType": "int64",
         "type": "integer"
        },
        {
         "name": "cn_SAMD5",
         "rawType": "int64",
         "type": "integer"
        },
        {
         "name": "cn_ULBP1",
         "rawType": "int64",
         "type": "integer"
        },
        {
         "name": "cn_PPP1R14C",
         "rawType": "int64",
         "type": "integer"
        },
        {
         "name": "cn_IYD",
         "rawType": "int64",
         "type": "integer"
        },
        {
         "name": "cn_ESR1",
         "rawType": "int64",
         "type": "integer"
        },
        {
         "name": "cn_PNLDC1",
         "rawType": "int64",
         "type": "integer"
        },
        {
         "name": "cn_SLC22A3",
         "rawType": "int64",
         "type": "integer"
        },
        {
         "name": "cn_DACT2",
         "rawType": "int64",
         "type": "integer"
        },
        {
         "name": "cn_FRMD1",
         "rawType": "int64",
         "type": "integer"
        },
        {
         "name": "cn_AMZ1",
         "rawType": "int64",
         "type": "integer"
        },
        {
         "name": "cn_ITGB8",
         "rawType": "int64",
         "type": "integer"
        },
        {
         "name": "cn_ABCB5",
         "rawType": "int64",
         "type": "integer"
        },
        {
         "name": "cn_DNAH11",
         "rawType": "int64",
         "type": "integer"
        },
        {
         "name": "cn_MGAM",
         "rawType": "int64",
         "type": "integer"
        },
        {
         "name": "cn_PRSS1",
         "rawType": "int64",
         "type": "integer"
        },
        {
         "name": "cn_PIP",
         "rawType": "int64",
         "type": "integer"
        },
        {
         "name": "cn_CNTNAP2",
         "rawType": "int64",
         "type": "integer"
        },
        {
         "name": "cn_KCNH2",
         "rawType": "int64",
         "type": "integer"
        },
        {
         "name": "cn_WDR86",
         "rawType": "int64",
         "type": "integer"
        },
        {
         "name": "cn_DPP6",
         "rawType": "int64",
         "type": "integer"
        },
        {
         "name": "cn_EN2",
         "rawType": "int64",
         "type": "integer"
        },
        {
         "name": "cn_MNX1",
         "rawType": "int64",
         "type": "integer"
        },
        {
         "name": "cn_PTPRN2",
         "rawType": "int64",
         "type": "integer"
        },
        {
         "name": "cn_VIPR2",
         "rawType": "int64",
         "type": "integer"
        },
        {
         "name": "cn_CSMD1",
         "rawType": "int64",
         "type": "integer"
        },
        {
         "name": "cn_DEFB1",
         "rawType": "int64",
         "type": "integer"
        },
        {
         "name": "cn_BLK",
         "rawType": "int64",
         "type": "integer"
        },
        {
         "name": "cn_GATA4",
         "rawType": "int64",
         "type": "integer"
        },
        {
         "name": "cn_SLC7A2",
         "rawType": "int64",
         "type": "integer"
        },
        {
         "name": "cn_FGL1",
         "rawType": "int64",
         "type": "integer"
        },
        {
         "name": "cn_NAT1",
         "rawType": "int64",
         "type": "integer"
        },
        {
         "name": "cn_LPL",
         "rawType": "int64",
         "type": "integer"
        },
        {
         "name": "cn_NPM2",
         "rawType": "int64",
         "type": "integer"
        },
        {
         "name": "cn_HR",
         "rawType": "int64",
         "type": "integer"
        },
        {
         "name": "cn_EGR3",
         "rawType": "int64",
         "type": "integer"
        },
        {
         "name": "cn_PEBP4",
         "rawType": "int64",
         "type": "integer"
        },
        {
         "name": "cn_ADAMDEC1",
         "rawType": "int64",
         "type": "integer"
        },
        {
         "name": "cn_NEFL",
         "rawType": "int64",
         "type": "integer"
        },
        {
         "name": "cn_SCARA5",
         "rawType": "int64",
         "type": "integer"
        },
        {
         "name": "cn_NRG1",
         "rawType": "int64",
         "type": "integer"
        },
        {
         "name": "cn_ADAM32",
         "rawType": "int64",
         "type": "integer"
        },
        {
         "name": "cn_IDO1",
         "rawType": "int64",
         "type": "integer"
        },
        {
         "name": "cn_C8orf4",
         "rawType": "int64",
         "type": "integer"
        },
        {
         "name": "cn_ZMAT4",
         "rawType": "int64",
         "type": "integer"
        },
        {
         "name": "cn_SFRP1",
         "rawType": "int64",
         "type": "integer"
        },
        {
         "name": "cn_ANK1",
         "rawType": "int64",
         "type": "integer"
        },
        {
         "name": "cn_EFCAB1",
         "rawType": "int64",
         "type": "integer"
        },
        {
         "name": "cn_PXDNL",
         "rawType": "int64",
         "type": "integer"
        },
        {
         "name": "cn_OPRK1",
         "rawType": "int64",
         "type": "integer"
        },
        {
         "name": "cn_RP1",
         "rawType": "int64",
         "type": "integer"
        },
        {
         "name": "cn_SDR16C5",
         "rawType": "int64",
         "type": "integer"
        },
        {
         "name": "cn_PENK",
         "rawType": "int64",
         "type": "integer"
        },
        {
         "name": "cn_CA8",
         "rawType": "int64",
         "type": "integer"
        },
        {
         "name": "cn_TRIM55",
         "rawType": "int64",
         "type": "integer"
        },
        {
         "name": "cn_C8orf46",
         "rawType": "int64",
         "type": "integer"
        },
        {
         "name": "cn_CPA6",
         "rawType": "int64",
         "type": "integer"
        },
        {
         "name": "cn_PREX2",
         "rawType": "int64",
         "type": "integer"
        },
        {
         "name": "cn_C8orf34",
         "rawType": "int64",
         "type": "integer"
        },
        {
         "name": "cn_XKR9",
         "rawType": "int64",
         "type": "integer"
        },
        {
         "name": "cn_EYA1",
         "rawType": "int64",
         "type": "integer"
        },
        {
         "name": "cn_TRPA1",
         "rawType": "int64",
         "type": "integer"
        },
        {
         "name": "cn_PI15",
         "rawType": "int64",
         "type": "integer"
        },
        {
         "name": "cn_CRISPLD1",
         "rawType": "int64",
         "type": "integer"
        },
        {
         "name": "cn_HNF4G",
         "rawType": "int64",
         "type": "integer"
        },
        {
         "name": "cn_PKIA",
         "rawType": "int64",
         "type": "integer"
        },
        {
         "name": "cn_FABP4",
         "rawType": "int64",
         "type": "integer"
        },
        {
         "name": "cn_CA3",
         "rawType": "int64",
         "type": "integer"
        },
        {
         "name": "cn_CA2",
         "rawType": "int64",
         "type": "integer"
        },
        {
         "name": "cn_ATP6V0D2",
         "rawType": "int64",
         "type": "integer"
        },
        {
         "name": "cn_MATN2",
         "rawType": "int64",
         "type": "integer"
        },
        {
         "name": "cn_C8orf47",
         "rawType": "int64",
         "type": "integer"
        },
        {
         "name": "cn_RGS22",
         "rawType": "int64",
         "type": "integer"
        },
        {
         "name": "cn_RIMS2",
         "rawType": "int64",
         "type": "integer"
        },
        {
         "name": "cn_PKHD1L1",
         "rawType": "int64",
         "type": "integer"
        },
        {
         "name": "cn_CSMD3",
         "rawType": "int64",
         "type": "integer"
        },
        {
         "name": "cn_SLC30A8",
         "rawType": "int64",
         "type": "integer"
        },
        {
         "name": "cn_TNFRSF11B",
         "rawType": "int64",
         "type": "integer"
        },
        {
         "name": "cn_COL14A1",
         "rawType": "int64",
         "type": "integer"
        },
        {
         "name": "cn_FAM83A",
         "rawType": "int64",
         "type": "integer"
        },
        {
         "name": "cn_GSDMC",
         "rawType": "int64",
         "type": "integer"
        },
        {
         "name": "cn_FAM135B",
         "rawType": "int64",
         "type": "integer"
        },
        {
         "name": "cn_COL22A1",
         "rawType": "int64",
         "type": "integer"
        },
        {
         "name": "cn_BAI1",
         "rawType": "int64",
         "type": "integer"
        },
        {
         "name": "cn_ARC",
         "rawType": "int64",
         "type": "integer"
        },
        {
         "name": "cn_PSCA",
         "rawType": "int64",
         "type": "integer"
        },
        {
         "name": "cn_LY6K",
         "rawType": "int64",
         "type": "integer"
        },
        {
         "name": "cn_SLURP1",
         "rawType": "int64",
         "type": "integer"
        },
        {
         "name": "cn_LY6D",
         "rawType": "int64",
         "type": "integer"
        },
        {
         "name": "cn_GPIHBP1",
         "rawType": "int64",
         "type": "integer"
        },
        {
         "name": "cn_MAPK15",
         "rawType": "int64",
         "type": "integer"
        },
        {
         "name": "cn_GPT",
         "rawType": "int64",
         "type": "integer"
        },
        {
         "name": "cn_SLC1A1",
         "rawType": "int64",
         "type": "integer"
        },
        {
         "name": "cn_RLN2",
         "rawType": "int64",
         "type": "integer"
        },
        {
         "name": "cn_IL33",
         "rawType": "int64",
         "type": "integer"
        },
        {
         "name": "cn_GLDC",
         "rawType": "int64",
         "type": "integer"
        },
        {
         "name": "cn_TYRP1",
         "rawType": "int64",
         "type": "integer"
        },
        {
         "name": "cn_FREM1",
         "rawType": "int64",
         "type": "integer"
        },
        {
         "name": "cn_SH3GL2",
         "rawType": "int64",
         "type": "integer"
        },
        {
         "name": "cn_SLC24A2",
         "rawType": "int64",
         "type": "integer"
        },
        {
         "name": "cn_CDKN2A",
         "rawType": "int64",
         "type": "integer"
        },
        {
         "name": "cn_DMRTA1",
         "rawType": "int64",
         "type": "integer"
        },
        {
         "name": "cn_ELAVL2",
         "rawType": "int64",
         "type": "integer"
        },
        {
         "name": "cn_TMEM215",
         "rawType": "int64",
         "type": "integer"
        },
        {
         "name": "cn_AQP7",
         "rawType": "int64",
         "type": "integer"
        },
        {
         "name": "cn_AQP3",
         "rawType": "int64",
         "type": "integer"
        },
        {
         "name": "cn_PRSS3",
         "rawType": "int64",
         "type": "integer"
        },
        {
         "name": "cn_DNAI1",
         "rawType": "int64",
         "type": "integer"
        },
        {
         "name": "cn_ENHO",
         "rawType": "int64",
         "type": "integer"
        },
        {
         "name": "cn_CNTFR",
         "rawType": "int64",
         "type": "integer"
        },
        {
         "name": "cn_CCL19",
         "rawType": "int64",
         "type": "integer"
        },
        {
         "name": "cn_CCL21",
         "rawType": "int64",
         "type": "integer"
        },
        {
         "name": "cn_KIAA1045",
         "rawType": "int64",
         "type": "integer"
        },
        {
         "name": "cn_CA9",
         "rawType": "int64",
         "type": "integer"
        },
        {
         "name": "cn_HRCT1",
         "rawType": "int64",
         "type": "integer"
        },
        {
         "name": "cn_MELK",
         "rawType": "int64",
         "type": "integer"
        },
        {
         "name": "cn_PAX5",
         "rawType": "int64",
         "type": "integer"
        },
        {
         "name": "cn_CNTNAP3",
         "rawType": "int64",
         "type": "integer"
        },
        {
         "name": "cn_PGM5",
         "rawType": "int64",
         "type": "integer"
        },
        {
         "name": "cn_GPR144",
         "rawType": "int64",
         "type": "integer"
        },
        {
         "name": "cn_LCN2",
         "rawType": "int64",
         "type": "integer"
        },
        {
         "name": "cn_ENTPD8",
         "rawType": "int64",
         "type": "integer"
        },
        {
         "name": "cn_CACNA1B",
         "rawType": "int64",
         "type": "integer"
        },
        {
         "name": "cn_TUBBP5",
         "rawType": "int64",
         "type": "integer"
        },
        {
         "name": "cn_AKR1E2",
         "rawType": "int64",
         "type": "integer"
        },
        {
         "name": "cn_AKR1C1",
         "rawType": "int64",
         "type": "integer"
        },
        {
         "name": "cn_AKR1C2",
         "rawType": "int64",
         "type": "integer"
        },
        {
         "name": "cn_CALML5",
         "rawType": "int64",
         "type": "integer"
        },
        {
         "name": "cn_CALML3",
         "rawType": "int64",
         "type": "integer"
        },
        {
         "name": "cn_ITIH5",
         "rawType": "int64",
         "type": "integer"
        },
        {
         "name": "cn_ITIH2",
         "rawType": "int64",
         "type": "integer"
        },
        {
         "name": "cn_GATA3",
         "rawType": "int64",
         "type": "integer"
        },
        {
         "name": "cn_MCM10",
         "rawType": "int64",
         "type": "integer"
        },
        {
         "name": "cn_BEND7",
         "rawType": "int64",
         "type": "integer"
        },
        {
         "name": "cn_ITGA8",
         "rawType": "int64",
         "type": "integer"
        },
        {
         "name": "cn_ST8SIA6",
         "rawType": "int64",
         "type": "integer"
        },
        {
         "name": "cn_MRC1",
         "rawType": "int64",
         "type": "integer"
        },
        {
         "name": "cn_ARMC3",
         "rawType": "int64",
         "type": "integer"
        },
        {
         "name": "cn_C10orf107",
         "rawType": "int64",
         "type": "integer"
        },
        {
         "name": "cn_SYNPO2L",
         "rawType": "int64",
         "type": "integer"
        },
        {
         "name": "cn_DUSP13",
         "rawType": "int64",
         "type": "integer"
        },
        {
         "name": "cn_PLAC9",
         "rawType": "int64",
         "type": "integer"
        },
        {
         "name": "cn_SFTPA2",
         "rawType": "int64",
         "type": "integer"
        },
        {
         "name": "cn_MAT1A",
         "rawType": "int64",
         "type": "integer"
        },
        {
         "name": "cn_DYDC2",
         "rawType": "int64",
         "type": "integer"
        },
        {
         "name": "cn_C10orf90",
         "rawType": "int64",
         "type": "integer"
        },
        {
         "name": "cn_FAM196A",
         "rawType": "int64",
         "type": "integer"
        },
        {
         "name": "cn_KNDC1",
         "rawType": "int64",
         "type": "integer"
        },
        {
         "name": "cn_SYCE1",
         "rawType": "int64",
         "type": "integer"
        },
        {
         "name": "cn_WT1",
         "rawType": "int64",
         "type": "integer"
        },
        {
         "name": "cn_ELF5",
         "rawType": "int64",
         "type": "integer"
        },
        {
         "name": "cn_EHF",
         "rawType": "int64",
         "type": "integer"
        },
        {
         "name": "cn_SLC1A2",
         "rawType": "int64",
         "type": "integer"
        },
        {
         "name": "cn_LRRC4C",
         "rawType": "int64",
         "type": "integer"
        },
        {
         "name": "cn_CTSW",
         "rawType": "int64",
         "type": "integer"
        },
        {
         "name": "cn_SPDYC",
         "rawType": "int64",
         "type": "integer"
        },
        {
         "name": "cn_ZNHIT2",
         "rawType": "int64",
         "type": "integer"
        },
        {
         "name": "cn_SYT12",
         "rawType": "int64",
         "type": "integer"
        },
        {
         "name": "cn_ACY3",
         "rawType": "int64",
         "type": "integer"
        },
        {
         "name": "cn_ALDH3B2",
         "rawType": "int64",
         "type": "integer"
        },
        {
         "name": "cn_GAL",
         "rawType": "int64",
         "type": "integer"
        },
        {
         "name": "cn_MYEOV",
         "rawType": "int64",
         "type": "integer"
        },
        {
         "name": "cn_FOLR1",
         "rawType": "int64",
         "type": "integer"
        },
        {
         "name": "cn_PLEKHB1",
         "rawType": "int64",
         "type": "integer"
        },
        {
         "name": "cn_CHRDL2",
         "rawType": "int64",
         "type": "integer"
        },
        {
         "name": "cn_MOGAT2",
         "rawType": "int64",
         "type": "integer"
        },
        {
         "name": "cn_DGAT2",
         "rawType": "int64",
         "type": "integer"
        },
        {
         "name": "cn_WNT11",
         "rawType": "int64",
         "type": "integer"
        },
        {
         "name": "cn_KCTD14",
         "rawType": "int64",
         "type": "integer"
        },
        {
         "name": "cn_THRSP",
         "rawType": "int64",
         "type": "integer"
        },
        {
         "name": "cn_FAM181B",
         "rawType": "int64",
         "type": "integer"
        },
        {
         "name": "cn_PGR",
         "rawType": "int64",
         "type": "integer"
        },
        {
         "name": "cn_MMP7",
         "rawType": "int64",
         "type": "integer"
        },
        {
         "name": "cn_MMP10",
         "rawType": "int64",
         "type": "integer"
        },
        {
         "name": "cn_MMP1",
         "rawType": "int64",
         "type": "integer"
        },
        {
         "name": "cn_MMP3",
         "rawType": "int64",
         "type": "integer"
        },
        {
         "name": "cn_MMP12",
         "rawType": "int64",
         "type": "integer"
        },
        {
         "name": "cn_MMP13",
         "rawType": "int64",
         "type": "integer"
        },
        {
         "name": "cn_GRIA4",
         "rawType": "int64",
         "type": "integer"
        },
        {
         "name": "cn_C11orf92",
         "rawType": "int64",
         "type": "integer"
        },
        {
         "name": "cn_POU2AF1",
         "rawType": "int64",
         "type": "integer"
        },
        {
         "name": "cn_CRYAB",
         "rawType": "int64",
         "type": "integer"
        },
        {
         "name": "cn_NCAM1",
         "rawType": "int64",
         "type": "integer"
        },
        {
         "name": "cn_DRD2",
         "rawType": "int64",
         "type": "integer"
        },
        {
         "name": "cn_ZBTB16",
         "rawType": "int64",
         "type": "integer"
        },
        {
         "name": "cn_DSCAML1",
         "rawType": "int64",
         "type": "integer"
        },
        {
         "name": "cn_TMPRSS4",
         "rawType": "int64",
         "type": "integer"
        },
        {
         "name": "cn_SCN2B",
         "rawType": "int64",
         "type": "integer"
        },
        {
         "name": "cn_CD3E",
         "rawType": "int64",
         "type": "integer"
        },
        {
         "name": "cn_CD3D",
         "rawType": "int64",
         "type": "integer"
        },
        {
         "name": "cn_CD3G",
         "rawType": "int64",
         "type": "integer"
        },
        {
         "name": "cn_TTC36",
         "rawType": "int64",
         "type": "integer"
        },
        {
         "name": "cn_CXCR5",
         "rawType": "int64",
         "type": "integer"
        },
        {
         "name": "cn_TRIM29",
         "rawType": "int64",
         "type": "integer"
        },
        {
         "name": "cn_GRIK4",
         "rawType": "int64",
         "type": "integer"
        },
        {
         "name": "cn_VSIG2",
         "rawType": "int64",
         "type": "integer"
        },
        {
         "name": "cn_HEPACAM",
         "rawType": "int64",
         "type": "integer"
        },
        {
         "name": "cn_HEPN1",
         "rawType": "int64",
         "type": "integer"
        },
        {
         "name": "cn_PKNOX2",
         "rawType": "int64",
         "type": "integer"
        },
        {
         "name": "cn_BARX2",
         "rawType": "int64",
         "type": "integer"
        },
        {
         "name": "cn_TMEM45B",
         "rawType": "int64",
         "type": "integer"
        },
        {
         "name": "cn_ADAMTS8",
         "rawType": "int64",
         "type": "integer"
        },
        {
         "name": "cn_ADAMTS15",
         "rawType": "int64",
         "type": "integer"
        },
        {
         "name": "cn_IGSF9B",
         "rawType": "int64",
         "type": "integer"
        },
        {
         "name": "cn_B3GAT1",
         "rawType": "int64",
         "type": "integer"
        },
        {
         "name": "cn_GLB1L2",
         "rawType": "int64",
         "type": "integer"
        },
        {
         "name": "cn_B4GALNT3",
         "rawType": "int64",
         "type": "integer"
        },
        {
         "name": "cn_LRTM2",
         "rawType": "int64",
         "type": "integer"
        },
        {
         "name": "cn_KCNA1",
         "rawType": "int64",
         "type": "integer"
        },
        {
         "name": "cn_NTF3",
         "rawType": "int64",
         "type": "integer"
        },
        {
         "name": "cn_SCNN1A",
         "rawType": "int64",
         "type": "integer"
        },
        {
         "name": "cn_CLEC4E",
         "rawType": "int64",
         "type": "integer"
        },
        {
         "name": "cn_A2ML1",
         "rawType": "int64",
         "type": "integer"
        },
        {
         "name": "cn_KLRB1",
         "rawType": "int64",
         "type": "integer"
        },
        {
         "name": "cn_BCL2L14",
         "rawType": "int64",
         "type": "integer"
        },
        {
         "name": "cn_MGP",
         "rawType": "int64",
         "type": "integer"
        },
        {
         "name": "cn_ERP27",
         "rawType": "int64",
         "type": "integer"
        },
        {
         "name": "cn_LMO3",
         "rawType": "int64",
         "type": "integer"
        },
        {
         "name": "cn_RERGL",
         "rawType": "int64",
         "type": "integer"
        },
        {
         "name": "cn_SLCO1A2",
         "rawType": "int64",
         "type": "integer"
        },
        {
         "name": "cn_C12orf39",
         "rawType": "int64",
         "type": "integer"
        },
        {
         "name": "cn_TUBA3C",
         "rawType": "int64",
         "type": "integer"
        },
        {
         "name": "cn_GJB2",
         "rawType": "int64",
         "type": "integer"
        },
        {
         "name": "cn_GJB6",
         "rawType": "int64",
         "type": "integer"
        },
        {
         "name": "cn_FGF9",
         "rawType": "int64",
         "type": "integer"
        },
        {
         "name": "cn_SGCG",
         "rawType": "int64",
         "type": "integer"
        },
        {
         "name": "cn_ATP8A2",
         "rawType": "int64",
         "type": "integer"
        },
        {
         "name": "cn_SHISA2",
         "rawType": "int64",
         "type": "integer"
        },
        {
         "name": "cn_GPR12",
         "rawType": "int64",
         "type": "integer"
        },
        {
         "name": "cn_FLT3",
         "rawType": "int64",
         "type": "integer"
        },
        {
         "name": "cn_DCLK1",
         "rawType": "int64",
         "type": "integer"
        },
        {
         "name": "cn_FREM2",
         "rawType": "int64",
         "type": "integer"
        },
        {
         "name": "cn_PCDH20",
         "rawType": "int64",
         "type": "integer"
        },
        {
         "name": "cn_PCDH9",
         "rawType": "int64",
         "type": "integer"
        },
        {
         "name": "cn_KLHL1",
         "rawType": "int64",
         "type": "integer"
        },
        {
         "name": "cn_DACH1",
         "rawType": "int64",
         "type": "integer"
        },
        {
         "name": "cn_SCEL",
         "rawType": "int64",
         "type": "integer"
        },
        {
         "name": "cn_SLAIN1",
         "rawType": "int64",
         "type": "integer"
        },
        {
         "name": "cn_POU4F1",
         "rawType": "int64",
         "type": "integer"
        },
        {
         "name": "cn_SLITRK1",
         "rawType": "int64",
         "type": "integer"
        },
        {
         "name": "cn_SLITRK6",
         "rawType": "int64",
         "type": "integer"
        },
        {
         "name": "cn_SLITRK5",
         "rawType": "int64",
         "type": "integer"
        },
        {
         "name": "cn_CLDN10",
         "rawType": "int64",
         "type": "integer"
        },
        {
         "name": "cn_HS6ST3",
         "rawType": "int64",
         "type": "integer"
        },
        {
         "name": "cn_OXGR1",
         "rawType": "int64",
         "type": "integer"
        },
        {
         "name": "cn_SLC15A1",
         "rawType": "int64",
         "type": "integer"
        },
        {
         "name": "cn_ZIC5",
         "rawType": "int64",
         "type": "integer"
        },
        {
         "name": "cn_ZIC2",
         "rawType": "int64",
         "type": "integer"
        },
        {
         "name": "cn_FAM155A",
         "rawType": "int64",
         "type": "integer"
        },
        {
         "name": "cn_F7",
         "rawType": "int64",
         "type": "integer"
        },
        {
         "name": "cn_DHRS2",
         "rawType": "int64",
         "type": "integer"
        },
        {
         "name": "cn_NOVA1",
         "rawType": "int64",
         "type": "integer"
        },
        {
         "name": "cn_COCH",
         "rawType": "int64",
         "type": "integer"
        },
        {
         "name": "cn_PAX9",
         "rawType": "int64",
         "type": "integer"
        },
        {
         "name": "cn_FOXA1",
         "rawType": "int64",
         "type": "integer"
        },
        {
         "name": "cn_SSTR1",
         "rawType": "int64",
         "type": "integer"
        },
        {
         "name": "cn_ABHD12B",
         "rawType": "int64",
         "type": "integer"
        },
        {
         "name": "cn_PRIMA1",
         "rawType": "int64",
         "type": "integer"
        },
        {
         "name": "cn_IFI27",
         "rawType": "int64",
         "type": "integer"
        },
        {
         "name": "cn_PPP4R4",
         "rawType": "int64",
         "type": "integer"
        },
        {
         "name": "cn_SERPINA6",
         "rawType": "int64",
         "type": "integer"
        },
        {
         "name": "cn_SERPINA1",
         "rawType": "int64",
         "type": "integer"
        },
        {
         "name": "cn_SERPINA11",
         "rawType": "int64",
         "type": "integer"
        },
        {
         "name": "cn_SERPINA5",
         "rawType": "int64",
         "type": "integer"
        },
        {
         "name": "cn_SERPINA3",
         "rawType": "int64",
         "type": "integer"
        },
        {
         "name": "cn_TCL1B",
         "rawType": "int64",
         "type": "integer"
        },
        {
         "name": "cn_TCL1A",
         "rawType": "int64",
         "type": "integer"
        },
        {
         "name": "cn_DEGS2",
         "rawType": "int64",
         "type": "integer"
        },
        {
         "name": "cn_DLK1",
         "rawType": "int64",
         "type": "integer"
        },
        {
         "name": "cn_DIO3",
         "rawType": "int64",
         "type": "integer"
        },
        {
         "name": "cn_TDRD9",
         "rawType": "int64",
         "type": "integer"
        },
        {
         "name": "cn_C14orf180",
         "rawType": "int64",
         "type": "integer"
        },
        {
         "name": "cn_PLD4",
         "rawType": "int64",
         "type": "integer"
        },
        {
         "name": "cn_CRIP1",
         "rawType": "int64",
         "type": "integer"
        },
        {
         "name": "cn_ADAM6",
         "rawType": "int64",
         "type": "integer"
        },
        {
         "name": "cn_KIAA0125",
         "rawType": "int64",
         "type": "integer"
        },
        {
         "name": "cn_THSD4",
         "rawType": "int64",
         "type": "integer"
        },
        {
         "name": "cn_GRAMD2",
         "rawType": "int64",
         "type": "integer"
        },
        {
         "name": "cn_C15orf59",
         "rawType": "int64",
         "type": "integer"
        },
        {
         "name": "cn_CRABP1",
         "rawType": "int64",
         "type": "integer"
        },
        {
         "name": "cn_RASGRF1",
         "rawType": "int64",
         "type": "integer"
        },
        {
         "name": "cn_KIAA1199",
         "rawType": "int64",
         "type": "integer"
        },
        {
         "name": "cn_TMC3",
         "rawType": "int64",
         "type": "integer"
        },
        {
         "name": "cn_AP3B2",
         "rawType": "int64",
         "type": "integer"
        },
        {
         "name": "cn_BNC1",
         "rawType": "int64",
         "type": "integer"
        },
        {
         "name": "cn_NTRK3",
         "rawType": "int64",
         "type": "integer"
        },
        {
         "name": "cn_ACAN",
         "rawType": "int64",
         "type": "integer"
        },
        {
         "name": "cn_RHCG",
         "rawType": "int64",
         "type": "integer"
        },
        {
         "name": "cn_PLIN1",
         "rawType": "int64",
         "type": "integer"
        },
        {
         "name": "cn_MESP1",
         "rawType": "int64",
         "type": "integer"
        },
        {
         "name": "cn_ANPEP",
         "rawType": "int64",
         "type": "integer"
        },
        {
         "name": "cn_ST8SIA2",
         "rawType": "int64",
         "type": "integer"
        },
        {
         "name": "cn_RGMA",
         "rawType": "int64",
         "type": "integer"
        },
        {
         "name": "cn_SYNM",
         "rawType": "int64",
         "type": "integer"
        },
        {
         "name": "cn_ARHGDIG",
         "rawType": "int64",
         "type": "integer"
        },
        {
         "name": "cn_HBA1",
         "rawType": "int64",
         "type": "integer"
        },
        {
         "name": "cn_HBA2",
         "rawType": "int64",
         "type": "integer"
        },
        {
         "name": "cn_RGS11",
         "rawType": "int64",
         "type": "integer"
        },
        {
         "name": "cn_FBXL16",
         "rawType": "int64",
         "type": "integer"
        },
        {
         "name": "cn_METRN",
         "rawType": "int64",
         "type": "integer"
        },
        {
         "name": "cn_CCDC78",
         "rawType": "int64",
         "type": "integer"
        },
        {
         "name": "cn_HAGHL",
         "rawType": "int64",
         "type": "integer"
        },
        {
         "name": "cn_GNG13",
         "rawType": "int64",
         "type": "integer"
        },
        {
         "name": "cn_MSLN",
         "rawType": "int64",
         "type": "integer"
        },
        {
         "name": "cn_SOX8",
         "rawType": "int64",
         "type": "integer"
        },
        {
         "name": "cn_CACNA1H",
         "rawType": "int64",
         "type": "integer"
        },
        {
         "name": "cn_TPSAB1",
         "rawType": "int64",
         "type": "integer"
        },
        {
         "name": "cn_TPSB2",
         "rawType": "int64",
         "type": "integer"
        },
        {
         "name": "cn_TPSD1",
         "rawType": "int64",
         "type": "integer"
        },
        {
         "name": "cn_TPSG1",
         "rawType": "int64",
         "type": "integer"
        },
        {
         "name": "cn_BAIAP3",
         "rawType": "int64",
         "type": "integer"
        },
        {
         "name": "cn_IGFALS",
         "rawType": "int64",
         "type": "integer"
        },
        {
         "name": "cn_NPW",
         "rawType": "int64",
         "type": "integer"
        },
        {
         "name": "cn_RAB26",
         "rawType": "int64",
         "type": "integer"
        },
        {
         "name": "cn_PRSS33",
         "rawType": "int64",
         "type": "integer"
        },
        {
         "name": "cn_PRSS21",
         "rawType": "int64",
         "type": "integer"
        },
        {
         "name": "cn_ZG16B",
         "rawType": "int64",
         "type": "integer"
        },
        {
         "name": "cn_KREMEN2",
         "rawType": "int64",
         "type": "integer"
        },
        {
         "name": "cn_PKMYT1",
         "rawType": "int64",
         "type": "integer"
        },
        {
         "name": "cn_CLDN6",
         "rawType": "int64",
         "type": "integer"
        },
        {
         "name": "cn_C16orf89",
         "rawType": "int64",
         "type": "integer"
        },
        {
         "name": "cn_ABAT",
         "rawType": "int64",
         "type": "integer"
        },
        {
         "name": "cn_GRIN2A",
         "rawType": "int64",
         "type": "integer"
        },
        {
         "name": "cn_TNFRSF17",
         "rawType": "int64",
         "type": "integer"
        },
        {
         "name": "cn_SHISA9",
         "rawType": "int64",
         "type": "integer"
        },
        {
         "name": "cn_ABCC6",
         "rawType": "int64",
         "type": "integer"
        },
        {
         "name": "cn_MPV17L",
         "rawType": "int64",
         "type": "integer"
        },
        {
         "name": "cn_MYH11",
         "rawType": "int64",
         "type": "integer"
        },
        {
         "name": "cn_PLA2G10",
         "rawType": "int64",
         "type": "integer"
        },
        {
         "name": "cn_SYT17",
         "rawType": "int64",
         "type": "integer"
        },
        {
         "name": "cn_TMC5",
         "rawType": "int64",
         "type": "integer"
        },
        {
         "name": "cn_GP2",
         "rawType": "int64",
         "type": "integer"
        },
        {
         "name": "cn_ACSM5",
         "rawType": "int64",
         "type": "integer"
        },
        {
         "name": "cn_ACSM1",
         "rawType": "int64",
         "type": "integer"
        },
        {
         "name": "cn_DNAH3",
         "rawType": "int64",
         "type": "integer"
        },
        {
         "name": "cn_CRYM",
         "rawType": "int64",
         "type": "integer"
        },
        {
         "name": "cn_SCNN1G",
         "rawType": "int64",
         "type": "integer"
        },
        {
         "name": "cn_SCNN1B",
         "rawType": "int64",
         "type": "integer"
        },
        {
         "name": "cn_HS3ST4",
         "rawType": "int64",
         "type": "integer"
        },
        {
         "name": "cn_CD19",
         "rawType": "int64",
         "type": "integer"
        },
        {
         "name": "cn_ASPHD1",
         "rawType": "int64",
         "type": "integer"
        },
        {
         "name": "cn_DOC2A",
         "rawType": "int64",
         "type": "integer"
        },
        {
         "name": "cn_FAM57B",
         "rawType": "int64",
         "type": "integer"
        },
        {
         "name": "cn_SEZ6L2",
         "rawType": "int64",
         "type": "integer"
        },
        {
         "name": "cn_PYDC1",
         "rawType": "int64",
         "type": "integer"
        },
        {
         "name": "cn_ABCC12",
         "rawType": "int64",
         "type": "integer"
        },
        {
         "name": "cn_ABCC11",
         "rawType": "int64",
         "type": "integer"
        },
        {
         "name": "cn_CBLN1",
         "rawType": "int64",
         "type": "integer"
        },
        {
         "name": "cn_TOX3",
         "rawType": "int64",
         "type": "integer"
        },
        {
         "name": "cn_IRX6",
         "rawType": "int64",
         "type": "integer"
        },
        {
         "name": "cn_SLC6A2",
         "rawType": "int64",
         "type": "integer"
        },
        {
         "name": "cn_CES1",
         "rawType": "int64",
         "type": "integer"
        },
        {
         "name": "cn_MT1M",
         "rawType": "int64",
         "type": "integer"
        },
        {
         "name": "cn_MT1A",
         "rawType": "int64",
         "type": "integer"
        },
        {
         "name": "cn_MT1G",
         "rawType": "int64",
         "type": "integer"
        },
        {
         "name": "cn_CCL17",
         "rawType": "int64",
         "type": "integer"
        },
        {
         "name": "cn_RRAD",
         "rawType": "int64",
         "type": "integer"
        },
        {
         "name": "cn_CES3",
         "rawType": "int64",
         "type": "integer"
        },
        {
         "name": "cn_RLTPR",
         "rawType": "int64",
         "type": "integer"
        },
        {
         "name": "cn_CDH3",
         "rawType": "int64",
         "type": "integer"
        },
        {
         "name": "cn_CDH1",
         "rawType": "int64",
         "type": "integer"
        },
        {
         "name": "cn_HAS3",
         "rawType": "int64",
         "type": "integer"
        },
        {
         "name": "cn_IL34",
         "rawType": "int64",
         "type": "integer"
        },
        {
         "name": "cn_CALB2",
         "rawType": "int64",
         "type": "integer"
        },
        {
         "name": "cn_CHST4",
         "rawType": "int64",
         "type": "integer"
        },
        {
         "name": "cn_TAT",
         "rawType": "int64",
         "type": "integer"
        },
        {
         "name": "cn_HP",
         "rawType": "int64",
         "type": "integer"
        },
        {
         "name": "cn_SYCE1L",
         "rawType": "int64",
         "type": "integer"
        },
        {
         "name": "cn_ADAMTS18",
         "rawType": "int64",
         "type": "integer"
        },
        {
         "name": "cn_CLEC3A",
         "rawType": "int64",
         "type": "integer"
        },
        {
         "name": "cn_PKD1L2",
         "rawType": "int64",
         "type": "integer"
        },
        {
         "name": "cn_SDR42E1",
         "rawType": "int64",
         "type": "integer"
        },
        {
         "name": "cn_HSD17B2",
         "rawType": "int64",
         "type": "integer"
        },
        {
         "name": "cn_CPNE7",
         "rawType": "int64",
         "type": "integer"
        },
        {
         "name": "cn_DPEP1",
         "rawType": "int64",
         "type": "integer"
        },
        {
         "name": "cn_TUBB3",
         "rawType": "int64",
         "type": "integer"
        },
        {
         "name": "cn_CCDC144B",
         "rawType": "int64",
         "type": "integer"
        },
        {
         "name": "cn_MFAP4",
         "rawType": "int64",
         "type": "integer"
        },
        {
         "name": "cn_ALDH3A1",
         "rawType": "int64",
         "type": "integer"
        },
        {
         "name": "cn_SLC13A2",
         "rawType": "int64",
         "type": "integer"
        },
        {
         "name": "cn_CORO6",
         "rawType": "int64",
         "type": "integer"
        },
        {
         "name": "cn_SLC6A4",
         "rawType": "int64",
         "type": "integer"
        },
        {
         "name": "cn_RHBDL3",
         "rawType": "int64",
         "type": "integer"
        },
        {
         "name": "cn_CCL11",
         "rawType": "int64",
         "type": "integer"
        },
        {
         "name": "cn_CCL13",
         "rawType": "int64",
         "type": "integer"
        },
        {
         "name": "cn_CCL7",
         "rawType": "int64",
         "type": "integer"
        },
        {
         "name": "cn_CCL8",
         "rawType": "int64",
         "type": "integer"
        },
        {
         "name": "cn_GAS2L2",
         "rawType": "int64",
         "type": "integer"
        },
        {
         "name": "cn_CCL14",
         "rawType": "int64",
         "type": "integer"
        },
        {
         "name": "cn_CCL18",
         "rawType": "int64",
         "type": "integer"
        },
        {
         "name": "cn_TBC1D3C",
         "rawType": "int64",
         "type": "integer"
        },
        {
         "name": "cn_TBC1D3G",
         "rawType": "int64",
         "type": "integer"
        },
        {
         "name": "cn_STAC2",
         "rawType": "int64",
         "type": "integer"
        },
        {
         "name": "cn_PPP1R1B",
         "rawType": "int64",
         "type": "integer"
        },
        {
         "name": "cn_PNMT",
         "rawType": "int64",
         "type": "integer"
        },
        {
         "name": "cn_IKZF3",
         "rawType": "int64",
         "type": "integer"
        },
        {
         "name": "cn_TOP2A",
         "rawType": "int64",
         "type": "integer"
        },
        {
         "name": "cn_TNS4",
         "rawType": "int64",
         "type": "integer"
        },
        {
         "name": "cn_CCR7",
         "rawType": "int64",
         "type": "integer"
        },
        {
         "name": "cn_KRT23",
         "rawType": "int64",
         "type": "integer"
        },
        {
         "name": "cn_KRT31",
         "rawType": "int64",
         "type": "integer"
        },
        {
         "name": "cn_KRT13",
         "rawType": "int64",
         "type": "integer"
        },
        {
         "name": "cn_KRT15",
         "rawType": "int64",
         "type": "integer"
        },
        {
         "name": "cn_KRT14",
         "rawType": "int64",
         "type": "integer"
        },
        {
         "name": "cn_KRT16",
         "rawType": "int64",
         "type": "integer"
        },
        {
         "name": "cn_KRT17",
         "rawType": "int64",
         "type": "integer"
        },
        {
         "name": "cn_HAP1",
         "rawType": "int64",
         "type": "integer"
        },
        {
         "name": "cn_WNK4",
         "rawType": "int64",
         "type": "integer"
        },
        {
         "name": "cn_RND2",
         "rawType": "int64",
         "type": "integer"
        },
        {
         "name": "cn_ETV4",
         "rawType": "int64",
         "type": "integer"
        },
        {
         "name": "cn_MEOX1",
         "rawType": "int64",
         "type": "integer"
        },
        {
         "name": "cn_CD300LG",
         "rawType": "int64",
         "type": "integer"
        },
        {
         "name": "cn_PYY",
         "rawType": "int64",
         "type": "integer"
        },
        {
         "name": "cn_RUNDC3A",
         "rawType": "int64",
         "type": "integer"
        },
        {
         "name": "cn_GFAP",
         "rawType": "int64",
         "type": "integer"
        },
        {
         "name": "cn_KIF18B",
         "rawType": "int64",
         "type": "integer"
        },
        {
         "name": "cn_CRHR1",
         "rawType": "int64",
         "type": "integer"
        },
        {
         "name": "cn_MAPT",
         "rawType": "int64",
         "type": "integer"
        },
        {
         "name": "cn_HOXB2",
         "rawType": "int64",
         "type": "integer"
        },
        {
         "name": "cn_HOXB5",
         "rawType": "int64",
         "type": "integer"
        },
        {
         "name": "cn_HOXB6",
         "rawType": "int64",
         "type": "integer"
        },
        {
         "name": "cn_HOXB13",
         "rawType": "int64",
         "type": "integer"
        },
        {
         "name": "cn_B4GALNT2",
         "rawType": "int64",
         "type": "integer"
        },
        {
         "name": "cn_NGFR",
         "rawType": "int64",
         "type": "integer"
        },
        {
         "name": "cn_DLX3",
         "rawType": "int64",
         "type": "integer"
        },
        {
         "name": "cn_CHAD",
         "rawType": "int64",
         "type": "integer"
        },
        {
         "name": "cn_HLF",
         "rawType": "int64",
         "type": "integer"
        },
        {
         "name": "cn_TMEM100",
         "rawType": "int64",
         "type": "integer"
        },
        {
         "name": "cn_TEX14",
         "rawType": "int64",
         "type": "integer"
        },
        {
         "name": "cn_PPM1E",
         "rawType": "int64",
         "type": "integer"
        },
        {
         "name": "cn_PRR11",
         "rawType": "int64",
         "type": "integer"
        },
        {
         "name": "cn_CA4",
         "rawType": "int64",
         "type": "integer"
        },
        {
         "name": "cn_TCAM1P",
         "rawType": "int64",
         "type": "integer"
        },
        {
         "name": "cn_SCN4A",
         "rawType": "int64",
         "type": "integer"
        },
        {
         "name": "cn_RGS9",
         "rawType": "int64",
         "type": "integer"
        },
        {
         "name": "cn_CACNG4",
         "rawType": "int64",
         "type": "integer"
        },
        {
         "name": "cn_CACNG1",
         "rawType": "int64",
         "type": "integer"
        },
        {
         "name": "cn_SLC16A6",
         "rawType": "int64",
         "type": "integer"
        },
        {
         "name": "cn_ABCA8",
         "rawType": "int64",
         "type": "integer"
        },
        {
         "name": "cn_ABCA9",
         "rawType": "int64",
         "type": "integer"
        },
        {
         "name": "cn_ABCA6",
         "rawType": "int64",
         "type": "integer"
        },
        {
         "name": "cn_ABCA10",
         "rawType": "int64",
         "type": "integer"
        },
        {
         "name": "cn_KCNJ16",
         "rawType": "int64",
         "type": "integer"
        },
        {
         "name": "cn_SSTR2",
         "rawType": "int64",
         "type": "integer"
        },
        {
         "name": "cn_SDK2",
         "rawType": "int64",
         "type": "integer"
        },
        {
         "name": "cn_KIF19",
         "rawType": "int64",
         "type": "integer"
        },
        {
         "name": "cn_FOXJ1",
         "rawType": "int64",
         "type": "integer"
        },
        {
         "name": "cn_ST6GALNAC1",
         "rawType": "int64",
         "type": "integer"
        },
        {
         "name": "cn_MGAT5B",
         "rawType": "int64",
         "type": "integer"
        },
        {
         "name": "cn_BIRC5",
         "rawType": "int64",
         "type": "integer"
        },
        {
         "name": "cn_CBX2",
         "rawType": "int64",
         "type": "integer"
        },
        {
         "name": "cn_NPTX1",
         "rawType": "int64",
         "type": "integer"
        },
        {
         "name": "cn_NOTUM",
         "rawType": "int64",
         "type": "integer"
        },
        {
         "name": "cn_CLUL1",
         "rawType": "int64",
         "type": "integer"
        },
        {
         "name": "cn_ADCYAP1",
         "rawType": "int64",
         "type": "integer"
        },
        {
         "name": "cn_MYOM1",
         "rawType": "int64",
         "type": "integer"
        },
        {
         "name": "cn_DLGAP1",
         "rawType": "int64",
         "type": "integer"
        },
        {
         "name": "cn_LAMA1",
         "rawType": "int64",
         "type": "integer"
        },
        {
         "name": "cn_CIDEA",
         "rawType": "int64",
         "type": "integer"
        },
        {
         "name": "cn_CXADRP3",
         "rawType": "int64",
         "type": "integer"
        },
        {
         "name": "cn_ANKRD30B",
         "rawType": "int64",
         "type": "integer"
        },
        {
         "name": "cn_GREB1L",
         "rawType": "int64",
         "type": "integer"
        },
        {
         "name": "cn_LAMA3",
         "rawType": "int64",
         "type": "integer"
        },
        {
         "name": "cn_AQP4",
         "rawType": "int64",
         "type": "integer"
        },
        {
         "name": "cn_CHST9",
         "rawType": "int64",
         "type": "integer"
        },
        {
         "name": "cn_CDH2",
         "rawType": "int64",
         "type": "integer"
        },
        {
         "name": "cn_DSC3",
         "rawType": "int64",
         "type": "integer"
        },
        {
         "name": "cn_DSC1",
         "rawType": "int64",
         "type": "integer"
        },
        {
         "name": "cn_DSG1",
         "rawType": "int64",
         "type": "integer"
        },
        {
         "name": "cn_DSG3",
         "rawType": "int64",
         "type": "integer"
        },
        {
         "name": "cn_NOL4",
         "rawType": "int64",
         "type": "integer"
        },
        {
         "name": "cn_SLC39A6",
         "rawType": "int64",
         "type": "integer"
        },
        {
         "name": "cn_SLC14A2",
         "rawType": "int64",
         "type": "integer"
        },
        {
         "name": "cn_SIGLEC15",
         "rawType": "int64",
         "type": "integer"
        },
        {
         "name": "cn_MAPK4",
         "rawType": "int64",
         "type": "integer"
        },
        {
         "name": "cn_CCDC68",
         "rawType": "int64",
         "type": "integer"
        },
        {
         "name": "cn_ONECUT2",
         "rawType": "int64",
         "type": "integer"
        },
        {
         "name": "cn_GRP",
         "rawType": "int64",
         "type": "integer"
        },
        {
         "name": "cn_SERPINB5",
         "rawType": "int64",
         "type": "integer"
        },
        {
         "name": "cn_SERPINB3",
         "rawType": "int64",
         "type": "integer"
        },
        {
         "name": "cn_SERPINB7",
         "rawType": "int64",
         "type": "integer"
        },
        {
         "name": "cn_SERPINB2",
         "rawType": "int64",
         "type": "integer"
        },
        {
         "name": "cn_CDH7",
         "rawType": "int64",
         "type": "integer"
        },
        {
         "name": "cn_CDH19",
         "rawType": "int64",
         "type": "integer"
        },
        {
         "name": "cn_CBLN2",
         "rawType": "int64",
         "type": "integer"
        },
        {
         "name": "cn_NETO1",
         "rawType": "int64",
         "type": "integer"
        },
        {
         "name": "cn_GZMM",
         "rawType": "int64",
         "type": "integer"
        },
        {
         "name": "cn_HCN2",
         "rawType": "int64",
         "type": "integer"
        },
        {
         "name": "cn_AZU1",
         "rawType": "int64",
         "type": "integer"
        },
        {
         "name": "cn_LPPR3",
         "rawType": "int64",
         "type": "integer"
        },
        {
         "name": "cn_CFD",
         "rawType": "int64",
         "type": "integer"
        },
        {
         "name": "cn_KISS1R",
         "rawType": "int64",
         "type": "integer"
        },
        {
         "name": "cn_CELF5",
         "rawType": "int64",
         "type": "integer"
        },
        {
         "name": "cn_ZFR2",
         "rawType": "int64",
         "type": "integer"
        },
        {
         "name": "cn_LRG1",
         "rawType": "int64",
         "type": "integer"
        },
        {
         "name": "cn_PLIN4",
         "rawType": "int64",
         "type": "integer"
        },
        {
         "name": "cn_PLIN5",
         "rawType": "int64",
         "type": "integer"
        },
        {
         "name": "cn_FUT3",
         "rawType": "int64",
         "type": "integer"
        },
        {
         "name": "cn_FUT6",
         "rawType": "int64",
         "type": "integer"
        },
        {
         "name": "cn_CAPS",
         "rawType": "int64",
         "type": "integer"
        },
        {
         "name": "cn_PCP2",
         "rawType": "int64",
         "type": "integer"
        },
        {
         "name": "cn_FCER2",
         "rawType": "int64",
         "type": "integer"
        },
        {
         "name": "cn_FBN3",
         "rawType": "int64",
         "type": "integer"
        },
        {
         "name": "cn_MUC16",
         "rawType": "int64",
         "type": "integer"
        },
        {
         "name": "cn_P2RY11",
         "rawType": "int64",
         "type": "integer"
        },
        {
         "name": "cn_ICAM5",
         "rawType": "int64",
         "type": "integer"
        },
        {
         "name": "cn_MAST1",
         "rawType": "int64",
         "type": "integer"
        },
        {
         "name": "cn_PALM3",
         "rawType": "int64",
         "type": "integer"
        },
        {
         "name": "cn_SLC1A6",
         "rawType": "int64",
         "type": "integer"
        },
        {
         "name": "cn_CASP14",
         "rawType": "int64",
         "type": "integer"
        },
        {
         "name": "cn_PGLYRP2",
         "rawType": "int64",
         "type": "integer"
        },
        {
         "name": "cn_CYP4F22",
         "rawType": "int64",
         "type": "integer"
        },
        {
         "name": "cn_CYP4F8",
         "rawType": "int64",
         "type": "integer"
        },
        {
         "name": "cn_CYP4F3",
         "rawType": "int64",
         "type": "integer"
        },
        {
         "name": "cn_CYP4F12",
         "rawType": "int64",
         "type": "integer"
        },
        {
         "name": "cn_UCA1",
         "rawType": "int64",
         "type": "integer"
        },
        {
         "name": "cn_CYP4F11",
         "rawType": "int64",
         "type": "integer"
        },
        {
         "name": "cn_NWD1",
         "rawType": "int64",
         "type": "integer"
        },
        {
         "name": "cn_CPAMD8",
         "rawType": "int64",
         "type": "integer"
        },
        {
         "name": "cn_B3GNT3",
         "rawType": "int64",
         "type": "integer"
        },
        {
         "name": "cn_TDRD12",
         "rawType": "int64",
         "type": "integer"
        },
        {
         "name": "cn_SLC7A10",
         "rawType": "int64",
         "type": "integer"
        },
        {
         "name": "cn_CHST8",
         "rawType": "int64",
         "type": "integer"
        },
        {
         "name": "cn_HPN",
         "rawType": "int64",
         "type": "integer"
        },
        {
         "name": "cn_FXYD1",
         "rawType": "int64",
         "type": "integer"
        },
        {
         "name": "cn_MAG",
         "rawType": "int64",
         "type": "integer"
        },
        {
         "name": "cn_FFAR2",
         "rawType": "int64",
         "type": "integer"
        },
        {
         "name": "cn_DMKN",
         "rawType": "int64",
         "type": "integer"
        },
        {
         "name": "cn_SBSN",
         "rawType": "int64",
         "type": "integer"
        },
        {
         "name": "cn_UPK1A",
         "rawType": "int64",
         "type": "integer"
        },
        {
         "name": "cn_HSPB6",
         "rawType": "int64",
         "type": "integer"
        },
        {
         "name": "cn_APLP1",
         "rawType": "int64",
         "type": "integer"
        },
        {
         "name": "cn_PPP1R14A",
         "rawType": "int64",
         "type": "integer"
        },
        {
         "name": "cn_C19orf33",
         "rawType": "int64",
         "type": "integer"
        },
        {
         "name": "cn_RYR1",
         "rawType": "int64",
         "type": "integer"
        },
        {
         "name": "cn_LGALS7",
         "rawType": "int64",
         "type": "integer"
        },
        {
         "name": "cn_LGALS7B",
         "rawType": "int64",
         "type": "integer"
        },
        {
         "name": "cn_NCCRP1",
         "rawType": "int64",
         "type": "integer"
        },
        {
         "name": "cn_DLL3",
         "rawType": "int64",
         "type": "integer"
        },
        {
         "name": "cn_FCGBP",
         "rawType": "int64",
         "type": "integer"
        },
        {
         "name": "cn_CNTD2",
         "rawType": "int64",
         "type": "integer"
        },
        {
         "name": "cn_MIA",
         "rawType": "int64",
         "type": "integer"
        },
        {
         "name": "cn_CYP2A6",
         "rawType": "int64",
         "type": "integer"
        },
        {
         "name": "cn_CYP2A7",
         "rawType": "int64",
         "type": "integer"
        },
        {
         "name": "cn_CYP2B7P1",
         "rawType": "int64",
         "type": "integer"
        },
        {
         "name": "cn_CEACAM7",
         "rawType": "int64",
         "type": "integer"
        },
        {
         "name": "cn_CEACAM5",
         "rawType": "int64",
         "type": "integer"
        },
        {
         "name": "cn_CEACAM6",
         "rawType": "int64",
         "type": "integer"
        },
        {
         "name": "cn_CD79A",
         "rawType": "int64",
         "type": "integer"
        },
        {
         "name": "cn_ATP1A3",
         "rawType": "int64",
         "type": "integer"
        },
        {
         "name": "cn_KCNN4",
         "rawType": "int64",
         "type": "integer"
        },
        {
         "name": "cn_CBLC",
         "rawType": "int64",
         "type": "integer"
        },
        {
         "name": "cn_FOSB",
         "rawType": "int64",
         "type": "integer"
        },
        {
         "name": "cn_FOXA3",
         "rawType": "int64",
         "type": "integer"
        },
        {
         "name": "cn_KCNC3",
         "rawType": "int64",
         "type": "integer"
        },
        {
         "name": "cn_SPIB",
         "rawType": "int64",
         "type": "integer"
        },
        {
         "name": "cn_KLK6",
         "rawType": "int64",
         "type": "integer"
        },
        {
         "name": "cn_KLK7",
         "rawType": "int64",
         "type": "integer"
        },
        {
         "name": "cn_KLK8",
         "rawType": "int64",
         "type": "integer"
        },
        {
         "name": "cn_KLK10",
         "rawType": "int64",
         "type": "integer"
        },
        {
         "name": "cn_KLK11",
         "rawType": "int64",
         "type": "integer"
        },
        {
         "name": "cn_KLK12",
         "rawType": "int64",
         "type": "integer"
        },
        {
         "name": "cn_KLK13",
         "rawType": "int64",
         "type": "integer"
        },
        {
         "name": "cn_KLK14",
         "rawType": "int64",
         "type": "integer"
        },
        {
         "name": "cn_HAS1",
         "rawType": "int64",
         "type": "integer"
        },
        {
         "name": "cn_NLRP7",
         "rawType": "int64",
         "type": "integer"
        },
        {
         "name": "cn_NLRP2",
         "rawType": "int64",
         "type": "integer"
        },
        {
         "name": "cn_TNNT1",
         "rawType": "int64",
         "type": "integer"
        },
        {
         "name": "cn_TNNI3",
         "rawType": "int64",
         "type": "integer"
        },
        {
         "name": "cn_SYT5",
         "rawType": "int64",
         "type": "integer"
        },
        {
         "name": "cn_COX6B2",
         "rawType": "int64",
         "type": "integer"
        },
        {
         "name": "cn_NLRP5",
         "rawType": "int64",
         "type": "integer"
        },
        {
         "name": "cn_PEG3",
         "rawType": "int64",
         "type": "integer"
        },
        {
         "name": "cn_ZSCAN1",
         "rawType": "int64",
         "type": "integer"
        },
        {
         "name": "cn_DEFB132",
         "rawType": "int64",
         "type": "integer"
        },
        {
         "name": "cn_RSPO4",
         "rawType": "int64",
         "type": "integer"
        },
        {
         "name": "cn_SIRPG",
         "rawType": "int64",
         "type": "integer"
        },
        {
         "name": "cn_TGM3",
         "rawType": "int64",
         "type": "integer"
        },
        {
         "name": "cn_ADAM33",
         "rawType": "int64",
         "type": "integer"
        },
        {
         "name": "cn_SPEF1",
         "rawType": "int64",
         "type": "integer"
        },
        {
         "name": "cn_PRND",
         "rawType": "int64",
         "type": "integer"
        },
        {
         "name": "cn_CHGB",
         "rawType": "int64",
         "type": "integer"
        },
        {
         "name": "cn_FERMT1",
         "rawType": "int64",
         "type": "integer"
        },
        {
         "name": "cn_PAK7",
         "rawType": "int64",
         "type": "integer"
        },
        {
         "name": "cn_SNAP25",
         "rawType": "int64",
         "type": "integer"
        },
        {
         "name": "cn_FLRT3",
         "rawType": "int64",
         "type": "integer"
        },
        {
         "name": "cn_PCSK2",
         "rawType": "int64",
         "type": "integer"
        },
        {
         "name": "cn_PTPRT",
         "rawType": "int64",
         "type": "integer"
        },
        {
         "name": "cn_BCAS1",
         "rawType": "int64",
         "type": "integer"
        },
        {
         "name": "cn_CYP24A1",
         "rawType": "int64",
         "type": "integer"
        },
        {
         "name": "cn_BMP7",
         "rawType": "int64",
         "type": "integer"
        },
        {
         "name": "cn_PCK1",
         "rawType": "int64",
         "type": "integer"
        },
        {
         "name": "cn_ZBP1",
         "rawType": "int64",
         "type": "integer"
        },
        {
         "name": "cn_C20orf85",
         "rawType": "int64",
         "type": "integer"
        },
        {
         "name": "cn_APCDD1L",
         "rawType": "int64",
         "type": "integer"
        },
        {
         "name": "cn_ZNF831",
         "rawType": "int64",
         "type": "integer"
        },
        {
         "name": "cn_EDN3",
         "rawType": "int64",
         "type": "integer"
        },
        {
         "name": "cn_GATA5",
         "rawType": "int64",
         "type": "integer"
        },
        {
         "name": "cn_COL9A3",
         "rawType": "int64",
         "type": "integer"
        },
        {
         "name": "cn_EEF1A2",
         "rawType": "int64",
         "type": "integer"
        },
        {
         "name": "cn_SRMS",
         "rawType": "int64",
         "type": "integer"
        },
        {
         "name": "cn_MYT1",
         "rawType": "int64",
         "type": "integer"
        },
        {
         "name": "cn_ABCC13",
         "rawType": "int64",
         "type": "integer"
        },
        {
         "name": "cn_CXADR",
         "rawType": "int64",
         "type": "integer"
        },
        {
         "name": "cn_CHODL",
         "rawType": "int64",
         "type": "integer"
        },
        {
         "name": "cn_NCAM2",
         "rawType": "int64",
         "type": "integer"
        },
        {
         "name": "cn_B3GALT5",
         "rawType": "int64",
         "type": "integer"
        },
        {
         "name": "cn_C21orf88",
         "rawType": "int64",
         "type": "integer"
        },
        {
         "name": "cn_FAM3B",
         "rawType": "int64",
         "type": "integer"
        },
        {
         "name": "cn_TMPRSS2",
         "rawType": "int64",
         "type": "integer"
        },
        {
         "name": "cn_UMODL1",
         "rawType": "int64",
         "type": "integer"
        },
        {
         "name": "cn_S100B",
         "rawType": "int64",
         "type": "integer"
        },
        {
         "name": "cn_CECR7",
         "rawType": "int64",
         "type": "integer"
        },
        {
         "name": "cn_CECR2",
         "rawType": "int64",
         "type": "integer"
        },
        {
         "name": "cn_CDC45",
         "rawType": "int64",
         "type": "integer"
        },
        {
         "name": "cn_PRODH",
         "rawType": "int64",
         "type": "integer"
        },
        {
         "name": "cn_SLC7A4",
         "rawType": "int64",
         "type": "integer"
        },
        {
         "name": "cn_TBX1",
         "rawType": "int64",
         "type": "integer"
        },
        {
         "name": "cn_PRAME",
         "rawType": "int64",
         "type": "integer"
        },
        {
         "name": "cn_VPREB3",
         "rawType": "int64",
         "type": "integer"
        },
        {
         "name": "cn_MMP11",
         "rawType": "int64",
         "type": "integer"
        },
        {
         "name": "cn_GSTT1",
         "rawType": "int64",
         "type": "integer"
        },
        {
         "name": "cn_MYO18B",
         "rawType": "int64",
         "type": "integer"
        },
        {
         "name": "cn_SEZ6L",
         "rawType": "int64",
         "type": "integer"
        },
        {
         "name": "cn_NEFH",
         "rawType": "int64",
         "type": "integer"
        },
        {
         "name": "cn_SEC14L2",
         "rawType": "int64",
         "type": "integer"
        },
        {
         "name": "cn_INPP5J",
         "rawType": "int64",
         "type": "integer"
        },
        {
         "name": "cn_PLA2G3",
         "rawType": "int64",
         "type": "integer"
        },
        {
         "name": "cn_SLC5A1",
         "rawType": "int64",
         "type": "integer"
        },
        {
         "name": "cn_TMPRSS6",
         "rawType": "int64",
         "type": "integer"
        },
        {
         "name": "cn_ELFN2",
         "rawType": "int64",
         "type": "integer"
        },
        {
         "name": "cn_LGALS2",
         "rawType": "int64",
         "type": "integer"
        },
        {
         "name": "cn_SOX10",
         "rawType": "int64",
         "type": "integer"
        },
        {
         "name": "cn_APOBEC3B",
         "rawType": "int64",
         "type": "integer"
        },
        {
         "name": "cn_CACNA1I",
         "rawType": "int64",
         "type": "integer"
        },
        {
         "name": "cn_SEPT3",
         "rawType": "int64",
         "type": "integer"
        },
        {
         "name": "cn_SERHL2",
         "rawType": "int64",
         "type": "integer"
        },
        {
         "name": "cn_SCUBE1",
         "rawType": "int64",
         "type": "integer"
        },
        {
         "name": "cn_MPPED1",
         "rawType": "int64",
         "type": "integer"
        },
        {
         "name": "cn_SULT4A1",
         "rawType": "int64",
         "type": "integer"
        },
        {
         "name": "cn_PNPLA3",
         "rawType": "int64",
         "type": "integer"
        },
        {
         "name": "cn_PHF21B",
         "rawType": "int64",
         "type": "integer"
        },
        {
         "name": "cn_UPK3A",
         "rawType": "int64",
         "type": "integer"
        },
        {
         "name": "cn_SMC1B",
         "rawType": "int64",
         "type": "integer"
        },
        {
         "name": "cn_WNT7B",
         "rawType": "int64",
         "type": "integer"
        },
        {
         "name": "cn_KLHDC7B",
         "rawType": "int64",
         "type": "integer"
        },
        {
         "name": "cn_MAPK8IP2",
         "rawType": "int64",
         "type": "integer"
        },
        {
         "name": "cn_MLC1",
         "rawType": "int64",
         "type": "integer"
        },
        {
         "name": "mu_ANK3",
         "rawType": "int64",
         "type": "integer"
        },
        {
         "name": "mu_GATA3",
         "rawType": "int64",
         "type": "integer"
        },
        {
         "name": "mu_HECTD4",
         "rawType": "int64",
         "type": "integer"
        },
        {
         "name": "mu_LRBA",
         "rawType": "int64",
         "type": "integer"
        },
        {
         "name": "mu_LRP2",
         "rawType": "int64",
         "type": "integer"
        },
        {
         "name": "mu_SYNE1",
         "rawType": "int64",
         "type": "integer"
        },
        {
         "name": "mu_CDH1",
         "rawType": "int64",
         "type": "integer"
        },
        {
         "name": "mu_MGA",
         "rawType": "int64",
         "type": "integer"
        },
        {
         "name": "mu_MUC16",
         "rawType": "int64",
         "type": "integer"
        },
        {
         "name": "mu_ZFHX4",
         "rawType": "int64",
         "type": "integer"
        },
        {
         "name": "mu_LAMA2",
         "rawType": "int64",
         "type": "integer"
        },
        {
         "name": "mu_MLL3",
         "rawType": "int64",
         "type": "integer"
        },
        {
         "name": "mu_MUC5B",
         "rawType": "int64",
         "type": "integer"
        },
        {
         "name": "mu_PLXNA4",
         "rawType": "int64",
         "type": "integer"
        },
        {
         "name": "mu_PTPRD",
         "rawType": "int64",
         "type": "integer"
        },
        {
         "name": "mu_CSMD2",
         "rawType": "int64",
         "type": "integer"
        },
        {
         "name": "mu_DSCAM",
         "rawType": "int64",
         "type": "integer"
        },
        {
         "name": "mu_FAT2",
         "rawType": "int64",
         "type": "integer"
        },
        {
         "name": "mu_MAP3K1",
         "rawType": "int64",
         "type": "integer"
        },
        {
         "name": "mu_MED12",
         "rawType": "int64",
         "type": "integer"
        },
        {
         "name": "mu_RNA5-8SP6",
         "rawType": "int64",
         "type": "integer"
        },
        {
         "name": "mu_AHCTF1",
         "rawType": "int64",
         "type": "integer"
        },
        {
         "name": "mu_APOBR",
         "rawType": "int64",
         "type": "integer"
        },
        {
         "name": "mu_COL14A1",
         "rawType": "int64",
         "type": "integer"
        },
        {
         "name": "mu_COL7A1",
         "rawType": "int64",
         "type": "integer"
        },
        {
         "name": "mu_CSMD1",
         "rawType": "int64",
         "type": "integer"
        },
        {
         "name": "mu_CUBN",
         "rawType": "int64",
         "type": "integer"
        },
        {
         "name": "mu_DMD",
         "rawType": "int64",
         "type": "integer"
        },
        {
         "name": "mu_DNAH8",
         "rawType": "int64",
         "type": "integer"
        },
        {
         "name": "mu_GOLGA6L2",
         "rawType": "int64",
         "type": "integer"
        },
        {
         "name": "mu_HYDIN",
         "rawType": "int64",
         "type": "integer"
        },
        {
         "name": "mu_MUC12",
         "rawType": "int64",
         "type": "integer"
        },
        {
         "name": "mu_PLCE1",
         "rawType": "int64",
         "type": "integer"
        },
        {
         "name": "mu_RYR2",
         "rawType": "int64",
         "type": "integer"
        },
        {
         "name": "mu_USH2A",
         "rawType": "int64",
         "type": "integer"
        },
        {
         "name": "mu_AHNAK",
         "rawType": "int64",
         "type": "integer"
        },
        {
         "name": "mu_CDH23",
         "rawType": "int64",
         "type": "integer"
        },
        {
         "name": "mu_CEP350",
         "rawType": "int64",
         "type": "integer"
        },
        {
         "name": "mu_DNAH1",
         "rawType": "int64",
         "type": "integer"
        },
        {
         "name": "mu_DNAH7",
         "rawType": "int64",
         "type": "integer"
        },
        {
         "name": "mu_HERC2",
         "rawType": "int64",
         "type": "integer"
        },
        {
         "name": "mu_IGSF10",
         "rawType": "int64",
         "type": "integer"
        },
        {
         "name": "mu_KAT6B",
         "rawType": "int64",
         "type": "integer"
        },
        {
         "name": "mu_PIK3CA",
         "rawType": "int64",
         "type": "integer"
        },
        {
         "name": "mu_QSER1",
         "rawType": "int64",
         "type": "integer"
        },
        {
         "name": "mu_RB1",
         "rawType": "int64",
         "type": "integer"
        },
        {
         "name": "mu_TAF1L",
         "rawType": "int64",
         "type": "integer"
        },
        {
         "name": "mu_TCHH",
         "rawType": "int64",
         "type": "integer"
        },
        {
         "name": "mu_TEX15",
         "rawType": "int64",
         "type": "integer"
        },
        {
         "name": "mu_TP53",
         "rawType": "int64",
         "type": "integer"
        },
        {
         "name": "mu_ZFHX3",
         "rawType": "int64",
         "type": "integer"
        },
        {
         "name": "mu_SPEN",
         "rawType": "int64",
         "type": "integer"
        },
        {
         "name": "mu_FAT3",
         "rawType": "int64",
         "type": "integer"
        },
        {
         "name": "mu_MUC4",
         "rawType": "int64",
         "type": "integer"
        },
        {
         "name": "mu_OBSCN",
         "rawType": "int64",
         "type": "integer"
        },
        {
         "name": "mu_MUC20",
         "rawType": "int64",
         "type": "integer"
        },
        {
         "name": "mu_ODZ4",
         "rawType": "int64",
         "type": "integer"
        },
        {
         "name": "mu_ZAN",
         "rawType": "int64",
         "type": "integer"
        },
        {
         "name": "mu_AKAP9",
         "rawType": "int64",
         "type": "integer"
        },
        {
         "name": "mu_DNAH12",
         "rawType": "int64",
         "type": "integer"
        },
        {
         "name": "mu_DNAH5",
         "rawType": "int64",
         "type": "integer"
        },
        {
         "name": "mu_KIF26B",
         "rawType": "int64",
         "type": "integer"
        },
        {
         "name": "mu_NCOR1",
         "rawType": "int64",
         "type": "integer"
        },
        {
         "name": "mu_ARID1A",
         "rawType": "int64",
         "type": "integer"
        },
        {
         "name": "mu_ASPM",
         "rawType": "int64",
         "type": "integer"
        },
        {
         "name": "mu_CROCC",
         "rawType": "int64",
         "type": "integer"
        },
        {
         "name": "mu_DNAH17",
         "rawType": "int64",
         "type": "integer"
        },
        {
         "name": "mu_DSPP",
         "rawType": "int64",
         "type": "integer"
        },
        {
         "name": "mu_HRNR",
         "rawType": "int64",
         "type": "integer"
        },
        {
         "name": "mu_SVEP1",
         "rawType": "int64",
         "type": "integer"
        },
        {
         "name": "mu_ANK1",
         "rawType": "int64",
         "type": "integer"
        },
        {
         "name": "mu_CROCCP2",
         "rawType": "int64",
         "type": "integer"
        },
        {
         "name": "mu_MTOR",
         "rawType": "int64",
         "type": "integer"
        },
        {
         "name": "mu_LAMA1",
         "rawType": "int64",
         "type": "integer"
        },
        {
         "name": "mu_MST1P9",
         "rawType": "int64",
         "type": "integer"
        },
        {
         "name": "mu_PCNT",
         "rawType": "int64",
         "type": "integer"
        },
        {
         "name": "mu_SCN2A",
         "rawType": "int64",
         "type": "integer"
        },
        {
         "name": "mu_TTN",
         "rawType": "int64",
         "type": "integer"
        },
        {
         "name": "mu_DNAH6",
         "rawType": "int64",
         "type": "integer"
        },
        {
         "name": "mu_DYNC2H1",
         "rawType": "int64",
         "type": "integer"
        },
        {
         "name": "mu_OTOGL",
         "rawType": "int64",
         "type": "integer"
        },
        {
         "name": "mu_TNRC6B",
         "rawType": "int64",
         "type": "integer"
        },
        {
         "name": "mu_NF1",
         "rawType": "int64",
         "type": "integer"
        },
        {
         "name": "mu_PCLO",
         "rawType": "int64",
         "type": "integer"
        },
        {
         "name": "mu_ADAMTSL1",
         "rawType": "int64",
         "type": "integer"
        },
        {
         "name": "mu_CACNA1D",
         "rawType": "int64",
         "type": "integer"
        },
        {
         "name": "mu_FBN3",
         "rawType": "int64",
         "type": "integer"
        },
        {
         "name": "mu_MEGF8",
         "rawType": "int64",
         "type": "integer"
        },
        {
         "name": "mu_DST",
         "rawType": "int64",
         "type": "integer"
        },
        {
         "name": "mu_LYST",
         "rawType": "int64",
         "type": "integer"
        },
        {
         "name": "mu_MDN1",
         "rawType": "int64",
         "type": "integer"
        },
        {
         "name": "mu_TP53BP1",
         "rawType": "int64",
         "type": "integer"
        },
        {
         "name": "mu_ABCB1",
         "rawType": "int64",
         "type": "integer"
        },
        {
         "name": "mu_MXRA5",
         "rawType": "int64",
         "type": "integer"
        },
        {
         "name": "mu_HEATR7B2",
         "rawType": "int64",
         "type": "integer"
        },
        {
         "name": "mu_ATP10B",
         "rawType": "int64",
         "type": "integer"
        },
        {
         "name": "mu_CHD4",
         "rawType": "int64",
         "type": "integer"
        },
        {
         "name": "mu_FAT4",
         "rawType": "int64",
         "type": "integer"
        },
        {
         "name": "mu_FREM1",
         "rawType": "int64",
         "type": "integer"
        },
        {
         "name": "mu_MUC17",
         "rawType": "int64",
         "type": "integer"
        },
        {
         "name": "mu_TG",
         "rawType": "int64",
         "type": "integer"
        },
        {
         "name": "mu_TLN1",
         "rawType": "int64",
         "type": "integer"
        },
        {
         "name": "mu_DNAH3",
         "rawType": "int64",
         "type": "integer"
        },
        {
         "name": "mu_MGAM",
         "rawType": "int64",
         "type": "integer"
        },
        {
         "name": "mu_NEB",
         "rawType": "int64",
         "type": "integer"
        },
        {
         "name": "mu_RNF213",
         "rawType": "int64",
         "type": "integer"
        },
        {
         "name": "mu_SPTA1",
         "rawType": "int64",
         "type": "integer"
        },
        {
         "name": "mu_FLNC",
         "rawType": "int64",
         "type": "integer"
        },
        {
         "name": "mu_MLL2",
         "rawType": "int64",
         "type": "integer"
        },
        {
         "name": "mu_PDE4DIP",
         "rawType": "int64",
         "type": "integer"
        },
        {
         "name": "mu_MYH9",
         "rawType": "int64",
         "type": "integer"
        },
        {
         "name": "mu_AFF2",
         "rawType": "int64",
         "type": "integer"
        },
        {
         "name": "mu_COL6A5",
         "rawType": "int64",
         "type": "integer"
        },
        {
         "name": "mu_CTCF",
         "rawType": "int64",
         "type": "integer"
        },
        {
         "name": "mu_MACF1",
         "rawType": "int64",
         "type": "integer"
        },
        {
         "name": "mu_APOB",
         "rawType": "int64",
         "type": "integer"
        },
        {
         "name": "mu_CNTRL",
         "rawType": "int64",
         "type": "integer"
        },
        {
         "name": "mu_FLG",
         "rawType": "int64",
         "type": "integer"
        },
        {
         "name": "mu_FMN2",
         "rawType": "int64",
         "type": "integer"
        },
        {
         "name": "mu_UBR4",
         "rawType": "int64",
         "type": "integer"
        },
        {
         "name": "mu_GPR98",
         "rawType": "int64",
         "type": "integer"
        },
        {
         "name": "mu_PKHD1",
         "rawType": "int64",
         "type": "integer"
        },
        {
         "name": "mu_PTEN",
         "rawType": "int64",
         "type": "integer"
        },
        {
         "name": "mu_VPS13D",
         "rawType": "int64",
         "type": "integer"
        },
        {
         "name": "mu_ANK2",
         "rawType": "int64",
         "type": "integer"
        },
        {
         "name": "mu_MYH11",
         "rawType": "int64",
         "type": "integer"
        },
        {
         "name": "mu_FAM157B",
         "rawType": "int64",
         "type": "integer"
        },
        {
         "name": "mu_SRCAP",
         "rawType": "int64",
         "type": "integer"
        },
        {
         "name": "mu_CMYA5",
         "rawType": "int64",
         "type": "integer"
        },
        {
         "name": "mu_BRWD1",
         "rawType": "int64",
         "type": "integer"
        },
        {
         "name": "mu_HSPG2",
         "rawType": "int64",
         "type": "integer"
        },
        {
         "name": "mu_RP1",
         "rawType": "int64",
         "type": "integer"
        },
        {
         "name": "mu_RUNX1",
         "rawType": "int64",
         "type": "integer"
        },
        {
         "name": "mu_TBP",
         "rawType": "int64",
         "type": "integer"
        },
        {
         "name": "mu_WDR52",
         "rawType": "int64",
         "type": "integer"
        },
        {
         "name": "mu_BIRC6",
         "rawType": "int64",
         "type": "integer"
        },
        {
         "name": "mu_FAT1",
         "rawType": "int64",
         "type": "integer"
        },
        {
         "name": "mu_TPR",
         "rawType": "int64",
         "type": "integer"
        },
        {
         "name": "mu_FRAS1",
         "rawType": "int64",
         "type": "integer"
        },
        {
         "name": "mu_RELN",
         "rawType": "int64",
         "type": "integer"
        },
        {
         "name": "mu_RPGR",
         "rawType": "int64",
         "type": "integer"
        },
        {
         "name": "mu_NOTCH2",
         "rawType": "int64",
         "type": "integer"
        },
        {
         "name": "mu_DNHD1",
         "rawType": "int64",
         "type": "integer"
        },
        {
         "name": "mu_XIRP2",
         "rawType": "int64",
         "type": "integer"
        },
        {
         "name": "mu_ANKRD30BL",
         "rawType": "int64",
         "type": "integer"
        },
        {
         "name": "mu_CBFB",
         "rawType": "int64",
         "type": "integer"
        },
        {
         "name": "mu_PDE3A",
         "rawType": "int64",
         "type": "integer"
        },
        {
         "name": "mu_CACNA1A",
         "rawType": "int64",
         "type": "integer"
        },
        {
         "name": "mu_THSD7B",
         "rawType": "int64",
         "type": "integer"
        },
        {
         "name": "mu_ABCA13",
         "rawType": "int64",
         "type": "integer"
        },
        {
         "name": "mu_EYS",
         "rawType": "int64",
         "type": "integer"
        },
        {
         "name": "mu_PKD1L1",
         "rawType": "int64",
         "type": "integer"
        },
        {
         "name": "mu_RYR3",
         "rawType": "int64",
         "type": "integer"
        },
        {
         "name": "mu_FRG1B",
         "rawType": "int64",
         "type": "integer"
        },
        {
         "name": "mu_HUWE1",
         "rawType": "int64",
         "type": "integer"
        },
        {
         "name": "mu_FOXA1",
         "rawType": "int64",
         "type": "integer"
        },
        {
         "name": "mu_FCGBP",
         "rawType": "int64",
         "type": "integer"
        },
        {
         "name": "mu_CACNA1E",
         "rawType": "int64",
         "type": "integer"
        },
        {
         "name": "mu_ANKRD12",
         "rawType": "int64",
         "type": "integer"
        },
        {
         "name": "mu_CHD5",
         "rawType": "int64",
         "type": "integer"
        },
        {
         "name": "mu_GRID1",
         "rawType": "int64",
         "type": "integer"
        },
        {
         "name": "mu_KIF4A",
         "rawType": "int64",
         "type": "integer"
        },
        {
         "name": "mu_MLL",
         "rawType": "int64",
         "type": "integer"
        },
        {
         "name": "mu_PCNXL2",
         "rawType": "int64",
         "type": "integer"
        },
        {
         "name": "mu_PRKDC",
         "rawType": "int64",
         "type": "integer"
        },
        {
         "name": "mu_SI",
         "rawType": "int64",
         "type": "integer"
        },
        {
         "name": "mu_PTPRB",
         "rawType": "int64",
         "type": "integer"
        },
        {
         "name": "mu_CACNA1C",
         "rawType": "int64",
         "type": "integer"
        },
        {
         "name": "mu_CSPP1",
         "rawType": "int64",
         "type": "integer"
        },
        {
         "name": "mu_PREX2",
         "rawType": "int64",
         "type": "integer"
        },
        {
         "name": "mu_SMG1",
         "rawType": "int64",
         "type": "integer"
        },
        {
         "name": "mu_UBR5",
         "rawType": "int64",
         "type": "integer"
        },
        {
         "name": "mu_KIAA1210",
         "rawType": "int64",
         "type": "integer"
        },
        {
         "name": "mu_COL6A3",
         "rawType": "int64",
         "type": "integer"
        },
        {
         "name": "mu_ODZ1",
         "rawType": "int64",
         "type": "integer"
        },
        {
         "name": "mu_AHNAK2",
         "rawType": "int64",
         "type": "integer"
        },
        {
         "name": "mu_AKAP13",
         "rawType": "int64",
         "type": "integer"
        },
        {
         "name": "mu_ASTN1",
         "rawType": "int64",
         "type": "integer"
        },
        {
         "name": "mu_CACNA1F",
         "rawType": "int64",
         "type": "integer"
        },
        {
         "name": "mu_CHD6",
         "rawType": "int64",
         "type": "integer"
        },
        {
         "name": "mu_CHD8",
         "rawType": "int64",
         "type": "integer"
        },
        {
         "name": "mu_CNTNAP2",
         "rawType": "int64",
         "type": "integer"
        },
        {
         "name": "mu_DNAH2",
         "rawType": "int64",
         "type": "integer"
        },
        {
         "name": "mu_DYNC1H1",
         "rawType": "int64",
         "type": "integer"
        },
        {
         "name": "mu_FLNA",
         "rawType": "int64",
         "type": "integer"
        },
        {
         "name": "mu_GRIN2A",
         "rawType": "int64",
         "type": "integer"
        },
        {
         "name": "mu_KIAA0947",
         "rawType": "int64",
         "type": "integer"
        },
        {
         "name": "mu_KIAA1109",
         "rawType": "int64",
         "type": "integer"
        },
        {
         "name": "mu_LRP1",
         "rawType": "int64",
         "type": "integer"
        },
        {
         "name": "mu_MYH1",
         "rawType": "int64",
         "type": "integer"
        },
        {
         "name": "mu_MYO18B",
         "rawType": "int64",
         "type": "integer"
        },
        {
         "name": "mu_RYR1",
         "rawType": "int64",
         "type": "integer"
        },
        {
         "name": "mu_SDK1",
         "rawType": "int64",
         "type": "integer"
        },
        {
         "name": "mu_STARD9",
         "rawType": "int64",
         "type": "integer"
        },
        {
         "name": "mu_ERBB2",
         "rawType": "int64",
         "type": "integer"
        },
        {
         "name": "mu_SETD2",
         "rawType": "int64",
         "type": "integer"
        },
        {
         "name": "mu_VCAN",
         "rawType": "int64",
         "type": "integer"
        },
        {
         "name": "mu_WDFY3",
         "rawType": "int64",
         "type": "integer"
        },
        {
         "name": "mu_ATM",
         "rawType": "int64",
         "type": "integer"
        },
        {
         "name": "mu_UTRN",
         "rawType": "int64",
         "type": "integer"
        },
        {
         "name": "mu_VPS13B",
         "rawType": "int64",
         "type": "integer"
        },
        {
         "name": "mu_MAP2",
         "rawType": "int64",
         "type": "integer"
        },
        {
         "name": "mu_DNAH10",
         "rawType": "int64",
         "type": "integer"
        },
        {
         "name": "mu_SYNE2",
         "rawType": "int64",
         "type": "integer"
        },
        {
         "name": "mu_MAP2K4",
         "rawType": "int64",
         "type": "integer"
        },
        {
         "name": "mu_TNXB",
         "rawType": "int64",
         "type": "integer"
        },
        {
         "name": "mu_ASH1L",
         "rawType": "int64",
         "type": "integer"
        },
        {
         "name": "mu_ASXL2",
         "rawType": "int64",
         "type": "integer"
        },
        {
         "name": "mu_HMCN1",
         "rawType": "int64",
         "type": "integer"
        },
        {
         "name": "mu_ALMS1",
         "rawType": "int64",
         "type": "integer"
        },
        {
         "name": "mu_ITPR2",
         "rawType": "int64",
         "type": "integer"
        },
        {
         "name": "mu_TBX3",
         "rawType": "int64",
         "type": "integer"
        },
        {
         "name": "mu_F8",
         "rawType": "int64",
         "type": "integer"
        },
        {
         "name": "mu_AKD1",
         "rawType": "int64",
         "type": "integer"
        },
        {
         "name": "mu_ERBB3",
         "rawType": "int64",
         "type": "integer"
        },
        {
         "name": "mu_CENPE",
         "rawType": "int64",
         "type": "integer"
        },
        {
         "name": "mu_ABCA12",
         "rawType": "int64",
         "type": "integer"
        },
        {
         "name": "mu_C9orf174",
         "rawType": "int64",
         "type": "integer"
        },
        {
         "name": "mu_F5",
         "rawType": "int64",
         "type": "integer"
        },
        {
         "name": "mu_FRMPD4",
         "rawType": "int64",
         "type": "integer"
        },
        {
         "name": "mu_LRP1B",
         "rawType": "int64",
         "type": "integer"
        },
        {
         "name": "mu_DCHS2",
         "rawType": "int64",
         "type": "integer"
        },
        {
         "name": "mu_HERC1",
         "rawType": "int64",
         "type": "integer"
        },
        {
         "name": "mu_CSMD3",
         "rawType": "int64",
         "type": "integer"
        },
        {
         "name": "mu_USP34",
         "rawType": "int64",
         "type": "integer"
        },
        {
         "name": "mu_BAZ2B",
         "rawType": "int64",
         "type": "integer"
        },
        {
         "name": "mu_FLG2",
         "rawType": "int64",
         "type": "integer"
        },
        {
         "name": "mu_PCDH19",
         "rawType": "int64",
         "type": "integer"
        },
        {
         "name": "mu_VPS13A",
         "rawType": "int64",
         "type": "integer"
        },
        {
         "name": "mu_PAPPA2",
         "rawType": "int64",
         "type": "integer"
        },
        {
         "name": "mu_PDZD2",
         "rawType": "int64",
         "type": "integer"
        },
        {
         "name": "mu_BCORL1",
         "rawType": "int64",
         "type": "integer"
        },
        {
         "name": "mu_APC",
         "rawType": "int64",
         "type": "integer"
        },
        {
         "name": "mu_PRUNE2",
         "rawType": "int64",
         "type": "integer"
        },
        {
         "name": "mu_GON4L",
         "rawType": "int64",
         "type": "integer"
        },
        {
         "name": "mu_SPHKAP",
         "rawType": "int64",
         "type": "integer"
        },
        {
         "name": "mu_SACS",
         "rawType": "int64",
         "type": "integer"
        },
        {
         "name": "mu_MYCBP2",
         "rawType": "int64",
         "type": "integer"
        },
        {
         "name": "mu_DOCK11",
         "rawType": "int64",
         "type": "integer"
        },
        {
         "name": "mu_FBN1",
         "rawType": "int64",
         "type": "integer"
        },
        {
         "name": "mu_DNAH11",
         "rawType": "int64",
         "type": "integer"
        },
        {
         "name": "mu_PIWIL1",
         "rawType": "int64",
         "type": "integer"
        },
        {
         "name": "mu_SCN10A",
         "rawType": "int64",
         "type": "integer"
        },
        {
         "name": "mu_ATRX",
         "rawType": "int64",
         "type": "integer"
        },
        {
         "name": "mu_PKHD1L1",
         "rawType": "int64",
         "type": "integer"
        },
        {
         "name": "mu_MAP1A",
         "rawType": "int64",
         "type": "integer"
        },
        {
         "name": "mu_DNAH9",
         "rawType": "int64",
         "type": "integer"
        },
        {
         "name": "mu_MYH7",
         "rawType": "int64",
         "type": "integer"
        },
        {
         "name": "mu_PEG3",
         "rawType": "int64",
         "type": "integer"
        },
        {
         "name": "pp_X14.3.3.beta",
         "rawType": "float64",
         "type": "float"
        },
        {
         "name": "pp_X14.3.3.epsilon",
         "rawType": "float64",
         "type": "float"
        },
        {
         "name": "pp_X14.3.3.zeta",
         "rawType": "float64",
         "type": "float"
        },
        {
         "name": "pp_X4E.BP1",
         "rawType": "float64",
         "type": "float"
        },
        {
         "name": "pp_X4E.BP1.pS65",
         "rawType": "float64",
         "type": "float"
        },
        {
         "name": "pp_X4E.BP1.pT37.T46",
         "rawType": "float64",
         "type": "float"
        },
        {
         "name": "pp_X4E.BP1.pT70",
         "rawType": "float64",
         "type": "float"
        },
        {
         "name": "pp_X53BP1",
         "rawType": "float64",
         "type": "float"
        },
        {
         "name": "pp_A.Raf",
         "rawType": "float64",
         "type": "float"
        },
        {
         "name": "pp_A.Raf.pS299",
         "rawType": "float64",
         "type": "float"
        },
        {
         "name": "pp_ACC1",
         "rawType": "float64",
         "type": "float"
        },
        {
         "name": "pp_ACC.pS79",
         "rawType": "float64",
         "type": "float"
        },
        {
         "name": "pp_ACVRL1",
         "rawType": "float64",
         "type": "float"
        },
        {
         "name": "pp_ADAR1",
         "rawType": "float64",
         "type": "float"
        },
        {
         "name": "pp_AMPK.alpha",
         "rawType": "float64",
         "type": "float"
        },
        {
         "name": "pp_AMPK.pT172",
         "rawType": "float64",
         "type": "float"
        },
        {
         "name": "pp_AR",
         "rawType": "float64",
         "type": "float"
        },
        {
         "name": "pp_ARID1A",
         "rawType": "float64",
         "type": "float"
        },
        {
         "name": "pp_ASNS",
         "rawType": "float64",
         "type": "float"
        },
        {
         "name": "pp_ATM",
         "rawType": "float64",
         "type": "float"
        },
        {
         "name": "pp_Acetyl.a.Tubulin.Lys40",
         "rawType": "float64",
         "type": "float"
        },
        {
         "name": "pp_Akt",
         "rawType": "float64",
         "type": "float"
        },
        {
         "name": "pp_Akt.pS473",
         "rawType": "float64",
         "type": "float"
        },
        {
         "name": "pp_Akt.pT308",
         "rawType": "float64",
         "type": "float"
        },
        {
         "name": "pp_Annexin.1",
         "rawType": "float64",
         "type": "float"
        },
        {
         "name": "pp_Annexin.VII",
         "rawType": "float64",
         "type": "float"
        },
        {
         "name": "pp_Axl",
         "rawType": "float64",
         "type": "float"
        },
        {
         "name": "pp_B.Raf",
         "rawType": "float64",
         "type": "float"
        },
        {
         "name": "pp_B.Raf.pS445",
         "rawType": "float64",
         "type": "float"
        },
        {
         "name": "pp_BRCA2",
         "rawType": "float64",
         "type": "float"
        },
        {
         "name": "pp_BRD4",
         "rawType": "float64",
         "type": "float"
        },
        {
         "name": "pp_Bad.pS112",
         "rawType": "float64",
         "type": "float"
        },
        {
         "name": "pp_Bak",
         "rawType": "float64",
         "type": "float"
        },
        {
         "name": "pp_Bap1.c.4",
         "rawType": "float64",
         "type": "float"
        },
        {
         "name": "pp_Bax",
         "rawType": "float64",
         "type": "float"
        },
        {
         "name": "pp_Bcl.2",
         "rawType": "float64",
         "type": "float"
        },
        {
         "name": "pp_Bcl.xL",
         "rawType": "float64",
         "type": "float"
        },
        {
         "name": "pp_Bcl2A1",
         "rawType": "float64",
         "type": "float"
        },
        {
         "name": "pp_Beclin",
         "rawType": "float64",
         "type": "float"
        },
        {
         "name": "pp_Bid",
         "rawType": "float64",
         "type": "float"
        },
        {
         "name": "pp_Bim",
         "rawType": "float64",
         "type": "float"
        },
        {
         "name": "pp_C.Raf",
         "rawType": "float64",
         "type": "float"
        },
        {
         "name": "pp_C.Raf.pS338",
         "rawType": "float64",
         "type": "float"
        },
        {
         "name": "pp_CD20",
         "rawType": "float64",
         "type": "float"
        },
        {
         "name": "pp_CD26",
         "rawType": "float64",
         "type": "float"
        },
        {
         "name": "pp_CD31",
         "rawType": "float64",
         "type": "float"
        },
        {
         "name": "pp_CD49b",
         "rawType": "float64",
         "type": "float"
        },
        {
         "name": "pp_CDK1",
         "rawType": "float64",
         "type": "float"
        },
        {
         "name": "pp_CDK1.pY15",
         "rawType": "float64",
         "type": "float"
        },
        {
         "name": "pp_COG3",
         "rawType": "float64",
         "type": "float"
        },
        {
         "name": "pp_Caspase.3",
         "rawType": "float64",
         "type": "float"
        },
        {
         "name": "pp_Caspase.7.cleavedD198",
         "rawType": "float64",
         "type": "float"
        },
        {
         "name": "pp_Caspase.8",
         "rawType": "float64",
         "type": "float"
        },
        {
         "name": "pp_Caveolin.1",
         "rawType": "float64",
         "type": "float"
        },
        {
         "name": "pp_Chk1",
         "rawType": "float64",
         "type": "float"
        },
        {
         "name": "pp_Chk1.pS296",
         "rawType": "float64",
         "type": "float"
        },
        {
         "name": "pp_Chk1.pS345",
         "rawType": "float64",
         "type": "float"
        },
        {
         "name": "pp_Chk2",
         "rawType": "float64",
         "type": "float"
        },
        {
         "name": "pp_Chk2.pT68",
         "rawType": "float64",
         "type": "float"
        },
        {
         "name": "pp_Claudin.7",
         "rawType": "float64",
         "type": "float"
        },
        {
         "name": "pp_Collagen.VI",
         "rawType": "float64",
         "type": "float"
        },
        {
         "name": "pp_Cyclin.B1",
         "rawType": "float64",
         "type": "float"
        },
        {
         "name": "pp_Cyclin.D1",
         "rawType": "float64",
         "type": "float"
        },
        {
         "name": "pp_Cyclin.E1",
         "rawType": "float64",
         "type": "float"
        },
        {
         "name": "pp_Cyclin.E2",
         "rawType": "float64",
         "type": "float"
        },
        {
         "name": "pp_DIRAS3",
         "rawType": "float64",
         "type": "float"
        },
        {
         "name": "pp_DJ.1",
         "rawType": "float64",
         "type": "float"
        },
        {
         "name": "pp_DUSP4",
         "rawType": "float64",
         "type": "float"
        },
        {
         "name": "pp_Dvl3",
         "rawType": "float64",
         "type": "float"
        },
        {
         "name": "pp_E.Cadherin",
         "rawType": "float64",
         "type": "float"
        },
        {
         "name": "pp_EGFR",
         "rawType": "float64",
         "type": "float"
        },
        {
         "name": "pp_EGFR.pY1068",
         "rawType": "float64",
         "type": "float"
        },
        {
         "name": "pp_EGFR.pY1173",
         "rawType": "float64",
         "type": "float"
        },
        {
         "name": "pp_ENY2",
         "rawType": "float64",
         "type": "float"
        },
        {
         "name": "pp_EPPK1",
         "rawType": "float64",
         "type": "float"
        },
        {
         "name": "pp_ER.alpha",
         "rawType": "float64",
         "type": "float"
        },
        {
         "name": "pp_ER.alpha.pS118",
         "rawType": "float64",
         "type": "float"
        },
        {
         "name": "pp_ERCC1",
         "rawType": "float64",
         "type": "float"
        },
        {
         "name": "pp_ERCC5",
         "rawType": "float64",
         "type": "float"
        },
        {
         "name": "pp_ERK2",
         "rawType": "float64",
         "type": "float"
        },
        {
         "name": "pp_ETS.1",
         "rawType": "float64",
         "type": "float"
        },
        {
         "name": "pp_FASN",
         "rawType": "float64",
         "type": "float"
        },
        {
         "name": "pp_FOXO3a",
         "rawType": "float64",
         "type": "float"
        },
        {
         "name": "pp_FOXO3a.pS318.S321",
         "rawType": "float64",
         "type": "float"
        },
        {
         "name": "pp_Fibronectin",
         "rawType": "float64",
         "type": "float"
        },
        {
         "name": "pp_FoxM1",
         "rawType": "float64",
         "type": "float"
        },
        {
         "name": "pp_G6PD",
         "rawType": "float64",
         "type": "float"
        },
        {
         "name": "pp_GAB2",
         "rawType": "float64",
         "type": "float"
        },
        {
         "name": "pp_GAPDH",
         "rawType": "float64",
         "type": "float"
        },
        {
         "name": "pp_GATA3",
         "rawType": "float64",
         "type": "float"
        },
        {
         "name": "pp_GATA6",
         "rawType": "float64",
         "type": "float"
        },
        {
         "name": "pp_GCN5L2",
         "rawType": "float64",
         "type": "float"
        },
        {
         "name": "pp_GSK3.alpha.beta",
         "rawType": "float64",
         "type": "float"
        },
        {
         "name": "pp_GSK3.alpha.beta.pS21.S9",
         "rawType": "float64",
         "type": "float"
        },
        {
         "name": "pp_GSK3.pS9",
         "rawType": "float64",
         "type": "float"
        },
        {
         "name": "pp_HER2",
         "rawType": "float64",
         "type": "float"
        },
        {
         "name": "pp_HER2.pY1248",
         "rawType": "float64",
         "type": "float"
        },
        {
         "name": "pp_HER3",
         "rawType": "float64",
         "type": "float"
        },
        {
         "name": "pp_HER3.pY1289",
         "rawType": "float64",
         "type": "float"
        },
        {
         "name": "pp_HSP70",
         "rawType": "float64",
         "type": "float"
        },
        {
         "name": "pp_Heregulin",
         "rawType": "float64",
         "type": "float"
        },
        {
         "name": "pp_IGF1R.pY1135.Y1136",
         "rawType": "float64",
         "type": "float"
        },
        {
         "name": "pp_IGFBP2",
         "rawType": "float64",
         "type": "float"
        },
        {
         "name": "pp_INPP4B",
         "rawType": "float64",
         "type": "float"
        },
        {
         "name": "pp_IRF.1",
         "rawType": "float64",
         "type": "float"
        },
        {
         "name": "pp_IRS1",
         "rawType": "float64",
         "type": "float"
        },
        {
         "name": "pp_JAB1",
         "rawType": "float64",
         "type": "float"
        },
        {
         "name": "pp_JNK2",
         "rawType": "float64",
         "type": "float"
        },
        {
         "name": "pp_JNK.pT183.pY185",
         "rawType": "float64",
         "type": "float"
        },
        {
         "name": "pp_Jak2",
         "rawType": "float64",
         "type": "float"
        },
        {
         "name": "pp_Ku80",
         "rawType": "float64",
         "type": "float"
        },
        {
         "name": "pp_LKB1",
         "rawType": "float64",
         "type": "float"
        },
        {
         "name": "pp_Lck",
         "rawType": "float64",
         "type": "float"
        },
        {
         "name": "pp_MAPK.pT202.Y204",
         "rawType": "float64",
         "type": "float"
        },
        {
         "name": "pp_MEK1",
         "rawType": "float64",
         "type": "float"
        },
        {
         "name": "pp_MEK1.pS217.S221",
         "rawType": "float64",
         "type": "float"
        },
        {
         "name": "pp_MIG.6",
         "rawType": "float64",
         "type": "float"
        },
        {
         "name": "pp_MSH2",
         "rawType": "float64",
         "type": "float"
        },
        {
         "name": "pp_MSH6",
         "rawType": "float64",
         "type": "float"
        },
        {
         "name": "pp_MYH11",
         "rawType": "float64",
         "type": "float"
        },
        {
         "name": "pp_Mre11",
         "rawType": "float64",
         "type": "float"
        },
        {
         "name": "pp_Myosin.IIa",
         "rawType": "float64",
         "type": "float"
        },
        {
         "name": "pp_Myosin.IIa.pS1943",
         "rawType": "float64",
         "type": "float"
        },
        {
         "name": "pp_N.Cadherin",
         "rawType": "float64",
         "type": "float"
        },
        {
         "name": "pp_N.Ras",
         "rawType": "float64",
         "type": "float"
        },
        {
         "name": "pp_NDRG1.pT346",
         "rawType": "float64",
         "type": "float"
        },
        {
         "name": "pp_NF.kB.p65.pS536",
         "rawType": "float64",
         "type": "float"
        },
        {
         "name": "pp_NF2",
         "rawType": "float64",
         "type": "float"
        },
        {
         "name": "pp_Notch1",
         "rawType": "float64",
         "type": "float"
        },
        {
         "name": "pp_P.Cadherin",
         "rawType": "float64",
         "type": "float"
        },
        {
         "name": "pp_PAI.1",
         "rawType": "float64",
         "type": "float"
        },
        {
         "name": "pp_PARP1",
         "rawType": "float64",
         "type": "float"
        },
        {
         "name": "pp_PARP.cleaved",
         "rawType": "float64",
         "type": "float"
        },
        {
         "name": "pp_PCNA",
         "rawType": "float64",
         "type": "float"
        },
        {
         "name": "pp_PDCD4",
         "rawType": "float64",
         "type": "float"
        },
        {
         "name": "pp_PDK1",
         "rawType": "float64",
         "type": "float"
        },
        {
         "name": "pp_PDK1.pS241",
         "rawType": "float64",
         "type": "float"
        },
        {
         "name": "pp_PEA15",
         "rawType": "float64",
         "type": "float"
        },
        {
         "name": "pp_PEA15.pS116",
         "rawType": "float64",
         "type": "float"
        },
        {
         "name": "pp_PI3K.p110.alpha",
         "rawType": "float64",
         "type": "float"
        },
        {
         "name": "pp_PI3K.p85",
         "rawType": "float64",
         "type": "float"
        },
        {
         "name": "pp_PKC.alpha",
         "rawType": "float64",
         "type": "float"
        },
        {
         "name": "pp_PKC.alpha.pS657",
         "rawType": "float64",
         "type": "float"
        },
        {
         "name": "pp_PKC.delta.pS664",
         "rawType": "float64",
         "type": "float"
        },
        {
         "name": "pp_PKC.pan.BetaII.pS660",
         "rawType": "float64",
         "type": "float"
        },
        {
         "name": "pp_PR",
         "rawType": "float64",
         "type": "float"
        },
        {
         "name": "pp_PRAS40.pT246",
         "rawType": "float64",
         "type": "float"
        },
        {
         "name": "pp_PRDX1",
         "rawType": "float64",
         "type": "float"
        },
        {
         "name": "pp_PREX1",
         "rawType": "float64",
         "type": "float"
        },
        {
         "name": "pp_PTEN",
         "rawType": "float64",
         "type": "float"
        },
        {
         "name": "pp_Paxillin",
         "rawType": "float64",
         "type": "float"
        },
        {
         "name": "pp_RBM15",
         "rawType": "float64",
         "type": "float"
        },
        {
         "name": "pp_Rab11",
         "rawType": "float64",
         "type": "float"
        },
        {
         "name": "pp_Rab25",
         "rawType": "float64",
         "type": "float"
        },
        {
         "name": "pp_Rad50",
         "rawType": "float64",
         "type": "float"
        },
        {
         "name": "pp_Rad51",
         "rawType": "float64",
         "type": "float"
        },
        {
         "name": "pp_Raptor",
         "rawType": "float64",
         "type": "float"
        },
        {
         "name": "pp_Rb",
         "rawType": "float64",
         "type": "float"
        },
        {
         "name": "pp_Rb.pS807.S811",
         "rawType": "float64",
         "type": "float"
        },
        {
         "name": "pp_Rictor",
         "rawType": "float64",
         "type": "float"
        },
        {
         "name": "pp_Rictor.pT1135",
         "rawType": "float64",
         "type": "float"
        },
        {
         "name": "pp_S6",
         "rawType": "float64",
         "type": "float"
        },
        {
         "name": "pp_S6.pS235.S236",
         "rawType": "float64",
         "type": "float"
        },
        {
         "name": "pp_S6.pS240.S244",
         "rawType": "float64",
         "type": "float"
        },
        {
         "name": "pp_SCD",
         "rawType": "float64",
         "type": "float"
        },
        {
         "name": "pp_SETD2",
         "rawType": "float64",
         "type": "float"
        },
        {
         "name": "pp_SF2",
         "rawType": "float64",
         "type": "float"
        },
        {
         "name": "pp_SHP.2.pY542",
         "rawType": "float64",
         "type": "float"
        },
        {
         "name": "pp_SLC1A5",
         "rawType": "float64",
         "type": "float"
        },
        {
         "name": "pp_STAT3.pY705",
         "rawType": "float64",
         "type": "float"
        },
        {
         "name": "pp_STAT5.alpha",
         "rawType": "float64",
         "type": "float"
        },
        {
         "name": "pp_Shc.pY317",
         "rawType": "float64",
         "type": "float"
        },
        {
         "name": "pp_Smac",
         "rawType": "float64",
         "type": "float"
        },
        {
         "name": "pp_Smad1",
         "rawType": "float64",
         "type": "float"
        },
        {
         "name": "pp_Smad3",
         "rawType": "float64",
         "type": "float"
        },
        {
         "name": "pp_Smad4",
         "rawType": "float64",
         "type": "float"
        },
        {
         "name": "pp_Snail",
         "rawType": "float64",
         "type": "float"
        },
        {
         "name": "pp_Src",
         "rawType": "float64",
         "type": "float"
        },
        {
         "name": "pp_Src.pY416",
         "rawType": "float64",
         "type": "float"
        },
        {
         "name": "pp_Src.pY527",
         "rawType": "float64",
         "type": "float"
        },
        {
         "name": "pp_Stathmin",
         "rawType": "float64",
         "type": "float"
        },
        {
         "name": "pp_Syk",
         "rawType": "float64",
         "type": "float"
        },
        {
         "name": "pp_TAZ",
         "rawType": "float64",
         "type": "float"
        },
        {
         "name": "pp_TFRC",
         "rawType": "float64",
         "type": "float"
        },
        {
         "name": "pp_TIGAR",
         "rawType": "float64",
         "type": "float"
        },
        {
         "name": "pp_TSC1",
         "rawType": "float64",
         "type": "float"
        },
        {
         "name": "pp_Transglutaminase",
         "rawType": "float64",
         "type": "float"
        },
        {
         "name": "pp_Tuberin",
         "rawType": "float64",
         "type": "float"
        },
        {
         "name": "pp_Tuberin.pT1462",
         "rawType": "float64",
         "type": "float"
        },
        {
         "name": "pp_VEGFR2",
         "rawType": "float64",
         "type": "float"
        },
        {
         "name": "pp_XBP1",
         "rawType": "float64",
         "type": "float"
        },
        {
         "name": "pp_XRCC1",
         "rawType": "float64",
         "type": "float"
        },
        {
         "name": "pp_YAP",
         "rawType": "float64",
         "type": "float"
        },
        {
         "name": "pp_YAP.pS127",
         "rawType": "float64",
         "type": "float"
        },
        {
         "name": "pp_YB.1",
         "rawType": "float64",
         "type": "float"
        },
        {
         "name": "pp_YB.1.pS102",
         "rawType": "float64",
         "type": "float"
        },
        {
         "name": "pp_beta.Catenin",
         "rawType": "float64",
         "type": "float"
        },
        {
         "name": "pp_c.Abl",
         "rawType": "float64",
         "type": "float"
        },
        {
         "name": "pp_c.Jun.pS73",
         "rawType": "float64",
         "type": "float"
        },
        {
         "name": "pp_c.Kit",
         "rawType": "float64",
         "type": "float"
        },
        {
         "name": "pp_c.Met",
         "rawType": "float64",
         "type": "float"
        },
        {
         "name": "pp_c.Met.pY1235",
         "rawType": "float64",
         "type": "float"
        },
        {
         "name": "pp_c.Myc",
         "rawType": "float64",
         "type": "float"
        },
        {
         "name": "pp_cIAP",
         "rawType": "float64",
         "type": "float"
        },
        {
         "name": "pp_eEF2",
         "rawType": "float64",
         "type": "float"
        },
        {
         "name": "pp_eEF2K",
         "rawType": "float64",
         "type": "float"
        },
        {
         "name": "pp_eIF4E",
         "rawType": "float64",
         "type": "float"
        },
        {
         "name": "pp_eIF4G",
         "rawType": "float64",
         "type": "float"
        },
        {
         "name": "pp_mTOR",
         "rawType": "float64",
         "type": "float"
        },
        {
         "name": "pp_mTOR.pS2448",
         "rawType": "float64",
         "type": "float"
        },
        {
         "name": "pp_p16.INK4a",
         "rawType": "float64",
         "type": "float"
        },
        {
         "name": "pp_p21",
         "rawType": "float64",
         "type": "float"
        },
        {
         "name": "pp_p27",
         "rawType": "float64",
         "type": "float"
        },
        {
         "name": "pp_p27.pT157",
         "rawType": "float64",
         "type": "float"
        },
        {
         "name": "pp_p27.pT198",
         "rawType": "float64",
         "type": "float"
        },
        {
         "name": "pp_p38.MAPK",
         "rawType": "float64",
         "type": "float"
        },
        {
         "name": "pp_p38.pT180.Y182",
         "rawType": "float64",
         "type": "float"
        },
        {
         "name": "pp_p53",
         "rawType": "float64",
         "type": "float"
        },
        {
         "name": "pp_p62.LCK.ligand",
         "rawType": "float64",
         "type": "float"
        },
        {
         "name": "pp_p70S6K",
         "rawType": "float64",
         "type": "float"
        },
        {
         "name": "pp_p70S6K.pT389",
         "rawType": "float64",
         "type": "float"
        },
        {
         "name": "pp_p90RSK",
         "rawType": "float64",
         "type": "float"
        },
        {
         "name": "pp_p90RSK.pT359.S363",
         "rawType": "float64",
         "type": "float"
        },
        {
         "name": "vital.status",
         "rawType": "int64",
         "type": "integer"
        },
        {
         "name": "PR.Status",
         "rawType": "object",
         "type": "string"
        },
        {
         "name": "ER.Status",
         "rawType": "object",
         "type": "string"
        },
        {
         "name": "HER2.Final.Status",
         "rawType": "object",
         "type": "string"
        },
        {
         "name": "histological.type",
         "rawType": "object",
         "type": "string"
        }
       ],
       "ref": "94e5ad6b-8ac1-4c6d-a441-0d8039eec7d6",
       "rows": [
        [
         "0",
         "0.892818427795033",
         "6.58010326446913",
         "14.1236716438184",
         "10.6065012657832",
         "13.1892374490642",
         "6.64946600880863",
         "10.5203345329874",
         "10.3384899336156",
         "10.2483794712702",
         "10.2299704630552",
         "0.0",
         "7.9046093347729",
         "8.75480067068226",
         "9.68117602836579",
         "9.36325760643347",
         "2.14639454906051",
         "1.44020807501375",
         "12.8062722329701",
         "11.675895919932",
         "2.61842661664593",
         "8.37571716498335",
         "0.892818427795033",
         "6.43763889901635",
         "6.05627354105307",
         "12.5348839536099",
         "10.2097588093458",
         "3.87861745406448",
         "7.53304544859549",
         "8.27954465430216",
         "8.7901337464879",
         "10.5408085317062",
         "7.26534124831858",
         "7.13166355964781",
         "12.6395184793358",
         "7.30582555129481",
         "2.89260474268157",
         "5.17508941160876",
         "10.4901428901951",
         "0.514400039036616",
         "4.51403386476875",
         "2.71571768922239",
         "11.5537498494229",
         "4.61836788144821",
         "9.31069752330458",
         "8.85830525414328",
         "11.6222059672139",
         "1.83608571170241",
         "10.4610609026988",
         "7.1094556353912",
         "7.80033759214939",
         "4.14630493181738",
         "7.76098867116177",
         "6.18926713613591",
         "2.51409700489423",
         "10.2196409499343",
         "13.8495240695115",
         "9.43197765663377",
         "8.96109252166698",
         "6.52076166625319",
         "5.20890347706038",
         "5.74667823154279",
         "3.32142306323736",
         "6.66781834271599",
         "14.5340765011727",
         "11.1208761254557",
         "0.892818427795033",
         "11.6707865725846",
         "9.15569965537231",
         "7.84403093682431",
         "8.36638341819172",
         "3.49591257368566",
         "2.80688081579387",
         "5.10498656495273",
         "4.59298318862288",
         "9.22859794126688",
         "6.86097024464744",
         "3.92003599347489",
         "0.514400039036616",
         "9.11615106911406",
         "14.4870775825505",
         "2.51409700489423",
         "12.7873480189226",
         "0.0",
         "8.89771358099775",
         "1.65168318063211",
         "9.48296361018445",
         "5.30349218031118",
         "2.97351943968502",
         "2.71571768922239",
         "4.51403386476875",
         "2.40163046658474",
         "2.97351943968502",
         "4.99299949721066",
         "7.00746799968424",
         "7.39665443985977",
         "1.99956712655347",
         "9.05820093897053",
         "6.13753221342287",
         "6.71564768523389",
         "6.82870900465054",
         "1.83608571170241",
         "0.892818427795033",
         "8.23100079881345",
         "4.93356319650866",
         "6.47285652137598",
         "9.48899694078528",
         "2.71571768922239",
         "2.14639454906051",
         "10.4487313592785",
         "11.0820594024889",
         "3.83597458790228",
         "7.23784379453239",
         "12.344325288656",
         "5.61415621409023",
         "9.9658379519194",
         "0.586116195337526",
         "3.49591257368566",
         "6.86627746472346",
         "11.8255862638601",
         "9.59189274346167",
         "9.87331890945337",
         "9.88578528087561",
         "10.9445654418142",
         "10.1582254232467",
         "9.07319496923121",
         "4.85030937555237",
         "8.34753234611224",
         "7.01226361046965",
         "10.5089275431969",
         "6.37199613505199",
         "1.99956712655347",
         "5.67590623789452",
         "8.11094521148266",
         "7.9123265155323",
         "1.01099461607159",
         "4.71566278442068",
         "10.5470183758978",
         "12.9470718935026",
         "8.6799212855961",
         "8.83953953787116",
         "7.9046093347729",
         "0.892818427795033",
         "1.99956712655347",
         "0.0",
         "10.256486348162",
         "6.28748337681842",
         "8.01863083621169",
         "9.19735456589459",
         "0.0",
         "2.51409700489423",
         "8.8054101599572",
         "4.37201877901903",
         "7.72346436275171",
         "7.32422285905093",
         "5.19209550934999",
         "8.03521809468005",
         "6.44475153517076",
         "2.97351943968502",
         "3.92003599347489",
         "7.36326045414548",
         "6.25548184958186",
         "9.27821712147131",
         "6.72736096150182",
         "1.1923204350345",
         "5.74667823154279",
         "3.96029855211981",
         "1.99956712655347",
         "6.45887246596612",
         "10.2840115676515",
         "0.0",
         "1.83608571170241",
         "8.27156667411618",
         "1.83608571170241",
         "5.22551787826274",
         "12.3203515685024",
         "2.80688081579387",
         "8.43585066466106",
         "11.5265629608357",
         "9.86007914963395",
         "7.54633270241023",
         "5.72276928643906",
         "7.65764929352753",
         "8.7732819852435",
         "8.53248801204928",
         "11.5430193464975",
         "6.99298477349238",
         "0.0",
         "2.71571768922239",
         "0.892818427795033",
         "9.38097874062309",
         "9.05355559205152",
         "1.99956712655347",
         "0.0",
         "9.79338709201829",
         "11.9018639752362",
         "5.95031209816626",
         "6.15498413598036",
         "8.66629431582648",
         "5.35196394843954",
         "2.40163046658474",
         "2.27964957855709",
         "0.0",
         "3.96029855211981",
         "8.62931326571358",
         "0.892818427795033",
         "7.32136623611184",
         "7.49928384391364",
         "6.75623472413435",
         "1.44020807501375",
         "7.33674129944108",
         "0.0",
         "0.0",
         "1.44020807501375",
         "12.6077888052051",
         "5.72347118895264",
         "4.35942277594522",
         "7.95778287939045",
         "2.80688081579387",
         "8.08158622728568",
         "6.37943901964185",
         "8.64792210103982",
         "8.14190889655213",
         "6.31102894482926",
         "1.65168318063211",
         "10.5345717454038",
         "6.87683369078801",
         "0.514400039036616",
         "8.5290955132576",
         "8.10870791828633",
         "0.0",
         "4.40156220725607",
         "8.93101786717084",
         "9.23681642306926",
         "9.86472689914288",
         "9.36513324976381",
         "7.76667598642836",
         "7.13606420954256",
         "10.6187382402867",
         "5.38191666245266",
         "6.39421057609351",
         "11.0298067107296",
         "7.75527884690196",
         "9.89555165379597",
         "4.97345974325761",
         "1.65168318063211",
         "10.7505009918442",
         "6.29537406169555",
         "6.97344367072049",
         "10.7757507576871",
         "8.83818976530319",
         "7.3595018434696",
         "6.66172680103636",
         "3.87861745406448",
         "2.51409700489423",
         "8.25547665655773",
         "6.26354902555058",
         "2.27964957855709",
         "5.8359468056148",
         "0.892818427795033",
         "6.50723647877327",
         "9.39573462079761",
         "0.896155575885027",
         "4.85030937555237",
         "5.97999101525339",
         "5.35196394843954",
         "1.44020807501375",
         "1.1923204350345",
         "6.45887246596612",
         "5.08691536191232",
         "5.67590623789452",
         "8.85830525414328",
         "7.58868765505908",
         "10.8662725184309",
         "7.20889177502615",
         "2.34073316058773",
         "4.45889378661077",
         "8.28549932006836",
         "3.32142306323736",
         "10.2874774896762",
         "3.54968149087065",
         "1.1923204350345",
         "5.35196394843954",
         "8.89121987895328",
         "6.23100608069058",
         "0.0",
         "8.92085183142555",
         "8.43227672077956",
         "5.1404637474989",
         "1.99956712655347",
         "7.74379095374865",
         "5.03130255449285",
         "5.74667823154279",
         "2.27964957855709",
         "5.57579637532908",
         "8.04928551632628",
         "6.40154002227886",
         "7.98974359973898",
         "9.9812066344188",
         "12.6965887256059",
         "12.9829375836397",
         "0.514400039036616",
         "0.892818427795033",
         "9.51879102628018",
         "1.65168318063211",
         "4.074753742132",
         "1.44020807501375",
         "1.65168318063211",
         "6.70975519034446",
         "5.6014825919661",
         "4.34185769168989",
         "1.44020807501375",
         "2.71571768922239",
         "11.7911212435683",
         "4.76195539637294",
         "3.32142306323736",
         "3.64810875183745",
         "5.06861492449468",
         "1.83608571170241",
         "9.22653598468143",
         "6.01863639941967",
         "5.10498656495273",
         "5.90976590504663",
         "4.56714383189377",
         "9.84335657866905",
         "5.66376586580518",
         "5.75814324788933",
         "8.5408095969954",
         "4.78455632940518",
         "1.1923204350345",
         "2.51409700489423",
         "0.0",
         "2.51409700489423",
         "6.12872644151132",
         "8.99661556213013",
         "0.514400039036616",
         "0.892818427795033",
         "2.40163046658474",
         "3.79203280256426",
         "1.1923204350345",
         "4.18079234592576",
         "3.05013597099955",
         "8.02813260902675",
         "4.45889378661077",
         "5.92000978373206",
         "5.24194312060608",
         "10.4689317918215",
         "4.69194726147176",
         "2.27964957855709",
         "10.4931478349129",
         "10.7946909757094",
         "0.892818427795033",
         "2.14639454906051",
         "9.31555558866489",
         "8.01385637883953",
         "8.91829916440991",
         "8.12429659638429",
         "11.8547484912556",
         "8.06090448600807",
         "3.25823246779168",
         "1.1923204350345",
         "3.38196163968958",
         "4.4867272426882",
         "10.249395325653",
         "10.20505412171",
         "7.86539118941687",
         "7.24193263661372",
         "1.83608571170241",
         "13.7906414253423",
         "8.1309262378786",
         "3.25823246779168",
         "6.83954394682307",
         "4.66783536978496",
         "11.3966513362425",
         "4.66588730508018",
         "4.37201877901903",
         "1.99956712655347",
         "8.01146321182706",
         "8.39604129231728",
         "9.67059747801296",
         "8.82325831723608",
         "0.514400039036616",
         "9.10047364633097",
         "8.23305638851172",
         "5.8785904809499",
         "4.78455632940518",
         "9.30679925817938",
         "8.88861419192403",
         "6.32651397893711",
         "5.33675111661636",
         "5.08691536191232",
         "0.514400039036616",
         "5.08691536191232",
         "2.80688081579387",
         "8.23920564266556",
         "2.61842661664593",
         "0.514400039036616",
         "7.92509745226183",
         "4.14630493181738",
         "1.99956712655347",
         "4.21447455431732",
         "10.4593059921366",
         "3.19214681127728",
         "7.75813658378613",
         "5.67445500189756",
         "6.05627354105307",
         "9.78290158933163",
         "9.75670642171407",
         "0.892818427795033",
         "3.12288803037456",
         "6.47285652137598",
         "11.5580607599634",
         "6.27954929712966",
         "9.29798945709483",
         "6.80679448076594",
         "7.37775192756158",
         "8.03521809468005",
         "3.19214681127728",
         "9.91424773320431",
         "10.7008654410999",
         "10.3465820988914",
         "12.8481137803131",
         "5.8785904809499",
         "1.1923204350345",
         "1.1923204350345",
         "8.85830525414328",
         "8.71711259952309",
         "4.31105256621218",
         "5.90976590504663",
         "2.40163046658474",
         "4.11097286869754",
         "4.59298318862288",
         "5.56277970898101",
         "9.6758963608721",
         "8.31102303942309",
         "2.80688081579387",
         "4.27957529668759",
         "6.71564768523389",
         "6.63710012405633",
         "12.7398783258517",
         "8.37571716498335",
         "3.25823246779168",
         "3.54968149087065",
         "4.45889378661077",
         "6.86754810001763",
         "5.8785904809499",
         "11.1667636411004",
         "9.40396916963524",
         "5.97016572597523",
         "6.80126343914127",
         "7.93523342494956",
         "3.54968149087065",
         "6.39421057609351",
         "0.899485022512771",
         "1.44020807501375",
         "7.04539382288184",
         "1.44020807501375",
         "0.514400039036616",
         "7.45064958809857",
         "6.77892475137599",
         "5.42571441256807",
         "8.72735653642184",
         "4.2473958962825",
         "0.514400039036616",
         "6.81230439830025",
         "4.87157755316436",
         "5.98974984303322",
         "8.13971914546826",
         "6.48670632943646",
         "1.44020807501375",
         "7.19208367018461",
         "7.04539382288184",
         "9.33003262043605",
         "4.97345974325761",
         "5.23638163757115",
         "5.96027306372925",
         "0.0",
         "4.46953437417225",
         "12.3848737403805",
         "4.59298318862288",
         "2.71571768922239",
         "4.4867272426882",
         "10.8738677074112",
         "4.34185769168989",
         "0.514400039036616",
         "2.40163046658474",
         "12.8243652962368",
         "4.03760186043555",
         "6.19771208899965",
         "2.14639454906051",
         "10.745469626597",
         "0.0",
         "3.25823246779168",
         "10.8112685547786",
         "7.04070726121414",
         "7.68793760388449",
         "2.89260474268157",
         "1.44020807501375",
         "3.32142306323736",
         "1.44020807501375",
         "8.84761176077034",
         "9.29995184504526",
         "6.83413601508418",
         "5.08691536191232",
         "6.54743748992732",
         "5.90976590504663",
         "7.17934782222815",
         "9.7285707116703",
         "3.05013597099955",
         "0.514400039036616",
         "7.69987709610445",
         "4.99299949721066",
         "11.5888855941831",
         "1.44020807501375",
         "2.14639454906051",
         "1.1923204350345",
         "6.82870900465054",
         "7.01226361046965",
         "0.514400039036616",
         "0.0",
         "6.17222746773544",
         "3.05013597099955",
         "3.38196163968958",
         "3.25370190841352",
         "1.44020807501375",
         "9.87002034293753",
         "3.32142306323736",
         "4.03760186043555",
         "0.0",
         "10.4711105224596",
         "2.97351943968502",
         "5.39666300152803",
         "7.93270610013002",
         "10.1137187285748",
         "1.83608571170241",
         "9.00385714799628",
         "4.64331363443255",
         "3.32142306323736",
         "7.8196164570476",
         "8.19728550826804",
         "7.52635603843389",
         "6.22275433781801",
         "9.38375698875565",
         "7.15257791543079",
         "3.69991803408543",
         "3.44006186288199",
         "2.27964957855709",
         "7.77234096947281",
         "4.78455632940518",
         "3.9994679080932",
         "3.60151824825482",
         "10.1397173550964",
         "4.4867272426882",
         "3.60151824825482",
         "1.65168318063211",
         "1.1923204350345",
         "1.65168318063211",
         "6.77892475137599",
         "6.61835026042259",
         "8.53914911554426",
         "1.44020807501375",
         "1.99956712655347",
         "3.25823246779168",
         "6.93859867126225",
         "10.9951013934698",
         "1.65168318063211",
         "8.26354433094492",
         "7.83739834507041",
         "0.514400039036616",
         "6.10647395514936",
         "4.91319580154473",
         "5.12283420549941",
         "4.61836788144821",
         "8.52747192338599",
         "3.87861745406448",
         "2.84004018272661",
         "6.46588143705085",
         "6.92848639726072",
         "2.80688081579387",
         "9.21097665149197",
         "6.18926713613591",
         "7.23374333103524",
         "5.69988472869748",
         "5.36701803748046",
         "7.58868765505908",
         "9.25007263860246",
         "3.26080853476227",
         "5.76951787027952",
         "9.16541957040701",
         "3.44006186288199",
         "0.0",
         "2.61842661664593",
         "11.8387991152381",
         "0.0",
         "1.65168318063211",
         "7.76951125851156",
         "4.61836788144821",
         "5.01227813874359",
         "0.514400039036616",
         "9.08006307928415",
         "5.32137615846965",
         "0.892818427795033",
         "1.65168318063211",
         "0.0",
         "2.86062516970056",
         "0",
         "0",
         "0",
         "0",
         "1",
         "1",
         "1",
         "1",
         "1",
         "1",
         "1",
         "1",
         "1",
         "1",
         "1",
         "1",
         "1",
         "1",
         "1",
         "1",
         "1",
         "1",
         "1",
         "1",
         "1",
         "1",
         "1",
         "1",
         "1",
         "1",
         "1",
         "1",
         "-1",
         "-1",
         "-1",
         "-1",
         "-1",
         "-1",
         "-1",
         "-1",
         "-1",
         "-1",
         "-1",
         "-1",
         "-1",
         "-1",
         "-1",
         "-1",
         "-1",
         "-1",
         "-1",
         "-1",
         "-1",
         "-1",
         "-1",
         "-1",
         "-1",
         "-1",
         "-1",
         "-1",
         "-1",
         "1",
         "-1",
         "-1",
         "1",
         "1",
         "1",
         "1",
         "2",
         "2",
         "0",
         "0",
         "0",
         "0",
         "0",
         "0",
         "0",
         "0",
         "0",
         "0",
         "0",
         "0",
         "0",
         "0",
         "0",
         "0",
         "0",
         "0",
         "0",
         "0",
         "0",
         "0",
         "0",
         "0",
         "0",
         "0",
         "0",
         "0",
         "0",
         "0",
         "0",
         "0",
         "0",
         "0",
         "0",
         "0",
         "0",
         "0",
         "0",
         "0",
         "0",
         "0",
         "0",
         "0",
         "0",
         "0",
         "0",
         "0",
         "0",
         "0",
         "0",
         "0",
         "0",
         "0",
         "0",
         "0",
         "0",
         "0",
         "0",
         "0",
         "0",
         "0",
         "0",
         "0",
         "0",
         "0",
         "0",
         "0",
         "0",
         "0",
         "0",
         "0",
         "0",
         "0",
         "0",
         "0",
         "0",
         "0",
         "0",
         "0",
         "0",
         "0",
         "0",
         "0",
         "0",
         "0",
         "0",
         "0",
         "0",
         "0",
         "0",
         "0",
         "0",
         "0",
         "0",
         "0",
         "0",
         "0",
         "0",
         "0",
         "0",
         "0",
         "0",
         "0",
         "0",
         "0",
         "0",
         "0",
         "0",
         "0",
         "0",
         "0",
         "0",
         "0",
         "0",
         "0",
         "0",
         "0",
         "0",
         "0",
         "0",
         "0",
         "0",
         "0",
         "0",
         "0",
         "0",
         "0",
         "0",
         "0",
         "0",
         "0",
         "0",
         "0",
         "0",
         "0",
         "0",
         "0",
         "0",
         "0",
         "0",
         "0",
         "0",
         "0",
         "0",
         "0",
         "0",
         "0",
         "0",
         "0",
         "0",
         "0",
         "1",
         "1",
         "1",
         "1",
         "1",
         "1",
         "1",
         "1",
         "1",
         "1",
         "1",
         "1",
         "1",
         "1",
         "1",
         "0",
         "0",
         "0",
         "0",
         "0",
         "0",
         "0",
         "0",
         "0",
         "0",
         "0",
         "0",
         "0",
         "-2",
         "-2",
         "-2",
         "1",
         "-2",
         "-2",
         "-2",
         "-2",
         "-2",
         "1",
         "1",
         "1",
         "1",
         "1",
         "1",
         "1",
         "1",
         "1",
         "1",
         "1",
         "1",
         "1",
         "1",
         "1",
         "1",
         "1",
         "1",
         "1",
         "1",
         "1",
         "1",
         "1",
         "1",
         "1",
         "1",
         "1",
         "1",
         "1",
         "1",
         "1",
         "1",
         "1",
         "1",
         "1",
         "1",
         "1",
         "1",
         "1",
         "1",
         "1",
         "1",
         "1",
         "1",
         "1",
         "0",
         "0",
         "0",
         "0",
         "0",
         "0",
         "-1",
         "-1",
         "-1",
         "-1",
         "-1",
         "0",
         "0",
         "0",
         "0",
         "0",
         "0",
         "0",
         "0",
         "0",
         "0",
         "0",
         "0",
         "0",
         "0",
         "0",
         "0",
         "0",
         "0",
         "0",
         "0",
         "0",
         "1",
         "1",
         "1",
         "1",
         "1",
         "1",
         "1",
         "1",
         "1",
         "1",
         "1",
         "1",
         "1",
         "1",
         "1",
         "1",
         "1",
         "1",
         "1",
         "1",
         "1",
         "1",
         "1",
         "1",
         "1",
         "0",
         "0",
         "0",
         "0",
         "0",
         "0",
         "0",
         "0",
         "0",
         "0",
         "0",
         "0",
         "0",
         "0",
         "0",
         "0",
         "0",
         "0",
         "0",
         "0",
         "0",
         "0",
         "0",
         "0",
         "0",
         "0",
         "0",
         "0",
         "0",
         "0",
         "0",
         "0",
         "0",
         "0",
         "0",
         "0",
         "0",
         "0",
         "0",
         "0",
         "0",
         "0",
         "0",
         "0",
         "0",
         "0",
         "0",
         "0",
         "0",
         "0",
         "0",
         "0",
         "0",
         "0",
         "0",
         "0",
         "0",
         "1",
         "1",
         "1",
         "1",
         "1",
         "1",
         "1",
         "1",
         "1",
         "1",
         "1",
         "1",
         "1",
         "1",
         "1",
         "0",
         "0",
         "0",
         "0",
         "0",
         "0",
         "0",
         "0",
         "0",
         "0",
         "0",
         "0",
         "0",
         "0",
         "0",
         "0",
         "0",
         "0",
         "0",
         "0",
         "0",
         "0",
         "0",
         "0",
         "0",
         "0",
         "0",
         "0",
         "0",
         "0",
         "0",
         "0",
         "0",
         "0",
         "0",
         "0",
         "0",
         "0",
         "0",
         "0",
         "0",
         "0",
         "0",
         "0",
         "0",
         "0",
         "0",
         "0",
         "0",
         "0",
         "0",
         "0",
         "0",
         "0",
         "0",
         "-1",
         "-1",
         "-1",
         "1",
         "1",
         "1",
         "1",
         "1",
         "1",
         "2",
         "2",
         "2",
         "2",
         "2",
         "2",
         "2",
         "2",
         "1",
         "1",
         "1",
         "1",
         "1",
         "1",
         "1",
         "1",
         "1",
         "1",
         "1",
         "1",
         "1",
         "1",
         "1",
         "1",
         "1",
         "1",
         "1",
         "1",
         "1",
         "1",
         "1",
         "1",
         "1",
         "1",
         "1",
         "1",
         "1",
         "1",
         "1",
         "1",
         "1",
         "1",
         "1",
         "1",
         "1",
         "1",
         "1",
         "1",
         "1",
         "1",
         "1",
         "1",
         "1",
         "1",
         "1",
         "1",
         "1",
         "1",
         "1",
         "1",
         "-1",
         "-1",
         "-1",
         "-1",
         "-1",
         "-1",
         "-1",
         "-1",
         "-1",
         "-1",
         "-1",
         "-1",
         "-1",
         "-1",
         "-1",
         "-1",
         "-1",
         "-1",
         "-1",
         "-1",
         "-1",
         "-1",
         "-1",
         "-1",
         "-1",
         "-1",
         "-1",
         "-1",
         "-1",
         "-1",
         "-1",
         "-1",
         "-1",
         "-1",
         "0",
         "0",
         "0",
         "0",
         "0",
         "0",
         "0",
         "0",
         "0",
         "0",
         "0",
         "0",
         "0",
         "0",
         "0",
         "0",
         "0",
         "0",
         "0",
         "0",
         "0",
         "0",
         "0",
         "0",
         "0",
         "0",
         "0",
         "0",
         "0",
         "0",
         "0",
         "0",
         "0",
         "0",
         "0",
         "0",
         "0",
         "0",
         "0",
         "0",
         "0",
         "0",
         "0",
         "0",
         "0",
         "0",
         "0",
         "0",
         "0",
         "0",
         "0",
         "0",
         "0",
         "0",
         "0",
         "0",
         "0",
         "0",
         "0",
         "0",
         "0",
         "0",
         "0",
         "0",
         "0",
         "0",
         "0",
         "0",
         "0",
         "0",
         "0",
         "0",
         "0",
         "0",
         "0",
         "0",
         "0",
         "0",
         "0",
         "0",
         "0",
         "0",
         "0",
         "0",
         "0",
         "0",
         "0",
         "0",
         "0",
         "0",
         "0",
         "0",
         "0",
         "0",
         "0",
         "0",
         "0",
         "0",
         "0",
         "0",
         "0",
         "0",
         "0",
         "0",
         "0",
         "0",
         "0",
         "1",
         "1",
         "1",
         "1",
         "1",
         "1",
         "1",
         "1",
         "1",
         "1",
         "1",
         "1",
         "1",
         "1",
         "1",
         "1",
         "1",
         "1",
         "1",
         "1",
         "1",
         "1",
         "1",
         "1",
         "1",
         "1",
         "1",
         "1",
         "1",
         "1",
         "1",
         "1",
         "1",
         "1",
         "1",
         "1",
         "1",
         "1",
         "1",
         "1",
         "1",
         "1",
         "1",
         "1",
         "1",
         "1",
         "1",
         "1",
         "1",
         "1",
         "1",
         "1",
         "1",
         "1",
         "1",
         "1",
         "1",
         "1",
         "1",
         "1",
         "1",
         "1",
         "1",
         "1",
         "1",
         "1",
         "1",
         "1",
         "1",
         "1",
         "1",
         "1",
         "1",
         "1",
         "1",
         "1",
         "1",
         "1",
         "1",
         "1",
         "1",
         "1",
         "1",
         "1",
         "1",
         "1",
         "1",
         "1",
         "1",
         "1",
         "1",
         "1",
         "1",
         "1",
         "1",
         "1",
         "1",
         "1",
         "1",
         "1",
         "1",
         "1",
         "1",
         "1",
         "1",
         "1",
         "1",
         "1",
         "1",
         "1",
         "1",
         "1",
         "1",
         "1",
         "1",
         "1",
         "0",
         "0",
         "0",
         "0",
         "0",
         "0",
         "0",
         "0",
         "0",
         "0",
         "0",
         "0",
         "0",
         "0",
         "0",
         "0",
         "0",
         "0",
         "0",
         "0",
         "0",
         "0",
         "0",
         "0",
         "0",
         "0",
         "0",
         "0",
         "0",
         "0",
         "0",
         "0",
         "0",
         "0",
         "0",
         "0",
         "0",
         "0",
         "0",
         "0",
         "0",
         "0",
         "0",
         "0",
         "0",
         "0",
         "0",
         "0",
         "0",
         "0",
         "0",
         "0",
         "0",
         "0",
         "1",
         "0",
         "1",
         "1",
         "1",
         "1",
         "1",
         "0",
         "0",
         "0",
         "0",
         "0",
         "0",
         "0",
         "0",
         "0",
         "0",
         "0",
         "0",
         "0",
         "0",
         "0",
         "0",
         "0",
         "0",
         "0",
         "0",
         "0",
         "0",
         "0",
         "0",
         "0",
         "0",
         "0",
         "0",
         "0",
         "0",
         "0",
         "0",
         "0",
         "0",
         "0",
         "0",
         "0",
         "0",
         "0",
         "0",
         "0",
         "0",
         "0",
         "0",
         "0",
         "0",
         "0",
         "0",
         "0",
         "0",
         "0",
         "0",
         "0",
         "0",
         "0",
         "0",
         "0",
         "0",
         "0",
         "0",
         "0",
         "0",
         "0",
         "0",
         "0",
         "0",
         "0",
         "0",
         "0",
         "0",
         "0",
         "0",
         "0",
         "0",
         "0",
         "0",
         "0",
         "0",
         "0",
         "0",
         "0",
         "0",
         "0",
         "0",
         "0",
         "0",
         "0",
         "0",
         "0",
         "0",
         "0",
         "0",
         "0",
         "0",
         "0",
         "0",
         "0",
         "0",
         "0",
         "0",
         "0",
         "0",
         "0",
         "0",
         "0",
         "0",
         "0",
         "0",
         "0",
         "0",
         "0",
         "0",
         "0",
         "0",
         "0",
         "0",
         "0",
         "0",
         "0",
         "0",
         "0",
         "0",
         "0",
         "0",
         "0",
         "0",
         "0",
         "0",
         "0",
         "0",
         "0",
         "0",
         "0",
         "0",
         "0",
         "0",
         "0",
         "0",
         "0",
         "0",
         "0",
         "0",
         "0",
         "0",
         "0",
         "0",
         "0",
         "0",
         "0",
         "0",
         "0",
         "0",
         "0",
         "0",
         "0",
         "0",
         "0",
         "0",
         "0",
         "0",
         "0",
         "0",
         "0",
         "0",
         "0",
         "0",
         "0",
         "0",
         "0",
         "0",
         "0",
         "0",
         "0",
         "0",
         "0",
         "0",
         "0",
         "0",
         "0",
         "0",
         "0",
         "0",
         "0",
         "0",
         "0",
         "0",
         "0",
         "0",
         "0",
         "0",
         "0",
         "0",
         "0",
         "0",
         "0",
         "0",
         "0",
         "0",
         "0",
         "0",
         "0",
         "0",
         "0",
         "0",
         "0",
         "0",
         "0",
         "0",
         "0",
         "0",
         "0",
         "0",
         "0",
         "0",
         "0",
         "0",
         "0",
         "0",
         "0",
         "0",
         "0",
         "0",
         "0",
         "0",
         "0",
         "0",
         "0",
         "0",
         "0",
         "0",
         "0",
         "0",
         "0",
         "0",
         "-0.0653648275",
         "-0.1736984765",
         "-0.190751879",
         "0.3908067995",
         "0.0356431825",
         "0.193453647",
         "-0.1705789885",
         "0.2832532175",
         "0.023942643",
         "-0.220959465",
         "0.200268381",
         "0.643560255",
         "-0.195641959",
         "-0.064953316",
         "0.208981645",
         "-0.1688011565",
         "1.498185962",
         "-0.1821447865",
         "-0.422909192",
         "0.7248127355",
         "0.455939966",
         "0.124866066",
         "0.2599978705",
         "0.2056670245",
         "0.222959131",
         "-0.108861304",
         "0.070757092",
         "0.0412596275000001",
         "0.0508113305",
         "0.0858726615000001",
         "0.0209226595000002",
         "0.1756733795",
         "-0.0924542359999999",
         "-0.0368640225",
         "-0.0480766009999998",
         "0.6067642775",
         "-0.010951454",
         "-0.1312652715",
         "-0.080541592",
         "-0.093600797",
         "0.4007274995",
         "-0.110480823",
         "0.0841321305",
         "-0.2467133325",
         "-0.102900107",
         "-0.074686616",
         "-0.0002175045",
         "-0.0703567525",
         "0.178316318",
         "0.104321491",
         "-0.099492953",
         "-0.198391286",
         "-0.046880841",
         "-0.1490296535",
         "-0.1332622815",
         "-0.1518802015",
         "-0.091457253",
         "0.2092736445",
         "-0.137241749",
         "0.0519928505000002",
         "0.396313708",
         "-0.774490224",
         "-0.325200972",
         "-0.0999724415",
         "-0.3137521145",
         "0.056551315",
         "0.0748359684999999",
         "-0.2745942405",
         "-0.2082918265",
         "0.8766408425",
         "-0.085786143",
         "0.3297299175",
         "-0.135189011",
         "0.0738392320000001",
         "0.6278662585",
         "1.18146356",
         "-0.0699643055",
         "-0.223460604",
         "-0.008217473",
         "-0.0534612955000001",
         "-0.1018343075",
         "-0.179540412",
         "0.0890420675",
         "0.035052137",
         "-0.4788301735",
         "-0.31668555",
         "-0.2584838485",
         "0.1995964145",
         "-0.2626739025",
         "0.5916703555",
         "0.0060486050000001",
         "0.3217105305",
         "0.0064424819999999",
         "0.7024339435",
         "0.424136337",
         "0.0010867949999999",
         "0.0927007155",
         "0.317018417",
         "0.145925916",
         "0.806192407",
         "-0.1491713805",
         "-0.0738986895",
         "-0.164287581",
         "0.704054712",
         "-0.2619297375",
         "0.3110269485",
         "-0.1279443005",
         "0.085391049",
         "0.54800975",
         "-0.194927903",
         "0.0516905304999999",
         "0.0468221015",
         "0.374366586",
         "0.253328405",
         "-0.167328738",
         "-0.062035854",
         "-0.092484635",
         "0.148142024",
         "0.0002175045",
         "0.9067640885",
         "-0.067025458",
         "-0.2594091405",
         "0.066699246",
         "-0.150459562",
         "-0.104715055",
         "0.065492119",
         "0.3440833425",
         "-0.151701398",
         "-0.201937658",
         "-0.1561420425",
         "-0.378450255",
         "0.0519376043625",
         "-0.07355652",
         "-0.176316022",
         "0.5454270315",
         "-0.0737179845",
         "0.0439746235",
         "-0.106972959",
         "-0.1381674625",
         "0.147432787",
         "0.177184668",
         "0.1789355395",
         "0.3188120555",
         "0.2063637985",
         "0.2264071945",
         "0.1049161805",
         "0.0246627885000001",
         "-0.187698797",
         "0.8093581975",
         "0.112429782",
         "-0.0853891939999999",
         "-0.4167646655",
         "-0.10293244",
         "0.118606637",
         "0.1320710255",
         "-0.297700378",
         "0.2833162305",
         "0.0023495765",
         "0.335146631",
         "0.1953252665",
         "0.185633726",
         "-0.3412491825",
         "-0.586693144",
         "-0.7265940625",
         "-0.2646233725",
         "-0.118261872",
         "-0.060414833",
         "0.3444465585",
         "-0.2184633225",
         "0.4938880875",
         "0.4421676195",
         "0.1036901815",
         "-0.112601177",
         "-0.0982216240000001",
         "-0.118470537",
         "-0.0835856035000001",
         "-0.2428213585",
         "0.189605754",
         "0.4575139915",
         "0.52635383",
         "0.0070854069999999",
         "-0.308786817",
         "0.0060723185",
         "-0.4307426175",
         "0.309510447",
         "0.1313460405",
         "-0.1680659515",
         "0.1006900705",
         "0.3048571885",
         "-0.116583556",
         "-0.1652525165",
         "0.1861941685",
         "0.0340340854999999",
         "0.4296067565",
         "-0.311867603",
         "-0.0268928035",
         "0.6262808315",
         "-0.1579714285",
         "0.0892812425",
         "0.7971002645",
         "-0.159530834",
         "-0.0935151205",
         "0.3835461875",
         "0.236109634",
         "-0.144989427",
         "0.6446010655",
         "0.057621695",
         "-0.201801367",
         "0.2800510975",
         "0.00370666",
         "0.190428208",
         "-0.2035868945",
         "-0.0222734390000001",
         "-0.027042234",
         "-0.0433299719999999",
         "-0.0025983944999999",
         "0.449227635",
         "-0.3752295715",
         "-0.691766355",
         "-0.337863289",
         "-0.178502932",
         "0.011637973",
         "-0.207256814",
         "0",
         "Positive",
         "Positive",
         "Negative",
         "infiltrating ductal carcinoma"
        ],
        [
         "1",
         "0.0",
         "3.6913108202263",
         "17.116089732886",
         "15.5172311189437",
         "9.86761604994958",
         "9.69166675947293",
         "8.17952150021844",
         "7.91172333519282",
         "1.28959842214019",
         "1.81889145303248",
         "0.444879056415559",
         "1.28959842214019",
         "5.69828794376315",
         "7.88552250743536",
         "1.81889145303248",
         "2.41516372957243",
         "0.0",
         "9.7985024205816",
         "11.5752059514561",
         "3.03968237340958",
         "11.5046951170665",
         "3.21823869925318",
         "8.54437835167822",
         "6.83340625475236",
         "11.6219123949183",
         "0.784336461442977",
         "8.88105490535341",
         "9.88369992531579",
         "8.3742387741967",
         "0.784336461442977",
         "9.06183666856657",
         "0.0",
         "3.88007815307922",
         "11.3792582999541",
         "0.0",
         "5.21394212496491",
         "4.50266157390617",
         "7.70752410069399",
         "9.33623807974375",
         "0.0",
         "4.98631991061143",
         "8.33282338042352",
         "5.63678700521823",
         "3.47408554844367",
         "9.00617990794751",
         "1.48841217599573",
         "0.444879056415559",
         "7.80393735784443",
         "7.08821687664581",
         "0.444879056415559",
         "3.94917071159817",
         "8.11144556854132",
         "5.62627850381324",
         "0.0",
         "11.2321535301118",
         "11.5896478697864",
         "6.30394509647855",
         "9.16437423761464",
         "6.67925347302204",
         "6.76798048006802",
         "8.07519833813979",
         "2.59838902770029",
         "10.1999061504433",
         "11.003312701727",
         "13.2535824496173",
         "2.59838902770029",
         "11.2702014606278",
         "5.97170678192435",
         "9.46272474335325",
         "9.14056932100333",
         "0.444879056415559",
         "3.10168368928722",
         "4.7742125022499",
         "4.73561965339812",
         "12.1102049557061",
         "8.37109487791884",
         "5.49379461865292",
         "6.25019797061694",
         "5.92101256259996",
         "8.04197667385568",
         "0.0",
         "12.1768925715241",
         "0.0",
         "1.48841217599573",
         "5.2554516353613",
         "2.97487801341583",
         "6.55548181836625",
         "0.0",
         "4.81179981244577",
         "4.30596322725998",
         "6.90905781853195",
         "2.90702524086232",
         "4.40765866251646",
         "6.24333776529609",
         "7.51301534852321",
         "6.86503788818835",
         "8.74835824677214",
         "0.444879056415559",
         "5.00266201995056",
         "6.31052371805123",
         "1.05900910004046",
         "3.42641237175856",
         "7.97106985837828",
         "6.11390465540114",
         "1.05900910004046",
         "5.5167369444806",
         "6.63799706522124",
         "1.28959842214019",
         "10.7806143198261",
         "10.541477475294",
         "6.00453959393429",
         "9.94471498888433",
         "7.21987130000003",
         "8.02607355030157",
         "8.50189210576468",
         "4.63352420945583",
         "2.76094477417644",
         "5.00266201995056",
         "11.3472180108294",
         "8.96193668456362",
         "2.20523609784985",
         "9.34427659786835",
         "4.19655196633489",
         "7.35012149632256",
         "5.15666762234388",
         "3.16114599486678",
         "6.38098566478932",
         "7.09585481461133",
         "4.59178711244622",
         "0.784336461442977",
         "0.0",
         "0.444879056415559",
         "5.62627850381324",
         "7.96273987357806",
         "1.81889145303248",
         "0.0",
         "8.23418418250255",
         "10.3331035689314",
         "5.56155526295974",
         "2.41516372957243",
         "7.88331777940557",
         "0.0",
         "6.36210688991037",
         "0.0",
         "2.90702524086232",
         "4.61323106013824",
         "6.91770265299795",
         "7.19519501265291",
         "7.8475704219421",
         "4.43200397342468",
         "9.343474669765",
         "10.4956598901856",
         "15.428794970327",
         "6.32216251378549",
         "2.31402939684195",
         "8.07326540866283",
         "2.83584324873874",
         "3.03968237340958",
         "0.784336461442977",
         "2.50969584193339",
         "3.91504279137198",
         "6.06025927475447",
         "5.86847194499513",
         "0.0",
         "0.444879056415559",
         "7.79692605024636",
         "1.66307131265128",
         "3.52022107440806",
         "7.05725421696934",
         "0.0",
         "3.52022107440806",
         "5.15666762234388",
         "3.9825190609858",
         "4.65519152025738",
         "8.59567782545905",
         "0.0",
         "11.1219151205732",
         "7.0611605451565",
         "0.0",
         "8.06939122598526",
         "4.76159378134819",
         "3.10168368928722",
         "5.62627850381324",
         "6.02868406818076",
         "10.6800367492316",
         "2.50969584193339",
         "0.0",
         "8.12830268181209",
         "4.30596322725998",
         "5.5167369444806",
         "6.63799706522124",
         "1.05900910004046",
         "0.0",
         "9.64687439452842",
         "7.57444291157385",
         "7.76853304422769",
         "6.09877956335936",
         "7.41567163851041",
         "7.59075170610033",
         "2.90702524086232",
         "4.22469631659158",
         "0.444879056415559",
         "4.93614321588831",
         "4.45594526833948",
         "0.444879056415559",
         "3.88007815307922",
         "3.03968237340958",
         "6.39343507839982",
         "0.784336461442977",
         "5.64722239519128",
         "0.0",
         "0.0",
         "1.05900910004046",
         "12.4111029081812",
         "2.59838902770029",
         "4.76734228639137",
         "4.7742125022499",
         "3.37712374912949",
         "4.25229454120184",
         "2.41516372957243",
         "4.27938214592565",
         "4.93614321588831",
         "2.83584324873874",
         "3.27317270528932",
         "10.0143798435811",
         "5.55048207464953",
         "0.0",
         "2.68196642882104",
         "3.5649390398472",
         "0.784336461442977",
         "5.96337932839795",
         "4.52546129914419",
         "8.29848236641607",
         "7.99985177801278",
         "7.01759125249467",
         "4.13856875740703",
         "3.73109632961453",
         "6.37471956952054",
         "2.97487801341583",
         "3.65040843597675",
         "9.89960646492225",
         "6.40577798104218",
         "4.96978595945091",
         "1.48841217599573",
         "0.0",
         "10.2327532004605",
         "6.34297956969702",
         "1.48841217599573",
         "14.3585880816041",
         "5.61568995488796",
         "7.18448858930947",
         "6.54620149127024",
         "0.0",
         "2.08759861792362",
         "6.92629599478111",
         "6.05242893677879",
         "1.05900910004046",
         "4.27938214592565",
         "0.0",
         "4.04697990814441",
         "8.60049129153767",
         "2.68764302531492",
         "4.52546129914419",
         "9.18062727386091",
         "0.444879056415559",
         "2.68196642882104",
         "1.66307131265128",
         "8.20092753219361",
         "1.81889145303248",
         "3.94917071159817",
         "8.61252206148778",
         "2.41516372957243",
         "12.6481425549868",
         "5.83235080105337",
         "0.0",
         "0.0",
         "0.784336461442977",
         "0.0",
         "7.40648820087832",
         "0.784336461442977",
         "0.0",
         "6.56283006917003",
         "7.88331777940557",
         "2.50969584193339",
         "0.0",
         "9.568755133753",
         "3.76980346972985",
         "1.81889145303248",
         "0.0",
         "5.91238640051228",
         "4.75504779270759",
         "6.10636297756074",
         "4.33207057273099",
         "3.47408554844367",
         "4.96978595945091",
         "6.18007225457181",
         "11.7200061554754",
         "7.82935932041305",
         "12.4640732745835",
         "8.69906295230934",
         "0.444879056415559",
         "2.59838902770029",
         "1.95947342648955",
         "1.28959842214019",
         "5.87736144333911",
         "10.1870021215343",
         "4.50266157390617",
         "3.37712374912949",
         "7.06894268749317",
         "2.90702524086232",
         "2.31402939684195",
         "2.41516372957243",
         "12.8555480113984",
         "2.50969584193339",
         "4.81179981244577",
         "2.56532908261084",
         "2.90702524086232",
         "1.81889145303248",
         "4.69596598307603",
         "8.03999813837601",
         "5.50531297397528",
         "3.27317270528932",
         "5.0188255357277",
         "8.6231323375059",
         "1.05900910004046",
         "2.76094477417644",
         "0.444879056415559",
         "6.09115819298597",
         "3.10168368928722",
         "0.444879056415559",
         "0.0",
         "8.41907196254243",
         "3.6913108202263",
         "6.65360608506084",
         "0.444879056415559",
         "0.444879056415559",
         "6.9559753126091",
         "3.84424503259787",
         "1.95947342648955",
         "6.06025927475447",
         "2.20523609784985",
         "2.20523609784985",
         "8.39914630796936",
         "3.27317270528932",
         "0.784336461442977",
         "2.59838902770029",
         "5.05061487970295",
         "11.2221555688517",
         "2.68196642882104",
         "9.42656542463172",
         "2.59838902770029",
         "1.81889145303248",
         "5.0348055640266",
         "1.48841217599573",
         "12.3801607790225",
         "7.38482863803654",
         "12.1440981020667",
         "7.51870901354113",
         "8.25309344731741",
         "3.5649390398472",
         "4.19655196633489",
         "4.84843766270535",
         "6.51805195666305",
         "10.0736006853496",
         "7.45183422150799",
         "7.04940859649091",
         "3.37712374912949",
         "11.1016672766933",
         "5.50531297397528",
         "4.52546129914419",
         "4.86640853529721",
         "2.20523609784985",
         "13.6423773684961",
         "3.573277567876",
         "1.66307131265128",
         "1.66307131265128",
         "3.88007815307922",
         "9.1285179281144",
         "7.35331182155057",
         "6.2364428694187",
         "1.28959842214019",
         "6.46005118867718",
         "2.08759861792362",
         "0.784336461442977",
         "2.76094477417644",
         "8.90764030163972",
         "7.7589433829118",
         "4.43200397342468",
         "1.95947342648955",
         "2.90702524086232",
         "0.0",
         "8.1057828236738",
         "1.66307131265128",
         "8.36636593161498",
         "3.32607708492313",
         "3.10168368928722",
         "7.85434106443776",
         "7.48129167508979",
         "0.0",
         "1.05900910004046",
         "9.40086705807636",
         "3.52022107440806",
         "5.60502311717639",
         "2.71883285695201",
         "0.784336461442977",
         "9.71665160861331",
         "9.34267251786161",
         "0.0",
         "6.62749594711325",
         "5.78588790834118",
         "11.1665729808342",
         "1.05900910004046",
         "1.48841217599573",
         "0.444879056415559",
         "5.8501618286309",
         "9.13223674316107",
         "6.50089444885323",
         "5.70828933592065",
         "12.0232559068416",
         "0.784336461442977",
         "10.9434538572387",
         "0.444879056415559",
         "0.0",
         "4.71593179798593",
         "7.0805382864763",
         "5.19983328959111",
         "2.59838902770029",
         "0.0",
         "1.28959842214019",
         "1.66307131265128",
         "3.37712374912949",
         "6.07579145447935",
         "5.75727398901724",
         "4.19655196633489",
         "2.31402939684195",
         "0.0",
         "0.0",
         "6.82423959973712",
         "12.194768763993",
         "4.73561965339812",
         "5.82317614195457",
         "3.88007815307922",
         "1.95947342648955",
         "5.219966139338",
         "5.95500585397852",
         "9.39003586090601",
         "6.84704732081409",
         "5.0188255357277",
         "3.52022107440806",
         "2.50969584193339",
         "2.41516372957243",
         "8.23245306665773",
         "0.444879056415559",
         "2.50969584193339",
         "2.31402939684195",
         "2.68196642882104",
         "1.66307131265128",
         "5.11216632023103",
         "8.65450320855312",
         "6.32359344610429",
         "9.46420081003136",
         "3.10168368928722",
         "0.444879056415559",
         "4.47948927097855",
         "5.21394212496491",
         "6.75356709931263",
         "7.4577740265946",
         "2.08759861792362",
         "1.95947342648955",
         "8.68140393440495",
         "3.37712374912949",
         "8.843301454207",
         "5.00266201995056",
         "4.73561965339812",
         "4.38290238042638",
         "6.62221585261262",
         "4.32688963794385",
         "11.0312159731634",
         "4.81179981244577",
         "2.20523609784985",
         "3.84424503259787",
         "7.39724507580388",
         "5.2554516353613",
         "0.784336461442977",
         "1.28959842214019",
         "11.7588632478348",
         "3.80750948824609",
         "5.06624852409626",
         "5.49379461865292",
         "13.7848148542885",
         "0.0",
         "3.21823869925318",
         "8.98268390375128",
         "5.53932013572688",
         "6.73412158523992",
         "1.48841217599573",
         "0.0",
         "0.784336461442977",
         "7.34372049078718",
         "6.51235648300823",
         "10.5722606253766",
         "0.444879056415559",
         "4.35770682212022",
         "4.54791247360097",
         "2.41516372957243",
         "4.81179981244577",
         "7.93320023230964",
         "6.05242893677879",
         "1.81889145303248",
         "1.05900910004046",
         "5.49379461865292",
         "10.4147628116087",
         "1.28959842214019",
         "0.444879056415559",
         "0.444879056415559",
         "5.26902940502134",
         "10.3383449636367",
         "0.784336461442977",
         "0.0",
         "5.47048155096117",
         "0.0",
         "2.76094477417644",
         "1.24853483613868",
         "1.81889145303248",
         "9.31594407137093",
         "2.41516372957243",
         "4.33207057273099",
         "0.784336461442977",
         "9.64752408377506",
         "0.0",
         "7.73468659110711",
         "2.50969584193339",
         "6.20147115676645",
         "5.68821953131067",
         "8.0059456113507",
         "1.28959842214019",
         "4.04697990814441",
         "3.94917071159817",
         "8.31415178732479",
         "2.50969584193339",
         "6.74872956650074",
         "5.63678700521823",
         "7.55720098655813",
         "2.76094477417644",
         "0.784336461442977",
         "1.81889145303248",
         "6.57927067584913",
         "2.59838902770029",
         "1.28959842214019",
         "3.73109632961453",
         "5.87736144333911",
         "0.784336461442977",
         "0.0",
         "1.05900910004046",
         "0.0",
         "0.444879056415559",
         "6.14368932369623",
         "3.88007815307922",
         "10.5739706216395",
         "0.784336461442977",
         "2.59838902770029",
         "3.94917071159817",
         "6.39962058397488",
         "8.75801829083164",
         "5.80465249184622",
         "8.36794411555096",
         "4.71593179798593",
         "3.80750948824609",
         "4.99042395983293",
         "1.66307131265128",
         "1.81889145303248",
         "0.784336461442977",
         "8.87027316103132",
         "3.21823869925318",
         "0.444879056415559",
         "8.19560597273379",
         "2.76094477417644",
         "3.10168368928722",
         "7.3879432107429",
         "5.09702078900647",
         "7.56896541870322",
         "2.20523609784985",
         "6.02868406818076",
         "6.25702759542748",
         "8.41297031638564",
         "2.41810897120884",
         "9.49051517799267",
         "6.04455805266252",
         "0.0",
         "0.0",
         "0.444879056415559",
         "11.0785966263683",
         "3.5649390398472",
         "2.83584324873874",
         "4.73561965339812",
         "1.28959842214019",
         "2.31402939684195",
         "0.0",
         "5.50531297397528",
         "2.50969584193339",
         "0.444879056415559",
         "3.76980346972985",
         "0.0",
         "0.0",
         "-1",
         "-1",
         "-1",
         "-1",
         "0",
         "0",
         "0",
         "0",
         "0",
         "0",
         "0",
         "0",
         "0",
         "0",
         "0",
         "0",
         "0",
         "0",
         "0",
         "0",
         "0",
         "0",
         "0",
         "0",
         "0",
         "0",
         "0",
         "0",
         "0",
         "0",
         "0",
         "0",
         "0",
         "0",
         "0",
         "0",
         "0",
         "0",
         "0",
         "0",
         "0",
         "0",
         "0",
         "0",
         "0",
         "0",
         "0",
         "0",
         "0",
         "0",
         "0",
         "0",
         "0",
         "0",
         "0",
         "0",
         "0",
         "0",
         "0",
         "0",
         "0",
         "0",
         "0",
         "0",
         "0",
         "0",
         "0",
         "0",
         "1",
         "1",
         "0",
         "0",
         "0",
         "0",
         "0",
         "0",
         "0",
         "0",
         "0",
         "0",
         "0",
         "0",
         "0",
         "0",
         "0",
         "0",
         "0",
         "0",
         "0",
         "0",
         "0",
         "0",
         "0",
         "0",
         "0",
         "0",
         "0",
         "0",
         "0",
         "0",
         "0",
         "0",
         "0",
         "0",
         "0",
         "0",
         "0",
         "0",
         "0",
         "0",
         "0",
         "0",
         "0",
         "0",
         "0",
         "0",
         "0",
         "0",
         "0",
         "0",
         "0",
         "0",
         "0",
         "0",
         "0",
         "0",
         "0",
         "0",
         "0",
         "0",
         "0",
         "0",
         "0",
         "0",
         "0",
         "0",
         "0",
         "0",
         "0",
         "0",
         "0",
         "0",
         "-1",
         "-1",
         "-1",
         "-1",
         "-1",
         "-1",
         "-1",
         "-1",
         "-1",
         "-1",
         "-1",
         "-1",
         "-1",
         "-1",
         "-1",
         "-1",
         "-1",
         "-1",
         "-1",
         "-1",
         "-1",
         "-1",
         "-1",
         "-1",
         "-1",
         "0",
         "0",
         "0",
         "0",
         "0",
         "0",
         "0",
         "0",
         "0",
         "0",
         "0",
         "0",
         "0",
         "0",
         "0",
         "0",
         "0",
         "0",
         "0",
         "0",
         "0",
         "0",
         "0",
         "0",
         "0",
         "0",
         "0",
         "0",
         "0",
         "0",
         "0",
         "0",
         "0",
         "0",
         "0",
         "0",
         "0",
         "0",
         "0",
         "0",
         "0",
         "0",
         "0",
         "0",
         "0",
         "0",
         "0",
         "0",
         "0",
         "0",
         "0",
         "-1",
         "-1",
         "-1",
         "-1",
         "0",
         "0",
         "0",
         "0",
         "0",
         "0",
         "0",
         "0",
         "0",
         "0",
         "0",
         "0",
         "0",
         "0",
         "0",
         "0",
         "0",
         "0",
         "0",
         "0",
         "0",
         "0",
         "0",
         "0",
         "0",
         "0",
         "0",
         "0",
         "0",
         "0",
         "0",
         "0",
         "0",
         "0",
         "0",
         "0",
         "0",
         "0",
         "0",
         "0",
         "0",
         "0",
         "0",
         "0",
         "0",
         "0",
         "0",
         "0",
         "0",
         "0",
         "0",
         "0",
         "0",
         "0",
         "0",
         "1",
         "1",
         "1",
         "1",
         "1",
         "1",
         "1",
         "1",
         "1",
         "1",
         "1",
         "1",
         "1",
         "1",
         "1",
         "1",
         "1",
         "1",
         "1",
         "1",
         "1",
         "1",
         "1",
         "1",
         "1",
         "1",
         "1",
         "0",
         "0",
         "0",
         "0",
         "0",
         "0",
         "0",
         "0",
         "0",
         "0",
         "0",
         "0",
         "0",
         "0",
         "0",
         "0",
         "0",
         "0",
         "0",
         "0",
         "0",
         "0",
         "0",
         "0",
         "0",
         "0",
         "0",
         "0",
         "0",
         "0",
         "0",
         "0",
         "0",
         "0",
         "0",
         "0",
         "0",
         "0",
         "0",
         "0",
         "0",
         "0",
         "0",
         "0",
         "0",
         "0",
         "0",
         "0",
         "0",
         "0",
         "0",
         "0",
         "0",
         "0",
         "0",
         "0",
         "0",
         "0",
         "0",
         "0",
         "0",
         "0",
         "0",
         "0",
         "0",
         "0",
         "0",
         "0",
         "0",
         "0",
         "0",
         "0",
         "0",
         "0",
         "0",
         "0",
         "0",
         "0",
         "0",
         "0",
         "0",
         "0",
         "0",
         "0",
         "0",
         "0",
         "-1",
         "-1",
         "-1",
         "-1",
         "-1",
         "-1",
         "-1",
         "-1",
         "-1",
         "-1",
         "-1",
         "-1",
         "-1",
         "-1",
         "-1",
         "-1",
         "-1",
         "-1",
         "-1",
         "-1",
         "-1",
         "-1",
         "-1",
         "-1",
         "-1",
         "-1",
         "-1",
         "-1",
         "1",
         "0",
         "0",
         "0",
         "0",
         "0",
         "0",
         "0",
         "0",
         "0",
         "0",
         "0",
         "0",
         "0",
         "0",
         "0",
         "0",
         "0",
         "0",
         "0",
         "0",
         "0",
         "0",
         "0",
         "0",
         "0",
         "0",
         "0",
         "0",
         "0",
         "0",
         "0",
         "0",
         "0",
         "0",
         "0",
         "0",
         "0",
         "0",
         "0",
         "0",
         "0",
         "0",
         "0",
         "0",
         "0",
         "0",
         "0",
         "0",
         "0",
         "0",
         "0",
         "0",
         "0",
         "0",
         "0",
         "0",
         "0",
         "0",
         "0",
         "0",
         "0",
         "0",
         "0",
         "0",
         "0",
         "0",
         "0",
         "0",
         "0",
         "0",
         "0",
         "0",
         "0",
         "0",
         "0",
         "0",
         "0",
         "0",
         "0",
         "0",
         "0",
         "0",
         "0",
         "0",
         "0",
         "0",
         "0",
         "1",
         "1",
         "1",
         "1",
         "1",
         "1",
         "1",
         "1",
         "1",
         "1",
         "1",
         "1",
         "1",
         "1",
         "1",
         "1",
         "1",
         "1",
         "1",
         "1",
         "1",
         "1",
         "1",
         "1",
         "1",
         "1",
         "1",
         "1",
         "1",
         "2",
         "0",
         "0",
         "0",
         "0",
         "0",
         "0",
         "0",
         "0",
         "0",
         "0",
         "0",
         "0",
         "0",
         "0",
         "0",
         "0",
         "0",
         "0",
         "0",
         "0",
         "0",
         "0",
         "0",
         "0",
         "0",
         "-1",
         "-1",
         "-1",
         "-1",
         "-1",
         "-1",
         "-1",
         "-1",
         "-1",
         "-1",
         "-1",
         "-1",
         "-1",
         "-1",
         "-1",
         "-1",
         "-1",
         "-1",
         "-1",
         "-1",
         "-1",
         "-1",
         "-1",
         "-1",
         "-1",
         "-1",
         "-1",
         "0",
         "0",
         "0",
         "0",
         "0",
         "0",
         "1",
         "1",
         "1",
         "1",
         "1",
         "0",
         "1",
         "1",
         "1",
         "1",
         "1",
         "1",
         "1",
         "1",
         "1",
         "1",
         "1",
         "1",
         "1",
         "1",
         "1",
         "1",
         "1",
         "1",
         "1",
         "1",
         "1",
         "1",
         "1",
         "1",
         "1",
         "1",
         "1",
         "1",
         "1",
         "1",
         "1",
         "1",
         "1",
         "1",
         "1",
         "1",
         "1",
         "1",
         "1",
         "1",
         "1",
         "1",
         "1",
         "1",
         "1",
         "1",
         "1",
         "1",
         "1",
         "1",
         "1",
         "1",
         "1",
         "1",
         "1",
         "1",
         "1",
         "1",
         "1",
         "1",
         "1",
         "1",
         "1",
         "1",
         "1",
         "0",
         "0",
         "0",
         "0",
         "0",
         "0",
         "0",
         "0",
         "0",
         "0",
         "0",
         "0",
         "0",
         "0",
         "0",
         "0",
         "0",
         "0",
         "0",
         "0",
         "0",
         "0",
         "0",
         "0",
         "0",
         "0",
         "0",
         "0",
         "0",
         "0",
         "0",
         "0",
         "0",
         "0",
         "0",
         "0",
         "0",
         "0",
         "0",
         "0",
         "0",
         "0",
         "0",
         "0",
         "0",
         "0",
         "0",
         "0",
         "0",
         "0",
         "0",
         "0",
         "0",
         "0",
         "0",
         "0",
         "0",
         "0",
         "0",
         "0",
         "0",
         "0",
         "0",
         "0",
         "0",
         "0",
         "0",
         "0",
         "0",
         "0",
         "0",
         "0",
         "0",
         "0",
         "0",
         "0",
         "0",
         "0",
         "0",
         "0",
         "0",
         "0",
         "0",
         "0",
         "0",
         "0",
         "0",
         "0",
         "0",
         "0",
         "0",
         "0",
         "0",
         "0",
         "0",
         "0",
         "0",
         "0",
         "0",
         "0",
         "0",
         "0",
         "0",
         "0",
         "0",
         "0",
         "0",
         "0",
         "0",
         "0",
         "0",
         "0",
         "0",
         "0",
         "0",
         "0",
         "0",
         "0",
         "0",
         "0",
         "0",
         "0",
         "0",
         "0",
         "0",
         "0",
         "0",
         "0",
         "0",
         "0",
         "0",
         "0",
         "0",
         "0",
         "0",
         "0",
         "0",
         "0",
         "0",
         "0",
         "0",
         "0",
         "0",
         "0",
         "0",
         "0",
         "0",
         "0",
         "0",
         "0",
         "0",
         "0",
         "0",
         "0",
         "0",
         "0",
         "0",
         "0",
         "0",
         "0",
         "0",
         "0",
         "0",
         "0",
         "0",
         "0",
         "0",
         "0",
         "0",
         "0",
         "0",
         "0",
         "0",
         "0",
         "0",
         "0",
         "0",
         "0",
         "0",
         "0",
         "0",
         "0",
         "0",
         "0",
         "0",
         "0",
         "0",
         "0",
         "0",
         "0",
         "0",
         "0",
         "0",
         "0",
         "0",
         "1",
         "0",
         "0",
         "0",
         "0",
         "0",
         "0",
         "0",
         "0",
         "1",
         "0",
         "0",
         "0",
         "0",
         "0",
         "0",
         "0",
         "0",
         "0",
         "0",
         "0",
         "1",
         "1",
         "1",
         "1",
         "1",
         "1",
         "1",
         "1",
         "1",
         "1",
         "1",
         "1",
         "1",
         "1",
         "0",
         "0",
         "0",
         "0",
         "0",
         "0",
         "0",
         "0",
         "0",
         "0",
         "0",
         "0",
         "0",
         "0",
         "0",
         "0",
         "0",
         "0",
         "0",
         "0",
         "0",
         "0",
         "0",
         "0",
         "0",
         "0",
         "0",
         "0",
         "0",
         "0",
         "0",
         "0",
         "0",
         "0",
         "0",
         "0",
         "0",
         "0",
         "0",
         "0",
         "0",
         "0",
         "0",
         "0",
         "0",
         "0",
         "0",
         "0",
         "0",
         "0",
         "0",
         "0",
         "0",
         "0",
         "0",
         "0",
         "0",
         "0",
         "0",
         "0",
         "0",
         "0",
         "0",
         "0",
         "0",
         "0",
         "0",
         "0",
         "0",
         "0",
         "0",
         "0",
         "0",
         "0",
         "0",
         "0",
         "0",
         "0",
         "0",
         "0",
         "0",
         "0",
         "0",
         "0",
         "0",
         "0",
         "0",
         "0",
         "0",
         "0",
         "0",
         "0",
         "0",
         "0",
         "0",
         "0",
         "0",
         "0",
         "0",
         "0",
         "0",
         "0",
         "0",
         "0",
         "0",
         "0",
         "0",
         "0",
         "0",
         "0",
         "0",
         "0",
         "0",
         "0",
         "0",
         "0",
         "0",
         "0",
         "0",
         "0",
         "0",
         "0",
         "0",
         "0",
         "0",
         "0",
         "0",
         "0",
         "0",
         "0",
         "0",
         "0",
         "0",
         "0",
         "0",
         "0",
         "0",
         "0",
         "0",
         "0",
         "0",
         "0",
         "0",
         "0",
         "0",
         "0",
         "0",
         "0",
         "0",
         "0",
         "0",
         "0",
         "0",
         "0",
         "0",
         "0",
         "0",
         "0",
         "0",
         "0",
         "0",
         "0",
         "0",
         "0",
         "0",
         "0",
         "0",
         "0",
         "0",
         "0",
         "0",
         "0",
         "0",
         "0",
         "0",
         "0",
         "0",
         "0",
         "0",
         "0",
         "0",
         "0",
         "0",
         "0",
         "0",
         "0",
         "0",
         "0",
         "0",
         "0",
         "0",
         "0",
         "0",
         "0",
         "0",
         "0",
         "0",
         "0",
         "0",
         "0",
         "0",
         "0",
         "0",
         "0",
         "0",
         "0",
         "0",
         "0",
         "0",
         "0",
         "0",
         "0",
         "0",
         "0",
         "-0.0296154570000003",
         "-0.157523488",
         "-0.2835812695",
         "0.0222430374999998",
         "-0.092125111",
         "-0.0569904155000001",
         "0.2454423705",
         "-0.172923996",
         "-0.1581326015",
         "0.2734827145",
         "1.4183413375",
         "1.56964667",
         "0.0236443245000001",
         "-0.540585719",
         "0.3718941755",
         "0.175476706",
         "0.185586276",
         "-0.383595091",
         "-0.0334508310000001",
         "0.0571786575",
         "-0.4435079765",
         "0.333354767",
         "0.56473631",
         "0.540817054",
         "0.578800988",
         "-0.1070257475",
         "0.4303892925",
         "-0.177926314",
         "-0.1416943955",
         "-0.392606096",
         "-0.7299013655",
         "0.441601297",
         "0.0451532049999999",
         "-0.39747125",
         "-0.0923398360000001",
         "0.3938599455",
         "-0.2670807125",
         "0.3204426455",
         "-0.145822801",
         "-0.1104212465",
         "-0.516197117",
         "0.0100579004999998",
         "0.0024126134999998",
         "-0.200031424",
         "-0.0883933880000002",
         "-0.2315783065",
         "0.1384957545",
         "0.202679681",
         "-0.1768003965",
         "0.0311540874999998",
         "-0.227858992",
         "-0.429186822",
         "-0.035275283",
         "0.1376876455",
         "0.0570498094999999",
         "-0.238308638500001",
         "-0.0884621035000001",
         "0.0022426899999999",
         "0.0168126729999999",
         "-0.388512573",
         "-0.919023787",
         "-1.593088096",
         "-0.3361326925",
         "-0.0977776145000001",
         "-0.2255617045",
         "-0.09685394",
         "0.1126226065",
         "0.5310817325",
         "0.5539318365",
         "0.0160426804999998",
         "0.1808984205",
         "0.482519474",
         "-0.0807134640000001",
         "0.0744047209999999",
         "1.0882542325",
         "-1.5565487695",
         "-0.4159338415",
         "-0.0391844505000001",
         "-0.0969131660000001",
         "0.1774524815",
         "0.0",
         "3.1548808105",
         "0.1387315235",
         "0.1906087285",
         "-0.049203693",
         "-0.7127218005",
         "0.471872689",
         "-0.260102064",
         "-0.345150818",
         "-0.3651798205",
         "-0.114966779",
         "-0.276549241",
         "0.0612331520000001",
         "0.8242595255",
         "0.82764375",
         "0.532980082",
         "0.4649540885",
         "-0.152397743",
         "0.301291824499999",
         "-0.332293038",
         "0.0061047154999996",
         "-0.184683977",
         "0.261354994",
         "0.8241566365",
         "-0.0228373625000001",
         "0.2470769955",
         "0.0193677814999998",
         "0.2119949645",
         "1.1398144455",
         "-0.2032467925",
         "0.1669339705",
         "0.0960569799999998",
         "0.1225633815",
         "1.096263663",
         "0.3354608055",
         "0.223788833",
         "-0.061273304",
         "-0.380213882",
         "-0.251774342",
         "0.1973279885",
         "-0.0646464140000002",
         "-0.1260646295",
         "-0.3334789325",
         "0.0972712139999999",
         "-0.0158124575000002",
         "0.0930862339999999",
         "0.3713190035",
         "0.1182860655",
         "-0.0542531685000004",
         "-0.0211930455000001",
         "-0.428057492",
         "-1.17510577",
         "-0.252850085000001",
         "-0.100141546",
         "0.0812915639999999",
         "-0.0268985020000001",
         "-0.1113871025",
         "0.2849316595",
         "0.0138865759999999",
         "0.186980522",
         "-0.101884873",
         "0.1176455535",
         "0.685847973",
         "0.106192966",
         "0.285355441",
         "3.849083919",
         "0.1025691425",
         "-0.153136361",
         "-0.38472034",
         "0.6360445025",
         "0.3878925255",
         "-0.3092265615",
         "-0.3203386395",
         "-0.1149787795",
         "-0.0819352475000001",
         "-0.0649306605000001",
         "0.0610412939999999",
         "-0.0396013090000001",
         "0.3860212115",
         "-0.213307026",
         "-0.0733877540000001",
         "-0.4838166915",
         "-0.1652933955",
         "-0.1960326085",
         "-0.247671104",
         "-0.0592630245000002",
         "-0.0938252085000001",
         "0.2102209305",
         "-0.454229886",
         "0.102849677",
         "1.42687361",
         "0.3899325235",
         "-0.0738830975000002",
         "0.212020685",
         "-0.0438883739999999",
         "-0.0980532365000001",
         "-0.1208800965",
         "-0.0726274425000001",
         "0.10652146",
         "0.6935478985",
         "0.0237109634999998",
         "-0.1517814565",
         "-0.0487640330000001",
         "0.0448824474999999",
         "-0.0537220295000002",
         "0.117277324",
         "-0.23262784",
         "0.0049787339999998",
         "0.212137338",
         "-0.699372542",
         "-0.0755064150000001",
         "-0.0038012210000001",
         "0.0284242705",
         "0.6999276485",
         "-0.0624877100000002",
         "0.1232373835",
         "0.4021818615",
         "0.0185220399999999",
         "0.40364273",
         "0.706402702",
         "-0.0765412980000001",
         "-0.0718012645000001",
         "-0.2133699505",
         "0.0063679879999998",
         "0.0894772635",
         "0.0751703540000001",
         "0.403337212",
         "0.344308456",
         "-0.4349115625",
         "0.258329747",
         "0.8901938645",
         "0.300936107",
         "-0.101746317",
         "-0.0714062610000002",
         "-0.2207636935",
         "0.220809271",
         "1.035114857",
         "-0.0741364160000001",
         "0.2790669875",
         "0.2929253175",
         "-0.155241958",
         "-0.0893652800000001",
         "0.267529559",
         "0",
         "Positive",
         "Negative",
         "Negative",
         "infiltrating ductal carcinoma"
        ],
        [
         "2",
         "3.74814990360951",
         "4.37525495041105",
         "9.658122561431",
         "5.32698308814846",
         "12.1095391482079",
         "11.6443069615456",
         "10.5173296357657",
         "5.11492500345468",
         "11.9753485615302",
         "11.9114370432701",
         "4.1260560176619",
         "9.38337943354522",
         "8.63091323488617",
         "9.61031009883917",
         "4.73367430139923",
         "16.1731768274557",
         "6.79102480007363",
         "7.72836544373903",
         "8.29013683889035",
         "2.77669358234159",
         "16.1894747296993",
         "4.98763920612902",
         "2.32877903095893",
         "2.61381450656865",
         "11.8206887628906",
         "0.0",
         "1.06860202737867",
         "8.65205727949517",
         "6.59205781149086",
         "3.89726947283354",
         "6.6351681410494",
         "3.02249210140117",
         "11.6484227040637",
         "12.3225395890764",
         "9.23888404528372",
         "8.57250393840562",
         "9.85958028724176",
         "4.03240945518361",
         "3.93225964167864",
         "10.1245320853195",
         "3.78689950508474",
         "7.34591702989866",
         "2.32877903095893",
         "11.4595241407856",
         "9.41773587122946",
         "2.69755143881627",
         "3.11799418804442",
         "9.113967146433",
         "6.02269182814192",
         "9.30961731951907",
         "10.090086345032",
         "8.30689834665361",
         "2.69755143881627",
         "0.449746239021009",
         "7.81058770029803",
         "10.0774427658866",
         "6.88331900145629",
         "8.18707241566914",
         "8.54309563779326",
         "2.85171906302582",
         "6.64046765089674",
         "2.85171906302582",
         "4.52029023117541",
         "13.1544670421859",
         "7.39377312311391",
         "0.449746239021009",
         "11.9439476181186",
         "9.46330468272506",
         "11.059075164167",
         "8.75824753709398",
         "1.30053377249537",
         "1.30053377249537",
         "5.85046690899761",
         "8.66901152469437",
         "9.72948394442813",
         "7.66216703866889",
         "1.50029217673417",
         "6.04684025420297",
         "4.52029023117541",
         "11.3077028752922",
         "7.01563917542393",
         "11.8850231365166",
         "9.30378394401701",
         "10.0302792391281",
         "3.39378684914457",
         "10.9267992933797",
         "11.1324397713905",
         "1.06860202737867",
         "6.84251503383938",
         "4.56556671322179",
         "10.113617682659",
         "1.97320715411346",
         "3.62523541532499",
         "7.07555402328398",
         "7.718376696948",
         "3.39378684914457",
         "9.12346031302175",
         "7.52276904000151",
         "13.6278421569242",
         "9.04170678442528",
         "6.73267350996302",
         "8.02633807957148",
         "4.7137013129085",
         "6.18381201706877",
         "8.30189031012339",
         "5.2177735638249",
         "4.03240945518361",
         "0.792105705662905",
         "4.40046278726017",
         "10.6911407584446",
         "3.49086531364415",
         "0.449746239021009",
         "7.08724429883206",
         "4.82958575182309",
         "10.3519313835362",
         "0.0",
         "1.67572561879684",
         "4.15596775722966",
         "10.9919931958914",
         "8.67160227601845",
         "10.5623484278789",
         "8.65205727949517",
         "11.028326444973",
         "8.10319652227417",
         "11.1457123504693",
         "8.24388372909473",
         "5.03669673510116",
         "4.42523772717566",
         "10.4977537582906",
         "1.06860202737867",
         "1.06860202737867",
         "1.50029217673417",
         "6.34829439542969",
         "3.28970169572107",
         "6.77665673975814",
         "6.80525117618209",
         "4.24215278445574",
         "12.1940715654164",
         "1.30053377249537",
         "8.78720552363173",
         "4.58768302092682",
         "0.449746239021009",
         "9.56295348235195",
         "0.0",
         "4.60946540142753",
         "5.25970184150932",
         "9.91802539629414",
         "9.03869955130559",
         "0.0",
         "3.74814990360951",
         "8.78959265569623",
         "9.81984250712936",
         "10.3180199780975",
         "6.07998390729519",
         "6.32214989219967",
         "8.49270844103025",
         "7.89946931279766",
         "1.06860202737867",
         "0.449746239021009",
         "2.61381450656865",
         "5.44070641412704",
         "8.15039517071822",
         "5.2035222416297",
         "8.13358099217458",
         "7.59551634131631",
         "4.52029023117541",
         "10.6218320114183",
         "9.26313560696564",
         "8.92278180281089",
         "0.792105705662905",
         "4.37525495041105",
         "3.58182122162651",
         "1.67572561879684",
         "3.11799418804442",
         "8.64008294031606",
         "1.30053377249537",
         "10.5061240709198",
         "10.2875207769253",
         "2.92303505374021",
         "4.69344792754032",
         "4.66398213375599",
         "6.21256155730317",
         "11.042407201733",
         "11.2968362142172",
         "11.5010833539518",
         "8.85601616225015",
         "4.15596775722966",
         "9.50602744590889",
         "3.23471590012609",
         "8.09742749866762",
         "5.44070641412704",
         "1.06860202737867",
         "1.83212037155332",
         "8.32016873798026",
         "3.74814990360951",
         "4.82958575182309",
         "5.67565505831959",
         "8.77400522328505",
         "5.76570711690659",
         "7.23818592990874",
         "2.21971063954878",
         "2.43017820443783",
         "6.13207913396689",
         "5.17459017945539",
         "4.29687583837696",
         "6.79578252980194",
         "6.77665673975814",
         "8.89089746445076",
         "1.06860202737867",
         "7.41866222167908",
         "6.56444371640687",
         "0.0",
         "8.49124262703733",
         "11.6340488972172",
         "7.83159037065452",
         "4.37525495041105",
         "9.25797305270857",
         "1.50029217673417",
         "5.30044591489326",
         "4.37525495041105",
         "6.28202458121855",
         "2.43017820443783",
         "1.67572561879684",
         "4.98763920612902",
         "9.45731151311994",
         "6.41165503847484",
         "0.449746239021009",
         "7.11415876872055",
         "4.60946540142753",
         "1.83212037155332",
         "6.28879042006817",
         "9.51687361981855",
         "8.22636932074656",
         "12.9311836023131",
         "9.27681254628251",
         "9.81867420027613",
         "0.0",
         "3.05588975819628",
         "8.34472598887912",
         "5.3912659333027",
         "8.81324889886199",
         "5.75597445718952",
         "10.2747975629946",
         "5.86864479145084",
         "0.0",
         "8.28507017583424",
         "8.77279918526252",
         "4.65206767970751",
         "10.6692702422837",
         "1.83212037155332",
         "9.11015231982662",
         "7.01563917542393",
         "1.50029217673417",
         "1.50029217673417",
         "7.94942987858239",
         "5.95624720199519",
         "2.32877903095893",
         "8.83305642070584",
         "2.61381450656865",
         "4.98763920612902",
         "6.97845764361303",
         "1.50029217673417",
         "11.2368735118173",
         "3.70833072571362",
         "5.34007084299985",
         "1.50029217673417",
         "3.70833072571362",
         "7.26588223089651",
         "6.99095826297562",
         "6.44837735072886",
         "7.60638966593237",
         "6.06271752969708",
         "10.7757517451742",
         "3.28970169572107",
         "4.96601971328231",
         "1.67572561879684",
         "3.53705994780599",
         "5.48850536867898",
         "8.44353289048008",
         "3.96642123816316",
         "1.67572561879684",
         "5.93914898611051",
         "7.60367900795708",
         "6.88331900145629",
         "4.33424646501066",
         "7.22060178905001",
         "4.47354665886319",
         "3.74814990360951",
         "0.0",
         "8.36247295719167",
         "5.80399416845165",
         "6.85624498591093",
         "7.86592932798085",
         "7.75303886712117",
         "4.29687583837696",
         "4.1260560176619",
         "8.19249453105936",
         "5.73630992063489",
         "12.6387953889869",
         "8.17251301767184",
         "5.23188548363107",
         "4.9539822171735",
         "8.79316596416179",
         "1.97320715411346",
         "3.70833072571362",
         "3.74814990360951",
         "2.21971063954878",
         "7.64381362964325",
         "7.41866222167908",
         "8.47502001210901",
         "0.792105705662905",
         "2.32877903095893",
         "13.9526544972618",
         "4.63092378864522",
         "5.28699200636493",
         "5.87890431871575",
         "2.99099115415533",
         "8.0323978834243",
         "5.25970184150932",
         "8.84572964387683",
         "5.25970184150932",
         "6.50176554585266",
         "9.19903378644825",
         "9.58098095914937",
         "6.37397352917908",
         "5.63375377531907",
         "0.792105705662905",
         "5.51182537957472",
         "7.53704674262602",
         "7.8816780772337",
         "4.06430517519151",
         "3.11799418804442",
         "4.29687583837696",
         "8.53458186083192",
         "0.449746239021009",
         "4.97090885845167",
         "9.5375503957842",
         "3.23471590012609",
         "0.792105705662905",
         "5.41619795110661",
         "4.15596775722966",
         "3.05588975819628",
         "4.21399265589712",
         "3.53705994780599",
         "2.61381450656865",
         "8.39105064426273",
         "4.60946540142753",
         "2.77669358234159",
         "8.89755235044805",
         "10.1313188713215",
         "1.30053377249537",
         "10.0104619487948",
         "6.30889779558117",
         "1.97320715411346",
         "9.6827321718514",
         "8.21753173105889",
         "10.9419013029554",
         "6.01455168611212",
         "7.206379492353",
         "4.58768302092682",
         "3.96642123816316",
         "4.32347815904603",
         "6.18381201706877",
         "7.27953351145518",
         "9.98829186809343",
         "6.06271752969708",
         "7.10652001881109",
         "12.9687322133246",
         "7.25210054224032",
         "5.32698308814846",
         "3.78689950508474",
         "0.0",
         "11.5552227212418",
         "5.38205504947069",
         "5.53477442949377",
         "6.2054277040592",
         "6.16921951139959",
         "7.11796302996185",
         "3.39378684914457",
         "7.93871510152593",
         "2.10171730169687",
         "2.69755143881627",
         "1.83212037155332",
         "5.32698308814846",
         "2.85171906302582",
         "10.0378294254884",
         "4.73367430139923",
         "7.02782308067912",
         "6.07059111933465",
         "2.32877903095893",
         "0.0",
         "6.17653421410646",
         "2.52491619907209",
         "6.6351681410494",
         "2.69755143881627",
         "2.85171906302582",
         "6.65625037064903",
         "2.61381450656865",
         "5.34007084299985",
         "5.90432753652247",
         "3.53705994780599",
         "4.73367430139923",
         "5.3912659333027",
         "4.56266372125295",
         "0.0",
         "8.86623016510666",
         "9.07339958224753",
         "3.23471590012609",
         "5.00417776078911",
         "6.4423215104798",
         "6.91427629053797",
         "3.62523541532499",
         "2.32877903095893",
         "3.62523541532499",
         "7.67949276701605",
         "9.00314429496517",
         "4.1260560176619",
         "7.47610783468852",
         "12.4888570967329",
         "2.92303505374021",
         "14.9611878837164",
         "1.06860202737867",
         "0.449746239021009",
         "0.792105705662905",
         "9.59059565740841",
         "5.41619795110661",
         "1.50029217673417",
         "3.39378684914457",
         "1.50029217673417",
         "4.37525495041105",
         "0.449746239021009",
         "3.58182122162651",
         "11.1170114756561",
         "8.32511383267225",
         "3.49086531364415",
         "0.449746239021009",
         "1.06860202737867",
         "7.82462339823407",
         "11.1517557782569",
         "2.77669358234159",
         "7.20280165775652",
         "7.64117244639951",
         "7.63055909331635",
         "6.13049849060174",
         "5.55736413592979",
         "9.68208989527304",
         "4.67290616018654",
         "2.21971063954878",
         "4.73367430139923",
         "6.36119109575833",
         "5.72637621690724",
         "6.11695106512358",
         "4.73901636959342",
         "1.50029217673417",
         "5.44070641412704",
         "1.67572561879684",
         "0.792105705662905",
         "3.49086531364415",
         "6.70258828793445",
         "6.61377326053173",
         "10.2550680013702",
         "7.78927475171699",
         "0.792105705662905",
         "8.49563560865745",
         "1.06860202737867",
         "7.28292624335015",
         "4.65206767970751",
         "0.792105705662905",
         "4.49710774923173",
         "5.6548565328038",
         "6.4423215104798",
         "9.00108583919729",
         "7.8906011199087",
         "6.72241547461154",
         "6.2683969632693",
         "1.30053377249537",
         "7.94500364481962",
         "7.30978464154226",
         "0.0",
         "3.74814990360951",
         "0.449746239021009",
         "6.5362907387608",
         "5.08414082086671",
         "0.0",
         "4.24215278445574",
         "10.1174233690842",
         "3.99979259768047",
         "4.1260560176619",
         "3.78689950508474",
         "12.2761599195679",
         "1.67572561879684",
         "2.77669358234159",
         "7.18114629222258",
         "8.02228402330639",
         "4.18527190559382",
         "3.78689950508474",
         "4.1260560176619",
         "2.85171906302582",
         "0.0",
         "6.89666783314073",
         "7.46420264829773",
         "9.05267998438209",
         "5.78497764936268",
         "5.14506601418589",
         "3.78689950508474",
         "7.15916091202397",
         "8.54592243496494",
         "3.28970169572107",
         "4.26977375927604",
         "1.50029217673417",
         "2.32877903095893",
         "10.2346269349054",
         "0.449746239021009",
         "1.67572561879684",
         "2.21971063954878",
         "1.06860202737867",
         "9.41773587122946",
         "5.70630122813059",
         "0.449746239021009",
         "3.53705994780599",
         "1.67572561879684",
         "4.67290616018654",
         "4.3926952220084",
         "0.0",
         "8.97300533805068",
         "1.97320715411346",
         "7.08724429883206",
         "0.792105705662905",
         "8.77641427893235",
         "0.449746239021009",
         "7.45219840174077",
         "2.99099115415533",
         "9.84759015198515",
         "1.83212037155332",
         "8.87973731264026",
         "5.75597445718952",
         "0.0",
         "6.94458323016348",
         "12.2334052936037",
         "3.93225964167864",
         "6.5362907387608",
         "10.2280417102526",
         "8.86772229251997",
         "1.67572561879684",
         "4.75337455099095",
         "0.792105705662905",
         "6.1544778966369",
         "5.08414082086671",
         "6.27522686290024",
         "4.75337455099095",
         "3.74814990360951",
         "2.77669358234159",
         "4.73367430139923",
         "2.92303505374021",
         "0.792105705662905",
         "5.17459017945539",
         "5.59059902554401",
         "2.61381450656865",
         "8.89422874466614",
         "5.48850536867898",
         "2.61381450656865",
         "5.03669673510116",
         "5.9815239005097",
         "8.8964453323862",
         "2.85171906302582",
         "9.10824111710435",
         "7.81357022171758",
         "4.58768302092682",
         "5.65851713031181",
         "6.17653421410646",
         "3.99979259768047",
         "1.97320715411346",
         "7.43094758293703",
         "8.98451159721188",
         "4.81990316425945",
         "9.41232447252042",
         "5.30044591489326",
         "2.43017820443783",
         "5.03669673510116",
         "10.9219113596961",
         "6.47828102221191",
         "8.14481219006041",
         "7.20994847598701",
         "6.28879042006817",
         "10.2887869601823",
         "1.97452931248388",
         "5.27341145091384",
         "8.23515310300952",
         "4.29687583837696",
         "0.449746239021009",
         "2.32877903095893",
         "11.8437643714375",
         "2.10171730169687",
         "0.0",
         "7.635875529631",
         "1.50029217673417",
         "6.80525117618209",
         "1.50029217673417",
         "6.33528136680332",
         "4.29687583837696",
         "3.70833072571362",
         "0.0",
         "0.0",
         "4.55482825779808",
         "0",
         "0",
         "0",
         "0",
         "0",
         "0",
         "0",
         "0",
         "0",
         "0",
         "0",
         "0",
         "0",
         "0",
         "0",
         "0",
         "0",
         "0",
         "0",
         "0",
         "0",
         "0",
         "0",
         "0",
         "0",
         "0",
         "0",
         "0",
         "0",
         "0",
         "0",
         "0",
         "0",
         "0",
         "0",
         "0",
         "0",
         "0",
         "0",
         "0",
         "0",
         "0",
         "0",
         "0",
         "0",
         "0",
         "0",
         "0",
         "0",
         "0",
         "0",
         "0",
         "0",
         "0",
         "0",
         "0",
         "0",
         "0",
         "0",
         "0",
         "0",
         "0",
         "0",
         "0",
         "0",
         "1",
         "1",
         "1",
         "1",
         "1",
         "0",
         "0",
         "0",
         "0",
         "0",
         "0",
         "1",
         "1",
         "1",
         "1",
         "1",
         "1",
         "1",
         "1",
         "1",
         "1",
         "1",
         "1",
         "1",
         "1",
         "1",
         "1",
         "1",
         "1",
         "1",
         "1",
         "1",
         "1",
         "1",
         "1",
         "1",
         "1",
         "1",
         "1",
         "1",
         "1",
         "1",
         "1",
         "1",
         "1",
         "1",
         "1",
         "1",
         "1",
         "1",
         "1",
         "1",
         "1",
         "1",
         "1",
         "1",
         "1",
         "1",
         "1",
         "1",
         "1",
         "1",
         "1",
         "1",
         "1",
         "1",
         "1",
         "1",
         "1",
         "1",
         "1",
         "1",
         "1",
         "1",
         "1",
         "1",
         "1",
         "1",
         "1",
         "1",
         "1",
         "1",
         "1",
         "1",
         "1",
         "1",
         "1",
         "1",
         "1",
         "1",
         "1",
         "1",
         "1",
         "1",
         "1",
         "1",
         "1",
         "1",
         "1",
         "1",
         "1",
         "1",
         "1",
         "1",
         "1",
         "1",
         "1",
         "-1",
         "-1",
         "-1",
         "0",
         "0",
         "0",
         "0",
         "0",
         "0",
         "0",
         "0",
         "0",
         "0",
         "0",
         "0",
         "0",
         "0",
         "0",
         "0",
         "0",
         "0",
         "1",
         "1",
         "1",
         "1",
         "1",
         "1",
         "1",
         "1",
         "1",
         "1",
         "1",
         "1",
         "1",
         "1",
         "1",
         "1",
         "1",
         "1",
         "1",
         "1",
         "1",
         "1",
         "1",
         "1",
         "1",
         "1",
         "1",
         "1",
         "1",
         "1",
         "1",
         "1",
         "1",
         "0",
         "0",
         "0",
         "0",
         "0",
         "0",
         "0",
         "0",
         "0",
         "0",
         "0",
         "1",
         "1",
         "1",
         "1",
         "1",
         "1",
         "1",
         "1",
         "1",
         "1",
         "1",
         "1",
         "1",
         "1",
         "1",
         "1",
         "1",
         "1",
         "1",
         "1",
         "1",
         "1",
         "1",
         "1",
         "1",
         "1",
         "1",
         "1",
         "1",
         "1",
         "1",
         "1",
         "1",
         "1",
         "1",
         "1",
         "1",
         "1",
         "1",
         "1",
         "1",
         "1",
         "1",
         "1",
         "1",
         "1",
         "1",
         "1",
         "1",
         "1",
         "1",
         "1",
         "1",
         "1",
         "1",
         "1",
         "1",
         "1",
         "1",
         "1",
         "1",
         "1",
         "1",
         "1",
         "1",
         "1",
         "1",
         "-1",
         "-1",
         "-1",
         "-1",
         "-1",
         "-2",
         "-1",
         "-1",
         "-1",
         "-1",
         "-1",
         "-1",
         "-1",
         "-1",
         "-1",
         "-1",
         "-1",
         "-1",
         "-1",
         "-1",
         "-1",
         "-1",
         "-1",
         "-1",
         "-1",
         "-1",
         "-1",
         "-1",
         "-1",
         "-1",
         "-1",
         "-1",
         "1",
         "1",
         "1",
         "1",
         "1",
         "1",
         "1",
         "1",
         "1",
         "1",
         "1",
         "1",
         "1",
         "1",
         "-1",
         "-1",
         "1",
         "-1",
         "-1",
         "-1",
         "-1",
         "-1",
         "1",
         "1",
         "1",
         "0",
         "0",
         "0",
         "0",
         "0",
         "1",
         "1",
         "1",
         "-1",
         "-1",
         "-1",
         "-1",
         "-1",
         "-1",
         "1",
         "1",
         "2",
         "2",
         "2",
         "2",
         "2",
         "-1",
         "2",
         "2",
         "2",
         "2",
         "2",
         "2",
         "2",
         "2",
         "-1",
         "-1",
         "-1",
         "-1",
         "-1",
         "-1",
         "-1",
         "-1",
         "-1",
         "-1",
         "-1",
         "-1",
         "-1",
         "-1",
         "-1",
         "-1",
         "-1",
         "-1",
         "-1",
         "-1",
         "0",
         "0",
         "-1",
         "-1",
         "-1",
         "-1",
         "-1",
         "2",
         "2",
         "-1",
         "-1",
         "1",
         "1",
         "1",
         "1",
         "2",
         "-1",
         "-1",
         "-1",
         "-1",
         "-1",
         "-1",
         "0",
         "0",
         "0",
         "0",
         "0",
         "0",
         "0",
         "0",
         "-2",
         "-1",
         "-1",
         "-1",
         "-1",
         "-1",
         "-1",
         "-1",
         "-1",
         "-1",
         "-1",
         "-1",
         "-1",
         "-1",
         "-1",
         "-1",
         "-1",
         "-1",
         "-1",
         "-1",
         "1",
         "0",
         "0",
         "0",
         "0",
         "0",
         "0",
         "0",
         "0",
         "0",
         "0",
         "0",
         "0",
         "0",
         "0",
         "0",
         "0",
         "0",
         "0",
         "0",
         "0",
         "0",
         "0",
         "0",
         "0",
         "0",
         "0",
         "0",
         "0",
         "0",
         "0",
         "0",
         "0",
         "0",
         "0",
         "0",
         "0",
         "0",
         "0",
         "0",
         "0",
         "0",
         "0",
         "0",
         "0",
         "1",
         "1",
         "1",
         "1",
         "1",
         "1",
         "1",
         "1",
         "1",
         "1",
         "1",
         "1",
         "1",
         "1",
         "1",
         "1",
         "1",
         "1",
         "1",
         "1",
         "1",
         "1",
         "1",
         "1",
         "1",
         "1",
         "1",
         "1",
         "1",
         "1",
         "1",
         "1",
         "1",
         "1",
         "1",
         "1",
         "1",
         "1",
         "1",
         "1",
         "1",
         "1",
         "1",
         "1",
         "1",
         "1",
         "1",
         "1",
         "1",
         "1",
         "1",
         "1",
         "1",
         "1",
         "1",
         "1",
         "1",
         "1",
         "1",
         "1",
         "1",
         "1",
         "1",
         "1",
         "1",
         "1",
         "1",
         "1",
         "1",
         "1",
         "1",
         "1",
         "1",
         "1",
         "1",
         "1",
         "1",
         "1",
         "1",
         "1",
         "1",
         "1",
         "-1",
         "-1",
         "-1",
         "1",
         "1",
         "1",
         "1",
         "1",
         "1",
         "1",
         "1",
         "1",
         "1",
         "1",
         "1",
         "1",
         "1",
         "1",
         "1",
         "1",
         "1",
         "1",
         "1",
         "1",
         "1",
         "1",
         "1",
         "1",
         "1",
         "1",
         "1",
         "-1",
         "-1",
         "-1",
         "-1",
         "0",
         "1",
         "1",
         "1",
         "1",
         "1",
         "1",
         "1",
         "1",
         "1",
         "1",
         "1",
         "1",
         "1",
         "1",
         "1",
         "1",
         "0",
         "0",
         "0",
         "1",
         "2",
         "2",
         "0",
         "0",
         "0",
         "2",
         "1",
         "1",
         "1",
         "1",
         "1",
         "1",
         "1",
         "1",
         "0",
         "0",
         "0",
         "1",
         "1",
         "1",
         "1",
         "-1",
         "-1",
         "-1",
         "-1",
         "-1",
         "-1",
         "-1",
         "0",
         "0",
         "1",
         "1",
         "1",
         "1",
         "0",
         "0",
         "0",
         "0",
         "1",
         "1",
         "0",
         "0",
         "0",
         "0",
         "0",
         "0",
         "0",
         "0",
         "0",
         "0",
         "0",
         "0",
         "1",
         "1",
         "-1",
         "-1",
         "-1",
         "-1",
         "-1",
         "-1",
         "-1",
         "-1",
         "-1",
         "-1",
         "-1",
         "-1",
         "-1",
         "-1",
         "-1",
         "-1",
         "-1",
         "-1",
         "-1",
         "-1",
         "-1",
         "-1",
         "-1",
         "-1",
         "-1",
         "-1",
         "-1",
         "-1",
         "-1",
         "-1",
         "-1",
         "-1",
         "-1",
         "-1",
         "1",
         "1",
         "1",
         "1",
         "1",
         "1",
         "1",
         "1",
         "1",
         "1",
         "1",
         "1",
         "1",
         "1",
         "1",
         "1",
         "1",
         "1",
         "1",
         "1",
         "1",
         "1",
         "1",
         "1",
         "1",
         "1",
         "1",
         "1",
         "1",
         "1",
         "1",
         "1",
         "1",
         "1",
         "1",
         "1",
         "1",
         "1",
         "1",
         "1",
         "1",
         "1",
         "1",
         "1",
         "1",
         "1",
         "1",
         "1",
         "1",
         "1",
         "1",
         "1",
         "1",
         "1",
         "1",
         "1",
         "1",
         "1",
         "1",
         "1",
         "1",
         "1",
         "1",
         "1",
         "1",
         "1",
         "1",
         "2",
         "2",
         "2",
         "2",
         "2",
         "2",
         "2",
         "2",
         "2",
         "2",
         "2",
         "2",
         "2",
         "2",
         "2",
         "1",
         "1",
         "1",
         "1",
         "1",
         "1",
         "1",
         "1",
         "1",
         "1",
         "-1",
         "-1",
         "2",
         "2",
         "2",
         "2",
         "2",
         "2",
         "2",
         "2",
         "2",
         "-1",
         "-1",
         "-1",
         "-1",
         "-1",
         "-1",
         "1",
         "1",
         "1",
         "-1",
         "2",
         "-1",
         "-1",
         "-1",
         "-1",
         "-1",
         "-1",
         "-1",
         "-1",
         "-1",
         "-1",
         "-1",
         "-1",
         "-1",
         "-1",
         "0",
         "0",
         "0",
         "0",
         "0",
         "0",
         "0",
         "0",
         "0",
         "0",
         "0",
         "0",
         "0",
         "0",
         "0",
         "0",
         "0",
         "0",
         "0",
         "0",
         "0",
         "0",
         "0",
         "0",
         "0",
         "0",
         "0",
         "0",
         "0",
         "0",
         "0",
         "0",
         "0",
         "0",
         "0",
         "0",
         "0",
         "0",
         "0",
         "0",
         "0",
         "0",
         "0",
         "0",
         "0",
         "0",
         "0",
         "0",
         "0",
         "0",
         "0",
         "1",
         "0",
         "0",
         "0",
         "0",
         "0",
         "0",
         "0",
         "0",
         "0",
         "0",
         "0",
         "0",
         "0",
         "0",
         "0",
         "0",
         "0",
         "0",
         "0",
         "0",
         "0",
         "0",
         "0",
         "0",
         "0",
         "0",
         "0",
         "0",
         "0",
         "0",
         "0",
         "0",
         "0",
         "0",
         "0",
         "0",
         "0",
         "0",
         "0",
         "0",
         "0",
         "0",
         "0",
         "0",
         "0",
         "0",
         "0",
         "0",
         "0",
         "0",
         "0",
         "0",
         "0",
         "0",
         "0",
         "0",
         "0",
         "0",
         "0",
         "0",
         "0",
         "0",
         "0",
         "0",
         "0",
         "0",
         "0",
         "0",
         "0",
         "0",
         "0",
         "0",
         "0",
         "0",
         "0",
         "0",
         "0",
         "0",
         "0",
         "0",
         "0",
         "0",
         "0",
         "0",
         "0",
         "0",
         "0",
         "0",
         "0",
         "0",
         "0",
         "0",
         "0",
         "0",
         "0",
         "0",
         "0",
         "0",
         "0",
         "0",
         "0",
         "0",
         "0",
         "0",
         "0",
         "0",
         "0",
         "0",
         "0",
         "0",
         "0",
         "0",
         "0",
         "0",
         "0",
         "0",
         "0",
         "0",
         "0",
         "0",
         "0",
         "0",
         "0",
         "0",
         "0",
         "0",
         "0",
         "0",
         "0",
         "0",
         "0",
         "0",
         "0",
         "0",
         "0",
         "0",
         "0",
         "0",
         "0",
         "0",
         "0",
         "0",
         "0",
         "0",
         "0",
         "0",
         "0",
         "0",
         "0",
         "0",
         "0",
         "0",
         "0",
         "0",
         "0",
         "0",
         "0",
         "0",
         "0",
         "0",
         "0",
         "0",
         "0",
         "0",
         "0",
         "0",
         "0",
         "0",
         "0",
         "0",
         "0",
         "0",
         "0",
         "0",
         "0",
         "0",
         "0",
         "0",
         "0",
         "0",
         "0",
         "0",
         "0",
         "0",
         "0",
         "0",
         "0",
         "0",
         "0",
         "0",
         "0",
         "0",
         "0",
         "0",
         "0",
         "0",
         "0",
         "0.14056296",
         "0.192701458",
         "0.2114182325",
         "0.134012919",
         "-0.23348272",
         "-1.0926068315",
         "-0.287758359",
         "-0.290588632",
         "-0.1148786225",
         "-0.2163024815",
         "0.3483246975",
         "0.2469721245",
         "-0.0060191235",
         "-0.4313089165",
         "-0.1476232865",
         "-0.302998014",
         "0.0159733725000001",
         "0.0640129409999999",
         "0.3426521245",
         "0.173950736",
         "0.6205105435",
         "-0.0230900655000001",
         "-0.391167615",
         "0.0702888189999999",
         "-0.0034490904999999",
         "-0.0186729105000001",
         "-0.0756548165000002",
         "0.391711781",
         "0.0040916089999999",
         "0.068132822",
         "-0.223589982",
         "0.1874331",
         "-0.3754508225",
         "0.133412094",
         "-0.0398729074999999",
         "1.331295607",
         "0.0365867395",
         "-0.0547436740000001",
         "0.0662445384999999",
         "-0.0895454605",
         "0.749386916",
         "0.0168176895",
         "-0.0558863030000001",
         "-0.009937538",
         "-0.0845865875",
         "0.1713775255",
         "0.477796126",
         "-0.283907967",
         "-0.4778354865",
         "-0.0976034845",
         "-0.4266904715",
         "-0.1571817165",
         "-0.2174411795",
         "0.507207686",
         "-0.18428675",
         "-0.352920969",
         "-0.0786182325",
         "-0.226142019",
         "-0.3590619925",
         "-0.019056993",
         "0.7492401155",
         "0.5755877335",
         "0.1505121795",
         "0.340738005",
         "-0.188891686",
         "-0.0534001344999999",
         "0.455983934",
         "-0.0990972890000001",
         "-0.228539504",
         "0.26787128",
         "0.0320703464999999",
         "-0.36790875",
         "-0.0578359935000001",
         "0.1055353385",
         "1.312674632",
         "0.5253272925",
         "0.591029315",
         "-0.1256849835",
         "-0.2988367475",
         "0.344380598",
         "-0.129424457",
         "0.5631085405",
         "0.131967467",
         "0.0119838355",
         "0.034416321",
         "0.1232604545",
         "0.64079184",
         "2.27593436",
         "0.242998113",
         "0.32297094",
         "-0.0806062724999999",
         "-0.331814128",
         "0.0236839384999998",
         "0.755471974",
         "0.0635005215",
         "0.0922211974999998",
         "-0.0020813530000001",
         "0.2688282715",
         "-0.2303919465",
         "0.6314940735",
         "-0.071118046",
         "0.0335264619999999",
         "-0.3271975355",
         "1.2892818345",
         "-0.22080521",
         "0.6304988",
         "-0.111733339",
         "0.1184961505",
         "-0.2261543965",
         "-0.4916149975",
         "-0.410859547",
         "0.0072466449999999",
         "0.4896252005",
         "-0.4659902115",
         "0.4085923565",
         "-0.0439939385",
         "0.1071789585",
         "0.1033122285",
         "0.074630097",
         "2.396760277",
         "0.0240913065",
         "-0.240124526",
         "-0.1015507945",
         "-0.1711834285",
         "0.0639273505",
         "-0.1348956205",
         "0.412485237",
         "-0.5147818205",
         "0.1116407705",
         "0.0687442389999999",
         "1.0890950735",
         "-0.078709629045",
         "-0.4525461275",
         "0.1834398395",
         "-0.351412271",
         "0.334506826",
         "0.39503062",
         "0.3575005105",
         "-0.0257730930000001",
         "0.2529036775",
         "-0.0604355375000001",
         "-0.0460224149999999",
         "0.100862065",
         "-0.154543584",
         "-0.227942682",
         "0.0869575279999999",
         "0.014400609",
         "0.5452137345",
         "1.781130177",
         "-0.2132536895",
         "-0.0811015175000001",
         "-0.422362821",
         "0.0793126295",
         "-0.4985351205",
         "0.047097174",
         "0.0476919944999998",
         "0.268390253",
         "-0.138331152",
         "-0.3133891725",
         "0.609247557",
         "0.0504738284999999",
         "-0.394180234",
         "-0.3894903205",
         "-0.677705934",
         "-0.19128057",
         "0.2367413845",
         "0.0026760475",
         "-0.399697733",
         "0.015721851",
         "-0.330343904",
         "-0.423654062",
         "-0.108136405",
         "-0.2374338295",
         "0.0047138274999999",
         "-0.0146525585",
         "0.0690710379999999",
         "-0.290072566",
         "0.7070213705",
         "0.128196993",
         "-0.4574862255",
         "-0.0672209775000001",
         "-0.4104924605",
         "-0.055343295",
         "-0.721898462",
         "-0.2086614545",
         "0.17869393",
         "0.317788688",
         "-0.397809893",
         "0.275979249",
         "0.8656579605",
         "-0.138618678",
         "-0.304095257",
         "0.371283757",
         "1.255105834",
         "-0.0164871805",
         "-0.217156864",
         "-0.31762514",
         "-0.337285027",
         "-0.258973429",
         "0.223547999",
         "-0.0012803845",
         "0.0180572649999999",
         "-0.052187236",
         "0.3120861535",
         "-0.2433154615",
         "0.0558004769999999",
         "0.2268358535",
         "0.0512625684999999",
         "0.032321974",
         "-0.1288152285",
         "-0.0123662755",
         "-0.0501212700000001",
         "0.1197494985",
         "0.0012803845",
         "0.0106151525",
         "-0.133214",
         "0.3449689355",
         "-0.351935568",
         "0.2199095955",
         "0.3081097285",
         "-0.1907943165",
         "-0.2221495655",
         "-0.1985183625",
         "0",
         "Positive",
         "Positive",
         "Negative",
         "infiltrating ductal carcinoma"
        ],
        [
         "3",
         "0.0",
         "18.235518526137",
         "18.5354797946957",
         "14.5335839703018",
         "14.0789924651536",
         "8.91376007809034",
         "10.5574646589267",
         "13.304434392607",
         "8.20505913277743",
         "9.21147610659675",
         "0.0",
         "4.34799157219536",
         "7.83626500705981",
         "9.73237401904933",
         "9.06920081559988",
         "2.97421724545639",
         "2.97421724545639",
         "11.1906014040132",
         "3.66668843145387",
         "1.38609355836741",
         "4.74521043599834",
         "4.37629038333705",
         "5.46489367049439",
         "2.44299655951803",
         "9.65145967932101",
         "5.43829617882402",
         "3.04643867380209",
         "7.52479085958991",
         "5.39745388051041",
         "1.77424940730477",
         "6.04334669236799",
         "0.0",
         "5.50389568515054",
         "9.73510833822496",
         "4.88964389119976",
         "15.6571120998431",
         "6.60614015444428",
         "7.30685825650446",
         "10.2633141591677",
         "1.77424940730477",
         "2.0797706277966",
         "10.8747911267581",
         "3.18087984634869",
         "7.36450414778353",
         "5.90450095734429",
         "1.14424219728131",
         "2.89818900033277",
         "6.08680923722797",
         "7.11865873355048",
         "4.60874420167889",
         "12.6341363190635",
         "4.90914424770969",
         "2.21129260371365",
         "0.0",
         "12.9755350039103",
         "16.4205022647452",
         "12.010550134266",
         "14.1491936362962",
         "18.3298913018344",
         "8.05338018717747",
         "6.30861752987027",
         "7.01447246255316",
         "0.853516664754699",
         "13.4134336968319",
         "8.97865212100153",
         "10.7132677605233",
         "9.05395112508049",
         "11.232325643796",
         "8.36365864036841",
         "4.88964389119976",
         "0.853516664754699",
         "0.0",
         "1.38609355836741",
         "4.51002512894388",
         "13.0900976452002",
         "6.02558697757471",
         "12.6313870089525",
         "0.488926267524134",
         "5.20575220346748",
         "8.49367695221062",
         "2.21129260371365",
         "13.0333139176919",
         "0.488926267524134",
         "5.82459476008037",
         "2.33179119099556",
         "6.75905194323069",
         "4.89884199285061",
         "2.33179119099556",
         "4.53534381551693",
         "1.38609355836741",
         "0.0",
         "2.0797706277966",
         "0.0",
         "2.81790972170135",
         "3.41715040121514",
         "0.0",
         "6.19404370125343",
         "4.25959639786233",
         "13.3952353504433",
         "7.97226816814024",
         "1.14424219728131",
         "3.91838623444635",
         "14.6273581707068",
         "3.95637267212407",
         "7.71130836293191",
         "2.89818900033277",
         "2.21129260371365",
         "1.59316251455329",
         "10.1047969958559",
         "8.63506835320889",
         "3.79801939951377",
         "3.36161397717628",
         "5.29740420939783",
         "0.0",
         "6.99178598530811",
         "0.0",
         "10.6231477963649",
         "2.81790972170135",
         "9.27297962817597",
         "5.47801076656388",
         "7.91554360700616",
         "12.5862917787098",
         "8.90407308803949",
         "5.26749459902396",
         "6.75905194323069",
         "0.488926267524134",
         "10.3362611803673",
         "0.853516664754699",
         "2.44299655951803",
         "0.488926267524134",
         "0.853516664754699",
         "2.44299655951803",
         "5.23695558414262",
         "6.53887644960999",
         "5.12465899041952",
         "0.853516664754699",
         "8.69668347855099",
         "13.6477830862497",
         "0.488926267524134",
         "7.84388525819331",
         "0.488926267524134",
         "5.60302095363899",
         "2.33179119099556",
         "0.853516664754699",
         "3.11523304836736",
         "3.36161397717628",
         "13.0087520016358",
         "13.8883901315663",
         "0.0",
         "6.50082276297425",
         "6.3802359308181",
         "3.75556060280461",
         "9.00834093716366",
         "3.53028303456628",
         "6.48791076031423",
         "7.59269846292044",
         "4.78797044932537",
         "2.21129260371365",
         "0.0",
         "7.00090365554277",
         "10.330848550101",
         "6.5326037241405",
         "3.99339358398245",
         "1.38609355836741",
         "3.18087984634869",
         "3.79801939951377",
         "6.14553888461053",
         "3.11523304836736",
         "11.6700765764127",
         "7.71130836293191",
         "6.59414094256863",
         "3.57199225127014",
         "1.14424219728131",
         "2.33179119099556",
         "8.29215549471647",
         "7.29948737037945",
         "7.05880135361619",
         "5.41119572152343",
         "4.13262619285356",
         "8.01789240814429",
         "5.12849137851042",
         "8.09228779234902",
         "7.68609427429847",
         "6.76975851800997",
         "12.661614516269",
         "3.52220644063344",
         "0.0",
         "9.50775361792956",
         "1.38609355836741",
         "3.41715040121514",
         "7.07615821956263",
         "2.21129260371365",
         "0.0",
         "8.16303473300036",
         "2.89818900033277",
         "0.488926267524134",
         "4.09905950561539",
         "7.16805931264461",
         "3.75556060280461",
         "1.77424940730477",
         "1.59316251455329",
         "0.0",
         "1.14424219728131",
         "2.64260916246599",
         "0.853516664754699",
         "5.89474987017911",
         "4.31912654812817",
         "7.83880998570856",
         "1.77424940730477",
         "6.48791076031423",
         "0.0",
         "0.0",
         "7.18415728712316",
         "7.42671762275681",
         "3.71181424654267",
         "1.59316251455329",
         "5.78291960364402",
         "2.33179119099556",
         "5.32670271937304",
         "1.14424219728131",
         "3.24366908096686",
         "2.44299655951803",
         "2.44299655951803",
         "2.54624008402078",
         "8.00888180924862",
         "2.44299655951803",
         "0.0",
         "1.93508252331866",
         "11.4528686917559",
         "0.0",
         "5.36956768512334",
         "2.81790972170135",
         "0.853516664754699",
         "13.4553872671258",
         "9.17065117553163",
         "8.14464294916382",
         "0.0",
         "12.9846833498925",
         "3.11523304836736",
         "0.0",
         "10.8604621458372",
         "4.58469197003795",
         "8.1589681085977",
         "6.51997585551698",
         "0.488926267524134",
         "3.91838623444635",
         "6.88257580353428",
         "0.853516664754699",
         "9.10663464813057",
         "1.14424219728131",
         "5.07372599241412",
         "8.35123652724601",
         "0.0",
         "3.99339358398245",
         "3.11523304836736",
         "5.70695871138658",
         "8.49690249872313",
         "4.9283845366932",
         "0.0",
         "1.93508252331866",
         "4.37629038333705",
         "1.15995204473292",
         "10.7563010346484",
         "1.93508252331866",
         "3.52220644063344",
         "3.71181424654267",
         "7.66330618873771",
         "10.4121182326902",
         "0.488926267524134",
         "5.70695871138658",
         "7.39248658602924",
         "6.94058493045197",
         "4.9283845366932",
         "10.6294076235482",
         "0.0",
         "8.43434424728374",
         "0.0",
         "1.38609355836741",
         "6.16999513074673",
         "1.59316251455329",
         "0.488926267524134",
         "8.77317317148313",
         "8.17113475492871",
         "2.0797706277966",
         "5.22034543435704",
         "12.9013232559374",
         "0.0",
         "9.97490983964884",
         "0.0",
         "8.28746906294072",
         "8.6438251714979",
         "4.40405158274483",
         "8.40717044810123",
         "6.97337708258769",
         "6.87267611136985",
         "4.88964389119976",
         "4.60874420167889",
         "13.1380179940931",
         "13.7533389258986",
         "7.29207955265519",
         "0.488926267524134",
         "0.488926267524134",
         "6.42156162793285",
         "1.77424940730477",
         "2.21129260371365",
         "0.853516664754699",
         "0.488926267524134",
         "4.58469197003795",
         "5.74000467412875",
         "1.14424219728131",
         "2.54624008402078",
         "2.81790972170135",
         "14.9680284042991",
         "2.21129260371365",
         "9.14209148121891",
         "0.0",
         "9.58253436393148",
         "0.488926267524134",
         "8.90407308803949",
         "1.93508252331866",
         "5.83483001990317",
         "3.57199225127014",
         "6.42156162793285",
         "6.05214414592171",
         "3.04643867380209",
         "3.71181424654267",
         "0.0",
         "5.22143631912802",
         "1.77424940730477",
         "2.81790972170135",
         "0.0",
         "1.14424219728131",
         "3.36161397717628",
         "5.32670271937304",
         "0.488926267524134",
         "4.37629038333705",
         "8.44468818438777",
         "0.488926267524134",
         "1.38609355836741",
         "2.0797706277966",
         "2.21129260371365",
         "1.93508252331866",
         "8.10713964146764",
         "2.44299655951803",
         "3.62011716502868",
         "7.33596910322922",
         "2.44299655951803",
         "1.59316251455329",
         "10.497129610284",
         "10.1012884221306",
         "0.488926267524134",
         "1.77424940730477",
         "4.82950457041822",
         "1.38609355836741",
         "7.89368316499813",
         "5.77231061454733",
         "8.72859128787222",
         "4.80888954528568",
         "1.93508252331866",
         "0.488926267524134",
         "1.14424219728131",
         "6.91669757005648",
         "9.59838846936784",
         "5.98021042508176",
         "8.06211739348945",
         "10.098440218411",
         "1.38609355836741",
         "11.8597609177073",
         "0.488926267524134",
         "1.38609355836741",
         "3.52220644063344",
         "1.93508252331866",
         "10.0187697709086",
         "3.93902906358346",
         "8.75577488739602",
         "4.67859028050296",
         "7.5560545910108",
         "5.68449897576909",
         "0.488926267524134",
         "6.95003092007297",
         "0.853516664754699",
         "1.93508252331866",
         "1.14424219728131",
         "3.91838623444635",
         "1.14424219728131",
         "7.97226816814024",
         "4.34799157219536",
         "3.57199225127014",
         "3.95637267212407",
         "3.79801939951377",
         "1.93508252331866",
         "8.12601315565766",
         "1.38609355836741",
         "8.75442756981357",
         "2.21129260371365",
         "1.59316251455329",
         "5.31212783803266",
         "7.32512103021839",
         "0.0",
         "11.0093476621833",
         "11.8793590554565",
         "1.14424219728131",
         "0.853516664754699",
         "2.51604036872447",
         "2.64260916246599",
         "7.88386026815083",
         "7.00090365554277",
         "0.488926267524134",
         "2.0797706277966",
         "6.78567216611907",
         "6.67610799655345",
         "8.66118166054957",
         "6.75905194323069",
         "6.99635258822406",
         "4.49590617971029",
         "8.01564475018006",
         "2.21129260371365",
         "10.1653498464852",
         "13.84802937896",
         "3.41715040121514",
         "10.2003990298273",
         "1.93508252331866",
         "2.33179119099556",
         "0.0",
         "12.0539031144565",
         "11.7168205328499",
         "1.38609355836741",
         "2.73292038210826",
         "2.0797706277966",
         "2.33179119099556",
         "2.81790972170135",
         "3.36161397717628",
         "9.71239338590385",
         "6.76975851800997",
         "1.14424219728131",
         "0.0",
         "0.0",
         "3.36161397717628",
         "13.4461864950141",
         "0.488926267524134",
         "2.73292038210826",
         "5.29740420939783",
         "3.66668843145387",
         "7.90190770809671",
         "3.79801939951377",
         "15.3604276371109",
         "3.57199225127014",
         "1.59316251455329",
         "3.36161397717628",
         "4.09905950561539",
         "4.40405158274483",
         "5.36956768512334",
         "0.0",
         "0.0",
         "4.43128196739294",
         "0.488926267524134",
         "0.853516664754699",
         "5.76162037377578",
         "4.56022582239965",
         "4.31912654812817",
         "3.75556060280461",
         "6.06958187975184",
         "0.0",
         "3.21073172874469",
         "2.21129260371365",
         "4.94737627967667",
         "5.84499066658829",
         "10.4467262287002",
         "1.59316251455329",
         "4.06468457083544",
         "3.41715040121514",
         "11.4384707444406",
         "1.38609355836741",
         "3.41715040121514",
         "6.00760815365129",
         "3.91838623444635",
         "3.37232530852358",
         "10.1869807108445",
         "2.73292038210826",
         "8.32787909408424",
         "0.488926267524134",
         "3.11523304836736",
         "3.24366908096686",
         "6.55134220700955",
         "0.853516664754699",
         "9.38342004491195",
         "3.11523304836736",
         "3.11523304836736",
         "1.14424219728131",
         "9.20951112101421",
         "0.853516664754699",
         "0.488926267524134",
         "8.04679224503822",
         "9.19568150774868",
         "5.92380285756926",
         "0.853516664754699",
         "2.44299655951803",
         "1.14424219728131",
         "10.7163845299454",
         "5.60302095363899",
         "8.94598101589006",
         "2.89818900033277",
         "1.77424940730477",
         "3.83927434612898",
         "1.14424219728131",
         "9.60960723436014",
         "7.9299347630679",
         "2.73292038210826",
         "0.0",
         "4.31912654812817",
         "3.30383918527371",
         "9.52996790189098",
         "1.93508252331866",
         "1.38609355836741",
         "0.0",
         "0.488926267524134",
         "6.57595365487649",
         "1.77424940730477",
         "1.59316251455329",
         "5.93335782310551",
         "1.77424940730477",
         "3.18087984634869",
         "0.928806145340626",
         "0.853516664754699",
         "6.91187130843124",
         "0.488926267524134",
         "4.60874420167889",
         "0.0",
         "9.41616141955553",
         "16.8518069056569",
         "4.53534381551693",
         "5.28252505938852",
         "7.50243244740035",
         "0.488926267524134",
         "8.82799173129139",
         "1.38609355836741",
         "0.0",
         "2.81790972170135",
         "5.4095538666123",
         "7.89368316499813",
         "3.30383918527371",
         "7.82347488082609",
         "8.90435252726672",
         "4.31912654812817",
         "1.14424219728131",
         "0.853516664754699",
         "8.10713964146764",
         "0.488926267524134",
         "2.44299655951803",
         "5.97096176040946",
         "7.10180868147704",
         "1.14424219728131",
         "2.33179119099556",
         "1.14424219728131",
         "0.488926267524134",
         "5.98021042508176",
         "4.31912654812817",
         "0.853516664754699",
         "9.3517009796461",
         "1.59316251455329",
         "1.93508252331866",
         "4.98461669113385",
         "3.62011716502868",
         "11.6591401865308",
         "1.93508252331866",
         "6.06958187975184",
         "3.68943335848407",
         "0.0",
         "3.2151194245173",
         "2.89818900033277",
         "11.6046749310707",
         "3.66668843145387",
         "9.34007351424593",
         "3.24366908096686",
         "1.14424219728131",
         "6.931076685745",
         "5.92380285756926",
         "3.79801939951377",
         "7.35030717363613",
         "7.59571026928402",
         "4.48424771513484",
         "4.72334012025117",
         "6.56370117479655",
         "6.36619455194554",
         "6.68744707276595",
         "2.44514399958581",
         "3.36161397717628",
         "7.204031132917",
         "1.93508252331866",
         "0.0",
         "0.853516664754699",
         "10.2303886903672",
         "2.0797706277966",
         "0.853516664754699",
         "6.82213484971502",
         "0.488926267524134",
         "4.48424771513484",
         "1.77424940730477",
         "7.22363395723246",
         "0.0",
         "1.59316251455329",
         "0.853516664754699",
         "0.0",
         "0.0",
         "0",
         "0",
         "0",
         "0",
         "0",
         "0",
         "0",
         "0",
         "0",
         "0",
         "0",
         "0",
         "0",
         "0",
         "0",
         "0",
         "0",
         "0",
         "0",
         "0",
         "0",
         "0",
         "0",
         "0",
         "0",
         "0",
         "0",
         "0",
         "0",
         "0",
         "0",
         "0",
         "0",
         "0",
         "0",
         "0",
         "0",
         "0",
         "0",
         "0",
         "0",
         "0",
         "0",
         "0",
         "0",
         "0",
         "0",
         "0",
         "0",
         "0",
         "0",
         "0",
         "0",
         "0",
         "0",
         "0",
         "0",
         "0",
         "0",
         "0",
         "0",
         "0",
         "0",
         "0",
         "0",
         "0",
         "0",
         "0",
         "1",
         "1",
         "0",
         "0",
         "0",
         "0",
         "0",
         "0",
         "0",
         "0",
         "0",
         "0",
         "0",
         "0",
         "0",
         "0",
         "0",
         "0",
         "0",
         "0",
         "0",
         "0",
         "0",
         "0",
         "0",
         "0",
         "0",
         "0",
         "0",
         "0",
         "0",
         "0",
         "0",
         "0",
         "0",
         "0",
         "0",
         "0",
         "0",
         "0",
         "0",
         "0",
         "0",
         "0",
         "0",
         "0",
         "0",
         "0",
         "0",
         "0",
         "0",
         "0",
         "0",
         "0",
         "0",
         "0",
         "0",
         "0",
         "0",
         "0",
         "0",
         "0",
         "0",
         "0",
         "0",
         "0",
         "0",
         "0",
         "0",
         "0",
         "0",
         "0",
         "0",
         "0",
         "0",
         "0",
         "0",
         "0",
         "0",
         "0",
         "0",
         "0",
         "0",
         "0",
         "0",
         "0",
         "0",
         "0",
         "0",
         "0",
         "0",
         "0",
         "0",
         "0",
         "0",
         "0",
         "0",
         "0",
         "0",
         "0",
         "0",
         "0",
         "0",
         "0",
         "0",
         "0",
         "0",
         "0",
         "0",
         "0",
         "0",
         "0",
         "0",
         "0",
         "0",
         "0",
         "0",
         "0",
         "0",
         "0",
         "0",
         "0",
         "0",
         "0",
         "0",
         "0",
         "0",
         "0",
         "0",
         "0",
         "0",
         "0",
         "0",
         "0",
         "0",
         "0",
         "0",
         "0",
         "0",
         "0",
         "0",
         "0",
         "0",
         "0",
         "0",
         "0",
         "0",
         "0",
         "0",
         "0",
         "0",
         "0",
         "0",
         "0",
         "0",
         "0",
         "0",
         "0",
         "0",
         "0",
         "0",
         "0",
         "0",
         "0",
         "0",
         "0",
         "0",
         "0",
         "0",
         "0",
         "0",
         "0",
         "0",
         "0",
         "0",
         "0",
         "0",
         "0",
         "0",
         "0",
         "0",
         "0",
         "0",
         "0",
         "0",
         "0",
         "0",
         "0",
         "0",
         "0",
         "0",
         "0",
         "0",
         "0",
         "0",
         "0",
         "0",
         "0",
         "0",
         "0",
         "0",
         "0",
         "0",
         "0",
         "0",
         "0",
         "0",
         "0",
         "0",
         "0",
         "0",
         "0",
         "0",
         "0",
         "0",
         "0",
         "0",
         "0",
         "0",
         "0",
         "0",
         "0",
         "0",
         "0",
         "0",
         "0",
         "0",
         "0",
         "0",
         "0",
         "0",
         "0",
         "0",
         "0",
         "0",
         "0",
         "0",
         "0",
         "0",
         "0",
         "0",
         "0",
         "0",
         "0",
         "0",
         "0",
         "0",
         "0",
         "0",
         "0",
         "0",
         "0",
         "0",
         "0",
         "0",
         "0",
         "0",
         "0",
         "0",
         "0",
         "0",
         "0",
         "0",
         "0",
         "0",
         "0",
         "0",
         "0",
         "0",
         "0",
         "0",
         "0",
         "0",
         "0",
         "0",
         "0",
         "0",
         "0",
         "0",
         "0",
         "0",
         "0",
         "0",
         "0",
         "0",
         "0",
         "0",
         "0",
         "0",
         "0",
         "0",
         "0",
         "0",
         "0",
         "0",
         "0",
         "0",
         "0",
         "0",
         "0",
         "0",
         "0",
         "2",
         "2",
         "-1",
         "2",
         "2",
         "2",
         "2",
         "2",
         "2",
         "2",
         "2",
         "2",
         "-1",
         "-1",
         "-1",
         "-1",
         "-1",
         "-1",
         "-1",
         "-1",
         "-1",
         "-1",
         "-1",
         "-1",
         "-1",
         "-1",
         "-1",
         "-1",
         "-1",
         "-1",
         "-1",
         "-1",
         "-1",
         "-1",
         "-1",
         "-1",
         "-1",
         "-1",
         "-1",
         "-1",
         "-1",
         "-1",
         "-1",
         "-1",
         "-1",
         "-1",
         "-1",
         "-1",
         "0",
         "0",
         "0",
         "0",
         "0",
         "0",
         "0",
         "0",
         "0",
         "0",
         "0",
         "0",
         "0",
         "0",
         "0",
         "-1",
         "-1",
         "-1",
         "-1",
         "-1",
         "-1",
         "-1",
         "-1",
         "-1",
         "-1",
         "-1",
         "-1",
         "-1",
         "-1",
         "-1",
         "-1",
         "-1",
         "-1",
         "-1",
         "-1",
         "-1",
         "-1",
         "-1",
         "-1",
         "-1",
         "-1",
         "-1",
         "-1",
         "-1",
         "0",
         "0",
         "0",
         "0",
         "0",
         "0",
         "0",
         "0",
         "0",
         "0",
         "0",
         "0",
         "0",
         "0",
         "0",
         "0",
         "0",
         "0",
         "0",
         "0",
         "0",
         "0",
         "0",
         "0",
         "0",
         "0",
         "0",
         "0",
         "0",
         "0",
         "0",
         "0",
         "0",
         "0",
         "0",
         "0",
         "0",
         "0",
         "0",
         "0",
         "0",
         "0",
         "0",
         "0",
         "0",
         "0",
         "0",
         "0",
         "0",
         "0",
         "0",
         "0",
         "0",
         "0",
         "0",
         "0",
         "0",
         "0",
         "0",
         "0",
         "0",
         "0",
         "0",
         "0",
         "0",
         "0",
         "0",
         "0",
         "0",
         "0",
         "0",
         "0",
         "0",
         "0",
         "0",
         "0",
         "0",
         "0",
         "0",
         "0",
         "0",
         "0",
         "0",
         "0",
         "0",
         "0",
         "0",
         "0",
         "0",
         "0",
         "0",
         "0",
         "0",
         "0",
         "0",
         "0",
         "0",
         "0",
         "0",
         "0",
         "0",
         "0",
         "0",
         "0",
         "0",
         "0",
         "0",
         "0",
         "0",
         "0",
         "0",
         "0",
         "0",
         "0",
         "0",
         "0",
         "0",
         "0",
         "0",
         "0",
         "0",
         "0",
         "0",
         "0",
         "0",
         "0",
         "-1",
         "-1",
         "-1",
         "0",
         "0",
         "0",
         "0",
         "0",
         "0",
         "0",
         "0",
         "0",
         "0",
         "0",
         "0",
         "0",
         "0",
         "0",
         "0",
         "0",
         "0",
         "0",
         "0",
         "0",
         "0",
         "0",
         "0",
         "0",
         "0",
         "0",
         "0",
         "0",
         "0",
         "0",
         "0",
         "0",
         "0",
         "0",
         "0",
         "0",
         "0",
         "0",
         "0",
         "0",
         "0",
         "0",
         "0",
         "0",
         "0",
         "0",
         "0",
         "0",
         "0",
         "0",
         "0",
         "0",
         "0",
         "0",
         "0",
         "0",
         "0",
         "0",
         "0",
         "0",
         "0",
         "0",
         "0",
         "0",
         "0",
         "0",
         "0",
         "0",
         "0",
         "0",
         "0",
         "0",
         "0",
         "0",
         "0",
         "0",
         "0",
         "0",
         "0",
         "0",
         "0",
         "0",
         "0",
         "0",
         "0",
         "0",
         "0",
         "0",
         "0",
         "0",
         "0",
         "0",
         "0",
         "0",
         "0",
         "0",
         "0",
         "0",
         "0",
         "0",
         "0",
         "0",
         "0",
         "0",
         "0",
         "0",
         "-1",
         "-1",
         "-1",
         "-1",
         "-1",
         "-1",
         "-1",
         "-1",
         "-1",
         "-1",
         "-1",
         "-1",
         "-1",
         "-1",
         "-1",
         "-1",
         "-1",
         "-1",
         "-1",
         "-1",
         "-1",
         "-1",
         "-1",
         "-1",
         "-1",
         "-1",
         "-1",
         "-1",
         "-1",
         "-1",
         "-1",
         "-1",
         "-1",
         "-1",
         "0",
         "0",
         "0",
         "2",
         "-1",
         "-1",
         "-1",
         "-1",
         "-1",
         "-1",
         "-1",
         "-1",
         "2",
         "2",
         "2",
         "2",
         "2",
         "2",
         "2",
         "2",
         "1",
         "2",
         "2",
         "2",
         "2",
         "2",
         "2",
         "2",
         "2",
         "2",
         "2",
         "2",
         "2",
         "2",
         "0",
         "0",
         "1",
         "1",
         "1",
         "1",
         "1",
         "1",
         "1",
         "1",
         "1",
         "-1",
         "-1",
         "-1",
         "-1",
         "-1",
         "2",
         "2",
         "2",
         "2",
         "0",
         "0",
         "0",
         "0",
         "0",
         "0",
         "0",
         "0",
         "0",
         "0",
         "0",
         "0",
         "0",
         "0",
         "2",
         "2",
         "2",
         "2",
         "2",
         "2",
         "2",
         "2",
         "2",
         "2",
         "2",
         "2",
         "2",
         "2",
         "0",
         "0",
         "0",
         "0",
         "0",
         "0",
         "0",
         "0",
         "0",
         "0",
         "0",
         "0",
         "0",
         "0",
         "0",
         "0",
         "0",
         "0",
         "0",
         "0",
         "0",
         "0",
         "0",
         "0",
         "0",
         "0",
         "0",
         "0",
         "0",
         "0",
         "0",
         "0",
         "0",
         "0",
         "0",
         "0",
         "0",
         "0",
         "0",
         "0",
         "0",
         "0",
         "0",
         "0",
         "0",
         "0",
         "0",
         "1",
         "0",
         "0",
         "0",
         "0",
         "0",
         "0",
         "0",
         "0",
         "0",
         "0",
         "0",
         "0",
         "0",
         "0",
         "0",
         "0",
         "0",
         "0",
         "0",
         "0",
         "0",
         "0",
         "0",
         "0",
         "0",
         "0",
         "0",
         "0",
         "0",
         "0",
         "1",
         "0",
         "0",
         "0",
         "0",
         "0",
         "0",
         "0",
         "0",
         "0",
         "0",
         "0",
         "0",
         "0",
         "0",
         "0",
         "0",
         "0",
         "0",
         "0",
         "0",
         "0",
         "0",
         "0",
         "0",
         "0",
         "0",
         "0",
         "0",
         "0",
         "0",
         "0",
         "0",
         "0",
         "0",
         "0",
         "0",
         "0",
         "1",
         "1",
         "1",
         "0",
         "0",
         "0",
         "0",
         "0",
         "0",
         "0",
         "0",
         "0",
         "0",
         "0",
         "0",
         "0",
         "0",
         "0",
         "0",
         "0",
         "0",
         "0",
         "0",
         "0",
         "0",
         "0",
         "0",
         "0",
         "0",
         "0",
         "0",
         "0",
         "0",
         "0",
         "0",
         "0",
         "0",
         "0",
         "0",
         "0",
         "0",
         "0",
         "0",
         "0",
         "0",
         "0",
         "0",
         "0",
         "0",
         "0",
         "0",
         "0",
         "0",
         "0",
         "0",
         "0",
         "0",
         "0",
         "0",
         "0",
         "0",
         "0",
         "0",
         "0",
         "0",
         "0",
         "0",
         "0",
         "0",
         "0",
         "0",
         "0",
         "0",
         "0",
         "0",
         "0",
         "0",
         "0",
         "0",
         "0",
         "0",
         "0",
         "0",
         "0",
         "0",
         "0",
         "0",
         "0",
         "0",
         "0",
         "0",
         "0",
         "0",
         "0",
         "0",
         "0",
         "0",
         "0",
         "0",
         "0",
         "0",
         "0",
         "0",
         "0",
         "0",
         "0",
         "0",
         "0",
         "0",
         "0",
         "0",
         "0",
         "0",
         "0",
         "0",
         "0",
         "0",
         "0",
         "0",
         "0",
         "0",
         "0",
         "0",
         "0",
         "0",
         "0",
         "0",
         "0",
         "0",
         "0",
         "0",
         "0",
         "0",
         "0",
         "0",
         "0",
         "0",
         "0",
         "0",
         "0",
         "0",
         "0",
         "0",
         "0",
         "0",
         "0",
         "0",
         "0",
         "0",
         "0",
         "0",
         "0",
         "0",
         "0",
         "0",
         "0",
         "0",
         "0",
         "0",
         "0",
         "0",
         "0",
         "0",
         "0",
         "0",
         "0",
         "0",
         "0",
         "0",
         "0",
         "0",
         "0",
         "0",
         "0",
         "0",
         "0",
         "0",
         "0",
         "0",
         "-0.0080314327499999",
         "-0.13864214775",
         "-0.12289140625",
         "-0.03201139675",
         "-0.02576116475",
         "-0.45521647325",
         "-0.14467237175",
         "0.50091683525",
         "-0.30553732925",
         "-0.16450384925",
         "1.12635659975",
         "1.49939054775",
         "-0.12489434125",
         "0.0800834827499999",
         "0.73456680575",
         "0.95740978625",
         "0.0149339357500002",
         "-0.09504816575",
         "-0.0048653622500001",
         "-0.12613383675",
         "1.20842615275",
         "0.20706284575",
         "-0.48601997875",
         "-0.39668866575",
         "-0.73158181825",
         "0.0444827107500001",
         "-0.37215173425",
         "0.50015264025",
         "0.02231394025",
         "-0.0003669697499999",
         "-0.43536662275",
         "0.29365013325",
         "0.14104469275",
         "0.0282031832499999",
         "-0.59435971925",
         "1.31552303025",
         "0.17515952375",
         "-0.09773932775",
         "0.60590939975",
         "0.25302191375",
         "1.44365439925",
         "0.06412968875",
         "0.11158550125",
         "0.0738131712500001",
         "-0.0015638372499999",
         "-0.04173930125",
         "-0.36965450875",
         "-0.39243762175",
         "-0.11560407325",
         "0.16320750675",
         "-0.19632675125",
         "-0.34656234025",
         "0.27375488875",
         "-0.39566998075",
         "0.13130504325",
         "-0.0057631707499999",
         "-0.01220811525",
         "0.48534488325",
         "-0.10059387525",
         "0.41709893225",
         "-0.30195518425",
         "-0.41268473725",
         "0.25877740875",
         "-0.35434473575",
         "-0.11917279275",
         "0.22228218775",
         "0.61317476925",
         "0.73780222725",
         "-0.0536833887499999",
         "0.61557666025",
         "-0.16716323925",
         "-0.35069109875",
         "0.17429998475",
         "-0.15492990225",
         "0.0761106762499997",
         "1.62011955075",
         "1.19818997525",
         "0.31562144575",
         "-0.22440720325",
         "0.45902065925",
         "0.34342392625",
         "0.66540286375",
         "-0.05065397275",
         "0.14199405675",
         "-0.26614114775",
         "-0.26954807525",
         "-0.25904279975",
         "2.24891673325",
         "-0.35876799175",
         "1.48067725225",
         "-0.21730614225",
         "0.02540851125",
         "-0.05373036125",
         "0.37718127225",
         "0.58735608275",
         "0.07613323575",
         "-0.09732539675",
         "0.52399580875",
         "-0.15123563225",
         "-0.12905184625",
         "-0.15866428675",
         "-0.13425862275",
         "1.82794440975",
         "0.56062220975",
         "-0.06811161775",
         "0.08262885925",
         "-0.17191557675",
         "0.22131479475",
         "0.27922478975",
         "-0.24045118725",
         "-0.0959672997500001",
         "0.05927437725",
         "-0.25900165425",
         "0.50355028375",
         "0.37255014075",
         "0.00036696975",
         "-0.10224453325",
         "0.16248020675",
         "0.12435535025",
         "0.51812130125",
         "-0.0506880322500001",
         "-0.31284061475",
         "0.11262735975",
         "0.38354365275",
         "-0.01533401125",
         "-0.18232460125",
         "0.12832177325",
         "0.13872542275",
         "-0.30067602225",
         "-0.16780291475",
         "0.43793810575",
         "-0.0117482209125",
         "-0.0467330442499999",
         "-0.20830685525",
         "-0.62190575175",
         "0.17150208025",
         "0.16445399925",
         "0.93367311975",
         "0.08281558425",
         "-0.15978340825",
         "0.0864200807499997",
         "-0.36155980575",
         "-0.29269097575",
         "0.12854477625",
         "0.11669040425",
         "0.44718726925",
         "0.0683600382500001",
         "0.21999125475",
         "2.32702674625",
         "0.59126355875",
         "-0.22798025725",
         "0.0926159842499998",
         "-0.02106263025",
         "0.49432823875",
         "-0.30520893075",
         "-0.26437959125",
         "0.63419955325",
         "0.38078920925",
         "0.24545199575",
         "0.43406509125",
         "0.49354650975",
         "-0.02511998375",
         "-0.49827844025",
         "-0.41733934375",
         "-0.0754372027500001",
         "0.04071049775",
         "-0.09046883825",
         "-0.38973923175",
         "-0.58472583075",
         "-0.20518684975",
         "0.0530103272499998",
         "-0.26149656075",
         "-0.34901680225",
         "0.03515122575",
         "0.23736906375",
         "-0.0009829107500001",
         "0.22137346625",
         "-0.38528030625",
         "-0.27737671975",
         "-0.12092112625",
         "0.24228906775",
         "-0.47465277525",
         "-0.11086813075",
         "-0.62348925075",
         "0.0161959677499999",
         "0.23566322125",
         "-0.30014306975",
         "0.38975625825",
         "0.15841322125",
         "0.48690898275",
         "-0.07655231975",
         "0.63332234525",
         "-0.24704544475",
         "-0.34686689175",
         "0.0613122847500001",
         "-0.02425172075",
         "0.96930344225",
         "-0.24983322675",
         "-0.03799842175",
         "-0.20925760375",
         "0.23240559975",
         "-0.0421472767500001",
         "0.15907440025",
         "0.22823437075",
         "-0.54776198525",
         "0.61713042725",
         "0.01805400175",
         "-0.02508498325",
         "0.53345133625",
         "0.06939528775",
         "-0.31174931325",
         "-0.0829954587499999",
         "0.78077571575",
         "-0.0244955382499999",
         "0.06407042775",
         "-0.38400769075",
         "0.67804166775",
         "0.0963288772499999",
         "-0.26655360925",
         "-0.0798707002499999",
         "-0.46323723925",
         "0.52299814375",
         "-0.04690228225",
         "0",
         "Positive",
         "Positive",
         "Negative",
         "infiltrating ductal carcinoma"
        ],
        [
         "4",
         "0.0",
         "4.58372365573066",
         "15.7118649461095",
         "12.8045206696992",
         "8.88166920725946",
         "8.43002846244952",
         "12.9646066190789",
         "6.80651740063137",
         "4.29434137197501",
         "5.38571402616765",
         "0.841892631603056",
         "6.11156971787277",
         "7.70190109367783",
         "10.7591984534083",
         "1.37005265571591",
         "2.79553839215827",
         "8.48051031736001",
         "11.2354538724184",
         "11.450051956069",
         "10.7959920591545",
         "14.1196321390931",
         "1.75582761922228",
         "5.09931624699413",
         "6.35445392374704",
         "9.49521846213521",
         "4.63062679822026",
         "4.71944084601737",
         "7.29555222695717",
         "4.6535186707536",
         "2.31092173523034",
         "5.4654978394554",
         "3.39351230371601",
         "3.49839130003299",
         "9.35474349476615",
         "2.79553839215827",
         "4.78372903293869",
         "6.34745129103898",
         "7.73178672785816",
         "9.09319675242349",
         "1.13000830410861",
         "0.481505616577055",
         "10.7710224163023",
         "4.35145872332158",
         "6.14426259446781",
         "7.06313402425019",
         "2.62072715432213",
         "7.03725811150372",
         "9.90360261656503",
         "7.21320242165706",
         "1.28113441333636",
         "7.47332909820681",
         "5.25710493357499",
         "4.48507899268758",
         "3.93197610426944",
         "8.38799015381014",
         "10.3169197972369",
         "2.05990898901869",
         "10.2597898622234",
         "7.32793162453004",
         "4.17284750429357",
         "4.63062679822026",
         "6.40254312477048",
         "6.03518399661834",
         "12.2481376143381",
         "9.24880354228609",
         "4.76282715399948",
         "9.63117123397202",
         "9.83391503911458",
         "8.87802914182083",
         "6.69508766973397",
         "5.24208035857068",
         "1.57579637532908",
         "5.32996671638522",
         "8.34995480847442",
         "11.9512102466647",
         "10.3426787395315",
         "3.39351230371601",
         "0.0",
         "2.19086766522892",
         "14.3241035215839",
         "0.481505616577055",
         "14.0575171100226",
         "0.481505616577055",
         "4.90314916820993",
         "3.85506280681245",
         "6.3047063327026",
         "9.17171023342275",
         "1.13000830410861",
         "4.67605297426284",
         "1.37005265571591",
         "3.22034543435704",
         "1.13000830410861",
         "1.13000830410861",
         "3.4469046351397",
         "4.23486915170538",
         "10.0638458867567",
         "7.71011349824084",
         "0.481505616577055",
         "10.352330280551",
         "9.32385956190753",
         "2.31092173523034",
         "5.45250318782532",
         "5.54109971375165",
         "4.84467689453227",
         "2.42174843217378",
         "3.8940319473298",
         "2.42174843217378",
         "0.481505616577055",
         "10.3675532258509",
         "8.30908885462696",
         "3.15767434702979",
         "3.93197610426944",
         "9.91726331377566",
         "0.0",
         "11.4060760926781",
         "2.21197782157842",
         "1.13000830410861",
         "0.481505616577055",
         "8.34116919836347",
         "6.87629346500348",
         "9.64694241780432",
         "10.7325705775727",
         "8.73108240963487",
         "5.56544485625942",
         "7.14618475450371",
         "4.1080309288517",
         "9.33452291364914",
         "9.30319807392287",
         "10.5044853320306",
         "7.61709935202531",
         "0.841892631603056",
         "3.64266691901416",
         "8.27627937032178",
         "1.37005265571591",
         "1.07949758402178",
         "0.0",
         "2.62072715432213",
         "13.8703303665401",
         "6.83683557355665",
         "9.78616080872045",
         "8.03611700283744",
         "0.0",
         "4.90314916820993",
         "0.0",
         "9.99549836913567",
         "4.51037966169224",
         "6.10327941452555",
         "8.07054389407988",
         "5.39932150915802",
         "3.6877213988829",
         "6.65594567308447",
         "9.52887972604022",
         "13.222142086595",
         "4.08900654739878",
         "2.42174843217378",
         "7.1662203372923",
         "1.37005265571591",
         "1.57579637532908",
         "5.56544485625942",
         "6.80651740063137",
         "5.16451679332018",
         "1.57579637532908",
         "10.5356250225271",
         "2.42174843217378",
         "0.841892631603056",
         "6.67844239347066",
         "5.35810786292656",
         "2.95145724514804",
         "9.68424297501686",
         "0.0",
         "2.31092173523034",
         "4.04016476424904",
         "2.42174843217378",
         "3.02352150764482",
         "9.86237327835879",
         "0.0",
         "14.3316359602041",
         "12.4830224295121",
         "7.01974527469307",
         "8.42671007612068",
         "7.04498309959153",
         "6.06109788509231",
         "8.9175731774477",
         "5.90769106924532",
         "10.8542744346486",
         "2.05990898901869",
         "2.42174843217378",
         "9.16166501463286",
         "0.481505616577055",
         "5.99989179381415",
         "6.90041763132267",
         "2.42174843217378",
         "0.0",
         "13.0522733516035",
         "3.6877213988829",
         "5.39932150915802",
         "3.54810365665035",
         "8.4100026788476",
         "3.15767434702979",
         "2.52466550921744",
         "2.19086766522892",
         "4.04016476424904",
         "4.55968758550793",
         "6.29745740270208",
         "0.481505616577055",
         "3.39351230371601",
         "3.15767434702979",
         "6.46210468427223",
         "1.13000830410861",
         "5.18036669999706",
         "0.0",
         "0.0",
         "2.31092173523034",
         "13.6746205432891",
         "3.6877213988829",
         "0.481505616577055",
         "8.73242693476321",
         "1.13000830410861",
         "5.35810786292656",
         "4.92212647319541",
         "6.99307084848607",
         "1.37005265571591",
         "1.91586504142251",
         "3.28040703524246",
         "7.54241283706827",
         "3.73141136055317",
         "0.0",
         "1.13000830410861",
         "5.4654978394554",
         "0.841892631603056",
         "4.76282715399948",
         "7.15824006859716",
         "8.64517601251911",
         "10.54980295416",
         "6.56227906362987",
         "5.47837648965109",
         "1.13000830410861",
         "3.39351230371601",
         "2.42174843217378",
         "0.0",
         "10.6725499811957",
         "4.58372365573066",
         "7.44736512360048",
         "11.4741615164965",
         "1.91586504142251",
         "11.3330676116536",
         "5.24208035857068",
         "7.84550008704888",
         "12.8536126259978",
         "8.42837022337494",
         "5.9896749217191",
         "8.97208546866263",
         "6.04387378095887",
         "2.05990898901869",
         "6.34745129103898",
         "7.59952385701673",
         "0.0",
         "4.6535186707536",
         "7.61418493150967",
         "4.14080319120411",
         "7.90632843615442",
         "3.70140489112735",
         "11.8013631215045",
         "3.15767434702979",
         "2.95145724514804",
         "2.62072715432213",
         "3.93197610426944",
         "6.8956249617325",
         "3.54810365665035",
         "6.26065613252926",
         "6.74390133324699",
         "7.92055353835192",
         "13.4185766467113",
         "4.35145872332158",
         "0.0",
         "3.96894781779089",
         "7.06313402425019",
         "0.0",
         "6.70607877625734",
         "7.68810900553553",
         "1.37005265571591",
         "6.83182658387532",
         "8.79681868095604",
         "1.57579637532908",
         "0.0",
         "8.79424591726251",
         "6.34041450271249",
         "2.79553839215827",
         "0.0",
         "5.38571402616765",
         "6.03518399661834",
         "5.1158947062452",
         "8.66361716278077",
         "4.29434137197501",
         "6.04387378095887",
         "4.1080309288517",
         "8.50746167215301",
         "2.52466550921744",
         "13.4440343158142",
         "10.464186512324",
         "0.0",
         "5.28669266865546",
         "7.19771110623971",
         "7.5362674229923",
         "3.85506280681245",
         "7.22088614436072",
         "2.19086766522892",
         "1.57579637532908",
         "6.12800876074726",
         "6.7385584417067",
         "2.95145724514804",
         "3.85506280681245",
         "10.4122812789393",
         "8.34644680474649",
         "7.24746140969378",
         "0.0",
         "2.05990898901869",
         "8.84733301391891",
         "5.88852165340193",
         "3.39351230371601",
         "10.3735976456576",
         "5.91718109996475",
         "5.25710493357499",
         "11.6778766737086",
         "7.53009571941609",
         "8.24835598718556",
         "0.481505616577055",
         "4.00499568902537",
         "3.73141136055317",
         "2.95145724514804",
         "0.0",
         "3.33806779754262",
         "5.50379394271336",
         "5.09931624699413",
         "1.37005265571591",
         "3.49839130003299",
         "7.52888929556907",
         "2.79553839215827",
         "1.13000830410861",
         "4.53524426695836",
         "2.52466550921744",
         "0.481505616577055",
         "5.25710493357499",
         "5.76782691568219",
         "8.24459169871579",
         "8.45467559976668",
         "5.60120919780491",
         "3.6877213988829",
         "10.607727462619",
         "7.98838759732416",
         "1.37005265571591",
         "2.71078990631066",
         "10.68475554464",
         "1.91586504142251",
         "9.59097246558608",
         "11.5654423333307",
         "11.8456770403298",
         "8.04480118609339",
         "5.94528229231106",
         "2.79553839215827",
         "8.53083157194774",
         "4.26491169307446",
         "10.5615754052582",
         "9.50626433431683",
         "9.48248994403041",
         "6.25318187213071",
         "2.42174843217378",
         "11.0299336028056",
         "9.56931696491723",
         "5.72524217908228",
         "2.52466550921744",
         "0.0",
         "12.2898284435635",
         "5.85247083289077",
         "5.22689766588945",
         "1.13000830410861",
         "11.3201595408321",
         "6.45560668970948",
         "7.98062401328488",
         "6.32623711495842",
         "2.31092173523034",
         "6.88599159234964",
         "8.00267664523673",
         "3.0921566857372",
         "1.57579637532908",
         "7.48294667461205",
         "7.15824006859716",
         "3.77381703169216",
         "3.33806779754262",
         "3.73141136055317",
         "0.0",
         "7.28092477308544",
         "1.37005265571591",
         "4.35145872332158",
         "1.57579637532908",
         "2.19086766522892",
         "5.55332363672184",
         "9.22416595837622",
         "0.481505616577055",
         "0.841892631603056",
         "7.10109954862414",
         "9.57906490566289",
         "3.6877213988829",
         "3.73312652867438",
         "0.0",
         "8.79810334433843",
         "6.49416276457688",
         "4.55968758550793",
         "8.00974633522696",
         "4.00499568902537",
         "7.36307643658531",
         "7.6991532040153",
         "0.481505616577055",
         "4.37919119449234",
         "4.27025981354164",
         "8.84981259496801",
         "3.0921566857372",
         "6.50678915950603",
         "11.6147572277724",
         "4.67605297426284",
         "10.8214846965988",
         "0.0",
         "0.0",
         "0.481505616577055",
         "10.1064664958385",
         "3.59615993268286",
         "1.13000830410861",
         "1.75582761922228",
         "0.841892631603056",
         "3.96894781779089",
         "4.76282715399948",
         "2.52466550921744",
         "7.56673525571238",
         "7.45063639254863",
         "3.22034543435704",
         "3.64266691901416",
         "0.0",
         "6.06963343249914",
         "12.1350135470024",
         "7.05455982230757",
         "4.72009236965259",
         "3.02352150764482",
         "3.59615993268286",
         "6.71839861784464",
         "5.24208035857068",
         "9.92198475321579",
         "7.69087799146557",
         "5.16451679332018",
         "4.58372365573066",
         "8.30367208540787",
         "3.22034543435704",
         "6.53171519136056",
         "1.59674436018107",
         "1.57579637532908",
         "2.95145724514804",
         "0.841892631603056",
         "1.57579637532908",
         "6.71154308745474",
         "6.65594567308447",
         "2.87560315501031",
         "13.0403133375995",
         "1.37005265571591",
         "0.481505616577055",
         "5.01343992689314",
         "2.62072715432213",
         "7.22852916064054",
         "5.8193488548157",
         "0.841892631603056",
         "1.13000830410861",
         "6.68401218472074",
         "7.58173160690094",
         "9.31760254857106",
         "2.95145724514804",
         "2.42174843217378",
         "3.0921566857372",
         "6.08655450613032",
         "7.0477935598941",
         "9.95057091441141",
         "4.51037966169224",
         "0.841892631603056",
         "2.95145724514804",
         "9.31311658037531",
         "3.02352150764482",
         "0.841892631603056",
         "1.37005265571591",
         "12.1158243024847",
         "9.83078011248526",
         "2.19086766522892",
         "3.73141136055317",
         "13.9386125088737",
         "0.0",
         "1.75582761922228",
         "9.45506331861474",
         "6.44907929527749",
         "3.33806779754262",
         "3.28040703524246",
         "0.0",
         "0.481505616577055",
         "0.841892631603056",
         "5.09931624699413",
         "8.80450955793519",
         "4.1080309288517",
         "3.93197610426944",
         "2.52466550921744",
         "1.57579637532908",
         "10.0088746680331",
         "9.63045024920363",
         "7.55766281232209",
         "0.481505616577055",
         "4.80433240348213",
         "6.81161488183774",
         "9.88920870166813",
         "0.0",
         "0.841892631603056",
         "0.0",
         "3.4469046351397",
         "7.53934340221226",
         "0.0",
         "2.31092173523034",
         "1.37005265571591",
         "0.0",
         "2.79553839215827",
         "2.00115369461637",
         "0.0",
         "12.2428405300217",
         "1.13000830410861",
         "3.8940319473298",
         "0.481505616577055",
         "11.333732145254",
         "0.0",
         "5.54109971375165",
         "3.4469046351397",
         "7.62291058984424",
         "3.22034543435704",
         "9.70562150231585",
         "5.19604436514355",
         "4.55968758550793",
         "3.59615993268286",
         "11.6495081330735",
         "6.09494119630527",
         "4.14080319120411",
         "6.59812100328038",
         "8.54193100698517",
         "2.19086766522892",
         "5.79896033917792",
         "2.52466550921744",
         "7.1662203372923",
         "4.60736582580586",
         "1.13000830410861",
         "3.93197610426944",
         "3.02352150764482",
         "4.53524426695836",
         "0.0",
         "1.13000830410861",
         "7.50828443920745",
         "3.59615993268286",
         "3.49839130003299",
         "3.64266691901416",
         "2.71078990631066",
         "1.13000830410861",
         "1.57579637532908",
         "3.49839130003299",
         "4.43310634095507",
         "9.50390442830645",
         "4.1080309288517",
         "7.88230373160249",
         "6.10718149826684",
         "3.15767434702979",
         "7.49548091673499",
         "1.75582761922228",
         "2.87560315501031",
         "0.0",
         "7.44080024873401",
         "2.79553839215827",
         "0.481505616577055",
         "8.95836189008029",
         "3.28040703524246",
         "3.73141136055317",
         "6.48780788427173",
         "4.43310634095507",
         "7.38375871647",
         "4.45932669154602",
         "6.62152883926632",
         "8.34468959896419",
         "7.60833836832989",
         "2.31437750253786",
         "8.3305548148001",
         "7.1662203372923",
         "0.0",
         "0.0",
         "0.481505616577055",
         "9.59936763842695",
         "0.0",
         "2.31092173523034",
         "6.46857354261707",
         "1.37005265571591",
         "2.71078990631066",
         "1.57579637532908",
         "6.38212942700821",
         "3.0921566857372",
         "0.0",
         "0.841892631603056",
         "0.0",
         "1.75582761922228",
         "0",
         "0",
         "0",
         "0",
         "0",
         "0",
         "0",
         "0",
         "0",
         "0",
         "0",
         "0",
         "0",
         "0",
         "0",
         "0",
         "1",
         "0",
         "0",
         "0",
         "0",
         "0",
         "0",
         "0",
         "0",
         "0",
         "0",
         "0",
         "0",
         "0",
         "0",
         "0",
         "0",
         "0",
         "0",
         "0",
         "0",
         "0",
         "0",
         "0",
         "0",
         "0",
         "0",
         "0",
         "0",
         "0",
         "0",
         "0",
         "0",
         "0",
         "0",
         "0",
         "0",
         "0",
         "0",
         "0",
         "0",
         "0",
         "0",
         "0",
         "0",
         "0",
         "0",
         "0",
         "0",
         "0",
         "0",
         "0",
         "0",
         "0",
         "0",
         "0",
         "0",
         "0",
         "0",
         "0",
         "0",
         "0",
         "0",
         "0",
         "0",
         "0",
         "0",
         "0",
         "0",
         "0",
         "0",
         "0",
         "0",
         "0",
         "0",
         "0",
         "0",
         "0",
         "0",
         "0",
         "0",
         "0",
         "0",
         "0",
         "0",
         "0",
         "0",
         "0",
         "0",
         "0",
         "0",
         "0",
         "0",
         "0",
         "0",
         "0",
         "0",
         "0",
         "0",
         "0",
         "0",
         "0",
         "0",
         "0",
         "0",
         "0",
         "0",
         "0",
         "0",
         "0",
         "0",
         "0",
         "0",
         "0",
         "0",
         "0",
         "0",
         "0",
         "0",
         "0",
         "0",
         "0",
         "0",
         "0",
         "0",
         "0",
         "0",
         "0",
         "0",
         "0",
         "0",
         "0",
         "0",
         "0",
         "0",
         "0",
         "0",
         "0",
         "0",
         "0",
         "0",
         "0",
         "0",
         "0",
         "0",
         "0",
         "0",
         "0",
         "0",
         "0",
         "0",
         "0",
         "0",
         "0",
         "0",
         "0",
         "0",
         "0",
         "0",
         "0",
         "0",
         "0",
         "0",
         "0",
         "0",
         "0",
         "0",
         "0",
         "0",
         "0",
         "0",
         "0",
         "0",
         "0",
         "0",
         "0",
         "0",
         "0",
         "0",
         "0",
         "0",
         "0",
         "0",
         "0",
         "0",
         "0",
         "0",
         "0",
         "0",
         "0",
         "0",
         "0",
         "0",
         "0",
         "0",
         "0",
         "0",
         "0",
         "0",
         "0",
         "0",
         "0",
         "0",
         "0",
         "0",
         "0",
         "0",
         "0",
         "0",
         "0",
         "0",
         "0",
         "0",
         "0",
         "0",
         "0",
         "0",
         "0",
         "0",
         "0",
         "0",
         "-2",
         "-2",
         "-2",
         "-2",
         "-2",
         "-2",
         "-2",
         "-2",
         "-2",
         "-2",
         "-2",
         "-2",
         "-2",
         "-2",
         "-2",
         "-2",
         "1",
         "1",
         "1",
         "1",
         "1",
         "1",
         "1",
         "1",
         "1",
         "1",
         "1",
         "1",
         "1",
         "1",
         "1",
         "1",
         "1",
         "1",
         "1",
         "1",
         "1",
         "1",
         "1",
         "1",
         "1",
         "1",
         "1",
         "1",
         "1",
         "1",
         "1",
         "1",
         "1",
         "1",
         "1",
         "1",
         "1",
         "1",
         "1",
         "1",
         "1",
         "1",
         "1",
         "1",
         "1",
         "1",
         "1",
         "1",
         "1",
         "1",
         "1",
         "0",
         "0",
         "0",
         "0",
         "0",
         "0",
         "0",
         "0",
         "0",
         "0",
         "0",
         "0",
         "0",
         "0",
         "0",
         "0",
         "0",
         "0",
         "0",
         "0",
         "0",
         "0",
         "0",
         "0",
         "0",
         "0",
         "0",
         "0",
         "0",
         "0",
         "0",
         "0",
         "0",
         "0",
         "0",
         "0",
         "0",
         "0",
         "0",
         "0",
         "0",
         "0",
         "0",
         "0",
         "0",
         "0",
         "0",
         "0",
         "0",
         "0",
         "0",
         "0",
         "0",
         "0",
         "0",
         "0",
         "0",
         "0",
         "0",
         "0",
         "0",
         "0",
         "0",
         "0",
         "0",
         "0",
         "0",
         "0",
         "0",
         "0",
         "0",
         "0",
         "0",
         "0",
         "0",
         "0",
         "0",
         "0",
         "0",
         "0",
         "0",
         "0",
         "0",
         "0",
         "0",
         "0",
         "0",
         "0",
         "0",
         "0",
         "0",
         "0",
         "0",
         "0",
         "0",
         "0",
         "0",
         "0",
         "0",
         "0",
         "0",
         "0",
         "0",
         "0",
         "0",
         "0",
         "0",
         "0",
         "0",
         "0",
         "0",
         "0",
         "0",
         "0",
         "0",
         "0",
         "0",
         "0",
         "0",
         "0",
         "0",
         "0",
         "0",
         "0",
         "0",
         "0",
         "0",
         "0",
         "0",
         "0",
         "0",
         "0",
         "0",
         "0",
         "0",
         "0",
         "0",
         "0",
         "0",
         "0",
         "0",
         "0",
         "0",
         "0",
         "0",
         "0",
         "0",
         "0",
         "0",
         "0",
         "0",
         "0",
         "0",
         "0",
         "0",
         "0",
         "0",
         "0",
         "0",
         "0",
         "0",
         "0",
         "0",
         "0",
         "0",
         "0",
         "0",
         "0",
         "0",
         "0",
         "0",
         "0",
         "0",
         "0",
         "0",
         "0",
         "0",
         "0",
         "0",
         "0",
         "0",
         "0",
         "0",
         "0",
         "0",
         "0",
         "0",
         "0",
         "0",
         "0",
         "0",
         "0",
         "0",
         "0",
         "0",
         "0",
         "0",
         "0",
         "0",
         "0",
         "0",
         "0",
         "1",
         "1",
         "1",
         "1",
         "1",
         "1",
         "1",
         "1",
         "1",
         "1",
         "1",
         "1",
         "1",
         "1",
         "1",
         "1",
         "1",
         "1",
         "1",
         "1",
         "1",
         "1",
         "1",
         "1",
         "1",
         "1",
         "1",
         "1",
         "1",
         "1",
         "1",
         "1",
         "1",
         "1",
         "1",
         "1",
         "1",
         "1",
         "1",
         "1",
         "1",
         "1",
         "1",
         "1",
         "1",
         "1",
         "1",
         "1",
         "1",
         "1",
         "1",
         "1",
         "1",
         "1",
         "1",
         "-2",
         "-2",
         "-2",
         "-2",
         "-2",
         "-2",
         "-2",
         "-2",
         "-2",
         "-2",
         "-2",
         "-2",
         "-2",
         "-2",
         "-2",
         "-2",
         "-2",
         "-2",
         "-2",
         "-2",
         "-2",
         "-2",
         "-2",
         "-2",
         "-2",
         "-2",
         "-2",
         "0",
         "0",
         "0",
         "0",
         "0",
         "0",
         "0",
         "0",
         "0",
         "0",
         "0",
         "0",
         "0",
         "0",
         "0",
         "0",
         "0",
         "0",
         "0",
         "0",
         "0",
         "0",
         "0",
         "0",
         "0",
         "0",
         "0",
         "0",
         "0",
         "0",
         "0",
         "0",
         "0",
         "0",
         "0",
         "0",
         "0",
         "0",
         "0",
         "0",
         "0",
         "0",
         "0",
         "0",
         "0",
         "0",
         "0",
         "0",
         "0",
         "0",
         "0",
         "0",
         "0",
         "0",
         "0",
         "0",
         "0",
         "0",
         "0",
         "0",
         "0",
         "0",
         "0",
         "0",
         "0",
         "0",
         "0",
         "0",
         "0",
         "0",
         "0",
         "0",
         "0",
         "0",
         "0",
         "0",
         "0",
         "0",
         "0",
         "0",
         "0",
         "0",
         "0",
         "0",
         "0",
         "0",
         "0",
         "0",
         "0",
         "0",
         "0",
         "0",
         "0",
         "0",
         "0",
         "0",
         "0",
         "0",
         "0",
         "0",
         "0",
         "0",
         "0",
         "0",
         "0",
         "0",
         "0",
         "0",
         "0",
         "0",
         "0",
         "0",
         "0",
         "0",
         "0",
         "0",
         "0",
         "0",
         "0",
         "0",
         "0",
         "0",
         "0",
         "0",
         "0",
         "0",
         "0",
         "0",
         "0",
         "0",
         "0",
         "0",
         "0",
         "0",
         "0",
         "0",
         "0",
         "0",
         "0",
         "0",
         "0",
         "0",
         "0",
         "0",
         "0",
         "0",
         "0",
         "0",
         "0",
         "0",
         "0",
         "0",
         "0",
         "0",
         "0",
         "0",
         "0",
         "0",
         "0",
         "0",
         "0",
         "0",
         "0",
         "0",
         "0",
         "0",
         "0",
         "0",
         "0",
         "0",
         "0",
         "0",
         "0",
         "0",
         "0",
         "0",
         "0",
         "0",
         "0",
         "0",
         "0",
         "0",
         "0",
         "0",
         "0",
         "0",
         "0",
         "0",
         "0",
         "0",
         "0",
         "0",
         "0",
         "0",
         "0",
         "0",
         "0",
         "0",
         "0",
         "0",
         "0",
         "0",
         "0",
         "0",
         "0",
         "0",
         "0",
         "0",
         "0",
         "0",
         "0",
         "0",
         "0",
         "0",
         "0",
         "0",
         "0",
         "0",
         "0",
         "0",
         "0",
         "0",
         "0",
         "0",
         "0",
         "0",
         "0",
         "0",
         "0",
         "0",
         "0",
         "0",
         "0",
         "0",
         "0",
         "0",
         "-1",
         "-1",
         "-1",
         "-1",
         "-1",
         "-1",
         "-1",
         "-1",
         "-1",
         "-1",
         "-1",
         "-1",
         "-1",
         "-1",
         "-1",
         "-1",
         "-1",
         "-1",
         "-1",
         "-1",
         "-1",
         "-1",
         "-1",
         "-1",
         "-1",
         "-1",
         "-1",
         "-1",
         "-1",
         "-1",
         "-1",
         "-1",
         "-1",
         "-1",
         "-1",
         "-1",
         "0",
         "0",
         "0",
         "0",
         "0",
         "0",
         "0",
         "0",
         "1",
         "0",
         "0",
         "0",
         "0",
         "0",
         "0",
         "0",
         "0",
         "0",
         "1",
         "0",
         "0",
         "0",
         "0",
         "0",
         "0",
         "0",
         "0",
         "0",
         "0",
         "0",
         "0",
         "0",
         "0",
         "0",
         "0",
         "0",
         "0",
         "0",
         "0",
         "0",
         "0",
         "0",
         "0",
         "1",
         "0",
         "0",
         "0",
         "0",
         "0",
         "0",
         "0",
         "0",
         "0",
         "0",
         "0",
         "0",
         "0",
         "0",
         "0",
         "0",
         "0",
         "0",
         "0",
         "0",
         "0",
         "0",
         "0",
         "0",
         "0",
         "0",
         "0",
         "0",
         "0",
         "1",
         "1",
         "1",
         "1",
         "1",
         "0",
         "0",
         "0",
         "0",
         "0",
         "0",
         "0",
         "0",
         "0",
         "0",
         "0",
         "0",
         "0",
         "0",
         "0",
         "0",
         "0",
         "0",
         "0",
         "0",
         "0",
         "0",
         "0",
         "0",
         "0",
         "0",
         "0",
         "0",
         "0",
         "0",
         "0",
         "0",
         "0",
         "0",
         "0",
         "0",
         "0",
         "0",
         "0",
         "0",
         "0",
         "0",
         "0",
         "0",
         "0",
         "0",
         "0",
         "0",
         "0",
         "0",
         "0",
         "0",
         "0",
         "0",
         "0",
         "0",
         "0",
         "0",
         "0",
         "0",
         "0",
         "0",
         "0",
         "0",
         "0",
         "0",
         "0",
         "0",
         "0",
         "0",
         "0",
         "0",
         "0",
         "0",
         "0",
         "0",
         "0",
         "0",
         "0",
         "0",
         "0",
         "0",
         "0",
         "0",
         "0",
         "0",
         "0",
         "0",
         "0",
         "0",
         "0",
         "0",
         "0",
         "0",
         "0",
         "0",
         "0",
         "0",
         "0",
         "0",
         "0",
         "0",
         "0",
         "0",
         "0",
         "0",
         "0",
         "0",
         "0",
         "0",
         "0",
         "0",
         "0",
         "0",
         "0",
         "0",
         "0",
         "0",
         "0",
         "0",
         "0",
         "0",
         "0",
         "0",
         "0",
         "0",
         "0",
         "0",
         "0",
         "0",
         "0",
         "0",
         "0",
         "0",
         "0",
         "0",
         "0",
         "0",
         "0",
         "0",
         "0",
         "0",
         "0",
         "0",
         "0",
         "0",
         "0",
         "0",
         "0",
         "0",
         "0",
         "0",
         "0",
         "0",
         "0",
         "0",
         "0",
         "0",
         "0",
         "0",
         "0",
         "0",
         "0",
         "0",
         "0",
         "0",
         "0",
         "0",
         "0",
         "0",
         "0",
         "0.0298017705",
         "0.0532547775",
         "0.312538834",
         "0.7029529035",
         "-0.0267291675",
         "0.638111185",
         "0.0648821495",
         "-0.4889719145",
         "-0.079593369",
         "0.320486534",
         "-0.813902567",
         "-1.173423349",
         "0.246159139",
         "-0.334311352",
         "0.0728201169999999",
         "-0.5341099425",
         "-0.0519887509999998",
         "-0.0172101855000001",
         "-0.258941206",
         "-0.4794759235",
         "0.27988575",
         "-0.011907577",
         "0.5468580075",
         "0.5079938265",
         "0.985806466",
         "0.176022393",
         "0.209662437",
         "0.1283574735",
         "0.2034570125",
         "-0.0604999775",
         "-0.1955262215",
         "0.2272794545",
         "-0.137936375",
         "-0.3163360745",
         "0.138918705",
         "0.1909339595",
         "-0.22622321",
         "0.2692195195",
         "0.005157979",
         "-0.0814182879999999",
         "-0.1951015855",
         "0.044683917",
         "0.2417979405",
         "-0.2184306115",
         "0.044818709",
         "-0.030544695",
         "-0.2010816635",
         "-0.2661077785",
         "-0.0208849920000002",
         "-0.099378715",
         "0.055861342",
         "-0.089501556",
         "0.042110461",
         "-0.1004650715",
         "0.0713190855",
         "-0.0242167615",
         "-0.218551183",
         "-0.2056705855",
         "-0.027031906",
         "-0.2535541255",
         "0.781954792",
         "-1.229866297",
         "0.011939553",
         "-0.2077565495",
         "-0.3734365005",
         "0.0876292559999999",
         "0.2996799315",
         "0.0445541915000002",
         "0.0029002595000001",
         "-0.1279042775",
         "-0.033477049",
         "-0.0226605945000001",
         "-0.051685906",
         "-0.071565154",
         "2.2971156185",
         "-0.486157766",
         "-0.5119662405",
         "-0.068381726",
         "0.103777539",
         "0.0033354674999999",
         "-0.2171221645",
         "-0.840050141",
         "0.1148775435",
         "0.124483022",
         "1.5053409465",
         "-0.335924556",
         "-0.1183213165",
         "-0.2597954135",
         "0.0692074404999999",
         "-0.2454039205",
         "0.0988024110000002",
         "-0.3377308665",
         "0.069661444",
         "0.1972166175",
         "0.311334999",
         "-0.699090459",
         "-0.1843361875",
         "-0.357739004",
         "-0.039213616",
         "-0.14757811",
         "-0.1465478975",
         "0.2381070595",
         "-0.701328915",
         "0.754902054",
         "-0.1356482705",
         "-0.2277270015",
         "0.1020187775",
         "-0.108874111",
         "0.648012891",
         "-0.472430512",
         "-0.5448693785",
         "0.0653176315",
         "0.301121844",
         "1.663434967",
         "0.301977359",
         "1.055654588",
         "0.046407545",
         "-0.35684869",
         "-0.5794144665",
         "-0.1211214505",
         "0.140240342",
         "0.1390003785",
         "0.213559959",
         "-0.0507817230000001",
         "0.0300890049999999",
         "1.040896471",
         "0.7428529865",
         "-0.266841605",
         "-0.0080470959999999",
         "-0.0539838315",
         "1.082535793",
         "-0.3447719994275",
         "0.0942125670000001",
         "-0.174223618",
         "0.7027077215",
         "0.1975610955",
         "0.2592879715",
         "0.375866822",
         "-0.0932663435",
         "-0.0350432310000001",
         "0.162585209",
         "0.4922122755",
         "0.5070151165",
         "0.0311767005",
         "0.1172372625",
         "0.1542320415",
         "0.0203231635000001",
         "0.0198341890000001",
         "0.1404135485",
         "-0.061045538",
         "-0.362513875",
         "-0.7522472785",
         "0.122393067",
         "-0.533809955",
         "0.0516878295000001",
         "-0.267241138",
         "0.0561937725",
         "-0.0813559764999999",
         "-0.103411269",
         "-0.3160771095",
         "-0.0314027150000001",
         "-0.5903884995",
         "0.560116778",
         "0.1656743495",
         "-0.1680255905",
         "-0.017880625",
         "-0.117905861",
         "0.2812632425",
         "-0.4846572495",
         "0.2192838785",
         "-0.1976574235",
         "0.0519971704999999",
         "0.317193095",
         "-0.138064902",
         "-0.329230695",
         "-0.0029002595000001",
         "-0.0404980375",
         "0.136017138",
         "0.0806576465",
         "0.633551017",
         "0.018398148",
         "-0.214652529",
         "0.2132603025",
         "-0.2693176685",
         "0.106097005",
         "0.1663917735",
         "-0.0584364245",
         "-0.3745036695",
         "0.0868545205",
         "0.56891744",
         "-0.1052620925",
         "-0.2220831545",
         "0.3124805255",
         "0.7784811075",
         "-0.20266572",
         "0.3265957825",
         "-0.3126808335",
         "0.0794681805",
         "0.2910067745",
         "1.0630761165",
         "-0.0925424020000001",
         "-0.0213621585",
         "0.2417977735",
         "0.128055461",
         "-0.343212723",
         "-0.2111990685",
         "0.198017736",
         "-0.402711605",
         "-0.2610131525",
         "-0.019797394",
         "0.450601838",
         "0.4528598375",
         "0.100469931",
         "-0.081189464",
         "-0.065488026",
         "0.2098581595",
         "0.920407979",
         "0.0422103534999999",
         "-0.441541641",
         "-0.15231735",
         "0.511386491",
         "-0.096482465",
         "0.037472796",
         "0",
         "Positive",
         "Positive",
         "Negative",
         "infiltrating ductal carcinoma"
        ]
       ],
       "shape": {
        "columns": 1941,
        "rows": 5
       }
      },
      "text/html": [
       "<div>\n",
       "<style scoped>\n",
       "    .dataframe tbody tr th:only-of-type {\n",
       "        vertical-align: middle;\n",
       "    }\n",
       "\n",
       "    .dataframe tbody tr th {\n",
       "        vertical-align: top;\n",
       "    }\n",
       "\n",
       "    .dataframe thead th {\n",
       "        text-align: right;\n",
       "    }\n",
       "</style>\n",
       "<table border=\"1\" class=\"dataframe\">\n",
       "  <thead>\n",
       "    <tr style=\"text-align: right;\">\n",
       "      <th></th>\n",
       "      <th>rs_CLEC3A</th>\n",
       "      <th>rs_CPB1</th>\n",
       "      <th>rs_SCGB2A2</th>\n",
       "      <th>rs_SCGB1D2</th>\n",
       "      <th>rs_TFF1</th>\n",
       "      <th>rs_MUCL1</th>\n",
       "      <th>rs_GSTM1</th>\n",
       "      <th>rs_PIP</th>\n",
       "      <th>rs_ADIPOQ</th>\n",
       "      <th>rs_ADH1B</th>\n",
       "      <th>...</th>\n",
       "      <th>pp_p62.LCK.ligand</th>\n",
       "      <th>pp_p70S6K</th>\n",
       "      <th>pp_p70S6K.pT389</th>\n",
       "      <th>pp_p90RSK</th>\n",
       "      <th>pp_p90RSK.pT359.S363</th>\n",
       "      <th>vital.status</th>\n",
       "      <th>PR.Status</th>\n",
       "      <th>ER.Status</th>\n",
       "      <th>HER2.Final.Status</th>\n",
       "      <th>histological.type</th>\n",
       "    </tr>\n",
       "  </thead>\n",
       "  <tbody>\n",
       "    <tr>\n",
       "      <th>0</th>\n",
       "      <td>0.892818</td>\n",
       "      <td>6.580103</td>\n",
       "      <td>14.123672</td>\n",
       "      <td>10.606501</td>\n",
       "      <td>13.189237</td>\n",
       "      <td>6.649466</td>\n",
       "      <td>10.520335</td>\n",
       "      <td>10.338490</td>\n",
       "      <td>10.248379</td>\n",
       "      <td>10.229970</td>\n",
       "      <td>...</td>\n",
       "      <td>-0.691766</td>\n",
       "      <td>-0.337863</td>\n",
       "      <td>-0.178503</td>\n",
       "      <td>0.011638</td>\n",
       "      <td>-0.207257</td>\n",
       "      <td>0</td>\n",
       "      <td>Positive</td>\n",
       "      <td>Positive</td>\n",
       "      <td>Negative</td>\n",
       "      <td>infiltrating ductal carcinoma</td>\n",
       "    </tr>\n",
       "    <tr>\n",
       "      <th>1</th>\n",
       "      <td>0.000000</td>\n",
       "      <td>3.691311</td>\n",
       "      <td>17.116090</td>\n",
       "      <td>15.517231</td>\n",
       "      <td>9.867616</td>\n",
       "      <td>9.691667</td>\n",
       "      <td>8.179522</td>\n",
       "      <td>7.911723</td>\n",
       "      <td>1.289598</td>\n",
       "      <td>1.818891</td>\n",
       "      <td>...</td>\n",
       "      <td>0.279067</td>\n",
       "      <td>0.292925</td>\n",
       "      <td>-0.155242</td>\n",
       "      <td>-0.089365</td>\n",
       "      <td>0.267530</td>\n",
       "      <td>0</td>\n",
       "      <td>Positive</td>\n",
       "      <td>Negative</td>\n",
       "      <td>Negative</td>\n",
       "      <td>infiltrating ductal carcinoma</td>\n",
       "    </tr>\n",
       "    <tr>\n",
       "      <th>2</th>\n",
       "      <td>3.748150</td>\n",
       "      <td>4.375255</td>\n",
       "      <td>9.658123</td>\n",
       "      <td>5.326983</td>\n",
       "      <td>12.109539</td>\n",
       "      <td>11.644307</td>\n",
       "      <td>10.517330</td>\n",
       "      <td>5.114925</td>\n",
       "      <td>11.975349</td>\n",
       "      <td>11.911437</td>\n",
       "      <td>...</td>\n",
       "      <td>0.219910</td>\n",
       "      <td>0.308110</td>\n",
       "      <td>-0.190794</td>\n",
       "      <td>-0.222150</td>\n",
       "      <td>-0.198518</td>\n",
       "      <td>0</td>\n",
       "      <td>Positive</td>\n",
       "      <td>Positive</td>\n",
       "      <td>Negative</td>\n",
       "      <td>infiltrating ductal carcinoma</td>\n",
       "    </tr>\n",
       "    <tr>\n",
       "      <th>3</th>\n",
       "      <td>0.000000</td>\n",
       "      <td>18.235519</td>\n",
       "      <td>18.535480</td>\n",
       "      <td>14.533584</td>\n",
       "      <td>14.078992</td>\n",
       "      <td>8.913760</td>\n",
       "      <td>10.557465</td>\n",
       "      <td>13.304434</td>\n",
       "      <td>8.205059</td>\n",
       "      <td>9.211476</td>\n",
       "      <td>...</td>\n",
       "      <td>-0.266554</td>\n",
       "      <td>-0.079871</td>\n",
       "      <td>-0.463237</td>\n",
       "      <td>0.522998</td>\n",
       "      <td>-0.046902</td>\n",
       "      <td>0</td>\n",
       "      <td>Positive</td>\n",
       "      <td>Positive</td>\n",
       "      <td>Negative</td>\n",
       "      <td>infiltrating ductal carcinoma</td>\n",
       "    </tr>\n",
       "    <tr>\n",
       "      <th>4</th>\n",
       "      <td>0.000000</td>\n",
       "      <td>4.583724</td>\n",
       "      <td>15.711865</td>\n",
       "      <td>12.804521</td>\n",
       "      <td>8.881669</td>\n",
       "      <td>8.430028</td>\n",
       "      <td>12.964607</td>\n",
       "      <td>6.806517</td>\n",
       "      <td>4.294341</td>\n",
       "      <td>5.385714</td>\n",
       "      <td>...</td>\n",
       "      <td>-0.441542</td>\n",
       "      <td>-0.152317</td>\n",
       "      <td>0.511386</td>\n",
       "      <td>-0.096482</td>\n",
       "      <td>0.037473</td>\n",
       "      <td>0</td>\n",
       "      <td>Positive</td>\n",
       "      <td>Positive</td>\n",
       "      <td>Negative</td>\n",
       "      <td>infiltrating ductal carcinoma</td>\n",
       "    </tr>\n",
       "  </tbody>\n",
       "</table>\n",
       "<p>5 rows × 1941 columns</p>\n",
       "</div>"
      ],
      "text/plain": [
       "   rs_CLEC3A    rs_CPB1  rs_SCGB2A2  rs_SCGB1D2    rs_TFF1   rs_MUCL1  \\\n",
       "0   0.892818   6.580103   14.123672   10.606501  13.189237   6.649466   \n",
       "1   0.000000   3.691311   17.116090   15.517231   9.867616   9.691667   \n",
       "2   3.748150   4.375255    9.658123    5.326983  12.109539  11.644307   \n",
       "3   0.000000  18.235519   18.535480   14.533584  14.078992   8.913760   \n",
       "4   0.000000   4.583724   15.711865   12.804521   8.881669   8.430028   \n",
       "\n",
       "    rs_GSTM1     rs_PIP  rs_ADIPOQ   rs_ADH1B  ...  pp_p62.LCK.ligand  \\\n",
       "0  10.520335  10.338490  10.248379  10.229970  ...          -0.691766   \n",
       "1   8.179522   7.911723   1.289598   1.818891  ...           0.279067   \n",
       "2  10.517330   5.114925  11.975349  11.911437  ...           0.219910   \n",
       "3  10.557465  13.304434   8.205059   9.211476  ...          -0.266554   \n",
       "4  12.964607   6.806517   4.294341   5.385714  ...          -0.441542   \n",
       "\n",
       "   pp_p70S6K  pp_p70S6K.pT389  pp_p90RSK  pp_p90RSK.pT359.S363  vital.status  \\\n",
       "0  -0.337863        -0.178503   0.011638             -0.207257             0   \n",
       "1   0.292925        -0.155242  -0.089365              0.267530             0   \n",
       "2   0.308110        -0.190794  -0.222150             -0.198518             0   \n",
       "3  -0.079871        -0.463237   0.522998             -0.046902             0   \n",
       "4  -0.152317         0.511386  -0.096482              0.037473             0   \n",
       "\n",
       "   PR.Status  ER.Status  HER2.Final.Status              histological.type  \n",
       "0   Positive   Positive           Negative  infiltrating ductal carcinoma  \n",
       "1   Positive   Negative           Negative  infiltrating ductal carcinoma  \n",
       "2   Positive   Positive           Negative  infiltrating ductal carcinoma  \n",
       "3   Positive   Positive           Negative  infiltrating ductal carcinoma  \n",
       "4   Positive   Positive           Negative  infiltrating ductal carcinoma  \n",
       "\n",
       "[5 rows x 1941 columns]"
      ]
     },
     "metadata": {},
     "output_type": "display_data"
    }
   ],
   "source": [
    "DATA_PATH = 'brca_data_w_subtypes.csv'\n",
    "TARGET_COLUMN = 'histological.type'\n",
    "\n",
    "df = pd.read_csv(DATA_PATH)\n",
    "\n",
    "print('='*80)\n",
    "print('DATASET OVERVIEW')\n",
    "print('='*80)\n",
    "print(f'Dataset shape: {df.shape}')\n",
    "print(f'Total samples: {len(df):,}')\n",
    "print(f'Total columns: {len(df.columns):,}')\n",
    "print(f'Target column: {TARGET_COLUMN}')\n",
    "print(f'First 5 feature columns: {df.columns[:5].tolist()}')\n",
    "print(f'Last 5 columns: {df.columns[-5:].tolist()}')\n",
    "\n",
    "display(df.head())"
   ]
  },
  {
   "cell_type": "code",
   "execution_count": 4,
   "id": "fef4ebc1",
   "metadata": {},
   "outputs": [
    {
     "name": "stdout",
     "output_type": "stream",
     "text": [
      "\n",
      "================================================================================\n",
      "TARGET DISTRIBUTION\n",
      "================================================================================\n",
      "histological.type\n",
      "infiltrating ductal carcinoma     574\n",
      "infiltrating lobular carcinoma    131\n",
      "Name: count, dtype: int64\n",
      "\n",
      "Class proportions:\n",
      "histological.type\n",
      "infiltrating ductal carcinoma     0.814\n",
      "infiltrating lobular carcinoma    0.186\n",
      "Name: count, dtype: float64\n"
     ]
    },
    {
     "data": {
      "image/png": "[encoded data removed]",
      "text/plain": [
       "<Figure size 1400x500 with 2 Axes>"
      ]
     },
     "metadata": {},
     "output_type": "display_data"
    }
   ],
   "source": [
    "# Target distribution\n",
    "value_counts = df[TARGET_COLUMN].value_counts()\n",
    "print('\\n' + '='*80)\n",
    "print('TARGET DISTRIBUTION')\n",
    "print('='*80)\n",
    "print(value_counts)\n",
    "print('\\nClass proportions:')\n",
    "print((value_counts / len(df)).round(3))\n",
    "\n",
    "fig, axes = plt.subplots(1, 2, figsize=(14, 5))\n",
    "axes[0].pie(value_counts, labels=value_counts.index, autopct='%1.1f%%', startangle=90, explode=[0.03]*len(value_counts), colors=['#3498db', '#e74c3c'])\n",
    "axes[0].set_title('Histological Type Distribution', fontsize=14, weight='bold')\n",
    "\n",
    "sns.barplot(x=value_counts.index, y=value_counts.values, ax=axes[1], palette=['#3498db', '#e74c3c'])\n",
    "axes[1].set_ylabel('Count', fontsize=12, weight='bold')\n",
    "axes[1].set_title('Class Counts', fontsize=14, weight='bold')\n",
    "axes[1].tick_params(axis='x', rotation=20)\n",
    "axes[1].grid(axis='y', alpha=0.3)\n",
    "\n",
    "plt.tight_layout()\n",
    "plt.show()"
   ]
  },
  {
   "cell_type": "code",
   "execution_count": 5,
   "id": "928175af",
   "metadata": {},
   "outputs": [
    {
     "name": "stdout",
     "output_type": "stream",
     "text": [
      "\n",
      "================================================================================\n",
      "MISSING VALUE ANALYSIS\n",
      "================================================================================\n",
      "Total missing values: 389\n",
      "Percent missing: 0.03%\n",
      "Columns with missing values: 3\n"
     ]
    },
    {
     "data": {
      "application/vnd.microsoft.datawrangler.viewer.v0+json": {
       "columns": [
        {
         "name": "index",
         "rawType": "object",
         "type": "string"
        },
        {
         "name": "0",
         "rawType": "int64",
         "type": "integer"
        }
       ],
       "ref": "2ec9280b-dced-4be7-9f7c-214fd959064b",
       "rows": [
        [
         "HER2.Final.Status",
         "145"
        ],
        [
         "PR.Status",
         "122"
        ],
        [
         "ER.Status",
         "122"
        ]
       ],
       "shape": {
        "columns": 1,
        "rows": 3
       }
      },
      "text/plain": [
       "HER2.Final.Status    145\n",
       "PR.Status            122\n",
       "ER.Status            122\n",
       "dtype: int64"
      ]
     },
     "metadata": {},
     "output_type": "display_data"
    }
   ],
   "source": [
    "# Missing value analysis\n",
    "missing_total = df.isnull().sum().sum()\n",
    "missing_percent = missing_total / (df.shape[0] * df.shape[1]) * 100\n",
    "\n",
    "print('\\n' + '='*80)\n",
    "print('MISSING VALUE ANALYSIS')\n",
    "print('='*80)\n",
    "print(f'Total missing values: {missing_total:,}')\n",
    "print(f'Percent missing: {missing_percent:.2f}%')\n",
    "\n",
    "if missing_total > 0:\n",
    "    cols_with_missing = df.isnull().sum()[df.isnull().sum() > 0].sort_values(ascending=False)\n",
    "    print(f'Columns with missing values: {len(cols_with_missing)}')\n",
    "    display(cols_with_missing.head(10))"
   ]
  },
  {
   "cell_type": "markdown",
   "id": "3abc9277",
   "metadata": {},
   "source": [
    "## 2. Data Preprocessing"
   ]
  },
  {
   "cell_type": "code",
   "execution_count": 6,
   "id": "5b64a73f",
   "metadata": {},
   "outputs": [
    {
     "name": "stdout",
     "output_type": "stream",
     "text": [
      "================================================================================\n",
      "PREPROCESSING: IMPUTATION\n",
      "================================================================================\n",
      "Missing values before: 389\n",
      "Missing values after: 389\n",
      "\n",
      "✅ Numeric features imputed with median values.\n",
      "Missing values after: 389\n",
      "\n",
      "✅ Numeric features imputed with median values.\n"
     ]
    }
   ],
   "source": [
    "# Median imputation for numeric columns\n",
    "print('='*80)\n",
    "print('PREPROCESSING: IMPUTATION')\n",
    "print('='*80)\n",
    "print(f'Missing values before: {missing_total:,}')\n",
    "df_clean = df.fillna(df.median(numeric_only=True))\n",
    "print(f'Missing values after: {df_clean.isnull().sum().sum():,}')\n",
    "print('\\n✅ Numeric features imputed with median values.')"
   ]
  },
  {
   "cell_type": "code",
   "execution_count": 7,
   "id": "ff510b39",
   "metadata": {},
   "outputs": [
    {
     "name": "stdout",
     "output_type": "stream",
     "text": [
      "================================================================================\n",
      "EXCLUDED COLUMNS (Prevent Data Leakage)\n",
      "================================================================================\n",
      "Excluding 5 columns:\n",
      "  - PR.Status: Clinical label/outcome variable\n",
      "  - ER.Status: Clinical label/outcome variable\n",
      "  - HER2.Final.Status: Clinical label/outcome variable\n",
      "  - vital.status: Clinical label/outcome variable\n",
      "  - histological.type: Target variable\n",
      "\n",
      "================================================================================\n",
      "DATA TYPE ANALYSIS\n",
      "================================================================================\n",
      "All features are numeric.\n",
      "\n",
      "================================================================================\n",
      "FEATURE / TARGET SHAPES\n",
      "================================================================================\n",
      "Feature matrix: (705, 1936)\n",
      "Target vector: (705,)\n"
     ]
    }
   ],
   "source": [
    "# Feature matrix and target vector\n",
    "# Define columns to exclude (target + clinical status columns that could cause data leakage)\n",
    "exclude_cols = [\n",
    "    TARGET_COLUMN,\n",
    "    'PR.Status',           # Progesterone receptor status (clinical label)\n",
    "    'ER.Status',           # Estrogen receptor status (clinical label)\n",
    "    'HER2.Final.Status',   # HER2 status (clinical label)\n",
    "    'vital.status'         # Patient outcome (not relevant for histological prediction)\n",
    "]\n",
    "\n",
    "# Remove excluded columns that actually exist in the dataset\n",
    "exclude_cols = [col for col in exclude_cols if col in df_clean.columns]\n",
    "feature_cols = [col for col in df_clean.columns if col not in exclude_cols]\n",
    "\n",
    "print('='*80)\n",
    "print('EXCLUDED COLUMNS (Prevent Data Leakage)')\n",
    "print('='*80)\n",
    "print(f'Excluding {len(exclude_cols)} columns:')\n",
    "for col in exclude_cols:\n",
    "    if col != TARGET_COLUMN:\n",
    "        print(f'  - {col}: Clinical label/outcome variable')\n",
    "print(f'  - {TARGET_COLUMN}: Target variable')\n",
    "\n",
    "X = df_clean[feature_cols]\n",
    "y = df_clean[TARGET_COLUMN]\n",
    "\n",
    "# Check data types and identify non-numeric columns\n",
    "print('\\n' + '='*80)\n",
    "print('DATA TYPE ANALYSIS')\n",
    "print('='*80)\n",
    "non_numeric_cols = X.select_dtypes(include=['object']).columns.tolist()\n",
    "if non_numeric_cols:\n",
    "    print(f'Found {len(non_numeric_cols)} non-numeric columns:')\n",
    "    for col in non_numeric_cols[:10]:  # Show first 10\n",
    "        print(f'  - {col}: {X[col].unique()[:5].tolist()}')\n",
    "    print(f'\\nRemoving {len(non_numeric_cols)} non-numeric columns...')\n",
    "    X = X.select_dtypes(include=[np.number])\n",
    "    print(f'Remaining numeric features: {X.shape[1]}')\n",
    "else:\n",
    "    print('All features are numeric.')\n",
    "\n",
    "print('\\n' + '='*80)\n",
    "print('FEATURE / TARGET SHAPES')\n",
    "print('='*80)\n",
    "print(f'Feature matrix: {X.shape}')\n",
    "print(f'Target vector: {y.shape}')"
   ]
  },
  {
   "cell_type": "code",
   "execution_count": 8,
   "id": "332bef01",
   "metadata": {},
   "outputs": [
    {
     "name": "stdout",
     "output_type": "stream",
     "text": [
      "================================================================================\n",
      "TRAIN / TEST SPLIT\n",
      "================================================================================\n",
      "Train samples: 564 (80.0%)\n",
      "Test samples:  141 (20.0%)\n",
      "\n",
      "Train distribution:\n",
      "histological.type\n",
      "infiltrating ductal carcinoma     459\n",
      "infiltrating lobular carcinoma    105\n",
      "Name: count, dtype: int64\n",
      "\n",
      "Test distribution:\n",
      "histological.type\n",
      "infiltrating ductal carcinoma     115\n",
      "infiltrating lobular carcinoma     26\n",
      "Name: count, dtype: int64\n"
     ]
    }
   ],
   "source": [
    "# Train-test split with stratification\n",
    "X_train, X_test, y_train, y_test = train_test_split(\n",
    "    X, y, test_size=0.2, stratify=y, random_state=3\n",
    ")\n",
    "\n",
    "print('='*80)\n",
    "print('TRAIN / TEST SPLIT')\n",
    "print('='*80)\n",
    "print(f'Train samples: {X_train.shape[0]} ({X_train.shape[0]/len(X)*100:.1f}%)')\n",
    "print(f'Test samples:  {X_test.shape[0]} ({X_test.shape[0]/len(X)*100:.1f}%)')\n",
    "print('\\nTrain distribution:')\n",
    "print(y_train.value_counts())\n",
    "print('\\nTest distribution:')\n",
    "print(y_test.value_counts())"
   ]
  },
  {
   "cell_type": "code",
   "execution_count": 9,
   "id": "4e37f530",
   "metadata": {},
   "outputs": [
    {
     "name": "stdout",
     "output_type": "stream",
     "text": [
      "================================================================================\n",
      "SCALING SUMMARY\n",
      "================================================================================\n",
      "Scaled train shape: (564, 1936)\n",
      "Scaled test shape:  (141, 1936)\n",
      "Mean (approx): -0.0000\n",
      "Std (approx):  1.0000\n"
     ]
    }
   ],
   "source": [
    "# Feature scaling\n",
    "scaler = StandardScaler()\n",
    "X_train_scaled = scaler.fit_transform(X_train)\n",
    "X_test_scaled = scaler.transform(X_test)\n",
    "\n",
    "print('='*80)\n",
    "print('SCALING SUMMARY')\n",
    "print('='*80)\n",
    "print(f'Scaled train shape: {X_train_scaled.shape}')\n",
    "print(f'Scaled test shape:  {X_test_scaled.shape}')\n",
    "print(f'Mean (approx): {X_train_scaled.mean():.4f}')\n",
    "print(f'Std (approx):  {X_train_scaled.std():.4f}')"
   ]
  },
  {
   "cell_type": "markdown",
   "id": "72b4a05a",
   "metadata": {},
   "source": [
    "## 3. PCA Transformation"
   ]
  },
  {
   "cell_type": "code",
   "execution_count": 10,
   "id": "353b1afc",
   "metadata": {},
   "outputs": [
    {
     "name": "stdout",
     "output_type": "stream",
     "text": [
      "================================================================================\n",
      "VARIANCE THRESHOLD RESULTS\n",
      "================================================================================\n",
      "Original features: 1,936\n",
      "Remaining features: 1,936\n",
      "Removed low-variance features: 0\n"
     ]
    }
   ],
   "source": [
    "# Variance threshold to drop near-constant features\n",
    "var_selector = VarianceThreshold(threshold=0.01)\n",
    "X_train_var = var_selector.fit_transform(X_train_scaled)\n",
    "X_test_var = var_selector.transform(X_test_scaled)\n",
    "selected_feature_indices = var_selector.get_support(indices=True)\n",
    "selected_feature_names = X_train.columns[selected_feature_indices]\n",
    "\n",
    "removed = X_train_scaled.shape[1] - X_train_var.shape[1]\n",
    "print('='*80)\n",
    "print('VARIANCE THRESHOLD RESULTS')\n",
    "print('='*80)\n",
    "print(f'Original features: {X_train_scaled.shape[1]:,}')\n",
    "print(f'Remaining features: {X_train_var.shape[1]:,}')\n",
    "print(f'Removed low-variance features: {removed:,}')"
   ]
  },
  {
   "cell_type": "code",
   "execution_count": 12,
   "id": "93d00185",
   "metadata": {},
   "outputs": [
    {
     "name": "stdout",
     "output_type": "stream",
     "text": [
      "================================================================================\n",
      "PCA ANALYSIS\n",
      "================================================================================\n",
      "Total components: 564\n",
      "Components for 95% variance: 325\n",
      "Variance explained by PC1: 0.0850\n",
      "Variance explained by PC2: 0.0615\n",
      "Cumulative variance (PC1+PC2): 0.1465\n",
      "\n",
      "================================================================================\n",
      "USING PCA COMPONENTS FOR LOGISTIC REGRESSION\n",
      "================================================================================\n",
      "PCA components (95% variance): 325\n",
      "These 325 components will be used directly in the model\n",
      "Benefits: Decorrelated features, optimal for linear models\n",
      "================================================================================\n"
     ]
    },
    {
     "data": {
      "image/png": "[encoded data removed]",
      "text/plain": [
       "<Figure size 1600x600 with 2 Axes>"
      ]
     },
     "metadata": {},
     "output_type": "display_data"
    },
    {
     "data": {
      "image/png": "[encoded data removed]",
      "text/plain": [
       "<Figure size 1000x600 with 1 Axes>"
      ]
     },
     "metadata": {},
     "output_type": "display_data"
    }
   ],
   "source": [
    "# PCA Analysis - Transform data to PCA components\n",
    "from sklearn.decomposition import PCA\n",
    "\n",
    "# Fit PCA on all variance-filtered features\n",
    "pca = PCA(random_state=3)\n",
    "X_train_pca = pca.fit_transform(X_train_var)\n",
    "X_test_pca = pca.transform(X_test_var)\n",
    "\n",
    "# Calculate cumulative variance explained\n",
    "cumulative_variance = np.cumsum(pca.explained_variance_ratio_)\n",
    "\n",
    "# Find number of components for 95% variance\n",
    "n_components_95 = np.argmax(cumulative_variance >= 0.95) + 1\n",
    "\n",
    "print('='*80)\n",
    "print('PCA ANALYSIS')\n",
    "print('='*80)\n",
    "print(f'Total components: {len(pca.explained_variance_ratio_)}')\n",
    "print(f'Components for 95% variance: {n_components_95}')\n",
    "print(f'Variance explained by PC1: {pca.explained_variance_ratio_[0]:.4f}')\n",
    "print(f'Variance explained by PC2: {pca.explained_variance_ratio_[1]:.4f}')\n",
    "print(f'Cumulative variance (PC1+PC2): {cumulative_variance[1]:.4f}')\n",
    "\n",
    "print('\\n' + '='*80)\n",
    "print(f'USING PCA COMPONENTS FOR LOGISTIC REGRESSION')\n",
    "print('='*80)\n",
    "print(f'PCA components (95% variance): {n_components_95}')\n",
    "print(f'These {n_components_95} components will be used directly in the model')\n",
    "print('Benefits: Decorrelated features, optimal for linear models')\n",
    "print('='*80)\n",
    "\n",
    "# Elbow Plot (Scree Plot)\n",
    "n_components_to_show = min(30, len(pca.explained_variance_ratio_))\n",
    "\n",
    "fig, axes = plt.subplots(1, 2, figsize=(16, 6))\n",
    "\n",
    "# Scree plot - variance explained by each component\n",
    "axes[0].plot(range(1, n_components_to_show + 1), \n",
    "             pca.explained_variance_ratio_[:n_components_to_show], \n",
    "             'bo-', linewidth=2, markersize=8, label='Variance per Component')\n",
    "axes[0].set_xlabel('Principal Component', fontsize=12, weight='bold')\n",
    "axes[0].set_ylabel('Variance Explained Ratio', fontsize=12, weight='bold')\n",
    "axes[0].set_title('PCA Elbow Plot (Scree Plot)', fontsize=14, weight='bold')\n",
    "axes[0].grid(alpha=0.3)\n",
    "axes[0].legend(loc='upper right')\n",
    "\n",
    "# Cumulative variance curve\n",
    "axes[1].plot(range(1, n_components_to_show + 1), \n",
    "             cumulative_variance[:n_components_to_show], \n",
    "             'g-', linewidth=2.5, label='Cumulative Variance')\n",
    "axes[1].axhline(y=0.95, color='r', linestyle='--', linewidth=1.5, label='95% Threshold')\n",
    "axes[1].axvline(x=n_components_95, color='orange', linestyle='--', linewidth=1.5, \n",
    "                label=f'{n_components_95} components for 95%')\n",
    "axes[1].set_xlabel('Number of Components', fontsize=12, weight='bold')\n",
    "axes[1].set_ylabel('Cumulative Variance Explained', fontsize=12, weight='bold')\n",
    "axes[1].set_title('Cumulative Variance Explained', fontsize=14, weight='bold')\n",
    "axes[1].legend(loc='lower right')\n",
    "axes[1].grid(alpha=0.3)\n",
    "\n",
    "plt.tight_layout()\n",
    "plt.show()\n",
    "\n",
    "# Optional: 2D scatter plot\n",
    "colors_map = {'infiltrating ductal carcinoma': '#3498db', 'infiltrating lobular carcinoma': '#e74c3c'}\n",
    "plt.figure(figsize=(10, 6))\n",
    "for label in y_train.unique():\n",
    "    mask = y_train == label\n",
    "    plt.scatter(X_train_pca[mask, 0], X_train_pca[mask, 1], \n",
    "               c=colors_map[label], label=label, alpha=0.6, s=50, edgecolors='k', linewidth=0.5)\n",
    "plt.xlabel(f'PC1 ({pca.explained_variance_ratio_[0]:.2%} variance)', fontsize=12, weight='bold')\n",
    "plt.ylabel(f'PC2 ({pca.explained_variance_ratio_[1]:.2%} variance)', fontsize=12, weight='bold')\n",
    "plt.title('PCA: First Two Principal Components', fontsize=14, weight='bold')\n",
    "plt.legend(loc='best')\n",
    "plt.grid(alpha=0.3)\n",
    "plt.tight_layout()\n",
    "plt.show()"
   ]
  },
  {
   "cell_type": "markdown",
   "id": "c95eb1f0",
   "metadata": {},
   "source": [
    "## 4. Hyperparameter Tuning"
   ]
  },
  {
   "cell_type": "code",
   "execution_count": null,
   "id": "be0f5c2e",
   "metadata": {},
   "outputs": [
    {
     "name": "stdout",
     "output_type": "stream",
     "text": [
      "================================================================================\n",
      "PCA DIMENSIONALITY REDUCTION\n",
      "================================================================================\n",
      "Original PCA components: 564\n",
      "Reduced to (95% variance): 325\n",
      "Train shape: (564, 325)\n",
      "Test shape: (141, 325)\n",
      "\n",
      "================================================================================\n",
      "LOGISTIC REGRESSION WITH PCA COMPONENTS\n",
      "================================================================================\n",
      "Using 325 PCA components (95% variance)\n",
      "SMOTE oversampling + class weights for imbalance handling\n",
      "Tuning: SMOTE parameters, C (regularization), and class weights\n",
      "Total parameter combinations: 3 SMOTE_k × 3 sampling × 6 C × 3 weights = 162 combinations\n",
      "With 5-fold CV: 162 × 5 = 810 model fits (~4-5 minutes)\n",
      "================================================================================\n",
      "Fitting 5 folds for each of 162 candidates, totalling 810 fits\n",
      "\n",
      "================================================================================\n",
      "BEST HYPERPARAMETERS\n",
      "================================================================================\n",
      "Best CV ROC-AUC: 0.9201\n",
      "Total tuning time: 0.12 minutes\n",
      "  classifier__C: 0.01\n",
      "  classifier__class_weight: None\n",
      "  classifier__penalty: l2\n",
      "  classifier__solver: lbfgs\n",
      "  smote__k_neighbors: 5\n",
      "  smote__sampling_strategy: 0.5\n",
      "\n",
      "================================================================================\n",
      "BEST HYPERPARAMETERS\n",
      "================================================================================\n",
      "Best CV ROC-AUC: 0.9201\n",
      "Total tuning time: 0.12 minutes\n",
      "  classifier__C: 0.01\n",
      "  classifier__class_weight: None\n",
      "  classifier__penalty: l2\n",
      "  classifier__solver: lbfgs\n",
      "  smote__k_neighbors: 5\n",
      "  smote__sampling_strategy: 0.5\n",
      "\n",
      "================================================================================\n",
      "BEST HYPERPARAMETERS\n",
      "================================================================================\n",
      "Best CV ROC-AUC: 0.9201\n",
      "Total tuning time: 0.12 minutes\n",
      "  classifier__C: 0.01\n",
      "  classifier__class_weight: None\n",
      "  classifier__penalty: l2\n",
      "  classifier__solver: lbfgs\n",
      "  smote__k_neighbors: 5\n",
      "  smote__sampling_strategy: 0.5\n"
     ]
    }
   ],
   "source": [
    "# Reduce PCA to 95% variance components\n",
    "X_train_pca_reduced = X_train_pca[:, :n_components_95]\n",
    "X_test_pca_reduced = X_test_pca[:, :n_components_95]\n",
    "\n",
    "print('='*80)\n",
    "print('PCA DIMENSIONALITY REDUCTION')\n",
    "print('='*80)\n",
    "print(f'Original PCA components: {X_train_pca.shape[1]}')\n",
    "print(f'Reduced to (95% variance): {n_components_95}')\n",
    "print(f'Train shape: {X_train_pca_reduced.shape}')\n",
    "print(f'Test shape: {X_test_pca_reduced.shape}')\n",
    "\n",
    "# Pipeline: SMOTE + Logistic Regression on PCA components\n",
    "# Using imbalanced-learn pipeline to include SMOTE\n",
    "pipeline = ImbPipeline([\n",
    "    ('smote', SMOTE(random_state=3)),\n",
    "    ('classifier', LogisticRegression(random_state=3, max_iter=2000))\n",
    "])\n",
    "\n",
    "# Hyperparameter grid for Logistic Regression (Balanced for 4-5 min runtime)\n",
    "param_grid = {\n",
    "    'smote__k_neighbors': [3, 5, 7],  # SMOTE neighbors parameter\n",
    "    'smote__sampling_strategy': [0.5, 0.75, 1.0],  # How much to oversample minority class\n",
    "    'classifier__C': [0.001, 0.01, 0.1, 1, 10, 100],  # Regularization strength (full range)\n",
    "    'classifier__penalty': ['l2'],  # L2 regularization (fastest, still effective)\n",
    "    'classifier__solver': ['lbfgs'],  # Fast solver for L2\n",
    "    'classifier__class_weight': [\n",
    "        None,\n",
    "        'balanced',  # Auto weight: n_samples / (n_classes * np.bincount(y))\n",
    "        {\"infiltrating ductal carcinoma\": 1, \"infiltrating lobular carcinoma\": 4.38}  # Exact ratio\n",
    "    ]\n",
    "}\n",
    "\n",
    "cv_strategy = StratifiedKFold(n_splits=5, shuffle=True, random_state=3)\n",
    "\n",
    "grid_search = GridSearchCV(\n",
    "    estimator=pipeline,\n",
    "    param_grid=param_grid,\n",
    "    scoring='roc_auc',\n",
    "    cv=cv_strategy,\n",
    "    verbose=1,  # Reduced verbosity\n",
    "    n_jobs=-1,\n",
    "    return_train_score=True\n",
    ")\n",
    "\n",
    "print('\\n' + '='*80)\n",
    "print('LOGISTIC REGRESSION WITH PCA COMPONENTS')\n",
    "print('='*80)\n",
    "print(f'Using {n_components_95} PCA components (95% variance)')\n",
    "print('SMOTE oversampling + class weights for imbalance handling')\n",
    "print('Tuning: SMOTE parameters, C (regularization), and class weights')\n",
    "print(f'Total parameter combinations: 3 SMOTE_k × 3 sampling × 6 C × 3 weights = 162 combinations')\n",
    "print(f'With 5-fold CV: 162 × 5 = 810 model fits (~4-5 minutes)')\n",
    "print('='*80)\n",
    "\n",
    "start_time = time.time()\n",
    "grid_search.fit(X_train_pca_reduced, y_train)\n",
    "tuning_time = time.time() - start_time\n",
    "\n",
    "print('\\n' + '='*80)\n",
    "print('BEST HYPERPARAMETERS')\n",
    "print('='*80)\n",
    "print(f'Best CV ROC-AUC: {grid_search.best_score_:.4f}')\n",
    "print(f'Total tuning time: {tuning_time/60:.2f} minutes')\n",
    "for param, value in grid_search.best_params_.items():\n",
    "    print(f'  {param}: {value}')\n",
    "\n",
    "tuned_model = grid_search.best_estimator_"
   ]
  },
  {
   "cell_type": "markdown",
   "id": "66832357",
   "metadata": {},
   "source": [
    "## 5. Evaluation"
   ]
  },
  {
   "cell_type": "code",
   "execution_count": null,
   "id": "07096615",
   "metadata": {},
   "outputs": [
    {
     "name": "stdout",
     "output_type": "stream",
     "text": [
      "================================================================================\n",
      "TEST PERFORMANCE (TUNED LOGISTIC REGRESSION)\n",
      "================================================================================\n",
      "Accuracy: 0.9220\n",
      "Precision (macro): 0.8670\n",
      "Recall (macro): 0.8778\n",
      "F1-score (macro): 0.8722\n",
      "ROC-AUC: 0.9559\n",
      "\n",
      "Classification report:\n",
      "                                precision    recall  f1-score   support\n",
      "\n",
      " infiltrating ductal carcinoma       0.96      0.95      0.95       115\n",
      "infiltrating lobular carcinoma       0.78      0.81      0.79        26\n",
      "\n",
      "                      accuracy                           0.92       141\n",
      "                     macro avg       0.87      0.88      0.87       141\n",
      "                  weighted avg       0.92      0.92      0.92       141\n",
      "\n"
     ]
    }
   ],
   "source": [
    "# Predictions and metrics\n",
    "y_pred = tuned_model.predict(X_test_pca_reduced)\n",
    "y_pred_proba = tuned_model.predict_proba(X_test_pca_reduced)[:, 1]\n",
    "\n",
    "accuracy = accuracy_score(y_test, y_pred)\n",
    "precision_macro = precision_score(y_test, y_pred, average='macro')\n",
    "recall_macro = recall_score(y_test, y_pred, average='macro')\n",
    "f1_macro = f1_score(y_test, y_pred, average='macro')\n",
    "roc_auc = roc_auc_score((y_test == 'infiltrating lobular carcinoma').astype(int), y_pred_proba)\n",
    "\n",
    "print('='*80)\n",
    "print('TEST PERFORMANCE (TUNED LOGISTIC REGRESSION)')\n",
    "print('='*80)\n",
    "print(f'Accuracy: {accuracy:.4f}')\n",
    "print(f'Precision (macro): {precision_macro:.4f}')\n",
    "print(f'Recall (macro): {recall_macro:.4f}')\n",
    "print(f'F1-score (macro): {f1_macro:.4f}')\n",
    "print(f'ROC-AUC: {roc_auc:.4f}')\n",
    "\n",
    "print('\\nClassification report:')\n",
    "print(classification_report(y_test, y_pred))"
   ]
  },
  {
   "cell_type": "code",
   "execution_count": null,
   "id": "2503e1e3",
   "metadata": {},
   "outputs": [
    {
     "data": {
      "image/png": "[encoded data removed]",
      "text/plain": [
       "<Figure size 600x500 with 1 Axes>"
      ]
     },
     "metadata": {},
     "output_type": "display_data"
    }
   ],
   "source": [
    "# Confusion matrix visualization\n",
    "cm = confusion_matrix(y_test, y_pred, labels=value_counts.index)\n",
    "plt.figure(figsize=(6, 5))\n",
    "sns.heatmap(cm, annot=True, fmt='d', cmap='Blues', cbar=False, xticklabels=value_counts.index, yticklabels=value_counts.index)\n",
    "plt.xlabel('Predicted label', fontsize=12, weight='bold')\n",
    "plt.ylabel('True label', fontsize=12, weight='bold')\n",
    "plt.title('Confusion Matrix', fontsize=14, weight='bold')\n",
    "plt.show()"
   ]
  },
  {
   "cell_type": "code",
   "execution_count": null,
   "id": "f7adb853",
   "metadata": {},
   "outputs": [
    {
     "data": {
      "image/png": "[encoded data removed]",
      "text/plain": [
       "<Figure size 1400x500 with 2 Axes>"
      ]
     },
     "metadata": {},
     "output_type": "display_data"
    }
   ],
   "source": [
    "# ROC and Precision-Recall curves\n",
    "binary_y_test = (y_test == 'infiltrating lobular carcinoma').astype(int)\n",
    "fpr, tpr, _ = roc_curve(binary_y_test, y_pred_proba)\n",
    "precision_curve, recall_curve, _ = precision_recall_curve(binary_y_test, y_pred_proba)\n",
    "avg_precision = average_precision_score(binary_y_test, y_pred_proba)\n",
    "\n",
    "fig, axes = plt.subplots(1, 2, figsize=(14, 5))\n",
    "axes[0].plot(fpr, tpr, color='#27ae60', lw=2, label=f'ROC-AUC = {roc_auc:.4f}')\n",
    "axes[0].plot([0, 1], [0, 1], 'r--', lw=1.5, label='Random')\n",
    "axes[0].set_xlabel('False Positive Rate')\n",
    "axes[0].set_ylabel('True Positive Rate')\n",
    "axes[0].set_title('ROC Curve')\n",
    "axes[0].legend(loc='lower right')\n",
    "axes[0].grid(alpha=0.3)\n",
    "\n",
    "axes[1].plot(recall_curve, precision_curve, color='#8e44ad', lw=2, label=f'AP = {avg_precision:.4f}')\n",
    "axes[1].set_xlabel('Recall')\n",
    "axes[1].set_ylabel('Precision')\n",
    "axes[1].set_title('Precision-Recall Curve')\n",
    "axes[1].legend(loc='best')\n",
    "axes[1].grid(alpha=0.3)\n",
    "\n",
    "plt.tight_layout()\n",
    "plt.show()"
   ]
  },
  {
   "cell_type": "code",
   "execution_count": null,
   "id": "67254ed1",
   "metadata": {},
   "outputs": [
    {
     "name": "stdout",
     "output_type": "stream",
     "text": [
      "================================================================================\n",
      "TOP 20 PCA COMPONENTS BY COEFFICIENT MAGNITUDE\n",
      "================================================================================\n",
      "Positive coefficients → favor lobular carcinoma\n",
      "Negative coefficients → favor ductal carcinoma\n",
      "================================================================================\n"
     ]
    },
    {
     "data": {
      "application/vnd.microsoft.datawrangler.viewer.v0+json": {
       "columns": [
        {
         "name": "index",
         "rawType": "int64",
         "type": "integer"
        },
        {
         "name": "component",
         "rawType": "object",
         "type": "string"
        },
        {
         "name": "coefficient",
         "rawType": "float64",
         "type": "float"
        },
        {
         "name": "abs_coefficient",
         "rawType": "float64",
         "type": "float"
        }
       ],
       "ref": "f886ff96-07ba-4786-bb72-f5d805f540a5",
       "rows": [
        [
         "0",
         "PC49",
         "-0.1849647257901519",
         "0.1849647257901519"
        ],
        [
         "1",
         "PC2",
         "0.16244557612237645",
         "0.16244557612237645"
        ],
        [
         "2",
         "PC70",
         "0.156247638280961",
         "0.156247638280961"
        ],
        [
         "3",
         "PC32",
         "0.15568092361040045",
         "0.15568092361040045"
        ],
        [
         "4",
         "PC89",
         "0.152356677552119",
         "0.152356677552119"
        ],
        [
         "5",
         "PC46",
         "-0.14820047210657844",
         "0.14820047210657844"
        ],
        [
         "6",
         "PC41",
         "-0.14250614911464668",
         "0.14250614911464668"
        ],
        [
         "7",
         "PC243",
         "0.11782315520136147",
         "0.11782315520136147"
        ],
        [
         "8",
         "PC130",
         "0.1162820761261802",
         "0.1162820761261802"
        ],
        [
         "9",
         "PC31",
         "0.1139296709873538",
         "0.1139296709873538"
        ],
        [
         "10",
         "PC5",
         "0.11217921618866238",
         "0.11217921618866238"
        ],
        [
         "11",
         "PC100",
         "0.10893830061108066",
         "0.10893830061108066"
        ],
        [
         "12",
         "PC150",
         "-0.10616886656695784",
         "0.10616886656695784"
        ],
        [
         "13",
         "PC26",
         "-0.10455057331502184",
         "0.10455057331502184"
        ],
        [
         "14",
         "PC86",
         "0.10390012045801542",
         "0.10390012045801542"
        ],
        [
         "15",
         "PC58",
         "-0.10273338890037478",
         "0.10273338890037478"
        ],
        [
         "16",
         "PC54",
         "-0.10151232710775081",
         "0.10151232710775081"
        ],
        [
         "17",
         "PC84",
         "0.09782426543562177",
         "0.09782426543562177"
        ],
        [
         "18",
         "PC69",
         "0.09765574401354768",
         "0.09765574401354768"
        ],
        [
         "19",
         "PC15",
         "0.09601264736673874",
         "0.09601264736673874"
        ]
       ],
       "shape": {
        "columns": 3,
        "rows": 20
       }
      },
      "text/html": [
       "<div>\n",
       "<style scoped>\n",
       "    .dataframe tbody tr th:only-of-type {\n",
       "        vertical-align: middle;\n",
       "    }\n",
       "\n",
       "    .dataframe tbody tr th {\n",
       "        vertical-align: top;\n",
       "    }\n",
       "\n",
       "    .dataframe thead th {\n",
       "        text-align: right;\n",
       "    }\n",
       "</style>\n",
       "<table border=\"1\" class=\"dataframe\">\n",
       "  <thead>\n",
       "    <tr style=\"text-align: right;\">\n",
       "      <th></th>\n",
       "      <th>component</th>\n",
       "      <th>coefficient</th>\n",
       "      <th>abs_coefficient</th>\n",
       "    </tr>\n",
       "  </thead>\n",
       "  <tbody>\n",
       "    <tr>\n",
       "      <th>0</th>\n",
       "      <td>PC49</td>\n",
       "      <td>-0.184965</td>\n",
       "      <td>0.184965</td>\n",
       "    </tr>\n",
       "    <tr>\n",
       "      <th>1</th>\n",
       "      <td>PC2</td>\n",
       "      <td>0.162446</td>\n",
       "      <td>0.162446</td>\n",
       "    </tr>\n",
       "    <tr>\n",
       "      <th>2</th>\n",
       "      <td>PC70</td>\n",
       "      <td>0.156248</td>\n",
       "      <td>0.156248</td>\n",
       "    </tr>\n",
       "    <tr>\n",
       "      <th>3</th>\n",
       "      <td>PC32</td>\n",
       "      <td>0.155681</td>\n",
       "      <td>0.155681</td>\n",
       "    </tr>\n",
       "    <tr>\n",
       "      <th>4</th>\n",
       "      <td>PC89</td>\n",
       "      <td>0.152357</td>\n",
       "      <td>0.152357</td>\n",
       "    </tr>\n",
       "    <tr>\n",
       "      <th>5</th>\n",
       "      <td>PC46</td>\n",
       "      <td>-0.148200</td>\n",
       "      <td>0.148200</td>\n",
       "    </tr>\n",
       "    <tr>\n",
       "      <th>6</th>\n",
       "      <td>PC41</td>\n",
       "      <td>-0.142506</td>\n",
       "      <td>0.142506</td>\n",
       "    </tr>\n",
       "    <tr>\n",
       "      <th>7</th>\n",
       "      <td>PC243</td>\n",
       "      <td>0.117823</td>\n",
       "      <td>0.117823</td>\n",
       "    </tr>\n",
       "    <tr>\n",
       "      <th>8</th>\n",
       "      <td>PC130</td>\n",
       "      <td>0.116282</td>\n",
       "      <td>0.116282</td>\n",
       "    </tr>\n",
       "    <tr>\n",
       "      <th>9</th>\n",
       "      <td>PC31</td>\n",
       "      <td>0.113930</td>\n",
       "      <td>0.113930</td>\n",
       "    </tr>\n",
       "    <tr>\n",
       "      <th>10</th>\n",
       "      <td>PC5</td>\n",
       "      <td>0.112179</td>\n",
       "      <td>0.112179</td>\n",
       "    </tr>\n",
       "    <tr>\n",
       "      <th>11</th>\n",
       "      <td>PC100</td>\n",
       "      <td>0.108938</td>\n",
       "      <td>0.108938</td>\n",
       "    </tr>\n",
       "    <tr>\n",
       "      <th>12</th>\n",
       "      <td>PC150</td>\n",
       "      <td>-0.106169</td>\n",
       "      <td>0.106169</td>\n",
       "    </tr>\n",
       "    <tr>\n",
       "      <th>13</th>\n",
       "      <td>PC26</td>\n",
       "      <td>-0.104551</td>\n",
       "      <td>0.104551</td>\n",
       "    </tr>\n",
       "    <tr>\n",
       "      <th>14</th>\n",
       "      <td>PC86</td>\n",
       "      <td>0.103900</td>\n",
       "      <td>0.103900</td>\n",
       "    </tr>\n",
       "    <tr>\n",
       "      <th>15</th>\n",
       "      <td>PC58</td>\n",
       "      <td>-0.102733</td>\n",
       "      <td>0.102733</td>\n",
       "    </tr>\n",
       "    <tr>\n",
       "      <th>16</th>\n",
       "      <td>PC54</td>\n",
       "      <td>-0.101512</td>\n",
       "      <td>0.101512</td>\n",
       "    </tr>\n",
       "    <tr>\n",
       "      <th>17</th>\n",
       "      <td>PC84</td>\n",
       "      <td>0.097824</td>\n",
       "      <td>0.097824</td>\n",
       "    </tr>\n",
       "    <tr>\n",
       "      <th>18</th>\n",
       "      <td>PC69</td>\n",
       "      <td>0.097656</td>\n",
       "      <td>0.097656</td>\n",
       "    </tr>\n",
       "    <tr>\n",
       "      <th>19</th>\n",
       "      <td>PC15</td>\n",
       "      <td>0.096013</td>\n",
       "      <td>0.096013</td>\n",
       "    </tr>\n",
       "  </tbody>\n",
       "</table>\n",
       "</div>"
      ],
      "text/plain": [
       "   component  coefficient  abs_coefficient\n",
       "0       PC49    -0.184965         0.184965\n",
       "1        PC2     0.162446         0.162446\n",
       "2       PC70     0.156248         0.156248\n",
       "3       PC32     0.155681         0.155681\n",
       "4       PC89     0.152357         0.152357\n",
       "5       PC46    -0.148200         0.148200\n",
       "6       PC41    -0.142506         0.142506\n",
       "7      PC243     0.117823         0.117823\n",
       "8      PC130     0.116282         0.116282\n",
       "9       PC31     0.113930         0.113930\n",
       "10       PC5     0.112179         0.112179\n",
       "11     PC100     0.108938         0.108938\n",
       "12     PC150    -0.106169         0.106169\n",
       "13      PC26    -0.104551         0.104551\n",
       "14      PC86     0.103900         0.103900\n",
       "15      PC58    -0.102733         0.102733\n",
       "16      PC54    -0.101512         0.101512\n",
       "17      PC84     0.097824         0.097824\n",
       "18      PC69     0.097656         0.097656\n",
       "19      PC15     0.096013         0.096013"
      ]
     },
     "metadata": {},
     "output_type": "display_data"
    },
    {
     "data": {
      "image/png": "[encoded data removed]",
      "text/plain": [
       "<Figure size 1600x600 with 2 Axes>"
      ]
     },
     "metadata": {},
     "output_type": "display_data"
    },
    {
     "data": {
      "image/png": "[encoded data removed]",
      "text/plain": [
       "<Figure size 1000x500 with 1 Axes>"
      ]
     },
     "metadata": {},
     "output_type": "display_data"
    }
   ],
   "source": [
    "# Top PCA components by coefficient magnitude\n",
    "coefficients = tuned_model.named_steps['classifier'].coef_[0]\n",
    "\n",
    "# Get absolute values for importance ranking\n",
    "abs_coefficients = np.abs(coefficients)\n",
    "top_indices = np.argsort(abs_coefficients)[::-1][:20]\n",
    "\n",
    "top_components = [f'PC{i+1}' for i in top_indices]\n",
    "top_coefs = coefficients[top_indices]\n",
    "top_abs_coefs = abs_coefficients[top_indices]\n",
    "\n",
    "importance_df = pd.DataFrame({\n",
    "    'component': top_components,\n",
    "    'coefficient': top_coefs,\n",
    "    'abs_coefficient': top_abs_coefs\n",
    "}).sort_values('abs_coefficient', ascending=False)\n",
    "\n",
    "top_n = 20\n",
    "print('='*80)\n",
    "print(f'TOP {top_n} PCA COMPONENTS BY COEFFICIENT MAGNITUDE')\n",
    "print('='*80)\n",
    "print('Positive coefficients → favor lobular carcinoma')\n",
    "print('Negative coefficients → favor ductal carcinoma')\n",
    "print('='*80)\n",
    "display(importance_df.head(top_n))\n",
    "\n",
    "# Visualization\n",
    "fig, axes = plt.subplots(1, 2, figsize=(16, 6))\n",
    "\n",
    "# Bar plot of top coefficients (with sign)\n",
    "colors = ['#e74c3c' if c > 0 else '#3498db' for c in top_coefs]\n",
    "axes[0].barh(range(len(top_coefs)), top_coefs, color=colors)\n",
    "axes[0].set_yticks(range(len(top_components)))\n",
    "axes[0].set_yticklabels(top_components)\n",
    "axes[0].set_xlabel('Coefficient Value', fontsize=12, weight='bold')\n",
    "axes[0].set_ylabel('Principal Component', fontsize=12, weight='bold')\n",
    "axes[0].set_title('Top 20 PCA Components by Coefficient (with sign)', fontsize=14, weight='bold')\n",
    "axes[0].axvline(x=0, color='black', linestyle='--', linewidth=1)\n",
    "axes[0].invert_yaxis()\n",
    "axes[0].grid(axis='x', alpha=0.3)\n",
    "\n",
    "# Bar plot of absolute coefficients (importance)\n",
    "axes[1].barh(range(len(top_abs_coefs)), top_abs_coefs, color='#8e44ad')\n",
    "axes[1].set_yticks(range(len(top_components)))\n",
    "axes[1].set_yticklabels(top_components)\n",
    "axes[1].set_xlabel('Absolute Coefficient (Importance)', fontsize=12, weight='bold')\n",
    "axes[1].set_ylabel('Principal Component', fontsize=12, weight='bold')\n",
    "axes[1].set_title('Top 20 PCA Components by Importance', fontsize=14, weight='bold')\n",
    "axes[1].invert_yaxis()\n",
    "axes[1].grid(axis='x', alpha=0.3)\n",
    "\n",
    "plt.tight_layout()\n",
    "plt.show()\n",
    "\n",
    "# Additional: Distribution of all coefficients\n",
    "plt.figure(figsize=(10, 5))\n",
    "plt.hist(coefficients, bins=50, color='#27ae60', edgecolor='black', alpha=0.7)\n",
    "plt.xlabel('Coefficient Value', fontsize=12, weight='bold')\n",
    "plt.ylabel('Frequency', fontsize=12, weight='bold')\n",
    "plt.title(f'Distribution of All {len(coefficients)} Logistic Regression Coefficients', fontsize=14, weight='bold')\n",
    "plt.axvline(x=0, color='red', linestyle='--', linewidth=2, label='Zero coefficient')\n",
    "plt.grid(alpha=0.3)\n",
    "plt.legend()\n",
    "plt.tight_layout()\n",
    "plt.show()"
   ]
  },
  {
   "cell_type": "markdown",
   "id": "f9388a97",
   "metadata": {},
   "source": [
    "## 6. Final Summary"
   ]
  },
  {
   "cell_type": "code",
   "execution_count": null,
   "id": "f99131c8",
   "metadata": {},
   "outputs": [
    {
     "name": "stdout",
     "output_type": "stream",
     "text": [
      "\n",
      "================================================================================\n",
      "FINAL SUMMARY\n",
      "================================================================================\n",
      "Dataset:\n",
      "  Samples: 705\n",
      "  Features (original): 1,936\n",
      "  PCA components used: 325 (95% variance)\n",
      "\n",
      "Modeling:\n",
      "  Algorithm: Logistic Regression on PCA components\n",
      "  Feature transformation: PCA (decorrelated components)\n",
      "  Regularization: l2\n",
      "  C parameter: 0.01\n",
      "  Hyperparameter search: GridSearchCV (stratified 5-fold CV)\n",
      "  Best CV ROC-AUC: 0.9201\n",
      "\n",
      "Test performance:\n",
      "  Accuracy: 0.9220\n",
      "  Precision (macro): 0.8670\n",
      "  Recall (macro): 0.8778\n",
      "  F1-score (macro): 0.8722\n",
      "  ROC-AUC: 0.9559\n",
      "\n",
      "Key advantages of this approach:\n",
      "  ✅ PCA components are decorrelated → optimal for linear models\n",
      "  ✅ Faster training than Random Forest\n",
      "  ✅ Native probability estimates for ROC curve\n",
      "  ✅ Interpretable coefficients show component importance\n",
      "\n",
      "Interpretation:\n",
      "  ✅ Excellent separation between histological types.\n",
      "\n",
      "================================================================================\n",
      "Analysis complete!\n",
      "================================================================================\n"
     ]
    }
   ],
   "source": [
    "print('\\n' + '='*80)\n",
    "print('FINAL SUMMARY')\n",
    "print('='*80)\n",
    "\n",
    "best_params = grid_search.best_params_\n",
    "\n",
    "print('Dataset:')\n",
    "print(f'  Samples: {len(df):,}')\n",
    "print(f'  Features (original): {len(feature_cols):,}')\n",
    "print(f'  PCA components used: {n_components_95} (95% variance)')\n",
    "\n",
    "print('\\nModeling:')\n",
    "print('  Algorithm: Logistic Regression on PCA components')\n",
    "print('  Feature transformation: PCA (decorrelated components)')\n",
    "print(f'  Regularization: {best_params.get(\"classifier__penalty\", \"N/A\")}')\n",
    "print(f'  C parameter: {best_params.get(\"classifier__C\", \"N/A\")}')\n",
    "print('  Hyperparameter search: GridSearchCV (stratified 5-fold CV)')\n",
    "print(f'  Best CV ROC-AUC: {grid_search.best_score_:.4f}')\n",
    "\n",
    "print('\\nTest performance:')\n",
    "print(f'  Accuracy: {accuracy:.4f}')\n",
    "print(f'  Precision (macro): {precision_macro:.4f}')\n",
    "print(f'  Recall (macro): {recall_macro:.4f}')\n",
    "print(f'  F1-score (macro): {f1_macro:.4f}')\n",
    "print(f'  ROC-AUC: {roc_auc:.4f}')\n",
    "\n",
    "print('\\nKey advantages of this approach:')\n",
    "print('  ✅ PCA components are decorrelated → optimal for linear models')\n",
    "print('  ✅ Faster training than Random Forest')\n",
    "print('  ✅ Native probability estimates for ROC curve')\n",
    "print('  ✅ Interpretable coefficients show component importance')\n",
    "\n",
    "print('\\nInterpretation:')\n",
    "if roc_auc >= 0.85:\n",
    "    print('  ✅ Excellent separation between histological types.')\n",
    "elif roc_auc >= 0.75:\n",
    "    print('  ✅ Good discrimination with room for further improvement.')\n",
    "elif roc_auc >= 0.65:\n",
    "    print('  ⚠️ Acceptable performance; consider additional feature engineering.')\n",
    "else:\n",
    "    print('  ⚠️ Model performance is limited; investigate alternative models and preprocessing.')\n",
    "\n",
    "print('\\n' + '='*80)\n",
    "print('Analysis complete!')\n",
    "print('='*80)"
   ]
  }
 ],
 "metadata": {
  "kernelspec": {
   "display_name": "Python 3",
   "language": "python",
   "name": "python3"
  },
  "language_info": {
   "codemirror_mode": {
    "name": "ipython",
    "version": 3
   },
   "file_extension": ".py",
   "mimetype": "text/x-python",
   "name": "python",
   "nbconvert_exporter": "python",
   "pygments_lexer": "ipython3",
   "version": "3.13.2"
  }
 },
 "nbformat": 4,
 "nbformat_minor": 5
}
